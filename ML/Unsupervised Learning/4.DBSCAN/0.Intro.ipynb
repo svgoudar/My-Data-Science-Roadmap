{
 "cells": [
  {
   "cell_type": "markdown",
   "id": "6f7bd1c2",
   "metadata": {},
   "source": [
    "\n",
    "### **DBSCAN (Density-Based Spatial Clustering of Applications with Noise)**\n",
    "\n",
    "**Key Idea:**\n",
    "DBSCAN forms clusters based on **density of points** rather than distance to centroids (like K-Means). It groups together dense regions of data and marks sparse regions as noise (outliers).\n",
    "\n",
    "---\n",
    "\n",
    "### **Important Parameters**\n",
    "\n",
    "1. **Epsilon (ε):** Radius around a point to search for neighbors.\n",
    "2. **MinPts:** Minimum number of points required within ε to form a dense region.\n",
    "\n",
    "---\n",
    "\n",
    "### **Types of Points**\n",
    "\n",
    "1. **Core Point:**\n",
    "\n",
    "   * Has at least `MinPts` neighbors within ε.\n",
    "2. **Border Point:**\n",
    "\n",
    "   * Has fewer than `MinPts` neighbors but lies within ε of a **core point**.\n",
    "3. **Outlier (Noise):**\n",
    "\n",
    "   * Has too few neighbors within ε and is **not** within ε of any core point.\n",
    "\n",
    "---\n",
    "\n",
    "### **Clustering Process**\n",
    "\n",
    "* Start with an unvisited point.\n",
    "* If it is a **core point**, expand a cluster by including all reachable points (neighbors within ε).\n",
    "* Border points are attached to the nearest cluster.\n",
    "* Outliers are labeled as **noise**.\n",
    "\n",
    "---\n",
    "\n",
    "### **Advantages**\n",
    "\n",
    "* Handles **noise/outliers** naturally.\n",
    "* Can detect **arbitrary (non-linear) shaped clusters** (unlike K-Means).\n",
    "* Doesn’t require pre-specifying the number of clusters.\n",
    "\n",
    "---\n",
    "\n",
    "✅ **In short:**\n",
    "DBSCAN clusters dense areas of data into groups (via core points), attaches border points, and ignores outliers as noise — making it powerful for noisy and non-linear datasets.\n",
    "\n"
   ]
  },
  {
   "cell_type": "markdown",
   "id": "83e76cbf",
   "metadata": {},
   "source": [
    "### **DBSCAN Output & Examples – Summary**\n",
    "\n",
    "* **DBSCAN finds non-linear separable clusters** that cannot be detected by K-Means, Gaussian Mixture Models, or EM clustering.\n",
    "* **Noise points** are identified and excluded from clusters. DBSCAN handles them naturally, unlike other clustering methods.\n",
    "* **Core points + border points** form the main clusters, while **outliers remain unclustered**.\n",
    "* Works especially well on datasets with **non-linear shapes** (e.g., concentric circles, spiral shapes).\n",
    "* Example comparison:\n",
    "\n",
    "  * **K-Means/Hierarchical clustering** → tends to put all points (including noise) into a single cluster.\n",
    "  * **DBSCAN** → correctly separates data into meaningful groups, while excluding noise.\n",
    "* **Output:** Different well-separated clusters + some unassigned points (outliers).\n",
    "* **Key parameters:**\n",
    "\n",
    "  * `ε` (Epsilon / radius of neighborhood)\n",
    "  * `MinPts` (minimum number of points to form a dense region)\n",
    "* In practice, DBSCAN is often implemented with **scikit-learn**, where we tune ε and MinPts to get meaningful results.\n",
    "* Will later explore **advantages/disadvantages** and a **hands-on sklearn example**.\n",
    "\n",
    "---\n",
    "\n",
    "✅ **In short:**\n",
    "DBSCAN creates clusters in dense regions, handles noise well, and excels at finding complex-shaped clusters that traditional clustering methods fail to detect.\n",
    "\n"
   ]
  },
  {
   "cell_type": "code",
   "execution_count": null,
   "id": "0a766d32",
   "metadata": {
    "vscode": {
     "languageId": "plaintext"
    }
   },
   "outputs": [],
   "source": []
  }
 ],
 "metadata": {
  "language_info": {
   "name": "python"
  }
 },
 "nbformat": 4,
 "nbformat_minor": 5
}
