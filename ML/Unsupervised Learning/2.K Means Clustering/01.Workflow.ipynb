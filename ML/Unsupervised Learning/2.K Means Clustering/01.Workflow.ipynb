{
 "cells": [
  {
   "cell_type": "markdown",
   "id": "5fe9a618",
   "metadata": {},
   "source": [
    "\n",
    "### **Geometric Intuition of K-Means**\n",
    "\n",
    "* K-means is an **unsupervised ML algorithm** used to cluster similar data points together.\n",
    "* Example: If data looks like it forms 2 groups, K-means will separate them into **two clusters** with their own **centroids**.\n",
    "\n",
    "---\n",
    "\n",
    "### **Steps in K-Means Algorithm**\n",
    "\n",
    "1. **Initialize Centroids**\n",
    "\n",
    "   * Choose *k* centroids randomly (where *k* is the number of clusters).\n",
    "\n",
    "2. **Assign Points to Nearest Centroid**\n",
    "\n",
    "   * Use a distance metric (e.g., **Euclidean** or **Manhattan distance**) to assign each data point to the closest centroid.\n",
    "   * This creates temporary clusters.\n",
    "\n",
    "3. **Update Centroids**\n",
    "\n",
    "   * For each cluster, compute the **mean (average)** of the points assigned to it.\n",
    "   * Move the centroid to this new position.\n",
    "\n",
    "4. **Repeat Steps 2 & 3**\n",
    "\n",
    "   * Keep reassigning points and updating centroids until clusters stop changing (i.e., convergence).\n",
    "\n",
    "---\n",
    "\n",
    "### **Stopping Condition**\n",
    "\n",
    "* The algorithm stops when **no further changes occur** in cluster assignments or centroids.\n",
    "\n",
    "---\n",
    "\n",
    "### **Important Note**\n",
    "\n",
    "* The value of **k (number of clusters)** must be chosen carefully.\n",
    "* The transcript ends with the teaser: *“How do we select the k value?”* (answered later with methods like the **Elbow Method**, Silhouette score, etc.).\n",
    "\n",
    "---\n",
    "\n",
    "✅ **In short:**\n",
    "K-means works by initializing centroids → assigning points to nearest centroids → updating centroids → repeating until stable clusters are formed.\n",
    "\n"
   ]
  },
  {
   "cell_type": "markdown",
   "id": "57fb93ae",
   "metadata": {},
   "source": []
  }
 ],
 "metadata": {
  "kernelspec": {
   "display_name": "Python 3",
   "language": "python",
   "name": "python3"
  },
  "language_info": {
   "codemirror_mode": {
    "name": "ipython",
    "version": 3
   },
   "file_extension": ".py",
   "mimetype": "text/x-python",
   "name": "python",
   "nbconvert_exporter": "python",
   "pygments_lexer": "ipython3",
   "version": "3.12.0"
  }
 },
 "nbformat": 4,
 "nbformat_minor": 5
}
