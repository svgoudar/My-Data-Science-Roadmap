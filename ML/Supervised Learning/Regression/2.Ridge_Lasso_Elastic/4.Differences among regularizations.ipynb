{
 "cells": [
  {
   "cell_type": "markdown",
   "id": "48b5b640",
   "metadata": {},
   "source": [
    "| Aspect                | Ridge (L2)        | Lasso (L1)                          | Elastic Net (L1 + L2)          |\n",
    "| --------------------- | ----------------- | ----------------------------------- | ------------------------------ |\n",
    "| Penalty type          | Squares of coeffs | Absolute values                     | Mix of both                    |\n",
    "| Coefficient shrinkage | Small, never zero | Can become zero (feature selection) | Both shrinkage + selection     |\n",
    "| Feature selection     | ❌ No              | ✅ Yes                               | ✅ Yes (more stable)            |\n",
    "| Use case              | Multicollinearity | Sparse models                       | Correlated + high-dim features |\n"
   ]
  },
  {
   "cell_type": "markdown",
   "id": "bc28c5f8",
   "metadata": {},
   "source": []
  }
 ],
 "metadata": {
  "language_info": {
   "name": "python"
  }
 },
 "nbformat": 4,
 "nbformat_minor": 5
}
