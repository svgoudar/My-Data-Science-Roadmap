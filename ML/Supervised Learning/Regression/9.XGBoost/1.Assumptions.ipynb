{
 "cells": [
  {
   "cell_type": "markdown",
   "id": "564b01b7",
   "metadata": {},
   "source": [
    "### 1. **Additive Model Assumption**\n",
    "\n",
    "* The final prediction is the sum of many weak learners (trees).\n",
    "\n",
    "$$\n",
    "\\hat{y}_i = \\sum_{k=1}^K f_k(x_i), \\quad f_k \\in \\text{Decision Trees}\n",
    "$$\n",
    "\n",
    "Each tree adds corrections to previous predictions.\n",
    "\n",
    "---\n",
    "\n",
    "### 2. **Gradient Approximation Assumption**\n",
    "\n",
    "* Uses **first-order (gradient)** and **second-order (Hessian)** Taylor expansion of the loss function to build trees.\n",
    "* Assumes the loss function is **differentiable** (so gradient and Hessian exist).\n",
    "\n",
    "---\n",
    "\n",
    "### 3. **Feature Independence Within Trees**\n",
    "\n",
    "* Trees split features independently at each node.\n",
    "* No assumption of linearity or correlation like regression models.\n",
    "\n",
    "---\n",
    "\n",
    "### 4. **IID Data Assumption**\n",
    "\n",
    "* Training samples are assumed **independent and identically distributed**.\n",
    "* If data is time-dependent (e.g., time series), XGBoost will overfit unless sequence features are engineered.\n",
    "\n",
    "---\n",
    "\n",
    "### 5. **Stationarity of Feature Distributions**\n",
    "\n",
    "* Training and test data are assumed to come from the same distribution.\n",
    "* If distributions shift (data drift), performance degrades.\n",
    "\n",
    "---\n",
    "\n",
    "### 6. **Weak Learner Assumption**\n",
    "\n",
    "* Individual trees are shallow and weak.\n",
    "* Only when combined, they form a strong predictor.\n",
    "\n",
    "---\n",
    "\n",
    "✅ Summary:\n",
    "XGBoost assumes:\n",
    "\n",
    "1. Prediction is additive (ensemble of trees).\n",
    "2. Loss function is differentiable (for gradient + Hessian).\n",
    "3. Data is IID and from the same distribution.\n",
    "4. Trees act as weak learners that reduce residual errors.\n",
    "\n"
   ]
  },
  {
   "cell_type": "markdown",
   "id": "c8d41fc9",
   "metadata": {},
   "source": []
  }
 ],
 "metadata": {
  "language_info": {
   "name": "python"
  }
 },
 "nbformat": 4,
 "nbformat_minor": 5
}
