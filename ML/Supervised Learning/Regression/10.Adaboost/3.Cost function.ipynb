{
 "cells": [
  {
   "cell_type": "markdown",
   "id": "eee99926",
   "metadata": {},
   "source": [
    "Performance metrics for **XGBoost** depend on the problem type.\n",
    "\n",
    "---\n",
    "\n",
    "### 1. **Classification**\n",
    "\n",
    "* **Binary Classification**\n",
    "\n",
    "  * **Accuracy**: $\\frac{TP + TN}{TP+TN+FP+FN}$\n",
    "  * **Precision**: $\\frac{TP}{TP+FP}$\n",
    "  * **Recall (Sensitivity)**: $\\frac{TP}{TP+FN}$\n",
    "  * **F1-Score**: Harmonic mean of Precision and Recall\n",
    "  * **AUC-ROC**: Probability the model ranks a positive higher than a negative\n",
    "  * **Log Loss**: Penalizes wrong confident predictions\n",
    "\n",
    "* **Multiclass Classification**\n",
    "\n",
    "  * **Accuracy**\n",
    "  * **Macro / Micro Precision, Recall, F1**\n",
    "  * **Log Loss** (multiclass version)\n",
    "\n",
    "---\n",
    "\n",
    "### 2. **Regression**\n",
    "\n",
    "* **Mean Squared Error (MSE)**:\n",
    "\n",
    "  $$\n",
    "  MSE = \\frac{1}{n} \\sum_{i=1}^n (y_i - \\hat{y}_i)^2\n",
    "  $$\n",
    "* **Root Mean Squared Error (RMSE)**: $\\sqrt{MSE}$\n",
    "* **Mean Absolute Error (MAE)**:\n",
    "\n",
    "  $$\n",
    "  MAE = \\frac{1}{n} \\sum |y_i - \\hat{y}_i|\n",
    "  $$\n",
    "* **R² Score** (Coefficient of Determination):\n",
    "\n",
    "  $$\n",
    "  R^2 = 1 - \\frac{\\sum (y_i - \\hat{y}_i)^2}{\\sum (y_i - \\bar{y})^2}\n",
    "  $$\n",
    "\n",
    "---\n",
    "\n",
    "### 3. **Ranking (XGBoost supports ranking tasks)**\n",
    "\n",
    "* **NDCG (Normalized Discounted Cumulative Gain)**\n",
    "* **MAP (Mean Average Precision)**\n",
    "\n",
    "---\n",
    "\n",
    "### 4. **Built-in XGBoost Evaluation Metrics**\n",
    "\n",
    "XGBoost allows setting `eval_metric` during training. Some options:\n",
    "\n",
    "* For **binary**: `\"error\"`, `\"logloss\"`, `\"auc\"`, `\"aucpr\"`\n",
    "* For **multiclass**: `\"merror\"`, `\"mlogloss\"`\n",
    "* For **regression**: `\"rmse\"`, `\"mae\"`, `\"rmsle\"`\n",
    "\n"
   ]
  },
  {
   "cell_type": "code",
   "execution_count": null,
   "id": "95cc7774",
   "metadata": {},
   "outputs": [],
   "source": [
    "!pip in"
   ]
  },
  {
   "cell_type": "code",
   "execution_count": null,
   "id": "c515dd02",
   "metadata": {},
   "outputs": [],
   "source": [
    "import numpy as np\n",
    "from sklearn.tree import DecisionTreeClassifier\n",
    "from sklearn.datasets import load_iris\n",
    "from sklearn.datasets import make_classification\n",
    "from sklearn.model_selection import train_test_split\n",
    "from sklearn.metrics import accuracy_score, confusion_matrix, precision_score, recall_score, f1_score, roc_auc_score"
   ]
  }
 ],
 "metadata": {
  "kernelspec": {
   "display_name": "Python 3",
   "language": "python",
   "name": "python3"
  },
  "language_info": {
   "name": "python",
   "version": "3.12.0"
  }
 },
 "nbformat": 4,
 "nbformat_minor": 5
}
