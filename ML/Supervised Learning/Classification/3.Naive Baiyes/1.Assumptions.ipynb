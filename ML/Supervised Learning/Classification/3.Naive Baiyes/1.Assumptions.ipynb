{
 "cells": [
  {
   "cell_type": "markdown",
   "id": "2b98a0be",
   "metadata": {},
   "source": [
    "\n",
    "### 1. **Feature Independence**\n",
    "\n",
    "* **Assumption:** All features are **conditionally independent** given the class label.\n",
    "* **Implication:** The presence or value of one feature does not affect another feature within the same class.\n",
    "* **Reality Check:** Rarely true in real-world data, but the model often works well despite this \"naive\" assumption.\n",
    "\n",
    "---\n",
    "\n",
    "### 2. **Feature Relevance**\n",
    "\n",
    "* **Assumption:** Every feature contributes **equally and independently** to the outcome.\n",
    "* **Implication:** No feature is more important than another unless weighted externally.\n",
    "\n",
    "---\n",
    "\n",
    "### 3. **Correctly Specified Likelihood**\n",
    "\n",
    "* **Assumption:** The **distribution of features given the class** is correctly modeled:\n",
    "\n",
    "  * **Gaussian Naive Bayes:** continuous features follow a normal distribution.\n",
    "  * **Multinomial Naive Bayes:** features are counts (e.g., word frequencies).\n",
    "  * **Bernoulli Naive Bayes:** features are binary (0/1).\n",
    "\n",
    "---\n",
    "\n",
    "### 4. **Class Prior Probabilities**\n",
    "\n",
    "* **Assumption:** Prior probabilities $P(Y)$ are either known or can be **estimated from the training data**.\n",
    "\n",
    "---\n",
    "\n",
    "### 5. **No Zero Probability**\n",
    "\n",
    "* **Assumption:** If a feature value never occurs with a class in training, it does **not lead to zero probability** during prediction.\n",
    "* **Solution:** Use **Laplace smoothing** (adding a small value to all counts).\n",
    "\n",
    "---\n",
    "\n",
    "✅ **In short:** Naive Bayes assumes **conditional independence of features**, appropriate feature distribution, and non-zero probabilities for smooth predictions.\n",
    "\n"
   ]
  }
 ],
 "metadata": {
  "language_info": {
   "name": "python"
  }
 },
 "nbformat": 4,
 "nbformat_minor": 5
}
