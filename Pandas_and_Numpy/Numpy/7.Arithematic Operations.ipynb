{
 "cells": [
  {
   "cell_type": "markdown",
   "id": "0931cb6c",
   "metadata": {},
   "source": [
    "# 🚀 What are arithmetic operations in NumPy?\n",
    "\n",
    "NumPy allows you to do **element-wise arithmetic operations** directly on arrays (vectors, matrices, tensors) — **without explicit loops**.\n",
    "\n",
    "Examples of operations include:\n",
    "\n",
    "| Operator | Function      | Meaning                     |\n",
    "| -------- | ------------- | --------------------------- |\n",
    "| `+`      | `np.add`      | element-wise addition       |\n",
    "| `-`      | `np.subtract` | element-wise subtraction    |\n",
    "| `*`      | `np.multiply` | element-wise multiplication |\n",
    "| `/`      | `np.divide`   | element-wise division       |\n",
    "| `**`     | `np.power`    | element-wise exponent       |\n",
    "| `%`      | `np.mod`      | element-wise modulus        |\n",
    "\n",
    "---\n",
    "\n",
    "# 🔍 Examples of arithmetic operations\n",
    "\n",
    "---\n",
    "\n",
    "## ➡️ 1. Element-wise addition\n"
   ]
  },
  {
   "cell_type": "code",
   "execution_count": 1,
   "id": "5527c4a8",
   "metadata": {},
   "outputs": [
    {
     "name": "stdout",
     "output_type": "stream",
     "text": [
      "[11 22 33]\n"
     ]
    }
   ],
   "source": [
    "import numpy as np\n",
    "\n",
    "a = np.array([1, 2, 3])\n",
    "b = np.array([10, 20, 30])\n",
    "\n",
    "c = a + b\n",
    "print(c)  # [11 22 33]\n"
   ]
  },
  {
   "cell_type": "markdown",
   "id": "6c52cb57",
   "metadata": {},
   "source": [
    "\n",
    "\n",
    "✅ This is **not matrix addition**, it’s adding each element in `a` to each element in `b`.\n",
    "\n",
    "---\n",
    "\n",
    "## ➡️ 2. Element-wise multiplication\n"
   ]
  },
  {
   "cell_type": "code",
   "execution_count": 2,
   "id": "bea2b4e6",
   "metadata": {},
   "outputs": [
    {
     "name": "stdout",
     "output_type": "stream",
     "text": [
      "[10 40 90]\n"
     ]
    }
   ],
   "source": [
    "d = a * b\n",
    "print(d)  # [10 40 90]\n"
   ]
  },
  {
   "cell_type": "markdown",
   "id": "ca6c132f",
   "metadata": {},
   "source": [
    "\n",
    "\n",
    "It multiplies `1*10`, `2*20`, `3*30`.\n",
    "\n",
    "---\n",
    "\n",
    "## ➡️ 3. Element-wise power\n"
   ]
  },
  {
   "cell_type": "code",
   "execution_count": 3,
   "id": "64021a33",
   "metadata": {},
   "outputs": [
    {
     "name": "stdout",
     "output_type": "stream",
     "text": [
      "[1 4 9]\n"
     ]
    }
   ],
   "source": [
    "print(a ** 2)  # [1 4 9]"
   ]
  },
  {
   "cell_type": "markdown",
   "id": "decc7b59",
   "metadata": {},
   "source": [
    "---\n",
    "\n",
    "## ➡️ 4. Element-wise division"
   ]
  },
  {
   "cell_type": "code",
   "execution_count": 4,
   "id": "c91d75e6",
   "metadata": {},
   "outputs": [
    {
     "name": "stdout",
     "output_type": "stream",
     "text": [
      "[10. 10. 10.]\n"
     ]
    }
   ],
   "source": [
    "print(b / a)  # [10. 10. 10.]"
   ]
  },
  {
   "cell_type": "markdown",
   "id": "3f4ba1d7",
   "metadata": {},
   "source": [
    "\n",
    "\n",
    "---\n",
    "\n",
    "# ⚙️ Broadcasting makes this powerful\n",
    "\n",
    "You can mix arrays of **different shapes**, and NumPy will broadcast:\n"
   ]
  },
  {
   "cell_type": "code",
   "execution_count": 5,
   "id": "2b656fec",
   "metadata": {},
   "outputs": [
    {
     "name": "stdout",
     "output_type": "stream",
     "text": [
      "[[11 12 13]\n",
      " [14 15 16]]\n"
     ]
    }
   ],
   "source": [
    "M = np.array([[1, 2, 3],\n",
    "              [4, 5, 6]])\n",
    "\n",
    "print(M + 10)\n"
   ]
  },
  {
   "cell_type": "markdown",
   "id": "a45b1f23",
   "metadata": {},
   "source": [
    "\n",
    "➡️ `10` is broadcast across each element.\n",
    "\n",
    "Output:\n",
    "\n",
    "```\n",
    "[[11 12 13]\n",
    " [14 15 16]]\n",
    "```\n",
    "\n",
    "---\n",
    "\n",
    "# 🧠 More advanced functions\n",
    "\n",
    "NumPy also provides **universal functions (ufuncs)** which work element-wise:\n"
   ]
  },
  {
   "cell_type": "code",
   "execution_count": 7,
   "id": "44108752",
   "metadata": {},
   "outputs": [
    {
     "name": "stdout",
     "output_type": "stream",
     "text": [
      "[1.         1.41421356 1.73205081]\n",
      "[ 2.71828183  7.3890561  20.08553692]\n",
      "[0.84147098 0.90929743 0.14112001]\n",
      "[0.         0.69314718 1.09861229]\n"
     ]
    }
   ],
   "source": [
    "print(np.sqrt(a))     # element-wise square root\n",
    "print(np.exp(a))      # e^x\n",
    "print(np.sin(a))      # sine\n",
    "print(np.log(a))      # natural logarithm\n"
   ]
  },
  {
   "cell_type": "markdown",
   "id": "d9c915b8",
   "metadata": {},
   "source": [
    "---\n",
    "\n",
    "# 📝 Comparison operations also work element-wise\n",
    "\n",
    "```python\n",
    "print(a > 1)   # [False True True]\n",
    "print(a == 2)  # [False True False]\n",
    "```\n",
    "\n",
    "It gives a **boolean array**.\n",
    "\n",
    "---\n",
    "\n",
    "# 🚀 In-place vs out-of-place operations\n",
    "\n",
    "```python\n",
    "a += 5    # modifies `a` in place\n",
    "```\n",
    "\n",
    "vs\n",
    "\n",
    "```python\n",
    "b = a + 5  # creates a new array\n",
    "```\n",
    "\n",
    "---\n",
    "\n",
    "# 🚦 Summary table\n",
    "\n",
    "| Expression  | Meaning                     |\n",
    "| ----------- | --------------------------- |\n",
    "| `a + b`     | element-wise addition       |\n",
    "| `a - b`     | element-wise subtraction    |\n",
    "| `a * b`     | element-wise multiplication |\n",
    "| `a / b`     | element-wise division       |\n",
    "| `a ** 2`    | element-wise power          |\n",
    "| `np.sin(a)` | element-wise sine           |\n",
    "| `a > 2`     | element-wise comparison     |"
   ]
  },
  {
   "cell_type": "code",
   "execution_count": null,
   "id": "585ddece",
   "metadata": {},
   "outputs": [],
   "source": []
  }
 ],
 "metadata": {
  "kernelspec": {
   "display_name": "Python 3",
   "language": "python",
   "name": "python3"
  },
  "language_info": {
   "codemirror_mode": {
    "name": "ipython",
    "version": 3
   },
   "file_extension": ".py",
   "mimetype": "text/x-python",
   "name": "python",
   "nbconvert_exporter": "python",
   "pygments_lexer": "ipython3",
   "version": "3.13.5"
  }
 },
 "nbformat": 4,
 "nbformat_minor": 5
}
