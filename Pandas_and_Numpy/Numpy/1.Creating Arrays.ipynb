{
 "cells": [
  {
   "cell_type": "markdown",
   "id": "bc709102",
   "metadata": {},
   "source": [
    "## Basics"
   ]
  },
  {
   "cell_type": "markdown",
   "id": "0237a6ce",
   "metadata": {},
   "source": [
    "### Creating Arrays"
   ]
  },
  {
   "cell_type": "markdown",
   "id": "ddde070a",
   "metadata": {},
   "source": [
    "✅ Great question!\n",
    "NumPy provides **many ways to create arrays**, each useful for different situations. Here’s a neat summary:\n",
    "\n",
    "---\n",
    "\n",
    "## 🚀 **1. From Python data structures**\n",
    "\n",
    "### ➡️ `np.array`\n",
    "\n",
    "Create an array directly from a Python list, tuple or nested lists.\n"
   ]
  },
  {
   "cell_type": "code",
   "execution_count": 4,
   "id": "ad2e9121",
   "metadata": {},
   "outputs": [
    {
     "data": {
      "text/plain": [
       "(array([1, 2, 3]),\n",
       " array([[1, 2],\n",
       "        [3, 4]]))"
      ]
     },
     "execution_count": 4,
     "metadata": {},
     "output_type": "execute_result"
    }
   ],
   "source": [
    "import numpy as np\n",
    "a = np.array([1, 2, 3])\n",
    "b = np.array([[1, 2], [3, 4]])\n",
    "a,b"
   ]
  },
  {
   "cell_type": "markdown",
   "id": "4e1c2214",
   "metadata": {},
   "source": [
    "\n",
    "---\n",
    "\n",
    "## 🚀 **2. Arrays filled with constants**\n",
    "\n",
    "### ➡️ `np.zeros`\n",
    "\n",
    "Creates an array filled with zeros.\n"
   ]
  },
  {
   "cell_type": "code",
   "execution_count": 6,
   "id": "524c7074",
   "metadata": {},
   "outputs": [
    {
     "data": {
      "text/plain": [
       "array([[0., 0., 0., 0.],\n",
       "       [0., 0., 0., 0.],\n",
       "       [0., 0., 0., 0.]])"
      ]
     },
     "execution_count": 6,
     "metadata": {},
     "output_type": "execute_result"
    }
   ],
   "source": [
    "np.zeros((3, 4))"
   ]
  },
  {
   "cell_type": "markdown",
   "id": "39a61fc1",
   "metadata": {},
   "source": [
    "\n",
    "### ➡️ `np.ones`\n",
    "\n",
    "Creates an array filled with ones.\n"
   ]
  },
  {
   "cell_type": "code",
   "execution_count": 8,
   "id": "f376001b",
   "metadata": {},
   "outputs": [
    {
     "data": {
      "text/plain": [
       "array([[1., 1., 1.],\n",
       "       [1., 1., 1.]])"
      ]
     },
     "execution_count": 8,
     "metadata": {},
     "output_type": "execute_result"
    }
   ],
   "source": [
    "np.ones((2, 3))"
   ]
  },
  {
   "cell_type": "markdown",
   "id": "be1cc659",
   "metadata": {},
   "source": [
    "\n",
    "\n",
    "### ➡️ `np.full`\n",
    "\n",
    "Creates an array filled with a specified value.\n"
   ]
  },
  {
   "cell_type": "code",
   "execution_count": 10,
   "id": "de0d77d0",
   "metadata": {},
   "outputs": [
    {
     "data": {
      "text/plain": [
       "array([[7, 7],\n",
       "       [7, 7]])"
      ]
     },
     "execution_count": 10,
     "metadata": {},
     "output_type": "execute_result"
    }
   ],
   "source": [
    "np.full((2, 2), 7)"
   ]
  },
  {
   "cell_type": "markdown",
   "id": "9e87a94a",
   "metadata": {},
   "source": [
    "\n",
    "### ➡️ `np.empty`\n",
    "\n",
    "Creates an array without initializing entries (values are garbage).\n"
   ]
  },
  {
   "cell_type": "code",
   "execution_count": 12,
   "id": "3deaa4dd",
   "metadata": {},
   "outputs": [
    {
     "data": {
      "text/plain": [
       "array([[1., 1.],\n",
       "       [1., 1.],\n",
       "       [1., 1.]])"
      ]
     },
     "execution_count": 12,
     "metadata": {},
     "output_type": "execute_result"
    }
   ],
   "source": [
    "np.empty((3, 2))"
   ]
  },
  {
   "cell_type": "markdown",
   "id": "4b9e9b33",
   "metadata": {},
   "source": [
    "\n",
    "\n",
    "---\n",
    "\n",
    "## 🚀 **3. Sequences of numbers**\n",
    "\n",
    "### ➡️ `np.arange`\n",
    "\n",
    "Like Python’s `range` but returns an array.\n"
   ]
  },
  {
   "cell_type": "code",
   "execution_count": 14,
   "id": "ca2e6b3e",
   "metadata": {},
   "outputs": [
    {
     "data": {
      "text/plain": [
       "array([0, 2, 4, 6, 8])"
      ]
     },
     "execution_count": 14,
     "metadata": {},
     "output_type": "execute_result"
    }
   ],
   "source": [
    "np.arange(0, 10, 2)  # array([0, 2, 4, 6, 8])\n"
   ]
  },
  {
   "cell_type": "markdown",
   "id": "bed5efaf-812f-4862-860c-b8830cca367b",
   "metadata": {},
   "source": [
    "### ➡️ `np.linspace`\n",
    "\n",
    "Generates `n` evenly spaced samples between start and stop."
   ]
  },
  {
   "cell_type": "code",
   "execution_count": 10,
   "id": "6ceed36e-5e9a-4eae-9b0b-52e4378f437a",
   "metadata": {},
   "outputs": [
    {
     "data": {
      "text/plain": [
       "array([0. , 0.5, 1. , 1.5, 2. ])"
      ]
     },
     "execution_count": 10,
     "metadata": {},
     "output_type": "execute_result"
    }
   ],
   "source": [
    "np.linspace(0, 2, 5)  # array([0. , 0.25, 0.5, 0.75, 1. ])\n"
   ]
  },
  {
   "cell_type": "markdown",
   "id": "43767b79-7011-4015-ad1e-6055e17b923f",
   "metadata": {},
   "source": [
    "---\n",
    "\n",
    "## 🚀 **4. Random arrays**\n",
    "\n",
    "### ➡️ `np.random.rand`\n",
    "\n",
    "Uniform distribution over \\[0, 1)."
   ]
  },
  {
   "cell_type": "code",
   "execution_count": 2,
   "id": "96924adb-501e-40f5-ae1a-9eda15384d61",
   "metadata": {},
   "outputs": [
    {
     "data": {
      "text/plain": [
       "array([[0.2963395 , 0.91152799],\n",
       "       [0.19427674, 0.49172625],\n",
       "       [0.30044653, 0.89109961]])"
      ]
     },
     "execution_count": 2,
     "metadata": {},
     "output_type": "execute_result"
    }
   ],
   "source": [
    "import numpy as np\n",
    "np.random.rand(3, 2)  # shape 3x2"
   ]
  },
  {
   "cell_type": "markdown",
   "id": "8a1c06bb",
   "metadata": {},
   "source": [
    "### ➡️ `np.random.randn`\n",
    "\n",
    "Samples from standard normal distribution.\n"
   ]
  },
  {
   "cell_type": "code",
   "execution_count": 21,
   "id": "c0bd420f",
   "metadata": {},
   "outputs": [
    {
     "data": {
      "text/plain": [
       "array([0.0186303 , 0.47281761, 0.80042548])"
      ]
     },
     "execution_count": 21,
     "metadata": {},
     "output_type": "execute_result"
    }
   ],
   "source": [
    "np.random.randn(3)"
   ]
  },
  {
   "cell_type": "markdown",
   "id": "bac2cfa1",
   "metadata": {},
   "source": [
    "\n",
    "### ➡️ `np.random.randint`\n",
    "\n",
    "Random integers from low (inclusive) to high (exclusive).\n"
   ]
  },
  {
   "cell_type": "code",
   "execution_count": 12,
   "id": "fa9ae904",
   "metadata": {},
   "outputs": [
    {
     "data": {
      "text/plain": [
       "array([[0, 9, 0],\n",
       "       [8, 9, 4]])"
      ]
     },
     "execution_count": 12,
     "metadata": {},
     "output_type": "execute_result"
    }
   ],
   "source": [
    "np.random.randint(0, 10, size=(2, 3))"
   ]
  },
  {
   "cell_type": "markdown",
   "id": "9ba3a576",
   "metadata": {},
   "source": [
    "---\n",
    "\n",
    "## 🚀 **5. Identity and eye matrices**\n",
    "\n",
    "### ➡️ `np.eye`\n",
    "\n",
    "Creates a 2-D array with ones on the diagonal.\n"
   ]
  },
  {
   "cell_type": "code",
   "execution_count": 13,
   "id": "8e3bf3f6",
   "metadata": {},
   "outputs": [
    {
     "data": {
      "text/plain": [
       "array([[1., 0., 0.],\n",
       "       [0., 1., 0.],\n",
       "       [0., 0., 1.]])"
      ]
     },
     "execution_count": 13,
     "metadata": {},
     "output_type": "execute_result"
    }
   ],
   "source": [
    "np.eye(3)"
   ]
  },
  {
   "cell_type": "markdown",
   "id": "e1b36aa5",
   "metadata": {},
   "source": [
    "\n",
    "### ➡️ `np.identity`\n",
    "\n",
    "Similar, explicitly for identity matrices.\n"
   ]
  },
  {
   "cell_type": "code",
   "execution_count": 14,
   "id": "44976c54",
   "metadata": {},
   "outputs": [
    {
     "data": {
      "text/plain": [
       "array([[1., 0., 0., 0.],\n",
       "       [0., 1., 0., 0.],\n",
       "       [0., 0., 1., 0.],\n",
       "       [0., 0., 0., 1.]])"
      ]
     },
     "execution_count": 14,
     "metadata": {},
     "output_type": "execute_result"
    }
   ],
   "source": [
    "np.identity(4)"
   ]
  },
  {
   "cell_type": "markdown",
   "id": "e268ecd5",
   "metadata": {},
   "source": [
    "\n",
    "---\n",
    "\n",
    "## 🚀 **6. Other advanced creations**\n",
    "\n",
    "### ➡️ `np.fromfunction`\n",
    "\n",
    "Create array by executing a function over coordinate grid.\n"
   ]
  },
  {
   "cell_type": "code",
   "execution_count": 15,
   "id": "3d1810c8",
   "metadata": {},
   "outputs": [
    {
     "data": {
      "text/plain": [
       "array([[0, 1, 2],\n",
       "       [1, 2, 3],\n",
       "       [2, 3, 4]])"
      ]
     },
     "execution_count": 15,
     "metadata": {},
     "output_type": "execute_result"
    }
   ],
   "source": [
    "np.fromfunction(lambda i, j: i + j, (3, 3), dtype=int)\n"
   ]
  },
  {
   "cell_type": "markdown",
   "id": "c70a3d38",
   "metadata": {},
   "source": [
    "\n",
    "### ➡️ `np.fromiter`\n",
    "\n",
    "Creates array from any iterable.\n"
   ]
  },
  {
   "cell_type": "code",
   "execution_count": 19,
   "id": "12057212",
   "metadata": {},
   "outputs": [
    {
     "data": {
      "text/plain": [
       "array([0, 1, 2, 3, 4])"
      ]
     },
     "execution_count": 19,
     "metadata": {},
     "output_type": "execute_result"
    }
   ],
   "source": [
    "np.fromiter(range(5), dtype=int)\n"
   ]
  },
  {
   "cell_type": "markdown",
   "id": "bec71d40",
   "metadata": {},
   "source": [
    "\n",
    "### ➡️ `np.frombuffer`\n",
    "\n",
    "Interprets a buffer (like bytes) as a 1-D array.\n"
   ]
  },
  {
   "cell_type": "code",
   "execution_count": 20,
   "id": "f3f83f51",
   "metadata": {},
   "outputs": [
    {
     "data": {
      "text/plain": [
       "array([b'h', b'e', b'l', b'l', b'o'], dtype='|S1')"
      ]
     },
     "execution_count": 20,
     "metadata": {},
     "output_type": "execute_result"
    }
   ],
   "source": [
    "np.frombuffer(b'hello', dtype='S1')"
   ]
  },
  {
   "cell_type": "code",
   "execution_count": 22,
   "id": "98c1fc1b",
   "metadata": {},
   "outputs": [
    {
     "name": "stdout",
     "output_type": "stream",
     "text": [
      "[[1. 0. 0.]\n",
      " [0. 1. 0.]\n",
      " [0. 0. 1.]]\n",
      "[[1 0 0]\n",
      " [0 2 0]\n",
      " [0 0 3]]\n",
      "[[0 0 0]\n",
      " [0 0 0]\n",
      " [0 0 0]]\n",
      "[[1 1 1]\n",
      " [1 1 1]\n",
      " [1 1 1]]\n"
     ]
    }
   ],
   "source": [
    "import numpy as np\n",
    "\n",
    "identity_matrix = np.eye(3)\n",
    "diagonal_array = np.diag([1, 2, 3])\n",
    "zeros_like_array = np.zeros_like(diagonal_array)\n",
    "ones_like_array = np.ones_like(diagonal_array)\n",
    "\n",
    "print(identity_matrix)\n",
    "print(diagonal_array)\n",
    "print(zeros_like_array)\n",
    "print(ones_like_array)"
   ]
  },
  {
   "cell_type": "markdown",
   "id": "88028de6",
   "metadata": {},
   "source": [
    "\n",
    "---\n",
    "\n",
    "## ✅ **Quick cheatsheet table**\n",
    "\n",
    "| Method                   | Example use                             |\n",
    "| ------------------------ | --------------------------------------- |\n",
    "| `np.array`               | From Python list/tuple                  |\n",
    "| `np.zeros` / `np.ones`   | Filled with 0s / 1s                     |\n",
    "| `np.full`                | Filled with any constant                |\n",
    "| `np.empty`               | Uninitialized (fast, random data)       |\n",
    "| `np.arange`              | Like `range`, returns array             |\n",
    "| `np.linspace`            | Evenly spaced samples                   |\n",
    "| `np.random.rand`         | Uniform random floats                   |\n",
    "| `np.random.randn`        | Normal distribution                     |\n",
    "| `np.random.randint`      | Random integers                         |\n",
    "| `np.eye` / `np.identity` | Identity matrix                         |\n",
    "| `np.fromfunction`        | Array from applying function to indices |\n",
    "| `np.fromiter`            | From any iterable                       |\n",
    "| `np.frombuffer`          | From binary data                        |\n",
    "\n",
    "---\n",
    "\n",
    "🎯 **If you want**, I can give you:\n",
    "\n",
    "* A small **code snippet example** for each type, all together in one file\n",
    "* Or a **PDF cheatsheet** with this summary\n",
    "\n",
    "Just tell me what format you’d like! 🚀"
   ]
  },
  {
   "cell_type": "code",
   "execution_count": null,
   "id": "9c352240",
   "metadata": {},
   "outputs": [],
   "source": []
  }
 ],
 "metadata": {
  "kernelspec": {
   "display_name": "Python 3",
   "language": "python",
   "name": "python3"
  },
  "language_info": {
   "codemirror_mode": {
    "name": "ipython",
    "version": 3
   },
   "file_extension": ".py",
   "mimetype": "text/x-python",
   "name": "python",
   "nbconvert_exporter": "python",
   "pygments_lexer": "ipython3",
   "version": "3.13.5"
  }
 },
 "nbformat": 4,
 "nbformat_minor": 5
}
