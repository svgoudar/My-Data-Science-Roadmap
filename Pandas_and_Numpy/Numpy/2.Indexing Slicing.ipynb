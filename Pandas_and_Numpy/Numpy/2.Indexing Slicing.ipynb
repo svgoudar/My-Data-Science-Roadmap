{
 "cells": [
  {
   "cell_type": "markdown",
   "id": "1d51f3aa",
   "metadata": {},
   "source": [
    "✅ Absolutely! Let’s go through **indexing** and **slicing** in NumPy arrays with clear examples.\n",
    "This is one of the most important foundations of working with NumPy.\n",
    "\n",
    "---\n",
    "\n",
    "# 🚀 1️⃣ Indexing (single elements)\n",
    "\n",
    "## ➡️ 1-D array indexing\n"
   ]
  },
  {
   "cell_type": "code",
   "execution_count": 1,
   "id": "beff97d0",
   "metadata": {},
   "outputs": [
    {
     "name": "stdout",
     "output_type": "stream",
     "text": [
      "10\n",
      "50\n"
     ]
    }
   ],
   "source": [
    "import numpy as np\n",
    "a = np.array([10, 20, 30, 40, 50])\n",
    "\n",
    "print(a[0])  # 10\n",
    "print(a[-1]) # 50 (last element)\n"
   ]
  },
  {
   "cell_type": "markdown",
   "id": "d974ff07",
   "metadata": {},
   "source": [
    "---\n",
    "\n",
    "## ➡️ 2-D array indexing\n",
    "\n",
    "You access elements by `[row, column]`.\n"
   ]
  },
  {
   "cell_type": "code",
   "execution_count": 2,
   "id": "b156b81e",
   "metadata": {},
   "outputs": [
    {
     "name": "stdout",
     "output_type": "stream",
     "text": [
      "2\n",
      "7\n"
     ]
    }
   ],
   "source": [
    "b = np.array([[1, 2, 3],\n",
    "              [4, 5, 6],\n",
    "              [7, 8, 9]])\n",
    "\n",
    "print(b[0, 1])  # 2  (1st row, 2nd column)\n",
    "print(b[2, 0])  # 7  (3rd row, 1st column)\n",
    "\n"
   ]
  },
  {
   "cell_type": "markdown",
   "id": "33b63a70",
   "metadata": {},
   "source": [
    "## ➡️ 3-D array indexing\n",
    "\n",
    "Add more indices: `[depth, row, column]`.\n"
   ]
  },
  {
   "cell_type": "code",
   "execution_count": 3,
   "id": "999b6af0",
   "metadata": {},
   "outputs": [
    {
     "name": "stdout",
     "output_type": "stream",
     "text": [
      "4\n",
      "5\n"
     ]
    }
   ],
   "source": [
    "c = np.array([[[1, 2], [3, 4]],\n",
    "              [[5, 6], [7, 8]]])\n",
    "\n",
    "print(c[0, 1, 1]) # 4\n",
    "print(c[1, 0, 0]) # 5\n"
   ]
  },
  {
   "cell_type": "markdown",
   "id": "59728d9f",
   "metadata": {},
   "source": [
    "\n",
    "\n",
    "---\n",
    "\n",
    "# 🚀 2️⃣ Slicing (subarrays)\n",
    "\n",
    "The format is always:\n",
    "\n",
    "```\n",
    "[start:stop:step]\n",
    "```\n",
    "\n",
    "like Python lists.\n",
    "\n",
    "---\n",
    "\n",
    "## ➡️ 1-D slicing\n"
   ]
  },
  {
   "cell_type": "code",
   "execution_count": 4,
   "id": "76ba36a0",
   "metadata": {},
   "outputs": [
    {
     "name": "stdout",
     "output_type": "stream",
     "text": [
      "[20 30 40]\n",
      "[10 20 30]\n",
      "[10 30 50]\n",
      "[50 40 30 20 10]\n"
     ]
    }
   ],
   "source": [
    "\n",
    "a = np.array([10, 20, 30, 40, 50])\n",
    "print(a[1:4])   # [20 30 40]\n",
    "print(a[:3])    # [10 20 30]\n",
    "print(a[::2])   # [10 30 50]\n",
    "print(a[::-1])  # [50 40 30 20 10] (reversed)\n"
   ]
  },
  {
   "cell_type": "markdown",
   "id": "3ea67e29",
   "metadata": {},
   "source": [
    "## ➡️ 2-D slicing\n",
    "\n",
    "You slice **rows** and **columns** separately:\n",
    "\n",
    "```\n",
    "array[rows, columns]\n",
    "```\n"
   ]
  },
  {
   "cell_type": "code",
   "execution_count": 5,
   "id": "d54d7b68",
   "metadata": {},
   "outputs": [
    {
     "name": "stdout",
     "output_type": "stream",
     "text": [
      "[[2 3]\n",
      " [6 7]]\n",
      "[ 3  7 11]\n",
      "[5 6 7 8]\n"
     ]
    }
   ],
   "source": [
    "b = np.array([[1, 2, 3, 4],\n",
    "              [5, 6, 7, 8],\n",
    "              [9,10,11,12]])\n",
    "\n",
    "print(b[0:2, 1:3])\n",
    "# [[2 3]\n",
    "#  [6 7]]\n",
    "\n",
    "print(b[:, 2])\n",
    "# [ 3  7 11] (all rows, 3rd column)\n",
    "\n",
    "print(b[1, :])\n",
    "# [5 6 7 8] (2nd row, all columns)\n"
   ]
  },
  {
   "cell_type": "markdown",
   "id": "d1075998",
   "metadata": {},
   "source": [
    "\n",
    "---\n",
    "\n",
    "## ➡️ Fancy slicing: steps\n"
   ]
  },
  {
   "cell_type": "code",
   "execution_count": 12,
   "id": "8d2d5fe8",
   "metadata": {},
   "outputs": [
    {
     "name": "stdout",
     "output_type": "stream",
     "text": [
      "[10 15 20 25 30]\n",
      "[10 20 30]\n",
      "[ 2 11]\n",
      "[[ 1  3]\n",
      " [ 9 11]]\n"
     ]
    }
   ],
   "source": [
    "print(a)\n",
    "print(a[[0, 2, 4]])\n",
    "# [10 30 50]\n",
    "\n",
    "print(b[[0, 2], [1, 2]])\n",
    "# [2 9]\n",
    "print(b[::2, ::2])\n",
    "# [[ 1  3]\n",
    "#  [ 9 11]]\n"
   ]
  },
  {
   "cell_type": "markdown",
   "id": "e1305fe3",
   "metadata": {},
   "source": [
    "# 🚀 3️⃣ Boolean indexing (masking)\n",
    "\n",
    "This is powerful: select elements by condition.\n",
    "\n"
   ]
  },
  {
   "cell_type": "code",
   "execution_count": 10,
   "id": "f6e9c5a6",
   "metadata": {},
   "outputs": [
    {
     "name": "stdout",
     "output_type": "stream",
     "text": [
      "[False False  True  True  True]\n",
      "[20 25 30]\n"
     ]
    }
   ],
   "source": [
    "a = np.array([10, 15, 20, 25, 30])\n",
    "mask = a > 18\n",
    "print(mask)\n",
    "# [False False  True  True  True]\n",
    "\n",
    "print(a[mask])\n",
    "# [20 25 30]\n"
   ]
  },
  {
   "cell_type": "code",
   "execution_count": 11,
   "id": "98116518",
   "metadata": {},
   "outputs": [
    {
     "name": "stdout",
     "output_type": "stream",
     "text": [
      "[10 20 30]\n"
     ]
    }
   ],
   "source": [
    "print(a[a % 2 == 0])\n",
    "# [10 20 30]\n"
   ]
  },
  {
   "cell_type": "markdown",
   "id": "99398992",
   "metadata": {},
   "source": [
    "## Ellipsis (...) in Indexing\n",
    "The ellipsis (...) can be used to select all dimensions which are not explicitly mentioned. This is helpful in multidimensional arrays when we don’t want to specify every dimension."
   ]
  },
  {
   "cell_type": "code",
   "execution_count": 8,
   "id": "12a0405c",
   "metadata": {},
   "outputs": [
    {
     "name": "stdout",
     "output_type": "stream",
     "text": [
      "[[[0.18700986 0.22467845 0.18130047 0.11327225 0.25220239]\n",
      "  [0.63660467 0.2550371  0.11513096 0.2293874  0.8827365 ]\n",
      "  [0.39648677 0.72600305 0.24254327 0.02894153 0.83624592]\n",
      "  [0.07866594 0.24701655 0.38724885 0.16401954 0.74026442]]\n",
      "\n",
      " [[0.09116682 0.14646129 0.50344878 0.75500165 0.8278478 ]\n",
      "  [0.25826878 0.01281268 0.6980454  0.01601517 0.73994318]\n",
      "  [0.32035722 0.71810415 0.66199372 0.59126811 0.49618712]\n",
      "  [0.66354584 0.35516669 0.87887928 0.74880341 0.20977062]]\n",
      "\n",
      " [[0.57818549 0.68645905 0.23880615 0.76105672 0.86543758]\n",
      "  [0.56898534 0.1047609  0.9995262  0.11224553 0.85252434]\n",
      "  [0.69632733 0.88699293 0.2799858  0.64847397 0.49862615]\n",
      "  [0.72218042 0.70397247 0.30506252 0.95774817 0.81974951]]\n",
      "\n",
      " [[0.39997515 0.56925564 0.49989186 0.58894075 0.91772122]\n",
      "  [0.63224958 0.80111037 0.74390214 0.2472743  0.93621896]\n",
      "  [0.03631355 0.02865896 0.04816687 0.11866231 0.6604799 ]\n",
      "  [0.74209029 0.11076285 0.85024538 0.56257436 0.57208869]]]\n",
      "[[0.18700986 0.63660467 0.39648677 0.07866594]\n",
      " [0.09116682 0.25826878 0.32035722 0.66354584]\n",
      " [0.57818549 0.56898534 0.69632733 0.72218042]\n",
      " [0.39997515 0.63224958 0.03631355 0.74209029]]\n"
     ]
    }
   ],
   "source": [
    "import numpy as np\n",
    "\n",
    "cube = np.random.rand(4, 4, 5)\n",
    "print(cube)\n",
    "print(cube[..., 0])"
   ]
  },
  {
   "cell_type": "markdown",
   "id": "19c77a69",
   "metadata": {},
   "source": [
    "# ✅ Quick summary table\n",
    "\n",
    "| Operation          | Example       | Result                 |\n",
    "| ------------------ | ------------- | ---------------------- |\n",
    "| Single index       | `a[1]`        | Single element         |\n",
    "| 2D access          | `b[1,2]`      | Element at row=1,col=2 |\n",
    "| Slice 1D           | `a[1:4]`      | Elements 1 to 3        |\n",
    "| Slice rows/columns | `b[0:2, 1:3]` | Submatrix              |\n",
    "| All rows in col 2  | `b[:,2]`      | 1D array of column     |\n",
    "| All cols in row 1  | `b[1,:]`      | 1D array of row        |\n",
    "| Steps              | `a[::2]`      | Every 2nd element      |\n",
    "| Reverse            | `a[::-1]`     | Array reversed         |\n",
    "| Boolean mask       | `a[a>20]`     | Elements > 20          |"
   ]
  },
  {
   "cell_type": "code",
   "execution_count": 14,
   "id": "70bc5013",
   "metadata": {},
   "outputs": [
    {
     "name": "stdout",
     "output_type": "stream",
     "text": [
      "[[[ 0  1  2  3]\n",
      "  [ 4  5  6  7]\n",
      "  [ 8  9 10 11]]\n",
      "\n",
      " [[12 13 14 15]\n",
      "  [16 17 18 19]\n",
      "  [20 21 22 23]]]\n",
      "[[ 4  5  6  7]\n",
      " [16 17 18 19]]\n"
     ]
    }
   ],
   "source": [
    "c = np.arange(24).reshape(2,3,4)\n",
    "# shape (2,3,4) -> 2 blocks, each 3x4\n",
    "print(c)\n",
    "print(c[:, 1, :])\n",
    "# Picks the 2nd row from each block\n"
   ]
  },
  {
   "cell_type": "code",
   "execution_count": 20,
   "id": "f3efa33a",
   "metadata": {},
   "outputs": [
    {
     "name": "stdout",
     "output_type": "stream",
     "text": [
      "Given Array :\n",
      "[[  1  20   3   1]\n",
      " [ 40   5  66   7]\n",
      " [ 70  88   9  11]\n",
      " [ 80 100  50  77]]\n",
      "\n",
      "Accessed Rows :\n",
      "[[40  5 66  7]\n",
      " [70 88  9 11]]\n"
     ]
    }
   ],
   "source": [
    "# Importing Numpy module\n",
    "import numpy as np\n",
    "\n",
    "# Creating a 4X4 2-D Numpy array\n",
    "arr = np.array([[1, 20, 3, 1], \n",
    "                [40, 5, 66, 7], \n",
    "                [70, 88, 9, 11],\n",
    "               [80, 100, 50, 77]])\n",
    "\n",
    "print(\"Given Array :\")\n",
    "print(arr)\n",
    "\n",
    "# Access the Last three rows of array\n",
    "res_arr = arr[[1,2]]\n",
    "print(\"\\nAccessed Rows :\")\n",
    "print(res_arr)"
   ]
  },
  {
   "cell_type": "markdown",
   "id": "454b2849",
   "metadata": {},
   "source": [
    "## Accessing the First and Last rows of 3-D NumPy array"
   ]
  },
  {
   "cell_type": "code",
   "execution_count": 21,
   "id": "026012ff",
   "metadata": {},
   "outputs": [],
   "source": [
    "n_arr = np.array([[[10, 25, 70], [30, 45, 55], [20, 45, 7]], \n",
    "                  [[50, 65, 8], [70, 85, 10], [11, 22, 33]],\n",
    "                 [[19, 69, 36], [1, 5, 24], [4, 20, 96]]])"
   ]
  },
  {
   "cell_type": "code",
   "execution_count": null,
   "id": "cfcee093",
   "metadata": {},
   "outputs": [
    {
     "data": {
      "text/plain": [
       "array([[50, 65,  8],\n",
       "       [11, 22, 33]])"
      ]
     },
     "execution_count": 26,
     "metadata": {},
     "output_type": "execute_result"
    }
   ],
   "source": [
    "n_arr[:,[0,2]]"
   ]
  },
  {
   "cell_type": "code",
   "execution_count": 27,
   "id": "3b581f0f",
   "metadata": {},
   "outputs": [],
   "source": [
    "import numpy as np\n",
    "\n",
    "arr = np.array([[ 0,  1,  2,  3],\n",
    "                [10, 11, 12, 13],\n",
    "                [20, 21, 22, 23],\n",
    "                [30, 31, 32, 33],\n",
    "                [40, 41, 42, 43]])\n"
   ]
  },
  {
   "cell_type": "code",
   "execution_count": 52,
   "id": "54436059",
   "metadata": {},
   "outputs": [
    {
     "data": {
      "text/plain": [
       "'\\narray([[41, 42, 43],\\n       [31, 32, 33],\\n       [21, 22, 23],\\n       [11, 12, 13],\\n       [ 1,  2,  3]])\\n'"
      ]
     },
     "execution_count": 52,
     "metadata": {},
     "output_type": "execute_result"
    }
   ],
   "source": [
    "arr[1:3,[1,2]]\n",
    "'''\n",
    "array([[11, 12],\n",
    "       [21, 22]])       \n",
    "'''\n",
    "arr[1, 2]\n",
    "'''\n",
    "12\n",
    "'''\n",
    "arr[1:4, 1:3]\n",
    "'''\n",
    "array([[11, 12],\n",
    "       [21, 22],\n",
    "       [31, 32]])\n",
    "'''\n",
    "arr[:3, [0,2]]\n",
    "'''\n",
    "array([[ 0,  2],\n",
    "       [10, 12],\n",
    "       [20, 22]])\n",
    "'''\n",
    "arr[[0, 2, 4], [1, 2, 3]] # this gives elements at positions (0,1), (2,2), (4,3))\n",
    "'''\n",
    "array([ 1, 22, 43])\n",
    "'''\n",
    "arr[::2, ::2]\n",
    "'''\n",
    "array([[ 0,  2],\n",
    "       [20, 22],\n",
    "       [40, 42]])\n",
    "'''\n",
    "arr[:, 2]\n",
    "'''\n",
    "array([ 2, 12, 22, 32, 42])\n",
    "'''\n",
    "arr[::-1,1:4]\n",
    "'''\n",
    "array([[41, 42, 43],\n",
    "       [31, 32, 33],\n",
    "       [21, 22, 23],\n",
    "       [11, 12, 13],\n",
    "       [ 1,  2,  3]])\n",
    "'''"
   ]
  },
  {
   "cell_type": "code",
   "execution_count": 45,
   "id": "42156a20",
   "metadata": {},
   "outputs": [],
   "source": [
    "arr = np.array([[ 0,  1,  2,  3],\n",
    "                [10, 11, 12, 13],\n",
    "                [20, 21, 22, 23],\n",
    "                [30, 31, 32, 33],\n",
    "                [40, 41, 42, 43]])"
   ]
  },
  {
   "cell_type": "markdown",
   "id": "4b41e843",
   "metadata": {},
   "source": [
    "# 🚀 ✅ Solutions\n",
    "\n",
    "---\n",
    "\n",
    "## 🔥 1️⃣ Basic indexing\n",
    "\n",
    "### ➡️ 1. `arr[3,1]`\n",
    "\n",
    "```python\n",
    "arr[3,1]\n",
    "# -> 31\n",
    "```\n",
    "\n",
    "(4th row, 2nd column)\n",
    "\n",
    "---\n",
    "\n",
    "### ➡️ 2. `arr[-1,-2]`\n",
    "\n",
    "```python\n",
    "arr[-1,-2]\n",
    "# -> 42\n",
    "```\n",
    "\n",
    "(last row, 2nd last column)\n",
    "\n",
    "---\n",
    "\n",
    "### ➡️ 3. `arr[5,1]`\n",
    "\n",
    "```python\n",
    "# IndexError: index 5 is out of bounds for axis 0 with size 5\n",
    "```\n",
    "\n",
    "Because rows only go from `0` to `4`.\n",
    "\n",
    "---\n",
    "\n",
    "## 🔥 2️⃣ Slicing\n",
    "\n",
    "### ➡️ 4. `arr[1:4, 2:4]`\n",
    "\n",
    "```python\n",
    "arr[1:4, 2:4]\n",
    "# -> array([[12, 13],\n",
    "#           [22, 23],\n",
    "#           [32, 33]])\n",
    "```\n",
    "\n",
    "---\n",
    "\n",
    "### ➡️ 5. `arr[:3, :2]`\n",
    "\n",
    "```python\n",
    "arr[:3, :2]\n",
    "# -> array([[ 0,  1],\n",
    "#           [10, 11],\n",
    "#           [20, 21]])\n",
    "```\n",
    "\n",
    "---\n",
    "\n",
    "### ➡️ 6. Last 2 rows and last 3 columns\n",
    "\n",
    "```python\n",
    "arr[-2:, -3:]\n",
    "# -> array([[31, 32, 33],\n",
    "#           [41, 42, 43]])\n",
    "```\n",
    "\n",
    "---\n",
    "\n",
    "## 🔥 3️⃣ Steps / strides\n",
    "\n",
    "### ➡️ 7. `arr[::2, ::2]`\n",
    "\n",
    "```python\n",
    "arr[::2, ::2]\n",
    "# -> array([[ 0,  2],\n",
    "#           [20, 22],\n",
    "#           [40, 42]])\n",
    "```\n",
    "\n",
    "(every other row & column)\n",
    "\n",
    "---\n",
    "\n",
    "### ➡️ 8. Reverse rows\n",
    "\n",
    "```python\n",
    "arr[::-1, :]\n",
    "# -> array([[40,41,42,43],\n",
    "#           [30,31,32,33],\n",
    "#           [20,21,22,23],\n",
    "#           [10,11,12,13],\n",
    "#           [ 0, 1, 2, 3]])\n",
    "```\n",
    "\n",
    "---\n",
    "\n",
    "### ➡️ 9. Reverse both rows & columns\n",
    "\n",
    "```python\n",
    "arr[::-1, ::-1]\n",
    "# -> array([[43,42,41,40],\n",
    "#           [33,32,31,30],\n",
    "#           [23,22,21,20],\n",
    "#           [13,12,11,10],\n",
    "#           [ 3, 2, 1, 0]])\n",
    "```\n",
    "\n",
    "---\n",
    "\n",
    "## 🔥 4️⃣ Boolean indexing\n",
    "\n",
    "### ➡️ 10. `arr[arr > 25]`\n",
    "\n",
    "```python\n",
    "arr[arr > 25]\n",
    "# -> array([30,31,32,33,40,41,42,43])\n",
    "```\n",
    "\n",
    "---\n",
    "\n",
    "### ➡️ 11. Elements divisible by 10\n",
    "\n",
    "```python\n",
    "arr[arr % 10 == 0]\n",
    "# -> array([ 0,10,20,30,40])\n",
    "```\n",
    "\n",
    "---\n",
    "\n",
    "### ➡️ 12. Set all elements >30 to 999\n",
    "\n",
    "```python\n",
    "arr[arr > 30] = 999\n",
    "# arr now becomes:\n",
    "# [[  0   1   2   3]\n",
    "#  [ 10  11  12  13]\n",
    "#  [ 20  21  22  23]\n",
    "#  [ 30  31  32  33]\n",
    "#  [ 40  41  42  43]]\n",
    "\n",
    "# after assignment\n",
    "# [[  0   1   2   3]\n",
    "#  [ 10  11  12  13]\n",
    "#  [ 20  21  22  23]\n",
    "#  [ 30 999 999 999]\n",
    "#  [999 999 999 999]]\n",
    "```\n",
    "\n",
    "---\n",
    "\n",
    "## 🔥 5️⃣ Fancy indexing\n",
    "\n",
    "### ➡️ 13. `arr[[0,2,4], [1,2,3]]`\n",
    "\n",
    "```python\n",
    "arr[[0,2,4], [1,2,3]]\n",
    "# -> array([ 1,22,43])\n",
    "```\n",
    "\n",
    "It pulls elements from positions: `(0,1)`, `(2,2)`, `(4,3)`.\n",
    "\n",
    "---\n",
    "\n",
    "### ➡️ 14. Get rows 1 & 3\n",
    "\n",
    "```python\n",
    "arr[[1,3]]\n",
    "# -> array([[10,11,12,13],\n",
    "#           [30,31,32,33]])\n",
    "```\n",
    "\n",
    "---\n",
    "\n",
    "## 🔥 6️⃣ Using `np.ix_`\n",
    "\n",
    "### ➡️ 15. Using `np.ix_`\n",
    "\n",
    "```python\n",
    "rows = [1,3]\n",
    "cols = [0,2]\n",
    "arr[np.ix_(rows, cols)]\n",
    "# -> array([[10,12],\n",
    "#           [30,32]])\n",
    "```\n",
    "\n",
    "---\n",
    "\n",
    "### ➡️ 16. Why `arr[[1,3]][:,[0,2]]` might differ\n",
    "\n",
    "* `arr[[1,3]]` first gives a **(2,4) array**, then `[:,[0,2]]` works on this smaller slice.\n",
    "* It might not match intended indices if you meant to pick original global `(1,0)` and `(3,2)`.\n",
    "\n",
    "`np.ix_` always references **original indices together**, building a true submatrix.\n",
    "\n",
    "---\n",
    "\n",
    "## 🔥 7️⃣ 1D vs 2D slicing\n",
    "\n",
    "### ➡️ 17. 2nd column as flat array\n",
    "\n",
    "```python\n",
    "arr[:,1]\n",
    "# -> array([ 1,11,21,31,41])\n",
    "```\n",
    "\n",
    "---\n",
    "\n",
    "### ➡️ 18. As column matrix (5,1)\n",
    "\n",
    "```python\n",
    "arr[:,1:2]\n",
    "# -> array([[ 1],\n",
    "#           [11],\n",
    "#           [21],\n",
    "#           [31],\n",
    "#           [41]])\n",
    "```\n",
    "\n",
    "---\n",
    "\n",
    "## 🔥 8️⃣ 3D array practice\n",
    "\n",
    "Given:\n",
    "\n",
    "```python\n",
    "b = np.arange(24).reshape(2,3,4)\n",
    "```\n",
    "\n",
    "---\n",
    "\n",
    "### ➡️ 19. `b[1,2,3]`\n",
    "\n",
    "```python\n",
    "b[1,2,3]\n",
    "# -> 23\n",
    "```\n",
    "\n",
    "2nd block, 3rd row, 4th column.\n",
    "\n",
    "---\n",
    "\n",
    "### ➡️ 20. Last row of each block\n",
    "\n",
    "```python\n",
    "b[:, -1, :]\n",
    "# -> array([[ 8,  9, 10, 11],\n",
    "#           [20, 21, 22, 23]])\n",
    "```\n",
    "\n",
    "---\n",
    "\n",
    "## ✅ Bonus challenge solution\n",
    "\n",
    "### ➡️ 21. Every other row & last-to-first columns\n",
    "\n",
    "```python\n",
    "arr[::2, ::-2]\n",
    "# -> array([[ 3,  1],\n",
    "#           [23, 21],\n",
    "#           [43, 41]])\n",
    "```\n",
    "\n"
   ]
  }
 ],
 "metadata": {
  "kernelspec": {
   "display_name": "base",
   "language": "python",
   "name": "python3"
  },
  "language_info": {
   "codemirror_mode": {
    "name": "ipython",
    "version": 3
   },
   "file_extension": ".py",
   "mimetype": "text/x-python",
   "name": "python",
   "nbconvert_exporter": "python",
   "pygments_lexer": "ipython3",
   "version": "3.12.7"
  }
 },
 "nbformat": 4,
 "nbformat_minor": 5
}
