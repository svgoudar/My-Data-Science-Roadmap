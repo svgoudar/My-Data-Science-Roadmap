{
 "cells": [
  {
   "cell_type": "markdown",
   "id": "5a5a92a3",
   "metadata": {},
   "source": [
    "# 🚀 What is broadcasting in NumPy?\n",
    "\n",
    "✅ **Broadcasting** is a way for NumPy to perform **element-wise operations on arrays of different shapes** without explicitly copying data.\n",
    "\n",
    "It **\"stretches\" smaller arrays across larger ones** so that arithmetic operations can be performed efficiently.\n",
    "\n",
    "It avoids making many copies of data and speeds up computation.\n",
    "\n",
    "---\n",
    "\n",
    "# 📚 Why is it needed?\n",
    "\n",
    "In NumPy, when you do operations like\n",
    "\n",
    "```python\n",
    "A + B\n",
    "```\n",
    "\n",
    "it normally requires `A` and `B` to have the **same shape**.\n",
    "\n",
    "But with broadcasting, if `A` and `B` have **compatible shapes**, NumPy automatically expands the smaller array to match the bigger one *virtually*, without making unnecessary copies.\n",
    "\n",
    "---\n",
    "\n",
    "# 🔍 The broadcasting rules\n",
    "\n",
    "NumPy compares arrays' shapes **from right to left (trailing dimensions)**.\n",
    "\n",
    "It allows two dimensions to be compatible when:\n",
    "\n",
    "| Condition                                       | Meaning                                |\n",
    "| ----------------------------------------------- | -------------------------------------- |\n",
    "| They are equal                                  | e.g. (3, 4) and (3, 4)                 |\n",
    "| Or one of them is `1`                           | e.g. (3, 4) and (1, 4) or (3, 1)       |\n",
    "| Or the dimension doesn't exist (treated as `1`) | e.g. (3, 4) and (4,) treated as (1, 4) |\n",
    "\n",
    "---\n",
    "\n",
    "### ➡️ In short\n",
    "\n",
    "```\n",
    "Two dimensions are compatible if they are equal or one of them is 1.\n",
    "```\n",
    "\n",
    "---\n",
    "\n",
    "# ⚙️ Examples of broadcasting\n",
    "\n",
    "---\n",
    "\n",
    "## ✅ Example 1: simple scalar broadcasting\n"
   ]
  },
  {
   "cell_type": "code",
   "execution_count": 3,
   "id": "d91450da",
   "metadata": {},
   "outputs": [
    {
     "name": "stdout",
     "output_type": "stream",
     "text": [
      "[11 12 13]\n"
     ]
    }
   ],
   "source": [
    "import numpy as np\n",
    "\n",
    "A = np.array([1, 2, 3])\n",
    "print(A + 10)\n"
   ]
  },
  {
   "cell_type": "markdown",
   "id": "8656a2a3",
   "metadata": {},
   "source": [
    "\n",
    "\n",
    "➡️ Here `10` is treated as if it were `[10, 10, 10]`.\n",
    "\n",
    "Output:\n",
    "\n",
    "```\n",
    "[11 12 13]\n",
    "```\n",
    "\n",
    "---\n",
    "\n",
    "## ✅ Example 2: 1D and 2D\n"
   ]
  },
  {
   "cell_type": "code",
   "execution_count": 4,
   "id": "e39f73c0",
   "metadata": {},
   "outputs": [
    {
     "name": "stdout",
     "output_type": "stream",
     "text": [
      "[[11 22 33]\n",
      " [14 25 36]]\n"
     ]
    }
   ],
   "source": [
    "A = np.array([[1, 2, 3],\n",
    "              [4, 5, 6]])\n",
    "\n",
    "B = np.array([10, 20, 30])\n",
    "print(A + B)\n"
   ]
  },
  {
   "cell_type": "markdown",
   "id": "30a7ae51",
   "metadata": {},
   "source": [
    "\n",
    "\n",
    "* `A.shape = (2, 3)`\n",
    "* `B.shape = (3,)` → treated as `(1, 3)`\n",
    "\n",
    "So it stretches along the first dimension (rows).\n",
    "\n",
    "Output:\n",
    "\n",
    "```\n",
    "[[11 22 33]\n",
    " [14 25 36]]\n",
    "```\n",
    "\n",
    "---\n",
    "\n",
    "## ✅ Example 3: adding column vector to matrix\n"
   ]
  },
  {
   "cell_type": "code",
   "execution_count": 5,
   "id": "023cf483",
   "metadata": {},
   "outputs": [
    {
     "name": "stdout",
     "output_type": "stream",
     "text": [
      "[[11 21 31]\n",
      " [12 22 32]\n",
      " [13 23 33]]\n"
     ]
    }
   ],
   "source": [
    "C = np.array([[1],\n",
    "              [2],\n",
    "              [3]])\n",
    "\n",
    "D = np.array([10, 20, 30])\n",
    "print(C + D)\n"
   ]
  },
  {
   "cell_type": "markdown",
   "id": "c12a08b8",
   "metadata": {},
   "source": [
    "\n",
    "\n",
    "* `C.shape = (3, 1)`\n",
    "* `D.shape = (3,)` → treated as `(1, 3)`\n",
    "\n",
    "So broadcasting gives final shape `(3, 3)`.\n",
    "\n",
    "Output:\n",
    "\n",
    "```\n",
    "[[11 21 31]\n",
    " [12 22 32]\n",
    " [13 23 33]]\n",
    "```\n",
    "\n",
    "---\n",
    "\n",
    "# ❌ When broadcasting fails\n",
    "\n",
    "If shapes are incompatible, NumPy raises a `ValueError`.\n",
    "\n",
    "Example:\n"
   ]
  },
  {
   "cell_type": "code",
   "execution_count": 11,
   "id": "33307c40",
   "metadata": {},
   "outputs": [],
   "source": [
    "# A = np.array([1, 2, 3])\n",
    "# B = np.array([10, 20])\n",
    "# A + B\n"
   ]
  },
  {
   "cell_type": "markdown",
   "id": "21344bab",
   "metadata": {},
   "source": [
    "* `A.shape = (3,)`\n",
    "* `B.shape = (2,)`\n",
    "\n",
    "No dimension is `1`, so incompatible.\n",
    "\n",
    "---\n",
    "\n",
    "# 🧠 Broadcasting by aligning shapes\n",
    "\n",
    "You can think of broadcasting like **aligning shapes to the right** and **stretching 1s**.\n",
    "\n",
    "| Example          | Shape alignment |\n",
    "| ---------------- | --------------- |\n",
    "| A: `(3, 4, 5)`   | `(3, 4, 5)`     |\n",
    "| B: `(     4, 1)` | `(1, 4, 1)`     |\n",
    "\n",
    "Result shape will be `(3, 4, 5)`.\n",
    "\n",
    "---\n",
    "\n",
    "# 💥 Why broadcasting is powerful?\n",
    "\n",
    "✅ It avoids explicit loops and manual `tile` or `repeat` calls.\n",
    "\n",
    "So instead of writing slow code like:\n"
   ]
  },
  {
   "cell_type": "code",
   "execution_count": 10,
   "id": "18fd93dd",
   "metadata": {},
   "outputs": [
    {
     "data": {
      "text/plain": [
       "array([1, 2, 3])"
      ]
     },
     "execution_count": 10,
     "metadata": {},
     "output_type": "execute_result"
    }
   ],
   "source": [
    "A"
   ]
  },
  {
   "cell_type": "code",
   "execution_count": 9,
   "id": "882337cb",
   "metadata": {},
   "outputs": [],
   "source": [
    "# for i in range(len(A)):\n",
    "#     C[i] = A[i] + B"
   ]
  },
  {
   "cell_type": "markdown",
   "id": "eb99e120",
   "metadata": {},
   "source": [
    "\n",
    "you just write:\n",
    "\n",
    "```python\n",
    "C = A + B\n",
    "```\n",
    "\n",
    "and NumPy automatically broadcasts, making it very fast (vectorized).\n",
    "\n",
    "---\n",
    "\n",
    "# 🚀 Summary table of broadcasting\n",
    "\n",
    "| Shapes                    | Result shape | Works because                       |\n",
    "| ------------------------- | ------------ | ----------------------------------- |\n",
    "| `(3, 4)` + `(4,)`         | `(3, 4)`     | second dimension matches            |\n",
    "| `(5, 1)` + `(4,)`         | `(5, 4)`     | `1` expands to `4`                  |\n",
    "| `(3, 1, 4)` + `(   2, 1)` | `(3, 2, 4)`  | middle `1` expands to `2`           |\n",
    "| `(3, 4)` + `(2, 4)`       | ❌ error      | first dims `3` and `2` incompatible |"
   ]
  },
  {
   "cell_type": "code",
   "execution_count": 13,
   "id": "9398285b",
   "metadata": {},
   "outputs": [
    {
     "data": {
      "text/plain": [
       "(2,)"
      ]
     },
     "execution_count": 13,
     "metadata": {},
     "output_type": "execute_result"
    }
   ],
   "source": [
    "np.array([[1, 2], [3, 4]]).shape\n",
    "np.array([10, 20]).shape"
   ]
  }
 ],
 "metadata": {
  "kernelspec": {
   "display_name": "Python 3",
   "language": "python",
   "name": "python3"
  },
  "language_info": {
   "codemirror_mode": {
    "name": "ipython",
    "version": 3
   },
   "file_extension": ".py",
   "mimetype": "text/x-python",
   "name": "python",
   "nbconvert_exporter": "python",
   "pygments_lexer": "ipython3",
   "version": "3.13.5"
  }
 },
 "nbformat": 4,
 "nbformat_minor": 5
}
