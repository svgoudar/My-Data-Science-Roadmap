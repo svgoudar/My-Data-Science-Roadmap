{
 "cells": [
  {
   "cell_type": "markdown",
   "id": "d43ffd0f",
   "metadata": {},
   "source": [
    "# 🚀 1️⃣ Array creation\n",
    "\n",
    "| Function              | What it does             | Example                         |\n",
    "| --------------------- | ------------------------ | ------------------------------- |\n",
    "| `np.array()`          | From Python lists/tuples | `np.array([1,2,3])`             |\n",
    "| `np.zeros()`          | All zeros                | `np.zeros((2,3))`               |\n",
    "| `np.ones()`           | All ones                 | `np.ones((2,3))`                |\n",
    "| `np.full()`           | All fill value           | `np.full((2,3), 7)`             |\n",
    "| `np.eye()`            | Identity matrix          | `np.eye(3)`                     |\n",
    "| `np.arange()`         | Like `range` but array   | `np.arange(0,10,2)`             |\n",
    "| `np.linspace()`       | Evenly spaced numbers    | `np.linspace(0,1,5)`            |\n",
    "| `np.random.randn()`   | Standard normal          | `np.random.randn(3,4)`          |\n",
    "| `np.random.randint()` | Random ints              | `np.random.randint(0,10,(3,4))` |\n",
    "\n",
    "---\n",
    "\n",
    "# 🚀 2️⃣ Reshaping and modifying shape\n",
    "\n",
    "| Function               | What it does          | Example                     |\n",
    "| ---------------------- | --------------------- | --------------------------- |\n",
    "| `.reshape()`           | Change shape          | `a.reshape(3,4)`            |\n",
    "| `.flatten()`           | To 1D array           | `a.flatten()`               |\n",
    "| `.ravel()`             | Similar, often faster | `a.ravel()`                 |\n",
    "| `np.expand_dims()`     | Add axis              | `np.expand_dims(a, axis=0)` |\n",
    "| `np.squeeze()`         | Remove single-dim     | `np.squeeze(a)`             |\n",
    "| `.transpose()` or `.T` | Swap axes             | `a.T`                       |\n",
    "\n",
    "---\n",
    "\n",
    "# 🚀 3️⃣ Indexing, slicing, boolean masking\n",
    "\n",
    "| What               | Example           |\n",
    "| ------------------ | ----------------- |\n",
    "| Basic slicing      | `a[1:3, 2:4]`     |\n",
    "| Boolean indexing   | `a[a > 0.5]`      |\n",
    "| Fancy indexing     | `a[[0,2], [1,3]]` |\n",
    "| Set values by mask | `a[a<0] = 0`      |\n",
    "\n",
    "---\n",
    "\n",
    "# 🚀 4️⃣ Aggregations (statistics, summaries)\n",
    "\n",
    "| Function                            | What it does       | Example                |\n",
    "| ----------------------------------- | ------------------ | ---------------------- |\n",
    "| `np.sum()`                          | Sum of elements    | `np.sum(a)`            |\n",
    "| `np.mean()`                         | Mean               | `np.mean(a, axis=0)`   |\n",
    "| `np.std()` / `np.var()`             | Std / variance     | `np.std(a)`            |\n",
    "| `np.min()` / `np.max()`             | Min / max          | `np.max(a, axis=1)`    |\n",
    "| `np.argmin()` / `np.argmax()`       | Indices of min/max | `np.argmax(a, axis=1)` |\n",
    "| `np.percentile()` / `np.quantile()` | Quantiles          | `np.percentile(a, 90)` |\n",
    "\n",
    "---\n",
    "\n",
    "# 🚀 5️⃣ Arithmetic operations & broadcasting\n",
    "\n",
    "✅ NumPy does **element-wise operations** by default.\n",
    "\n",
    "| Example      | Explanation              |\n",
    "| ------------ | ------------------------ |\n",
    "| `a + b`      | Adds arrays element-wise |\n",
    "| `a * 2`      | Scales each element      |\n",
    "| `np.sqrt(a)` | Square root              |\n",
    "| `np.exp(a)`  | Exponential              |\n",
    "| `np.log(a)`  | Natural log              |\n",
    "| `np.abs(a)`  | Absolute value           |\n",
    "| Broadcasting | `a + 3`, `a + [1,2,3]`   |\n",
    "\n",
    "---\n",
    "\n",
    "# 🚀 6️⃣ Linear algebra (matrix math)\n",
    "\n",
    "| Function           | What it does             | Example             |\n",
    "| ------------------ | ------------------------ | ------------------- |\n",
    "| `np.dot()` or `@`  | Matrix multiplication    | `a @ b`             |\n",
    "| `np.matmul()`      | Matrix multiplication    | `np.matmul(a, b)`   |\n",
    "| `np.linalg.inv()`  | Inverse                  | `np.linalg.inv(A)`  |\n",
    "| `np.linalg.det()`  | Determinant              | `np.linalg.det(A)`  |\n",
    "| `np.linalg.eig()`  | Eigenvalues/vectors      | `np.linalg.eig(A)`  |\n",
    "| `np.linalg.svd()`  | Singular value decompos. | `np.linalg.svd(A)`  |\n",
    "| `np.linalg.qr()`   | QR decomposition         | `np.linalg.qr(A)`   |\n",
    "| `np.linalg.norm()` | Norm                     | `np.linalg.norm(a)` |\n",
    "\n",
    "---\n",
    "\n",
    "# 🚀 7️⃣ Random sampling & distributions\n",
    "\n",
    "| Function                  | What it does                 | Example                         |\n",
    "| ------------------------- | ---------------------------- | ------------------------------- |\n",
    "| `np.random.seed()`        | Set seed for reproducibility | `np.random.seed(42)`            |\n",
    "| `np.random.rand()`        | Uniform \\[0,1)               | `np.random.rand(3,4)`           |\n",
    "| `np.random.randn()`       | Standard normal              | `np.random.randn(1000)`         |\n",
    "| `np.random.randint()`     | Random ints                  | `np.random.randint(0,10,(5,5))` |\n",
    "| `np.random.choice()`      | Random sample                | `np.random.choice([1,2,3], 5)`  |\n",
    "| `np.random.permutation()` | Shuffle                      | `np.random.permutation(10)`     |\n",
    "\n",
    "---\n",
    "\n",
    "# 🚀 8️⃣ Saving & loading data\n",
    "\n",
    "| Function       | What it does       | Example                                    |\n",
    "| -------------- | ------------------ | ------------------------------------------ |\n",
    "| `np.save()`    | Save to `.npy`     | `np.save('array.npy', a)`                  |\n",
    "| `np.load()`    | Load `.npy` file   | `b = np.load('array.npy')`                 |\n",
    "| `np.savetxt()` | Save to text/csv   | `np.savetxt('file.csv', a, delimiter=',')` |\n",
    "| `np.loadtxt()` | Load from text/csv | `np.loadtxt('file.csv', delimiter=',')`    |\n",
    "\n",
    "---\n",
    "\n",
    "# 🚀 9️⃣ Utilities & checks\n",
    "\n",
    "| Function                     | What it does    | Example            |\n",
    "| ---------------------------- | --------------- | ------------------ |\n",
    "| `np.unique()`                | Unique elements | `np.unique(a)`     |\n",
    "| `np.sort()` / `np.argsort()` | Sort / indices  | `np.sort(a)`       |\n",
    "| `np.isnan()`                 | Check NaNs      | `np.isnan(a)`      |\n",
    "| `np.isfinite()`              | Check finite    | `np.isfinite(a)`   |\n",
    "| `np.clip()`                  | Clip to bounds  | `np.clip(a, 0, 1)` |\n",
    "\n",
    "---\n",
    "\n",
    "# 🚀 10️⃣ Broadcasting mechanics\n",
    "\n",
    "✅ Understand how arrays automatically stretch in shape:\n"
   ]
  },
  {
   "cell_type": "markdown",
   "id": "de9004a3",
   "metadata": {},
   "source": [
    "\n",
    "```python\n",
    "a = np.array([[1], [2], [3]])  # shape (3,1)\n",
    "b = np.array([10, 20, 30])     # shape (3,)\n",
    "c = a + b                      # shape (3,3)\n",
    "```\n"
   ]
  },
  {
   "cell_type": "markdown",
   "id": "01509f2b",
   "metadata": {},
   "source": [
    "\n",
    "---\n",
    "\n",
    "# ⚡ Quick cheatsheet summary\n"
   ]
  },
  {
   "cell_type": "code",
   "execution_count": 47,
   "id": "1678f4b4",
   "metadata": {},
   "outputs": [
    {
     "name": "stdout",
     "output_type": "stream",
     "text": [
      "c = a + b:\n",
      " [[11 21 31]\n",
      " [12 22 32]\n",
      " [13 23 33]]\n",
      "Zeros:\n",
      " [[0. 0. 0.]\n",
      " [0. 0. 0.]]\n",
      "Ones: [1. 1. 1. 1.]\n",
      "Eye:\n",
      " [[1. 0. 0.]\n",
      " [0. 1. 0.]\n",
      " [0. 0. 1.]]\n",
      "Arange: [0 1 2 3 4 5 6 7 8 9]\n",
      "Linspace: [0.   0.25 0.5  0.75 1.  ]\n",
      "Mean: 2.0\n",
      "Std: 0.816496580927726\n",
      "Var: 0.6666666666666666\n",
      "Sum: 6\n",
      "Median: 2.0\n",
      "Reshape (using tile to match size):\n",
      " [[1 1]\n",
      " [2 2]\n",
      " [3 3]]\n",
      "Flatten: [1 2 3]\n",
      "Transpose:\n",
      " [[1 2 3]]\n",
      "Element a[1,0]: 2\n",
      "Slice a[1:3, :]:\n",
      " [[2]\n",
      " [3]]\n",
      "Mask a[a>0]: [1 2 3]\n",
      "Dot product: 140\n",
      "Inverse:\n",
      " [[ 4. -1.]\n",
      " [-7.  2.]]\n",
      "SVD: SVDResult(U=array([[-0.26693358, -0.96371493],\n",
      "       [-0.96371493,  0.26693358]]), S=array([8.36574631, 0.11953506]), Vh=array([[-0.87019991, -0.49269881],\n",
      "       [-0.49269881,  0.87019991]]))\n",
      "Random normal:\n",
      " [[ 0.04637488  1.36795714  2.64890593  0.69911548]\n",
      " [ 0.77163968 -0.45638308  0.17692049  0.08363571]\n",
      " [-1.16523384 -0.23382105  0.57953308  0.39261839]]\n",
      "Random int: [6 4 2 0 5]\n",
      "Loaded from file.npy:\n",
      " [[1]\n",
      " [2]\n",
      " [3]]\n"
     ]
    }
   ],
   "source": [
    "import numpy as np\n",
    "\n",
    "# Arrays\n",
    "a = np.array([[1], [2], [3]])\n",
    "b = np.array([10, 20, 30])\n",
    "c = a + b\n",
    "\n",
    "print(\"c = a + b:\\n\", c)\n",
    "\n",
    "# Creation\n",
    "print(\"Zeros:\\n\", np.zeros((2,3)))\n",
    "print(\"Ones:\", np.ones(4))\n",
    "print(\"Eye:\\n\", np.eye(3))\n",
    "print(\"Arange:\", np.arange(10))\n",
    "print(\"Linspace:\", np.linspace(0,1,5))\n",
    "\n",
    "# Stats\n",
    "print(\"Mean:\", np.mean(a))\n",
    "print(\"Std:\", np.std(a))\n",
    "print(\"Var:\", np.var(a))\n",
    "print(\"Sum:\", np.sum(a))\n",
    "print(\"Median:\", np.median(a))\n",
    "\n",
    "# Shape operations\n",
    "print(\"Reshape (using tile to match size):\\n\", np.tile(a, (1,2)))  # example\n",
    "print(\"Flatten:\", a.flatten())\n",
    "print(\"Transpose:\\n\", a.T)\n",
    "\n",
    "# Indexing\n",
    "print(\"Element a[1,0]:\", a[1,0])\n",
    "print(\"Slice a[1:3, :]:\\n\", a[1:3, :])\n",
    "print(\"Mask a[a>0]:\", a[a>0])\n",
    "\n",
    "# Linalg\n",
    "A = np.array([[2,1],[7,4]])  # ensure square for inv\n",
    "print(\"Dot product:\", np.dot(a.flatten(), b))\n",
    "print(\"Inverse:\\n\", np.linalg.inv(A))\n",
    "print(\"SVD:\", np.linalg.svd(A))\n",
    "\n",
    "# Random\n",
    "print(\"Random normal:\\n\", np.random.randn(3,4))\n",
    "print(\"Random int:\", np.random.randint(0,10,5))\n",
    "\n",
    "# Save and Load\n",
    "np.save('file.npy', a)\n",
    "loaded = np.load('file.npy')\n",
    "print(\"Loaded from file.npy:\\n\", loaded)\n"
   ]
  },
  {
   "cell_type": "markdown",
   "id": "48171db7",
   "metadata": {},
   "source": [
    "✅ Absolutely!\n",
    "That’s a **fantastic idea** — many data scientists stop at the basics, but mastering **intermediate & advanced NumPy APIs** makes you **faster, more memory-efficient, and ready for big data problems**.\n",
    "\n",
    "---\n",
    "\n",
    "## 🚀 Let's go beyond basics:\n",
    "\n",
    "I’ll divide this into:\n",
    "\n",
    "```\n",
    "1️⃣ Intermediate APIs (for power array manipulations)\n",
    "2️⃣ Advanced APIs (for performance, broadcasting tricks, memory, and advanced linear algebra)\n",
    "```\n",
    "\n",
    "With **short examples** for each.\n",
    "\n",
    "---\n",
    "\n",
    "# 🚀 1️⃣ Intermediate NumPy APIs\n",
    "\n",
    "---\n",
    "\n",
    "## 📌 a) `np.where`\n",
    "\n",
    "Conditional element selection.\n"
   ]
  },
  {
   "cell_type": "code",
   "execution_count": 48,
   "id": "d82d52a9",
   "metadata": {},
   "outputs": [
    {
     "data": {
      "text/plain": [
       "array([ 0,  0, 10, 10])"
      ]
     },
     "execution_count": 48,
     "metadata": {},
     "output_type": "execute_result"
    }
   ],
   "source": [
    "a = np.array([1, 2, 3, 4])\n",
    "np.where(a > 2, 10, 0)  # => [0, 0, 10, 10]"
   ]
  },
  {
   "cell_type": "markdown",
   "id": "078d25f3",
   "metadata": {},
   "source": [
    "\n",
    "---\n",
    "\n",
    "## 📌 b) `np.meshgrid`\n",
    "\n",
    "Create coordinate grids (used for contour plots, 3D surfaces, etc).\n",
    "\n"
   ]
  },
  {
   "cell_type": "code",
   "execution_count": 49,
   "id": "668dca62",
   "metadata": {},
   "outputs": [
    {
     "name": "stdout",
     "output_type": "stream",
     "text": [
      "[[0.   0.25 0.5  0.75 1.  ]\n",
      " [0.   0.25 0.5  0.75 1.  ]\n",
      " [0.   0.25 0.5  0.75 1.  ]] and [0.  0.5 1. ]\n"
     ]
    }
   ],
   "source": [
    "x = np.linspace(0,1,5)\n",
    "y = np.linspace(0,1,3)\n",
    "X, Y = np.meshgrid(x, y)\n",
    "print(X,'and',y)"
   ]
  },
  {
   "cell_type": "markdown",
   "id": "a7833dbd",
   "metadata": {},
   "source": [
    "\n",
    "---\n",
    "\n",
    "## 📌 c) `np.tile` and `np.repeat`\n",
    "\n",
    "Repeat arrays in patterns.\n",
    "\n"
   ]
  },
  {
   "cell_type": "code",
   "execution_count": 50,
   "id": "e38be6e1",
   "metadata": {},
   "outputs": [
    {
     "data": {
      "text/plain": [
       "array([1, 1, 1, 2, 2, 2])"
      ]
     },
     "execution_count": 50,
     "metadata": {},
     "output_type": "execute_result"
    }
   ],
   "source": [
    "np.tile([1,2], 3)      # [1 2 1 2 1 2]\n",
    "np.repeat([1,2], 3)    # [1 1 1 2 2 2]"
   ]
  },
  {
   "cell_type": "markdown",
   "id": "87e18b83",
   "metadata": {},
   "source": [
    "\n",
    "\n",
    "---\n",
    "\n",
    "## 📌 d) `np.argsort` and `np.argpartition`\n",
    "\n",
    "For partial sorting (fast).\n",
    "\n"
   ]
  },
  {
   "cell_type": "code",
   "execution_count": 51,
   "id": "7940c437",
   "metadata": {},
   "outputs": [
    {
     "data": {
      "text/plain": [
       "array([3, 1, 2, 0])"
      ]
     },
     "execution_count": 51,
     "metadata": {},
     "output_type": "execute_result"
    }
   ],
   "source": [
    "a = np.array([9, 3, 7, 1])\n",
    "np.argsort(a)         # full sort indices\n",
    "np.argpartition(a, 2) # indices with element at 2nd position sorted, rest unordered\n"
   ]
  },
  {
   "cell_type": "markdown",
   "id": "3d74a4c9",
   "metadata": {},
   "source": [
    "\n",
    "---\n",
    "\n",
    "## 📌 e) `np.diff` and `np.gradient`\n",
    "\n",
    "Useful for time series or signals.\n",
    "\n"
   ]
  },
  {
   "cell_type": "code",
   "execution_count": 52,
   "id": "b709a601",
   "metadata": {},
   "outputs": [
    {
     "data": {
      "text/plain": [
       "array([2. , 2.5, 3.5, 4. ])"
      ]
     },
     "execution_count": 52,
     "metadata": {},
     "output_type": "execute_result"
    }
   ],
   "source": [
    "np.diff([1,3,6,10])    # differences: [2 3 4]\n",
    "np.gradient([1,3,6,10]) # approximate derivative\n"
   ]
  },
  {
   "cell_type": "markdown",
   "id": "928e14ce",
   "metadata": {},
   "source": [
    "\n",
    "\n",
    "---\n",
    "\n",
    "## 📌 f) `np.histogram` (for binning data)\n"
   ]
  },
  {
   "cell_type": "code",
   "execution_count": 53,
   "id": "96001877",
   "metadata": {},
   "outputs": [],
   "source": [
    "data = np.random.randn(1000)\n",
    "counts, bins = np.histogram(data, bins=10)\n"
   ]
  },
  {
   "cell_type": "markdown",
   "id": "6e6b6d9a",
   "metadata": {},
   "source": [
    "\n",
    "\n",
    "---\n",
    "\n",
    "## 📌 g) `np.bincount`\n",
    "\n",
    "Count frequency of integers (super fast histogram for integer labels).\n",
    "\n"
   ]
  },
  {
   "cell_type": "code",
   "execution_count": 54,
   "id": "0bf5814c",
   "metadata": {},
   "outputs": [
    {
     "data": {
      "text/plain": [
       "array([0, 1, 2, 3])"
      ]
     },
     "execution_count": 54,
     "metadata": {},
     "output_type": "execute_result"
    }
   ],
   "source": [
    "labels = np.array([1,2,2,3,3,3])\n",
    "np.bincount(labels)  # => [0,1,2,3]\n"
   ]
  },
  {
   "cell_type": "markdown",
   "id": "a2fc15a5",
   "metadata": {},
   "source": [
    "\n",
    "\n",
    "---\n",
    "\n",
    "## 📌 h) `np.cumsum`, `np.cumprod`\n",
    "\n",
    "Cumulative operations.\n",
    "\n"
   ]
  },
  {
   "cell_type": "code",
   "execution_count": 55,
   "id": "03d810fc",
   "metadata": {},
   "outputs": [
    {
     "data": {
      "text/plain": [
       "array([1, 2, 6])"
      ]
     },
     "execution_count": 55,
     "metadata": {},
     "output_type": "execute_result"
    }
   ],
   "source": [
    "np.cumsum([1,2,3])  # [1,3,6]\n",
    "np.cumprod([1,2,3]) # [1,2,6]\n"
   ]
  },
  {
   "cell_type": "markdown",
   "id": "cd8f7639",
   "metadata": {},
   "source": [
    "\n",
    "\n",
    "---\n",
    "\n",
    "## 📌 i) `np.unique` with `return_counts`\n"
   ]
  },
  {
   "cell_type": "code",
   "execution_count": 56,
   "id": "d3f374b3",
   "metadata": {},
   "outputs": [
    {
     "data": {
      "text/plain": [
       "(array([1, 2, 3]), array([1, 2, 3]))"
      ]
     },
     "execution_count": 56,
     "metadata": {},
     "output_type": "execute_result"
    }
   ],
   "source": [
    "\n",
    "arr = np.array([1,2,2,3,3,3])\n",
    "np.unique(arr, return_counts=True)  # (array([1,2,3]), array([1,2,3]))\n",
    "\n"
   ]
  },
  {
   "cell_type": "markdown",
   "id": "ee5aa5cc",
   "metadata": {},
   "source": [
    "\n",
    "---\n",
    "\n",
    "## 📌 j) `np.insert`, `np.delete`\n",
    "\n",
    "Manipulate contents by position.\n",
    "\n"
   ]
  },
  {
   "cell_type": "code",
   "execution_count": 57,
   "id": "eef11bb4",
   "metadata": {},
   "outputs": [
    {
     "data": {
      "text/plain": [
       "array([1, 3])"
      ]
     },
     "execution_count": 57,
     "metadata": {},
     "output_type": "execute_result"
    }
   ],
   "source": [
    "\n",
    "a = np.array([1,2,3])\n",
    "np.insert(a, 1, 10)  # [1,10,2,3]\n",
    "np.delete(a, 1)      # [1,3]\n"
   ]
  },
  {
   "cell_type": "markdown",
   "id": "6888e936",
   "metadata": {},
   "source": [
    "\n",
    "\n",
    "---\n",
    "\n",
    "# 🚀 2️⃣ Advanced NumPy APIs\n",
    "\n",
    "---\n",
    "\n",
    "## 📌 a) Memory-efficient: `np.view` and `np.copy`\n",
    "\n"
   ]
  },
  {
   "cell_type": "code",
   "execution_count": 58,
   "id": "05341d8e",
   "metadata": {},
   "outputs": [],
   "source": [
    "\n",
    "a = np.arange(6).reshape(2,3)\n",
    "b = a.view()\n",
    "b[0,0] = 99\n",
    "# changes 'a' as well because it's a view\n"
   ]
  },
  {
   "cell_type": "markdown",
   "id": "84e1431e",
   "metadata": {},
   "source": [
    "\n",
    "\n",
    "Use `b = a.copy()` for independent data.\n",
    "\n",
    "---\n",
    "\n",
    "## 📌 b) `np.einsum`\n",
    "\n",
    "Einstein summation — extremely powerful.\n",
    "\n",
    "Examples:\n",
    "\n"
   ]
  },
  {
   "cell_type": "code",
   "execution_count": 59,
   "id": "d98f2272",
   "metadata": {},
   "outputs": [
    {
     "data": {
      "text/plain": [
       "np.int64(12)"
      ]
     },
     "execution_count": 59,
     "metadata": {},
     "output_type": "execute_result"
    }
   ],
   "source": [
    "\n",
    "a = np.array([1,2,3])\n",
    "b = np.array([0,1,0])\n",
    "np.einsum('i,i->', a, b)  # dot product\n",
    "\n",
    "M = np.arange(9).reshape(3,3)\n",
    "np.einsum('ii->', M)      # trace (sum of diagonals)\n"
   ]
  },
  {
   "cell_type": "markdown",
   "id": "63fab8ba",
   "metadata": {},
   "source": [
    "\n",
    "\n",
    "This can also replace `np.dot`, `np.outer`, etc — very compact.\n",
    "\n",
    "---\n",
    "\n",
    "## 📌 c) Broadcasting with `np.newaxis`\n",
    "\n"
   ]
  },
  {
   "cell_type": "code",
   "execution_count": 60,
   "id": "094591e6",
   "metadata": {},
   "outputs": [],
   "source": [
    "\n",
    "a = np.array([1,2,3])       # shape (3,)\n",
    "b = a[:, np.newaxis]         # shape (3,1)\n",
    "c = a + b                    # shape (3,3)\n"
   ]
  },
  {
   "cell_type": "markdown",
   "id": "8ef60f9f",
   "metadata": {},
   "source": [
    "\n",
    "\n",
    "---\n",
    "\n",
    "## 📌 d) Masked arrays: `np.ma`\n",
    "\n",
    "Handle missing data elegantly.\n"
   ]
  },
  {
   "cell_type": "code",
   "execution_count": 61,
   "id": "a191b7f1",
   "metadata": {},
   "outputs": [
    {
     "data": {
      "text/plain": [
       "np.float64(2.0)"
      ]
     },
     "execution_count": 61,
     "metadata": {},
     "output_type": "execute_result"
    }
   ],
   "source": [
    "import numpy.ma as ma\n",
    "data = ma.array([1,2,3,-1], mask=[0,0,0,1])\n",
    "data.mean()  # ignores masked (-1)\n"
   ]
  },
  {
   "cell_type": "markdown",
   "id": "027c7e36",
   "metadata": {},
   "source": [
    "\n",
    "---\n",
    "\n",
    "## 📌 e) `np.vectorize` for quick ufunc-like operations\n",
    "\n"
   ]
  },
  {
   "cell_type": "code",
   "execution_count": 62,
   "id": "d177d3c0",
   "metadata": {},
   "outputs": [
    {
     "data": {
      "text/plain": [
       "array([0, 0, 0, 1, 4])"
      ]
     },
     "execution_count": 62,
     "metadata": {},
     "output_type": "execute_result"
    }
   ],
   "source": [
    "def myfunc(x):\n",
    "    return x ** 2 if x > 0 else 0\n",
    "\n",
    "vfunc = np.vectorize(myfunc)\n",
    "vfunc(np.array([-2, -1, 0, 1, 2]))  # [0,0,0,1,4]\n"
   ]
  },
  {
   "cell_type": "markdown",
   "id": "46fbd3fe",
   "metadata": {},
   "source": [
    "\n",
    "\n",
    "---\n",
    "\n",
    "## 📌 f) Advanced linear algebra (`np.linalg`)\n",
    "\n"
   ]
  },
  {
   "cell_type": "code",
   "execution_count": 63,
   "id": "81de6956",
   "metadata": {},
   "outputs": [],
   "source": [
    "B = np.random.randn(3,3)\n",
    "C = np.dot(B.T, B)\n"
   ]
  },
  {
   "cell_type": "code",
   "execution_count": 64,
   "id": "f1a5c6e2",
   "metadata": {},
   "outputs": [
    {
     "name": "stdout",
     "output_type": "stream",
     "text": [
      "[[2 1]\n",
      " [7 4]]\n",
      "2\n",
      "[[  2.  22.]\n",
      " [ -1. -38.]]\n",
      "[[ 1.23092929  0.          0.        ]\n",
      " [ 0.29803684  0.47225053  0.        ]\n",
      " [ 0.83441875 -1.0322321   0.17886883]]\n",
      "EighResult(eigenvalues=array([-4.07106781, 10.07106781]), eigenvectors=array([[-0.75545395,  0.65520174],\n",
      "       [ 0.65520174,  0.75545395]]))\n",
      "[[2 1]\n",
      " [7 4]]\n"
     ]
    }
   ],
   "source": [
    "b = np.array([10, 20, 30])\n",
    "A = np.array([[2,1], [7,4]])\n",
    "b = np.array([[3,6], [10,2]])\n",
    "\n",
    "print(A)\n",
    "print(np.linalg.matrix_rank(A))    # matrix rank\n",
    "print(np.linalg.solve(A, b))       # solve Ax = b\n",
    "print(np.linalg.cholesky(C))       # Cholesky decomposition\n",
    "print(np.linalg.eigh(A))          # symmetric matrix eigen\n",
    "\n",
    "print(A)\n",
    "# print(b)\n"
   ]
  },
  {
   "cell_type": "code",
   "execution_count": 65,
   "id": "3632c7ed",
   "metadata": {},
   "outputs": [],
   "source": [
    "A = np.array([[2,1],[1,2]])  # symmetric and positive definite\n",
    "B = np.random.randn(3,3)\n",
    "A = np.dot(B.T, B)  # s"
   ]
  },
  {
   "cell_type": "markdown",
   "id": "067d4148",
   "metadata": {},
   "source": [
    "\n",
    "\n",
    "---\n",
    "\n",
    "## 📌 g) `np.pad` for convolution prep or image borders\n",
    "\n"
   ]
  },
  {
   "cell_type": "code",
   "execution_count": 66,
   "id": "6003ae5a",
   "metadata": {},
   "outputs": [
    {
     "data": {
      "text/plain": [
       "array([[0, 0, 0, 0],\n",
       "       [0, 1, 2, 0],\n",
       "       [0, 3, 4, 0],\n",
       "       [0, 0, 0, 0]])"
      ]
     },
     "execution_count": 66,
     "metadata": {},
     "output_type": "execute_result"
    }
   ],
   "source": [
    "a = np.array([[1,2],[3,4]])\n",
    "np.pad(a, pad_width=1, mode='constant', constant_values=0)\n"
   ]
  },
  {
   "cell_type": "markdown",
   "id": "ddadacaa",
   "metadata": {},
   "source": [
    "\n",
    "\n",
    "---\n",
    "\n",
    "## 📌 h) Structured arrays & recarrays (like DataFrame-lite)\n"
   ]
  },
  {
   "cell_type": "code",
   "execution_count": 67,
   "id": "ca3abd69",
   "metadata": {},
   "outputs": [
    {
     "data": {
      "text/plain": [
       "array([25, 30], dtype=int32)"
      ]
     },
     "execution_count": 67,
     "metadata": {},
     "output_type": "execute_result"
    }
   ],
   "source": [
    "dt = np.dtype([('name', 'S10'), ('age', 'i4')])\n",
    "x = np.array([('Alice', 25), ('Bob', 30)], dtype=dt)\n",
    "x['age']\n",
    "\n"
   ]
  },
  {
   "cell_type": "markdown",
   "id": "93cda6cf",
   "metadata": {},
   "source": [
    "\n",
    "---\n",
    "\n",
    "## 📌 i) `np.memmap` for huge files (won’t load full into RAM)\n"
   ]
  },
  {
   "cell_type": "code",
   "execution_count": 68,
   "id": "633f88c9",
   "metadata": {},
   "outputs": [
    {
     "ename": "OSError",
     "evalue": "[Errno 22] Invalid argument: 'bigdata.dat'",
     "output_type": "error",
     "traceback": [
      "\u001b[31m---------------------------------------------------------------------------\u001b[39m",
      "\u001b[31mOSError\u001b[39m                                   Traceback (most recent call last)",
      "\u001b[36mCell\u001b[39m\u001b[36m \u001b[39m\u001b[32mIn[68]\u001b[39m\u001b[32m, line 1\u001b[39m\n\u001b[32m----> \u001b[39m\u001b[32m1\u001b[39m fp = \u001b[43mnp\u001b[49m\u001b[43m.\u001b[49m\u001b[43mmemmap\u001b[49m\u001b[43m(\u001b[49m\u001b[33;43m'\u001b[39;49m\u001b[33;43mbigdata.dat\u001b[39;49m\u001b[33;43m'\u001b[39;49m\u001b[43m,\u001b[49m\u001b[43m \u001b[49m\u001b[43mdtype\u001b[49m\u001b[43m=\u001b[49m\u001b[33;43m'\u001b[39;49m\u001b[33;43mfloat32\u001b[39;49m\u001b[33;43m'\u001b[39;49m\u001b[43m,\u001b[49m\u001b[43m \u001b[49m\u001b[43mmode\u001b[49m\u001b[43m=\u001b[49m\u001b[33;43m'\u001b[39;49m\u001b[33;43mw+\u001b[39;49m\u001b[33;43m'\u001b[39;49m\u001b[43m,\u001b[49m\u001b[43m \u001b[49m\u001b[43mshape\u001b[49m\u001b[43m=\u001b[49m\u001b[43m(\u001b[49m\u001b[32;43m10000\u001b[39;49m\u001b[43m,\u001b[49m\u001b[32;43m10000\u001b[39;49m\u001b[43m)\u001b[49m\u001b[43m)\u001b[49m\n\u001b[32m      2\u001b[39m fp[\u001b[32m0\u001b[39m,\u001b[32m0\u001b[39m] = \u001b[32m42\u001b[39m\n",
      "\u001b[36mFile \u001b[39m\u001b[32mc:\\Users\\sangouda\\AppData\\Local\\Programs\\Python\\Python313\\Lib\\site-packages\\numpy\\_core\\memmap.py:236\u001b[39m, in \u001b[36mmemmap.__new__\u001b[39m\u001b[34m(subtype, filename, dtype, mode, offset, shape, order)\u001b[39m\n\u001b[32m    234\u001b[39m     f_ctx = nullcontext(filename)\n\u001b[32m    235\u001b[39m \u001b[38;5;28;01melse\u001b[39;00m:\n\u001b[32m--> \u001b[39m\u001b[32m236\u001b[39m     f_ctx = \u001b[38;5;28;43mopen\u001b[39;49m\u001b[43m(\u001b[49m\n\u001b[32m    237\u001b[39m \u001b[43m        \u001b[49m\u001b[43mos\u001b[49m\u001b[43m.\u001b[49m\u001b[43mfspath\u001b[49m\u001b[43m(\u001b[49m\u001b[43mfilename\u001b[49m\u001b[43m)\u001b[49m\u001b[43m,\u001b[49m\n\u001b[32m    238\u001b[39m \u001b[43m        \u001b[49m\u001b[43m(\u001b[49m\u001b[33;43m'\u001b[39;49m\u001b[33;43mr\u001b[39;49m\u001b[33;43m'\u001b[39;49m\u001b[43m \u001b[49m\u001b[38;5;28;43;01mif\u001b[39;49;00m\u001b[43m \u001b[49m\u001b[43mmode\u001b[49m\u001b[43m \u001b[49m\u001b[43m==\u001b[49m\u001b[43m \u001b[49m\u001b[33;43m'\u001b[39;49m\u001b[33;43mc\u001b[39;49m\u001b[33;43m'\u001b[39;49m\u001b[43m \u001b[49m\u001b[38;5;28;43;01melse\u001b[39;49;00m\u001b[43m \u001b[49m\u001b[43mmode\u001b[49m\u001b[43m)\u001b[49m\u001b[43m \u001b[49m\u001b[43m+\u001b[49m\u001b[43m \u001b[49m\u001b[33;43m'\u001b[39;49m\u001b[33;43mb\u001b[39;49m\u001b[33;43m'\u001b[39;49m\n\u001b[32m    239\u001b[39m \u001b[43m    \u001b[49m\u001b[43m)\u001b[49m\n\u001b[32m    241\u001b[39m \u001b[38;5;28;01mwith\u001b[39;00m f_ctx \u001b[38;5;28;01mas\u001b[39;00m fid:\n\u001b[32m    242\u001b[39m     fid.seek(\u001b[32m0\u001b[39m, \u001b[32m2\u001b[39m)\n",
      "\u001b[31mOSError\u001b[39m: [Errno 22] Invalid argument: 'bigdata.dat'"
     ]
    }
   ],
   "source": [
    "fp = np.memmap('bigdata.dat', dtype='float32', mode='w+', shape=(10000,10000))\n",
    "fp[0,0] = 42\n"
   ]
  },
  {
   "cell_type": "markdown",
   "id": "0b768b60",
   "metadata": {},
   "source": [
    "\n",
    "---\n",
    "\n",
    "\n",
    "# 🚀 🚀 Summary table: Intermediate & Advanced\n",
    "\n",
    "| API                                | Purpose                        |\n",
    "| ---------------------------------- | ------------------------------ |\n",
    "| `np.where`, `np.select`            | Conditional array ops          |\n",
    "| `np.meshgrid`, `np.mgrid`          | Grids for plots, vector fields |\n",
    "| `np.tile`, `np.repeat`             | Repeat patterns                |\n",
    "| `np.diff`, `np.gradient`           | Derivative & changes           |\n",
    "| `np.histogram`, `np.bincount`      | Frequency analysis             |\n",
    "| `np.cumsum`, `np.cumprod`          | Running totals                 |\n",
    "| `np.insert`, `np.delete`           | Insert/delete by index         |\n",
    "| `np.view`, `np.copy`               | Memory management              |\n",
    "| `np.einsum`                        | Compact tensor operations      |\n",
    "| `np.newaxis` / `[..., np.newaxis]` | Smart broadcasting             |\n",
    "| `np.vectorize`                     | Apply python funcs over arrays |\n",
    "| `np.linalg.svd`, `solve`, `eigh`   | Advanced algebra               |\n",
    "| `np.ma`                            | Handle missing data            |\n",
    "| `np.pad`                           | Convolution/image prep         |\n",
    "| `np.memmap`                        | Out-of-core arrays             |\n",
    "\n",
    "---\n",
    "\n",
    "✅ ✅ **Done!**\n",
    "\n",
    "If you want, I can generate:\n",
    "\n",
    "* 🚀 A **single cheat sheet notebook** demonstrating **ALL these with short examples**.\n",
    "* Or a **PDF summary**.\n",
    "\n",
    "👉 Just tell me:\n",
    "\n",
    "> **“Yes, give me the complete notebook!”**\n",
    "> and I’ll prepare it for you. 🚀\n"
   ]
  },
  {
   "cell_type": "markdown",
   "id": "c6ded542",
   "metadata": {},
   "source": []
  }
 ],
 "metadata": {
  "kernelspec": {
   "display_name": "Python 3 (ipykernel)",
   "language": "python",
   "name": "python3"
  },
  "language_info": {
   "codemirror_mode": {
    "name": "ipython",
    "version": 3
   },
   "file_extension": ".py",
   "mimetype": "text/x-python",
   "name": "python",
   "nbconvert_exporter": "python",
   "pygments_lexer": "ipython3",
   "version": "3.12.7"
  }
 },
 "nbformat": 4,
 "nbformat_minor": 5
}
