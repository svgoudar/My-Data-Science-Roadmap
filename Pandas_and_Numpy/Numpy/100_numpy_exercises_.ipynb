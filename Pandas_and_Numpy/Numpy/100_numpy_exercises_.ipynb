{
  "metadata": {
    "kernelspec": {
      "display_name": "Python 3",
      "language": "python",
      "name": "python3"
    },
    "language_info": {
      "name": "python",
      "version": "3.6.6",
      "mimetype": "text/x-python",
      "codemirror_mode": {
        "name": "ipython",
        "version": 3
      },
      "pygments_lexer": "ipython3",
      "nbconvert_exporter": "python",
      "file_extension": ".py"
    },
    "kaggle": {
      "accelerator": "none",
      "dataSources": [],
      "dockerImageVersionId": 18195,
      "isInternetEnabled": false,
      "language": "python",
      "sourceType": "notebook",
      "isGpuEnabled": false
    },
    "colab": {
      "provenance": [],
      "include_colab_link": true
    }
  },
  "nbformat_minor": 0,
  "nbformat": 4,
  "cells": [
    {
      "cell_type": "markdown",
      "metadata": {
        "id": "view-in-github",
        "colab_type": "text"
      },
      "source": [
        "<a href=\"https://colab.research.google.com/github/svgoudar/My-Data-Science-Roadmap/blob/main/Pandas_and_Numpy/Numpy/100_numpy_exercises_.ipynb\" target=\"_parent\"><img src=\"https://colab.research.google.com/assets/colab-badge.svg\" alt=\"Open In Colab\"/></a>"
      ]
    },
    {
      "cell_type": "markdown",
      "source": [
        "# 100 numpy exercises\n",
        "\n",
        "This is a collection of exercises that have been collected in the numpy mailing list, on stack overflow and in the numpy documentation. The goal of this collection is to offer a quick reference for both old and new users but also to provide a set of exercises for those who teach.\n",
        "\n",
        "\n",
        "If you find an error or think you've a better way to solve some of them, feel free to open an issue at <https://github.com/rougier/numpy-100>"
      ],
      "metadata": {
        "_uuid": "7dac2651304bbdd274a99291c17f3be1e84c222b",
        "id": "0RufEI924hmr"
      }
    },
    {
      "cell_type": "markdown",
      "source": [
        "#### 1. Import the numpy package under the name `np` (★☆☆)"
      ],
      "metadata": {
        "_uuid": "bf7265d79ded8d1b32c6ac6cf2ba89d6eba96461",
        "id": "6AHomAio4hmt"
      }
    },
    {
      "cell_type": "code",
      "source": [
        "import numpy as np"
      ],
      "metadata": {
        "trusted": true,
        "_uuid": "1f42e0ab79d92a23b119e23ab8dda63393447466",
        "execution": {
          "iopub.status.busy": "2025-07-20T17:48:26.388863Z",
          "iopub.execute_input": "2025-07-20T17:48:26.389194Z",
          "iopub.status.idle": "2025-07-20T17:48:26.426513Z",
          "shell.execute_reply.started": "2025-07-20T17:48:26.38913Z",
          "shell.execute_reply": "2025-07-20T17:48:26.424717Z"
        },
        "id": "OqQ4s2Xv4hmu"
      },
      "outputs": [],
      "execution_count": 32
    },
    {
      "cell_type": "markdown",
      "source": [
        "#### 2. Print the numpy version and the configuration (★☆☆)"
      ],
      "metadata": {
        "_uuid": "2a9c567c3500905ffd716f33d72f2ce455931c6b",
        "id": "CWVa51y14hmv"
      }
    },
    {
      "cell_type": "code",
      "source": [
        "print(np.__version__)\n",
        "np.show_config()"
      ],
      "metadata": {
        "trusted": true,
        "_uuid": "f92ca9022729c7247a92da557f1898051c1bf21d",
        "execution": {
          "iopub.status.busy": "2025-07-20T17:48:26.428853Z",
          "iopub.execute_input": "2025-07-20T17:48:26.429259Z",
          "iopub.status.idle": "2025-07-20T17:48:26.437557Z",
          "shell.execute_reply.started": "2025-07-20T17:48:26.4292Z",
          "shell.execute_reply": "2025-07-20T17:48:26.436212Z"
        },
        "id": "F3TBUsVg4hmw",
        "outputId": "a13ba4d3-5243-4b55-fe02-c43480f69503",
        "colab": {
          "base_uri": "https://localhost:8080/"
        }
      },
      "outputs": [
        {
          "output_type": "stream",
          "name": "stdout",
          "text": [
            "2.0.2\n",
            "Build Dependencies:\n",
            "  blas:\n",
            "    detection method: pkgconfig\n",
            "    found: true\n",
            "    include directory: /opt/_internal/cpython-3.11.8/lib/python3.11/site-packages/scipy_openblas64/include\n",
            "    lib directory: /opt/_internal/cpython-3.11.8/lib/python3.11/site-packages/scipy_openblas64/lib\n",
            "    name: scipy-openblas\n",
            "    openblas configuration: OpenBLAS 0.3.27  USE64BITINT DYNAMIC_ARCH NO_AFFINITY\n",
            "      Zen MAX_THREADS=64\n",
            "    pc file directory: /project/.openblas\n",
            "    version: 0.3.27\n",
            "  lapack:\n",
            "    detection method: pkgconfig\n",
            "    found: true\n",
            "    include directory: /opt/_internal/cpython-3.11.8/lib/python3.11/site-packages/scipy_openblas64/include\n",
            "    lib directory: /opt/_internal/cpython-3.11.8/lib/python3.11/site-packages/scipy_openblas64/lib\n",
            "    name: scipy-openblas\n",
            "    openblas configuration: OpenBLAS 0.3.27  USE64BITINT DYNAMIC_ARCH NO_AFFINITY\n",
            "      Zen MAX_THREADS=64\n",
            "    pc file directory: /project/.openblas\n",
            "    version: 0.3.27\n",
            "Compilers:\n",
            "  c:\n",
            "    commands: cc\n",
            "    linker: ld.bfd\n",
            "    name: gcc\n",
            "    version: 10.2.1\n",
            "  c++:\n",
            "    commands: c++\n",
            "    linker: ld.bfd\n",
            "    name: gcc\n",
            "    version: 10.2.1\n",
            "  cython:\n",
            "    commands: cython\n",
            "    linker: cython\n",
            "    name: cython\n",
            "    version: 3.0.11\n",
            "Machine Information:\n",
            "  build:\n",
            "    cpu: x86_64\n",
            "    endian: little\n",
            "    family: x86_64\n",
            "    system: linux\n",
            "  host:\n",
            "    cpu: x86_64\n",
            "    endian: little\n",
            "    family: x86_64\n",
            "    system: linux\n",
            "Python Information:\n",
            "  path: /tmp/build-env-zm_4loqi/bin/python\n",
            "  version: '3.11'\n",
            "SIMD Extensions:\n",
            "  baseline:\n",
            "  - SSE\n",
            "  - SSE2\n",
            "  - SSE3\n",
            "  found:\n",
            "  - SSSE3\n",
            "  - SSE41\n",
            "  - POPCNT\n",
            "  - SSE42\n",
            "  - AVX\n",
            "  - F16C\n",
            "  - FMA3\n",
            "  - AVX2\n",
            "  not found:\n",
            "  - AVX512F\n",
            "  - AVX512CD\n",
            "  - AVX512_KNL\n",
            "  - AVX512_KNM\n",
            "  - AVX512_SKX\n",
            "  - AVX512_CLX\n",
            "  - AVX512_CNL\n",
            "  - AVX512_ICL\n",
            "\n"
          ]
        }
      ],
      "execution_count": 33
    },
    {
      "cell_type": "markdown",
      "source": [
        "#### 3. Create a null vector of size 10 (★☆☆)"
      ],
      "metadata": {
        "_uuid": "77978f9afb5f957440f180861ccb06c2f644c317",
        "id": "luDp5OHd4hmw"
      }
    },
    {
      "cell_type": "code",
      "source": [
        "Z = np.zeros(10)\n",
        "print(Z)"
      ],
      "metadata": {
        "trusted": true,
        "_uuid": "beeb301d90b0fd6cb0f015969c969870bee981e8",
        "execution": {
          "iopub.status.busy": "2025-07-20T17:48:26.439552Z",
          "iopub.execute_input": "2025-07-20T17:48:26.440036Z",
          "iopub.status.idle": "2025-07-20T17:48:26.455996Z",
          "shell.execute_reply.started": "2025-07-20T17:48:26.439841Z",
          "shell.execute_reply": "2025-07-20T17:48:26.454401Z"
        },
        "id": "_l2y3-nD4hmx",
        "outputId": "a46ad82b-b8e7-4034-a3ca-d798afb4e90f",
        "colab": {
          "base_uri": "https://localhost:8080/"
        }
      },
      "outputs": [
        {
          "output_type": "stream",
          "name": "stdout",
          "text": [
            "[0. 0. 0. 0. 0. 0. 0. 0. 0. 0.]\n"
          ]
        }
      ],
      "execution_count": 34
    },
    {
      "cell_type": "markdown",
      "source": [
        "#### 4.  How to find the memory size of any array (★☆☆)"
      ],
      "metadata": {
        "_uuid": "9f2912dbc92ebcc2e86ac09930187d5d101552da",
        "id": "WKDtcM5V4hmy"
      }
    },
    {
      "cell_type": "code",
      "source": [
        "Z = np.zeros((10,10))\n",
        "print(\"%d bytes\" % (Z.size * Z.itemsize))"
      ],
      "metadata": {
        "trusted": true,
        "_uuid": "114a14936bde56cae519ed2f781f0b241251bdab",
        "execution": {
          "iopub.status.busy": "2025-07-20T17:48:26.457857Z",
          "iopub.execute_input": "2025-07-20T17:48:26.458219Z",
          "iopub.status.idle": "2025-07-20T17:48:26.479025Z",
          "shell.execute_reply.started": "2025-07-20T17:48:26.458156Z",
          "shell.execute_reply": "2025-07-20T17:48:26.477684Z"
        },
        "id": "k8nizMp54hmy",
        "outputId": "bdfeb47b-b866-4599-e3a4-18fbb0041889",
        "colab": {
          "base_uri": "https://localhost:8080/"
        }
      },
      "outputs": [
        {
          "output_type": "stream",
          "name": "stdout",
          "text": [
            "800 bytes\n"
          ]
        }
      ],
      "execution_count": 35
    },
    {
      "cell_type": "markdown",
      "source": [
        "#### 5.  How to get the documentation of the numpy add function from the command line? (★☆☆)"
      ],
      "metadata": {
        "_uuid": "61e755128e8631d194790854804d41362353f79d",
        "id": "M8Yt-40h4hmz"
      }
    },
    {
      "cell_type": "code",
      "source": [
        "np.info(np)"
      ],
      "metadata": {
        "id": "rgX3Zy5v4vlj",
        "outputId": "bc1e6372-e828-4d96-bea8-d89bdaa59a26",
        "colab": {
          "base_uri": "https://localhost:8080/"
        }
      },
      "execution_count": 36,
      "outputs": [
        {
          "output_type": "stream",
          "name": "stdout",
          "text": [
            "NumPy\n",
            "=====\n",
            "\n",
            "Provides\n",
            "  1. An array object of arbitrary homogeneous items\n",
            "  2. Fast mathematical operations over arrays\n",
            "  3. Linear Algebra, Fourier Transforms, Random Number Generation\n",
            "\n",
            "How to use the documentation\n",
            "----------------------------\n",
            "Documentation is available in two forms: docstrings provided\n",
            "with the code, and a loose standing reference guide, available from\n",
            "`the NumPy homepage <https://numpy.org>`_.\n",
            "\n",
            "We recommend exploring the docstrings using\n",
            "`IPython <https://ipython.org>`_, an advanced Python shell with\n",
            "TAB-completion and introspection capabilities.  See below for further\n",
            "instructions.\n",
            "\n",
            "The docstring examples assume that `numpy` has been imported as ``np``::\n",
            "\n",
            "  >>> import numpy as np\n",
            "\n",
            "Code snippets are indicated by three greater-than signs::\n",
            "\n",
            "  >>> x = 42\n",
            "  >>> x = x + 1\n",
            "\n",
            "Use the built-in ``help`` function to view a function's docstring::\n",
            "\n",
            "  >>> help(np.sort)\n",
            "  ... # doctest: +SKIP\n",
            "\n",
            "For some objects, ``np.info(obj)`` may provide additional help.  This is\n",
            "particularly true if you see the line \"Help on ufunc object:\" at the top\n",
            "of the help() page.  Ufuncs are implemented in C, not Python, for speed.\n",
            "The native Python help() does not know how to view their help, but our\n",
            "np.info() function does.\n",
            "\n",
            "Available subpackages\n",
            "---------------------\n",
            "lib\n",
            "    Basic functions used by several sub-packages.\n",
            "random\n",
            "    Core Random Tools\n",
            "linalg\n",
            "    Core Linear Algebra Tools\n",
            "fft\n",
            "    Core FFT routines\n",
            "polynomial\n",
            "    Polynomial tools\n",
            "testing\n",
            "    NumPy testing tools\n",
            "distutils\n",
            "    Enhancements to distutils with support for\n",
            "    Fortran compilers support and more (for Python <= 3.11)\n",
            "\n",
            "Utilities\n",
            "---------\n",
            "test\n",
            "    Run numpy unittests\n",
            "show_config\n",
            "    Show numpy build configuration\n",
            "__version__\n",
            "    NumPy version string\n",
            "\n",
            "Viewing documentation using IPython\n",
            "-----------------------------------\n",
            "\n",
            "Start IPython and import `numpy` usually under the alias ``np``: `import\n",
            "numpy as np`.  Then, directly past or use the ``%cpaste`` magic to paste\n",
            "examples into the shell.  To see which functions are available in `numpy`,\n",
            "type ``np.<TAB>`` (where ``<TAB>`` refers to the TAB key), or use\n",
            "``np.*cos*?<ENTER>`` (where ``<ENTER>`` refers to the ENTER key) to narrow\n",
            "down the list.  To view the docstring for a function, use\n",
            "``np.cos?<ENTER>`` (to view the docstring) and ``np.cos??<ENTER>`` (to view\n",
            "the source code).\n",
            "\n",
            "Copies vs. in-place operation\n",
            "-----------------------------\n",
            "Most of the functions in `numpy` return a copy of the array argument\n",
            "(e.g., `np.sort`).  In-place versions of these functions are often\n",
            "available as array methods, i.e. ``x = np.array([1,2,3]); x.sort()``.\n",
            "Exceptions to this rule are documented.\n"
          ]
        }
      ]
    },
    {
      "cell_type": "code",
      "source": [
        "!python -c \"import numpy; numpy.info(numpy.add)\""
      ],
      "metadata": {
        "trusted": true,
        "_uuid": "aa773a98c7db3465372105c510a7627ae6dfee5d",
        "execution": {
          "iopub.status.busy": "2025-07-20T17:48:26.480517Z",
          "iopub.execute_input": "2025-07-20T17:48:26.480865Z",
          "iopub.status.idle": "2025-07-20T17:48:26.503875Z",
          "shell.execute_reply.started": "2025-07-20T17:48:26.480805Z",
          "shell.execute_reply": "2025-07-20T17:48:26.502856Z"
        },
        "id": "EDpf5MCE4hmz",
        "outputId": "1705036b-48c3-4496-a46a-e511409e66c8",
        "colab": {
          "base_uri": "https://localhost:8080/"
        }
      },
      "outputs": [
        {
          "output_type": "stream",
          "name": "stdout",
          "text": [
            "add(x1, x2, /, out=None, *, where=True, casting='same_kind', order='K', dtype=None, subok=True[, signature])\n",
            "\n",
            "Add arguments element-wise.\n",
            "\n",
            "Parameters\n",
            "----------\n",
            "x1, x2 : array_like\n",
            "    The arrays to be added.\n",
            "    If ``x1.shape != x2.shape``, they must be broadcastable to a common\n",
            "    shape (which becomes the shape of the output).\n",
            "out : ndarray, None, or tuple of ndarray and None, optional\n",
            "    A location into which the result is stored. If provided, it must have\n",
            "    a shape that the inputs broadcast to. If not provided or None,\n",
            "    a freshly-allocated array is returned. A tuple (possible only as a\n",
            "    keyword argument) must have length equal to the number of outputs.\n",
            "where : array_like, optional\n",
            "    This condition is broadcast over the input. At locations where the\n",
            "    condition is True, the `out` array will be set to the ufunc result.\n",
            "    Elsewhere, the `out` array will retain its original value.\n",
            "    Note that if an uninitialized `out` array is created via the default\n",
            "    ``out=None``, locations within it where the condition is False will\n",
            "    remain uninitialized.\n",
            "**kwargs\n",
            "    For other keyword-only arguments, see the\n",
            "    :ref:`ufunc docs <ufuncs.kwargs>`.\n",
            "\n",
            "Returns\n",
            "-------\n",
            "add : ndarray or scalar\n",
            "    The sum of `x1` and `x2`, element-wise.\n",
            "    This is a scalar if both `x1` and `x2` are scalars.\n",
            "\n",
            "Notes\n",
            "-----\n",
            "Equivalent to `x1` + `x2` in terms of array broadcasting.\n",
            "\n",
            "Examples\n",
            "--------\n",
            ">>> np.add(1.0, 4.0)\n",
            "5.0\n",
            ">>> x1 = np.arange(9.0).reshape((3, 3))\n",
            ">>> x2 = np.arange(3.0)\n",
            ">>> np.add(x1, x2)\n",
            "array([[  0.,   2.,   4.],\n",
            "       [  3.,   5.,   7.],\n",
            "       [  6.,   8.,  10.]])\n",
            "\n",
            "The ``+`` operator can be used as a shorthand for ``np.add`` on ndarrays.\n",
            "\n",
            ">>> x1 = np.arange(9.0).reshape((3, 3))\n",
            ">>> x2 = np.arange(3.0)\n",
            ">>> x1 + x2\n",
            "array([[ 0.,  2.,  4.],\n",
            "       [ 3.,  5.,  7.],\n",
            "       [ 6.,  8., 10.]])\n"
          ]
        }
      ],
      "execution_count": 37
    },
    {
      "cell_type": "markdown",
      "source": [
        "#### 6.  Create a null vector of size 10 but the fifth value which is 1 (★☆☆)"
      ],
      "metadata": {
        "_uuid": "c75ba6ea73f0a23f837c1553a0f564fbb8748557",
        "id": "rFs05cg84hm0"
      }
    },
    {
      "cell_type": "code",
      "source": [
        "Z = np.zeros(10)\n",
        "Z[4] = 1\n",
        "print(Z)"
      ],
      "metadata": {
        "trusted": true,
        "_uuid": "a916d1332f7e1d7499fd9de3bb422651711df025",
        "execution": {
          "iopub.status.busy": "2025-07-20T17:48:26.506186Z",
          "iopub.execute_input": "2025-07-20T17:48:26.506779Z",
          "iopub.status.idle": "2025-07-20T17:48:26.522196Z",
          "shell.execute_reply.started": "2025-07-20T17:48:26.506668Z",
          "shell.execute_reply": "2025-07-20T17:48:26.520744Z"
        },
        "id": "Yu52zzcS4hm0",
        "outputId": "096033b4-d481-4a67-c9eb-c928350f7492",
        "colab": {
          "base_uri": "https://localhost:8080/"
        }
      },
      "outputs": [
        {
          "output_type": "stream",
          "name": "stdout",
          "text": [
            "[0. 0. 0. 0. 1. 0. 0. 0. 0. 0.]\n"
          ]
        }
      ],
      "execution_count": 38
    },
    {
      "cell_type": "markdown",
      "source": [
        "#### 7.  Create a vector with values ranging from 10 to 49 (★☆☆)"
      ],
      "metadata": {
        "_uuid": "118478fd9f22dc99584c1517078f1cdd4a4b36fc",
        "id": "RJqoGNa44hm1"
      }
    },
    {
      "cell_type": "code",
      "source": [
        "Z = np.arange(10,50)\n",
        "print(Z)"
      ],
      "metadata": {
        "trusted": true,
        "_uuid": "ac7cbc58129168a298298ae6d3a756a2a94c2a5d",
        "execution": {
          "iopub.status.busy": "2025-07-20T17:48:26.524704Z",
          "iopub.execute_input": "2025-07-20T17:48:26.525061Z",
          "iopub.status.idle": "2025-07-20T17:48:26.540926Z",
          "shell.execute_reply.started": "2025-07-20T17:48:26.524986Z",
          "shell.execute_reply": "2025-07-20T17:48:26.539546Z"
        },
        "id": "cMLEAtU24hm1",
        "outputId": "1a282b7c-b649-45a7-cd34-7ad6572128ce",
        "colab": {
          "base_uri": "https://localhost:8080/"
        }
      },
      "outputs": [
        {
          "output_type": "stream",
          "name": "stdout",
          "text": [
            "[10 11 12 13 14 15 16 17 18 19 20 21 22 23 24 25 26 27 28 29 30 31 32 33\n",
            " 34 35 36 37 38 39 40 41 42 43 44 45 46 47 48 49]\n"
          ]
        }
      ],
      "execution_count": 39
    },
    {
      "cell_type": "markdown",
      "source": [
        "#### 8.  Reverse a vector (first element becomes last) (★☆☆)"
      ],
      "metadata": {
        "_uuid": "1c153cfc18b4c413b602d9fa073a4c049f1e703b",
        "id": "LxUXADEg4hm1"
      }
    },
    {
      "cell_type": "code",
      "source": [
        "Z = np.arange(50)\n",
        "Z = Z[::-1]\n",
        "print(Z)"
      ],
      "metadata": {
        "trusted": true,
        "_uuid": "f1498235d2137116b1a7fabc6626dc8549235aba",
        "execution": {
          "iopub.status.busy": "2025-07-20T17:48:26.542485Z",
          "iopub.execute_input": "2025-07-20T17:48:26.542814Z",
          "iopub.status.idle": "2025-07-20T17:48:26.563779Z",
          "shell.execute_reply.started": "2025-07-20T17:48:26.542747Z",
          "shell.execute_reply": "2025-07-20T17:48:26.561987Z"
        },
        "id": "8om9E71A4hm1",
        "outputId": "63aa1d84-d49c-45b6-ed7b-3aba5f53e9e6",
        "colab": {
          "base_uri": "https://localhost:8080/"
        }
      },
      "outputs": [
        {
          "output_type": "stream",
          "name": "stdout",
          "text": [
            "[49 48 47 46 45 44 43 42 41 40 39 38 37 36 35 34 33 32 31 30 29 28 27 26\n",
            " 25 24 23 22 21 20 19 18 17 16 15 14 13 12 11 10  9  8  7  6  5  4  3  2\n",
            "  1  0]\n"
          ]
        }
      ],
      "execution_count": 40
    },
    {
      "cell_type": "markdown",
      "source": [
        "#### 9.  Create a 3x3 matrix with values ranging from 0 to 8 (★☆☆)"
      ],
      "metadata": {
        "_uuid": "647011edcdd237ef4bfa0ec4ce3a108805bbd11f",
        "id": "BNzA8T2W4hm2"
      }
    },
    {
      "cell_type": "code",
      "source": [
        "Z = np.arange(9).reshape(3,3)\n",
        "print(Z)"
      ],
      "metadata": {
        "trusted": true,
        "_uuid": "d6bf86992dbc3539332876b2caf973bafdb9a790",
        "execution": {
          "iopub.status.busy": "2025-07-20T17:48:26.565553Z",
          "iopub.execute_input": "2025-07-20T17:48:26.565956Z",
          "iopub.status.idle": "2025-07-20T17:48:26.583506Z",
          "shell.execute_reply.started": "2025-07-20T17:48:26.565876Z",
          "shell.execute_reply": "2025-07-20T17:48:26.581989Z"
        },
        "id": "N8GSxUfD4hm2",
        "outputId": "1d9ae953-dd44-4c6d-ceb5-0e954634e1e1",
        "colab": {
          "base_uri": "https://localhost:8080/"
        }
      },
      "outputs": [
        {
          "output_type": "stream",
          "name": "stdout",
          "text": [
            "[[0 1 2]\n",
            " [3 4 5]\n",
            " [6 7 8]]\n"
          ]
        }
      ],
      "execution_count": 41
    },
    {
      "cell_type": "markdown",
      "source": [
        "#### 10. Find indices of non-zero elements from \\[1,2,0,0,4,0\\] (★☆☆)"
      ],
      "metadata": {
        "_uuid": "c7d5733bee779737b5ad4250b257d0a1423ffbff",
        "id": "pfNA4-4l4hm2"
      }
    },
    {
      "cell_type": "code",
      "source": [
        "nz = np.nonzero([1,2,0,0,4,0])\n",
        "print(nz)"
      ],
      "metadata": {
        "trusted": true,
        "_uuid": "e6e0544a4326eaf8f3ea6390a16422a9844d48fc",
        "execution": {
          "iopub.status.busy": "2025-07-20T17:48:26.585093Z",
          "iopub.execute_input": "2025-07-20T17:48:26.585435Z",
          "iopub.status.idle": "2025-07-20T17:48:26.60529Z",
          "shell.execute_reply.started": "2025-07-20T17:48:26.58534Z",
          "shell.execute_reply": "2025-07-20T17:48:26.604064Z"
        },
        "id": "K-Y4HYBQ4hm3",
        "outputId": "0a178a53-ae31-4534-ae37-577c83b3b081",
        "colab": {
          "base_uri": "https://localhost:8080/"
        }
      },
      "outputs": [
        {
          "output_type": "stream",
          "name": "stdout",
          "text": [
            "(array([0, 1, 4]),)\n"
          ]
        }
      ],
      "execution_count": 42
    },
    {
      "cell_type": "markdown",
      "source": [
        "#### 11. Create a 3x3 identity matrix (★☆☆)"
      ],
      "metadata": {
        "_uuid": "ab5c1aaf0377ab923c6dbb7452671c181544734a",
        "id": "z07dkJYP4hm3"
      }
    },
    {
      "cell_type": "code",
      "source": [
        "Z = np.eye(3)\n",
        "print(Z)"
      ],
      "metadata": {
        "trusted": true,
        "_uuid": "0e10bd7b228cff4c485d80142fa5afcea12eb0e1",
        "execution": {
          "iopub.status.busy": "2025-07-20T17:48:26.607564Z",
          "iopub.execute_input": "2025-07-20T17:48:26.608075Z",
          "iopub.status.idle": "2025-07-20T17:48:26.624779Z",
          "shell.execute_reply.started": "2025-07-20T17:48:26.607835Z",
          "shell.execute_reply": "2025-07-20T17:48:26.623271Z"
        },
        "id": "dPXSNfM84hm3",
        "outputId": "fb8dc9ca-17c7-43d4-c97c-3744874bb08c",
        "colab": {
          "base_uri": "https://localhost:8080/"
        }
      },
      "outputs": [
        {
          "output_type": "stream",
          "name": "stdout",
          "text": [
            "[[1. 0. 0.]\n",
            " [0. 1. 0.]\n",
            " [0. 0. 1.]]\n"
          ]
        }
      ],
      "execution_count": 43
    },
    {
      "cell_type": "markdown",
      "source": [
        "#### 12. Create a 3x3x3 array with random values (★☆☆)"
      ],
      "metadata": {
        "_uuid": "9c3d53fd277d07937bc04838c4ca57a0aaaec498",
        "id": "ZASqMrga4hm3"
      }
    },
    {
      "cell_type": "code",
      "source": [
        "Z = np.random.random((3,3,3))\n",
        "print(Z)"
      ],
      "metadata": {
        "trusted": true,
        "_uuid": "77840458ba47b330dd84bab7a119e85299856c57",
        "execution": {
          "iopub.status.busy": "2025-07-20T17:48:26.626751Z",
          "iopub.execute_input": "2025-07-20T17:48:26.627101Z",
          "iopub.status.idle": "2025-07-20T17:48:26.645978Z",
          "shell.execute_reply.started": "2025-07-20T17:48:26.627037Z",
          "shell.execute_reply": "2025-07-20T17:48:26.644617Z"
        },
        "id": "Lr3QDivN4hm3",
        "outputId": "e6c88843-71e7-4cd5-af7e-658dce8cff25",
        "colab": {
          "base_uri": "https://localhost:8080/"
        }
      },
      "outputs": [
        {
          "output_type": "stream",
          "name": "stdout",
          "text": [
            "[[[0.00947722 0.64545661 0.00791105]\n",
            "  [0.18060262 0.27075602 0.47217471]\n",
            "  [0.10227524 0.57202677 0.6827652 ]]\n",
            "\n",
            " [[0.51122893 0.0871621  0.76236399]\n",
            "  [0.05007362 0.63672645 0.95758705]\n",
            "  [0.98047168 0.24048802 0.73936377]]\n",
            "\n",
            " [[0.30594897 0.49258467 0.05641886]\n",
            "  [0.88134409 0.1225537  0.99023079]\n",
            "  [0.24854929 0.00526175 0.66713496]]]\n"
          ]
        }
      ],
      "execution_count": 44
    },
    {
      "cell_type": "markdown",
      "source": [
        "#### 13. Create a 10x10 array with random values and find the minimum and maximum values (★☆☆)"
      ],
      "metadata": {
        "_uuid": "886bef95cd1aa9af4133902b45b50127b5da54cb",
        "id": "BufAdWyb4hm4"
      }
    },
    {
      "cell_type": "code",
      "source": [
        "Z = np.random.random((10,10))\n",
        "Zmin, Zmax = Z.min(), Z.max()\n",
        "print(Zmin, Zmax)"
      ],
      "metadata": {
        "trusted": true,
        "_uuid": "a8c13dc011c6afb824c3a7031330b6bd1a77e497",
        "execution": {
          "iopub.status.busy": "2025-07-20T17:48:26.64755Z",
          "iopub.execute_input": "2025-07-20T17:48:26.647921Z",
          "iopub.status.idle": "2025-07-20T17:48:26.667566Z",
          "shell.execute_reply.started": "2025-07-20T17:48:26.647859Z",
          "shell.execute_reply": "2025-07-20T17:48:26.666166Z"
        },
        "id": "LTpNtvvj4hm4",
        "outputId": "5c497709-b919-476c-d40d-82788a1396c6",
        "colab": {
          "base_uri": "https://localhost:8080/"
        }
      },
      "outputs": [
        {
          "output_type": "stream",
          "name": "stdout",
          "text": [
            "0.01843629545661718 0.9936951210855355\n"
          ]
        }
      ],
      "execution_count": 45
    },
    {
      "cell_type": "markdown",
      "source": [
        "#### 14. Create a random vector of size 30 and find the mean value (★☆☆)"
      ],
      "metadata": {
        "_uuid": "07db1e47dcff92113a6d4c696e92a5578b20d89f",
        "id": "Wrq4XQP54hm4"
      }
    },
    {
      "cell_type": "code",
      "source": [
        "Z = np.random.random(30)\n",
        "m = Z.mean()\n",
        "print(m)"
      ],
      "metadata": {
        "trusted": true,
        "_uuid": "a6533f70b28d583e6e1926a0e3e668b465d6ef6c",
        "execution": {
          "iopub.status.busy": "2025-07-20T17:48:26.669075Z",
          "iopub.execute_input": "2025-07-20T17:48:26.669582Z",
          "iopub.status.idle": "2025-07-20T17:48:26.695316Z",
          "shell.execute_reply.started": "2025-07-20T17:48:26.669325Z",
          "shell.execute_reply": "2025-07-20T17:48:26.693811Z"
        },
        "id": "_jvwXj554hm4",
        "outputId": "732369bb-4bb8-4bb1-faef-3ca61e34ba4b",
        "colab": {
          "base_uri": "https://localhost:8080/"
        }
      },
      "outputs": [
        {
          "output_type": "stream",
          "name": "stdout",
          "text": [
            "0.5260039445404787\n"
          ]
        }
      ],
      "execution_count": 46
    },
    {
      "cell_type": "markdown",
      "source": [
        "#### 15. Create a 2d array with 1 on the border and 0 inside (★☆☆)"
      ],
      "metadata": {
        "_uuid": "2234dffb1dffc779d1d24f269da232a560848ad0",
        "id": "4lIWRIkS4hm4"
      }
    },
    {
      "cell_type": "code",
      "source": [
        "Z = np.ones((10,10))\n",
        "Z[1:-1,1:-1] = 0\n",
        "print(Z)"
      ],
      "metadata": {
        "trusted": true,
        "_uuid": "03bef7c11ab2593768ce88331a92c0c7cc10d463",
        "execution": {
          "iopub.status.busy": "2025-07-20T17:48:26.69739Z",
          "iopub.execute_input": "2025-07-20T17:48:26.69784Z",
          "iopub.status.idle": "2025-07-20T17:48:26.719508Z",
          "shell.execute_reply.started": "2025-07-20T17:48:26.697751Z",
          "shell.execute_reply": "2025-07-20T17:48:26.718075Z"
        },
        "id": "wFpa4LgX4hm4",
        "outputId": "2205bdc5-c22c-45ce-c130-2dc389e22556",
        "colab": {
          "base_uri": "https://localhost:8080/"
        }
      },
      "outputs": [
        {
          "output_type": "stream",
          "name": "stdout",
          "text": [
            "[[1. 1. 1. 1. 1. 1. 1. 1. 1. 1.]\n",
            " [1. 0. 0. 0. 0. 0. 0. 0. 0. 1.]\n",
            " [1. 0. 0. 0. 0. 0. 0. 0. 0. 1.]\n",
            " [1. 0. 0. 0. 0. 0. 0. 0. 0. 1.]\n",
            " [1. 0. 0. 0. 0. 0. 0. 0. 0. 1.]\n",
            " [1. 0. 0. 0. 0. 0. 0. 0. 0. 1.]\n",
            " [1. 0. 0. 0. 0. 0. 0. 0. 0. 1.]\n",
            " [1. 0. 0. 0. 0. 0. 0. 0. 0. 1.]\n",
            " [1. 0. 0. 0. 0. 0. 0. 0. 0. 1.]\n",
            " [1. 1. 1. 1. 1. 1. 1. 1. 1. 1.]]\n"
          ]
        }
      ],
      "execution_count": 47
    },
    {
      "cell_type": "markdown",
      "source": [
        "#### 16. How to add a border (filled with 0's) around an existing array? (★☆☆)"
      ],
      "metadata": {
        "_uuid": "6e24eff853c1ead319eba0adf0efdf31a58c6944",
        "id": "hF1G_JjX4hm5"
      }
    },
    {
      "cell_type": "code",
      "source": [
        "Z = np.ones((5,5))\n",
        "Z = np.pad(Z, pad_width=1, mode='constant', constant_values=0)\n",
        "print(Z)"
      ],
      "metadata": {
        "trusted": true,
        "_uuid": "573dd1238aef49fed4a9cfeb645c09119a307916",
        "execution": {
          "iopub.status.busy": "2025-07-20T17:48:26.721217Z",
          "iopub.execute_input": "2025-07-20T17:48:26.721582Z",
          "iopub.status.idle": "2025-07-20T17:48:26.742481Z",
          "shell.execute_reply.started": "2025-07-20T17:48:26.721521Z",
          "shell.execute_reply": "2025-07-20T17:48:26.741434Z"
        },
        "id": "umn8qQkg4hm5",
        "outputId": "4061ad90-5fba-47af-9a63-bc8e436e0dd8",
        "colab": {
          "base_uri": "https://localhost:8080/"
        }
      },
      "outputs": [
        {
          "output_type": "stream",
          "name": "stdout",
          "text": [
            "[[0. 0. 0. 0. 0. 0. 0.]\n",
            " [0. 1. 1. 1. 1. 1. 0.]\n",
            " [0. 1. 1. 1. 1. 1. 0.]\n",
            " [0. 1. 1. 1. 1. 1. 0.]\n",
            " [0. 1. 1. 1. 1. 1. 0.]\n",
            " [0. 1. 1. 1. 1. 1. 0.]\n",
            " [0. 0. 0. 0. 0. 0. 0.]]\n"
          ]
        }
      ],
      "execution_count": 48
    },
    {
      "cell_type": "markdown",
      "source": [
        "#### 17. What is the result of the following expression? (★☆☆)"
      ],
      "metadata": {
        "_uuid": "1f657aee797f18a40aa7a5e98362719bc73ebdee",
        "id": "qbxa2qag4hm5"
      }
    },
    {
      "cell_type": "code",
      "source": [
        "print(0 * np.nan)\n",
        "print(np.nan == np.nan)\n",
        "print(np.inf > np.nan)\n",
        "print(np.nan - np.nan)\n",
        "print(np.nan in set([np.nan]))\n",
        "print(0.3 == 3 * 0.1)"
      ],
      "metadata": {
        "trusted": true,
        "_uuid": "5bd51740ffe0b687da93acf403807897292ebbc5",
        "execution": {
          "iopub.status.busy": "2025-07-20T17:48:26.744676Z",
          "iopub.execute_input": "2025-07-20T17:48:26.74512Z",
          "iopub.status.idle": "2025-07-20T17:48:26.764971Z",
          "shell.execute_reply.started": "2025-07-20T17:48:26.74504Z",
          "shell.execute_reply": "2025-07-20T17:48:26.763535Z"
        },
        "id": "_eU8TDog4hm5",
        "outputId": "e8d79d1f-265a-4d1d-bcfc-ef6b6e34e549",
        "colab": {
          "base_uri": "https://localhost:8080/"
        }
      },
      "outputs": [
        {
          "output_type": "stream",
          "name": "stdout",
          "text": [
            "nan\n",
            "False\n",
            "False\n",
            "nan\n",
            "True\n",
            "False\n"
          ]
        }
      ],
      "execution_count": 49
    },
    {
      "cell_type": "markdown",
      "source": [
        "#### 18. Create a 5x5 matrix with values 1,2,3,4 just below the diagonal (★☆☆)"
      ],
      "metadata": {
        "_uuid": "e22023622e0ec70b97ca378772dae42cff45d73c",
        "id": "XCShKsTG4hm5"
      }
    },
    {
      "cell_type": "code",
      "source": [
        "Z = np.diag(1+np.arange(4),k=-1)\n",
        "print(Z)"
      ],
      "metadata": {
        "trusted": true,
        "_uuid": "f1aaa690119ec31eb516c96023250ff10f2800be",
        "execution": {
          "iopub.status.busy": "2025-07-20T17:48:26.767332Z",
          "iopub.execute_input": "2025-07-20T17:48:26.767718Z",
          "iopub.status.idle": "2025-07-20T17:48:26.785124Z",
          "shell.execute_reply.started": "2025-07-20T17:48:26.767653Z",
          "shell.execute_reply": "2025-07-20T17:48:26.782967Z"
        },
        "id": "0A7A-IyJ4hm6",
        "outputId": "6d9feaf3-3f0c-4ac3-cb94-91d65afede45",
        "colab": {
          "base_uri": "https://localhost:8080/"
        }
      },
      "outputs": [
        {
          "output_type": "stream",
          "name": "stdout",
          "text": [
            "[[0 0 0 0 0]\n",
            " [1 0 0 0 0]\n",
            " [0 2 0 0 0]\n",
            " [0 0 3 0 0]\n",
            " [0 0 0 4 0]]\n"
          ]
        }
      ],
      "execution_count": 50
    },
    {
      "cell_type": "markdown",
      "source": [
        "#### 19. Create a 8x8 matrix and fill it with a checkerboard pattern (★☆☆)"
      ],
      "metadata": {
        "_uuid": "2e1e85761e1eafa4cd8986a3aa28763f2b8197e2",
        "id": "zN7G4zLZ4hm6"
      }
    },
    {
      "cell_type": "code",
      "source": [
        "Z = np.zeros((8,8),dtype=int)\n",
        "Z[1::2,::2] = 1\n",
        "Z[::2,1::2] = 1\n",
        "print(Z)"
      ],
      "metadata": {
        "trusted": true,
        "_uuid": "467504e8796a218a3faa0a787775d8aa577f4c32",
        "execution": {
          "iopub.status.busy": "2025-07-20T17:48:26.787017Z",
          "iopub.execute_input": "2025-07-20T17:48:26.787557Z",
          "iopub.status.idle": "2025-07-20T17:48:26.8096Z",
          "shell.execute_reply.started": "2025-07-20T17:48:26.787372Z",
          "shell.execute_reply": "2025-07-20T17:48:26.808189Z"
        },
        "id": "z9eC9NyU4hm6",
        "outputId": "2f116848-b6d5-47b9-904f-ada242cc8050",
        "colab": {
          "base_uri": "https://localhost:8080/"
        }
      },
      "outputs": [
        {
          "output_type": "stream",
          "name": "stdout",
          "text": [
            "[[0 1 0 1 0 1 0 1]\n",
            " [1 0 1 0 1 0 1 0]\n",
            " [0 1 0 1 0 1 0 1]\n",
            " [1 0 1 0 1 0 1 0]\n",
            " [0 1 0 1 0 1 0 1]\n",
            " [1 0 1 0 1 0 1 0]\n",
            " [0 1 0 1 0 1 0 1]\n",
            " [1 0 1 0 1 0 1 0]]\n"
          ]
        }
      ],
      "execution_count": 51
    },
    {
      "cell_type": "markdown",
      "source": [
        "#### 20. Consider a (6,7,8) shape array, what is the index (x,y,z) of the 100th element?"
      ],
      "metadata": {
        "_uuid": "87e644b2696a16879dcf96b35b17a48db550cd04",
        "id": "mSi83pRH4hnB"
      }
    },
    {
      "cell_type": "code",
      "source": [
        "print(np.unravel_index(100,(6,7,8)))"
      ],
      "metadata": {
        "trusted": true,
        "_uuid": "eabdb2c5e23366c763f0cc39939ee68866c3f111",
        "execution": {
          "iopub.status.busy": "2025-07-20T17:48:26.811827Z",
          "iopub.execute_input": "2025-07-20T17:48:26.812134Z",
          "iopub.status.idle": "2025-07-20T17:48:26.832228Z",
          "shell.execute_reply.started": "2025-07-20T17:48:26.812077Z",
          "shell.execute_reply": "2025-07-20T17:48:26.83083Z"
        },
        "id": "q62VjyQn4hnB",
        "outputId": "030b5c1d-61db-4062-deb2-b966a3332205",
        "colab": {
          "base_uri": "https://localhost:8080/"
        }
      },
      "outputs": [
        {
          "output_type": "stream",
          "name": "stdout",
          "text": [
            "(np.int64(1), np.int64(5), np.int64(4))\n"
          ]
        }
      ],
      "execution_count": 52
    },
    {
      "cell_type": "markdown",
      "source": [
        "#### 21. Create a checkerboard 8x8 matrix using the tile function (★☆☆)"
      ],
      "metadata": {
        "_uuid": "13a635e9f2af055ba88eb102eeb4d8025570a93d",
        "id": "25MG1SRD4hnC"
      }
    },
    {
      "cell_type": "code",
      "source": [
        "Z = np.tile( np.array([[0,1],[1,0]]), (4,4))\n",
        "print(Z)"
      ],
      "metadata": {
        "trusted": true,
        "_uuid": "ba1c748cbe8cf6a2cf8840b07c95cc9d17f1a596",
        "execution": {
          "iopub.status.busy": "2025-07-20T17:48:26.833845Z",
          "iopub.execute_input": "2025-07-20T17:48:26.834191Z",
          "iopub.status.idle": "2025-07-20T17:48:26.8537Z",
          "shell.execute_reply.started": "2025-07-20T17:48:26.834126Z",
          "shell.execute_reply": "2025-07-20T17:48:26.852466Z"
        },
        "id": "f0mUrWMY4hnC",
        "outputId": "dbe58261-5318-4a48-e67d-6886b6fd6bc8",
        "colab": {
          "base_uri": "https://localhost:8080/"
        }
      },
      "outputs": [
        {
          "output_type": "stream",
          "name": "stdout",
          "text": [
            "[[0 1 0 1 0 1 0 1]\n",
            " [1 0 1 0 1 0 1 0]\n",
            " [0 1 0 1 0 1 0 1]\n",
            " [1 0 1 0 1 0 1 0]\n",
            " [0 1 0 1 0 1 0 1]\n",
            " [1 0 1 0 1 0 1 0]\n",
            " [0 1 0 1 0 1 0 1]\n",
            " [1 0 1 0 1 0 1 0]]\n"
          ]
        }
      ],
      "execution_count": 53
    },
    {
      "cell_type": "markdown",
      "source": [
        "#### 22. Normalize a 5x5 random matrix (★☆☆)"
      ],
      "metadata": {
        "_uuid": "87fb9e8995db8ee27d3c209c840f3f2c6acb9bc5",
        "id": "lnWYUeRP4hnC"
      }
    },
    {
      "cell_type": "code",
      "source": [
        "Z = np.random.random((5,5))\n",
        "Z = (Z - np.mean (Z)) / (np.std (Z))\n",
        "print(Z)"
      ],
      "metadata": {
        "trusted": true,
        "_uuid": "70b01b18cef5e31ffcc4c0219859e607e7a6d998",
        "execution": {
          "iopub.status.busy": "2025-07-20T17:48:26.855524Z",
          "iopub.execute_input": "2025-07-20T17:48:26.855844Z",
          "iopub.status.idle": "2025-07-20T17:48:26.877167Z",
          "shell.execute_reply.started": "2025-07-20T17:48:26.855789Z",
          "shell.execute_reply": "2025-07-20T17:48:26.875975Z"
        },
        "id": "RzjKeZ5k4hnC",
        "outputId": "0991e9dc-bff3-43b8-b5f2-a8d91d9fa20a",
        "colab": {
          "base_uri": "https://localhost:8080/"
        }
      },
      "outputs": [
        {
          "output_type": "stream",
          "name": "stdout",
          "text": [
            "[[ 0.47991087  0.48146779  0.08879722  1.67146081  1.97732684]\n",
            " [ 0.17374928 -1.16597534 -0.13021122 -1.00040119  0.37392288]\n",
            " [-0.11136923 -1.36628565  0.61396629  1.65845988 -1.50186678]\n",
            " [ 0.36766832 -0.02032114  1.34337399 -0.16406472 -0.24670677]\n",
            " [ 0.42450243 -1.81829965 -0.45200365 -0.1707742  -1.50632707]]\n"
          ]
        }
      ],
      "execution_count": 54
    },
    {
      "cell_type": "markdown",
      "source": [
        "#### 23. Create a custom dtype that describes a color as four unsigned bytes (RGBA) (★☆☆)"
      ],
      "metadata": {
        "_uuid": "a86da96f18b0eef155a85b49e36aaa51b2403a61",
        "id": "djrjY9Bo4hnD"
      }
    },
    {
      "cell_type": "code",
      "source": [
        "color = np.dtype([(\"r\", np.ubyte, 1),\n",
        "                  (\"g\", np.ubyte, 1),\n",
        "                  (\"b\", np.ubyte, 1),\n",
        "                  (\"a\", np.ubyte, 1)])"
      ],
      "metadata": {
        "trusted": true,
        "_uuid": "30ac92f0e3667aacb75ec6fba40c34bcfec9529e",
        "execution": {
          "iopub.status.busy": "2025-07-20T17:48:26.878997Z",
          "iopub.execute_input": "2025-07-20T17:48:26.879433Z",
          "iopub.status.idle": "2025-07-20T17:48:26.895696Z",
          "shell.execute_reply.started": "2025-07-20T17:48:26.879326Z",
          "shell.execute_reply": "2025-07-20T17:48:26.894479Z"
        },
        "id": "StR3TQZv4hnD"
      },
      "outputs": [],
      "execution_count": 55
    },
    {
      "cell_type": "markdown",
      "source": [
        "#### 24. Multiply a 5x3 matrix by a 3x2 matrix (real matrix product) (★☆☆)"
      ],
      "metadata": {
        "_uuid": "659926bf5bf80842361a658fd0f84bf24084fbf3",
        "id": "jHWPLvre4hnD"
      }
    },
    {
      "cell_type": "code",
      "source": [
        "Z = np.dot(np.ones((5,3)), np.ones((3,2)))\n",
        "print(Z)\n",
        "\n",
        "# Alternative solution, in Python 3.5 and above\n",
        "Z = np.ones((5,3)) @ np.ones((3,2))"
      ],
      "metadata": {
        "trusted": true,
        "_uuid": "8be73ba1bd9778d487ac20ef5658c7b8e57c3d67",
        "execution": {
          "iopub.status.busy": "2025-07-20T17:48:26.897152Z",
          "iopub.execute_input": "2025-07-20T17:48:26.897631Z",
          "iopub.status.idle": "2025-07-20T17:48:26.928747Z",
          "shell.execute_reply.started": "2025-07-20T17:48:26.897513Z",
          "shell.execute_reply": "2025-07-20T17:48:26.927485Z"
        },
        "id": "hEDJwlZS4hnD",
        "outputId": "30cd14f4-72d7-4c0a-ea1f-ed9fc1f69021",
        "colab": {
          "base_uri": "https://localhost:8080/"
        }
      },
      "outputs": [
        {
          "output_type": "stream",
          "name": "stdout",
          "text": [
            "[[3. 3.]\n",
            " [3. 3.]\n",
            " [3. 3.]\n",
            " [3. 3.]\n",
            " [3. 3.]]\n"
          ]
        }
      ],
      "execution_count": 56
    },
    {
      "cell_type": "markdown",
      "source": [
        "#### 25. Given a 1D array, negate all elements which are between 3 and 8, in place. (★☆☆)"
      ],
      "metadata": {
        "_uuid": "0a65567844ac53a18dbb387a8694da2b1c78294a",
        "id": "eqlipGyV4hnE"
      }
    },
    {
      "cell_type": "code",
      "source": [
        "# Author: Evgeni Burovski\n",
        "\n",
        "Z = np.arange(11)\n",
        "Z[(3 < Z) & (Z <= 8)] *= -1\n",
        "print(Z)"
      ],
      "metadata": {
        "trusted": true,
        "_uuid": "d48512adb16f06371f651dd8dc1ae9ea1c3586b1",
        "execution": {
          "iopub.status.busy": "2025-07-20T17:48:26.93034Z",
          "iopub.execute_input": "2025-07-20T17:48:26.930801Z",
          "iopub.status.idle": "2025-07-20T17:48:26.945264Z",
          "shell.execute_reply.started": "2025-07-20T17:48:26.930637Z",
          "shell.execute_reply": "2025-07-20T17:48:26.944123Z"
        },
        "id": "_CIL_yJS4hnE",
        "outputId": "b79d93af-8795-41d6-8cb9-f52059fe0712",
        "colab": {
          "base_uri": "https://localhost:8080/"
        }
      },
      "outputs": [
        {
          "output_type": "stream",
          "name": "stdout",
          "text": [
            "[ 0  1  2  3 -4 -5 -6 -7 -8  9 10]\n"
          ]
        }
      ],
      "execution_count": 57
    },
    {
      "cell_type": "markdown",
      "source": [
        "#### 26. What is the output of the following script? (★☆☆)"
      ],
      "metadata": {
        "_uuid": "dad4e194cbf30833bbc7dba6714e300239088610",
        "id": "6BQR1dIG4hnE"
      }
    },
    {
      "cell_type": "code",
      "source": [
        "# Author: Jake VanderPlas\n",
        "\n",
        "print(sum(range(5),-1))\n",
        "from numpy import *\n",
        "print(sum(range(5),-1))"
      ],
      "metadata": {
        "trusted": true,
        "_uuid": "094e225f24cf70ad8c7caeb1dcbd6788e5af562a",
        "execution": {
          "iopub.status.busy": "2025-07-20T17:48:26.946809Z",
          "iopub.execute_input": "2025-07-20T17:48:26.94708Z",
          "iopub.status.idle": "2025-07-20T17:48:26.965004Z",
          "shell.execute_reply.started": "2025-07-20T17:48:26.947032Z",
          "shell.execute_reply": "2025-07-20T17:48:26.963787Z"
        },
        "id": "oRSefg1s4hnE",
        "outputId": "0ee2e009-d3da-431b-b532-d5da4e6f183b",
        "colab": {
          "base_uri": "https://localhost:8080/"
        }
      },
      "outputs": [
        {
          "output_type": "stream",
          "name": "stdout",
          "text": [
            "10\n",
            "10\n"
          ]
        }
      ],
      "execution_count": 58
    },
    {
      "cell_type": "markdown",
      "source": [
        "#### 27. Consider an integer vector Z, which of these expressions are legal? (★☆☆)"
      ],
      "metadata": {
        "_uuid": "c13814936adf93d11212e3e85e67a37e48b1fd72",
        "id": "kifpV-pR4hnF"
      }
    },
    {
      "cell_type": "code",
      "source": [
        "Z**Z\n",
        "2 << Z >> 2\n",
        "Z <- Z\n",
        "1j*Z\n",
        "Z/1/1\n",
        "Z<Z>Z"
      ],
      "metadata": {
        "trusted": true,
        "_uuid": "2d41e8fd1c2a4970ea55fcf50524a01e083d7f01",
        "execution": {
          "iopub.status.busy": "2025-07-20T17:48:26.967062Z",
          "iopub.execute_input": "2025-07-20T17:48:26.967653Z",
          "iopub.status.idle": "2025-07-20T17:48:27.356685Z",
          "shell.execute_reply.started": "2025-07-20T17:48:26.96734Z",
          "shell.execute_reply": "2025-07-20T17:48:27.203649Z"
        },
        "id": "UiW3DE9q4hnF",
        "outputId": "14e7b7e1-f536-4663-ec49-8589fecb4e72",
        "colab": {
          "base_uri": "https://localhost:8080/",
          "height": 211
        }
      },
      "outputs": [
        {
          "output_type": "error",
          "ename": "ValueError",
          "evalue": "Integers to negative integer powers are not allowed.",
          "traceback": [
            "\u001b[0;31m---------------------------------------------------------------------------\u001b[0m",
            "\u001b[0;31mValueError\u001b[0m                                Traceback (most recent call last)",
            "\u001b[0;32m/tmp/ipython-input-59-803206331.py\u001b[0m in \u001b[0;36m<cell line: 0>\u001b[0;34m()\u001b[0m\n\u001b[0;32m----> 1\u001b[0;31m \u001b[0mZ\u001b[0m\u001b[0;34m**\u001b[0m\u001b[0mZ\u001b[0m\u001b[0;34m\u001b[0m\u001b[0;34m\u001b[0m\u001b[0m\n\u001b[0m\u001b[1;32m      2\u001b[0m \u001b[0;36m2\u001b[0m \u001b[0;34m<<\u001b[0m \u001b[0mZ\u001b[0m \u001b[0;34m>>\u001b[0m \u001b[0;36m2\u001b[0m\u001b[0;34m\u001b[0m\u001b[0;34m\u001b[0m\u001b[0m\n\u001b[1;32m      3\u001b[0m \u001b[0mZ\u001b[0m \u001b[0;34m<\u001b[0m\u001b[0;34m-\u001b[0m \u001b[0mZ\u001b[0m\u001b[0;34m\u001b[0m\u001b[0;34m\u001b[0m\u001b[0m\n\u001b[1;32m      4\u001b[0m \u001b[0;36m1j\u001b[0m\u001b[0;34m*\u001b[0m\u001b[0mZ\u001b[0m\u001b[0;34m\u001b[0m\u001b[0;34m\u001b[0m\u001b[0m\n\u001b[1;32m      5\u001b[0m \u001b[0mZ\u001b[0m\u001b[0;34m/\u001b[0m\u001b[0;36m1\u001b[0m\u001b[0;34m/\u001b[0m\u001b[0;36m1\u001b[0m\u001b[0;34m\u001b[0m\u001b[0;34m\u001b[0m\u001b[0m\n",
            "\u001b[0;31mValueError\u001b[0m: Integers to negative integer powers are not allowed."
          ]
        }
      ],
      "execution_count": 59
    },
    {
      "cell_type": "markdown",
      "source": [
        "Let’s go through each of these expressions assuming `Z` is an **integer vector**, like a NumPy array:\n",
        "\n",
        "```python\n",
        "import numpy as np\n",
        "Z = np.array([1, 2, 3])\n",
        "```\n",
        "\n",
        "---\n",
        "\n",
        "### ✅ 1. `Z**Z`\n",
        "\n",
        "**Legal:** Yes\n",
        "Performs element-wise exponentiation.\n",
        "\n",
        "```python\n",
        "Z**Z  # → array([1**1, 2**2, 3**3]) = array([1, 4, 27])\n",
        "```\n",
        "\n",
        "---\n",
        "\n",
        "### ✅ 2. `2 << Z >> 2`\n",
        "\n",
        "**Legal:** Yes\n",
        "Bitwise left shift and then right shift, element-wise.\n",
        "\n",
        "```python\n",
        "2 << Z      # [2 << 1, 2 << 2, 2 << 3] = [4, 8, 16]\n",
        "(2 << Z) >> 2  # [4>>2, 8>>2, 16>>2] = [1, 2, 4]\n",
        "```\n",
        "\n",
        "---\n",
        "\n",
        "### ❌ 3. `Z <- Z`\n",
        "\n",
        "**Illegal:** **SyntaxError in Python**\n",
        "`<-` is not a valid operator in Python. That’s an R-style assignment operator.\n",
        "If you meant assignment, use `Z = Z` or in-place operation like `Z[:] = Z`.\n",
        "\n",
        "---\n",
        "\n",
        "### ✅ 4. `1j*Z`\n",
        "\n",
        "**Legal:** Yes\n",
        "Multiplies the vector with complex number `1j`.\n",
        "\n",
        "```python\n",
        "1j * Z  # array([0.+1.j, 0.+2.j, 0.+3.j])\n",
        "```\n",
        "\n",
        "---\n",
        "\n",
        "### ✅ 5. `Z/1/1`\n",
        "\n",
        "**Legal:** Yes\n",
        "Divides each element by 1, then again by 1.\n",
        "\n",
        "```python\n",
        "Z / 1 / 1  # → array([1., 2., 3.])\n",
        "```\n",
        "\n",
        "---\n",
        "\n",
        "### ❌ 6. `Z<Z>Z`\n",
        "\n",
        "**Illegal:** **SyntaxError or ambiguous expression**\n",
        "Python doesn’t allow chained comparisons with NumPy arrays like this.\n",
        "\n",
        "```python\n",
        "Z < Z > Z  # Invalid, will raise ValueError or not behave as expected\n",
        "```\n",
        "\n",
        "If you want to check each pairwise condition, split it:\n",
        "\n",
        "```python\n",
        "(Z < Z) & (Z > Z)  # Will work element-wise, but gives all False\n",
        "```\n",
        "\n",
        "---\n",
        "\n",
        "### ✅ Summary\n",
        "\n",
        "| Expression    | Legal? | Reason                     |\n",
        "| ------------- | ------ | -------------------------- |\n",
        "| `Z**Z`        | ✅      | Element-wise power         |\n",
        "| `2 << Z >> 2` | ✅      | Bitwise shifts             |\n",
        "| `Z <- Z`      | ❌      | Invalid syntax in Python   |\n",
        "| `1j*Z`        | ✅      | Complex multiplication     |\n",
        "| `Z/1/1`       | ✅      | Valid chained division     |\n",
        "| `Z<Z>Z`       | ❌      | Invalid chained comparison |\n",
        "\n",
        "Let me know if you'd like this with real code examples.\n"
      ],
      "metadata": {
        "id": "mqF-qqmKDitk"
      }
    },
    {
      "cell_type": "markdown",
      "source": [
        "#### 28. What are the result of the following expressions?"
      ],
      "metadata": {
        "_uuid": "87cfa6cec4f5f3efa4d92b7d01be3e15e92eb8d9",
        "id": "esRStSv64hnF"
      }
    },
    {
      "cell_type": "code",
      "source": [
        "print(np.array(0) / np.array(0))\n",
        "print(np.array(0) // np.array(0))\n",
        "print(np.array([np.nan]).astype(int).astype(float))"
      ],
      "metadata": {
        "trusted": true,
        "_uuid": "8b9ea83b2b3a14de49b957a490ded427b2fdf473",
        "execution": {
          "iopub.status.busy": "2025-07-20T17:48:27.204888Z",
          "iopub.status.idle": "2025-07-20T17:48:27.205378Z",
          "shell.execute_reply": "2025-07-20T17:48:27.20513Z"
        },
        "id": "A5u_pTla4hnF",
        "colab": {
          "base_uri": "https://localhost:8080/"
        },
        "outputId": "46b2a9fb-b485-4772-a878-d62bbe0145f2"
      },
      "outputs": [
        {
          "output_type": "stream",
          "name": "stdout",
          "text": [
            "nan\n",
            "0\n",
            "[-9.22337204e+18]\n"
          ]
        },
        {
          "output_type": "stream",
          "name": "stderr",
          "text": [
            "/tmp/ipython-input-66-3912170336.py:1: RuntimeWarning: invalid value encountered in divide\n",
            "  print(np.array(0) / np.array(0))\n",
            "/tmp/ipython-input-66-3912170336.py:2: RuntimeWarning: divide by zero encountered in floor_divide\n",
            "  print(np.array(0) // np.array(0))\n",
            "/tmp/ipython-input-66-3912170336.py:3: RuntimeWarning: invalid value encountered in cast\n",
            "  print(np.array([np.nan]).astype(int).astype(float))\n"
          ]
        }
      ],
      "execution_count": 66
    },
    {
      "cell_type": "markdown",
      "source": [
        "#### 29. How to round away from zero a float array ? (★☆☆)"
      ],
      "metadata": {
        "_uuid": "748fc33413222da461b2aac2a9fcabff3e18e057",
        "id": "yqhD2xYB4hnG"
      }
    },
    {
      "cell_type": "code",
      "source": [
        "# Author: Charles R Harris\n",
        "\n",
        "Z = np.random.uniform(-10,+10,10)\n",
        "print(Z)\n",
        "print (np.copysign(np.ceil(np.abs(Z)), Z))"
      ],
      "metadata": {
        "trusted": true,
        "_uuid": "b9e1b1bef8f15c72cc7ce5e2ce14def4a98ed41c",
        "execution": {
          "iopub.status.busy": "2025-07-20T17:48:27.205948Z",
          "iopub.status.idle": "2025-07-20T17:48:27.206294Z",
          "shell.execute_reply": "2025-07-20T17:48:27.206105Z"
        },
        "id": "7J3f6tFu4hnG",
        "colab": {
          "base_uri": "https://localhost:8080/"
        },
        "outputId": "51d75097-a263-4d09-d6ce-cabbdeece5c1"
      },
      "outputs": [
        {
          "output_type": "stream",
          "name": "stdout",
          "text": [
            "[-6.43223702  6.51081446 -2.12328802 -4.88653049  4.64033196  8.01686469\n",
            "  2.00492678 -2.58128821 -3.64205626  2.13846001]\n",
            "[-7.  7. -3. -5.  5.  9.  3. -3. -4.  3.]\n"
          ]
        }
      ],
      "execution_count": 67
    },
    {
      "cell_type": "code",
      "source": [
        "np.abs(-1.69008284)"
      ],
      "metadata": {
        "colab": {
          "base_uri": "https://localhost:8080/"
        },
        "id": "cnZBleKCS_p2",
        "outputId": "dff1b5b8-32d1-4228-cd8b-d5492d66bae9"
      },
      "execution_count": 87,
      "outputs": [
        {
          "output_type": "execute_result",
          "data": {
            "text/plain": [
              "np.float64(1.69008284)"
            ]
          },
          "metadata": {},
          "execution_count": 87
        }
      ]
    },
    {
      "cell_type": "markdown",
      "source": [
        "#### 30. How to find common values between two arrays? (★☆☆)"
      ],
      "metadata": {
        "_uuid": "e49ca0d2249b4a5cf25b264e42c6feb3057889ed",
        "id": "xldGOned4hnG"
      }
    },
    {
      "cell_type": "code",
      "source": [
        "Z1 = np.random.randint(0,10,10)\n",
        "print(Z1)\n",
        "Z2 = np.random.randint(0,10,10)\n",
        "print(np.intersect1d(Z1,Z2))"
      ],
      "metadata": {
        "trusted": true,
        "_uuid": "b7a1b2802e4c4a2ac5baf737e2065c55bef226b6",
        "execution": {
          "iopub.status.busy": "2025-07-20T17:48:27.206779Z",
          "iopub.status.idle": "2025-07-20T17:48:27.208032Z",
          "shell.execute_reply": "2025-07-20T17:48:27.207502Z"
        },
        "id": "T31bUPid4hnG",
        "colab": {
          "base_uri": "https://localhost:8080/"
        },
        "outputId": "ecc6fea0-3b77-43e1-e726-4967dee4a148"
      },
      "outputs": [
        {
          "output_type": "stream",
          "name": "stdout",
          "text": [
            "[4 7 2 0 4 0 2 4 0 3]\n",
            "[0 2 4 7]\n"
          ]
        }
      ],
      "execution_count": 88
    },
    {
      "cell_type": "markdown",
      "source": [
        "#### 31. How to ignore all numpy warnings (not recommended)? (★☆☆)"
      ],
      "metadata": {
        "_uuid": "18843482db38cbb4ca8de77cb7c7e787acd5fa20",
        "id": "u_WOw__D4hnH"
      }
    },
    {
      "cell_type": "code",
      "source": [
        "# Suicide mode on\n",
        "defaults = np.seterr(all=\"ignore\")\n",
        "Z = np.ones(1) / 0\n",
        "\n",
        "# Back to sanity\n",
        "_ = np.seterr(**defaults)\n",
        "\n",
        "# An equivalent way, with a context manager:\n",
        "\n",
        "with np.errstate(divide='ignore'):\n",
        "    Z = np.ones(1) / 0"
      ],
      "metadata": {
        "trusted": true,
        "_uuid": "c71bd60875133429395886e0b8e3bfa343d40b42",
        "execution": {
          "iopub.status.busy": "2025-07-20T17:48:27.208977Z",
          "iopub.status.idle": "2025-07-20T17:48:27.209597Z",
          "shell.execute_reply": "2025-07-20T17:48:27.20924Z"
        },
        "id": "sqBSiPHl4hnH"
      },
      "outputs": [],
      "execution_count": 89
    },
    {
      "cell_type": "markdown",
      "source": [
        "#### 32. Is the following expressions true? (★☆☆)"
      ],
      "metadata": {
        "_uuid": "dcb0cd567860239870f01fd07f5afa59961b6b89",
        "id": "n-KZgyYR4hnH"
      }
    },
    {
      "cell_type": "code",
      "source": [
        "np.sqrt(-1) == np.emath.sqrt(-1)"
      ],
      "metadata": {
        "trusted": true,
        "_uuid": "e494de30ea8f90e4263b3c3de452105d762a2996",
        "execution": {
          "iopub.status.busy": "2025-07-20T17:48:27.210874Z",
          "iopub.status.idle": "2025-07-20T17:48:27.21151Z",
          "shell.execute_reply": "2025-07-20T17:48:27.211164Z"
        },
        "id": "MiawCyLD4hnH",
        "colab": {
          "base_uri": "https://localhost:8080/"
        },
        "outputId": "1eca7ba7-9465-4a3c-da78-f494253b926e"
      },
      "outputs": [
        {
          "output_type": "stream",
          "name": "stderr",
          "text": [
            "/tmp/ipython-input-70-244602691.py:1: RuntimeWarning: invalid value encountered in sqrt\n",
            "  np.sqrt(-1) == np.emath.sqrt(-1)\n"
          ]
        },
        {
          "output_type": "execute_result",
          "data": {
            "text/plain": [
              "np.False_"
            ]
          },
          "metadata": {},
          "execution_count": 70
        }
      ],
      "execution_count": 70
    },
    {
      "cell_type": "markdown",
      "source": [
        "#### 33. How to get the dates of yesterday, today and tomorrow? (★☆☆)"
      ],
      "metadata": {
        "_uuid": "68d59ad2323d4ede5a110e8d9650aab01eb5174d",
        "id": "6JSMUxNB4hnI"
      }
    },
    {
      "cell_type": "code",
      "source": [
        "yesterday = np.datetime64('today', 'D') - np.timedelta64(1, 'D')\n",
        "today     = np.datetime64('today', 'D')\n",
        "tomorrow  = np.datetime64('today', 'D') + np.timedelta64(1, 'D')"
      ],
      "metadata": {
        "trusted": true,
        "_uuid": "1525d48cd65e2639eeb08299708319a07e6b80de",
        "execution": {
          "iopub.status.busy": "2025-07-20T17:48:27.212392Z",
          "iopub.status.idle": "2025-07-20T17:48:27.21299Z",
          "shell.execute_reply": "2025-07-20T17:48:27.212651Z"
        },
        "id": "OL6YrI334hnI"
      },
      "outputs": [],
      "execution_count": 71
    },
    {
      "cell_type": "markdown",
      "source": [
        "#### 34. How to get all the dates corresponding to the month of July 2016? (★★☆)"
      ],
      "metadata": {
        "_uuid": "d8e6dcb1cf0ae2d7c4fc08a657a186df0f4f171f",
        "id": "sNwjW4go4hnI"
      }
    },
    {
      "cell_type": "code",
      "source": [
        "Z = np.arange('2016-07', '2016-08', dtype='datetime64[D]')\n",
        "print(Z)"
      ],
      "metadata": {
        "trusted": true,
        "_uuid": "f5f3000257839f44772b54320bd185b8046ed0e2",
        "execution": {
          "iopub.status.busy": "2025-07-20T17:48:27.213848Z",
          "iopub.status.idle": "2025-07-20T17:48:27.214457Z",
          "shell.execute_reply": "2025-07-20T17:48:27.214114Z"
        },
        "id": "vxXK-bnF4hnI",
        "colab": {
          "base_uri": "https://localhost:8080/"
        },
        "outputId": "4d355d75-3757-4c3b-d927-20600fe26dff"
      },
      "outputs": [
        {
          "output_type": "stream",
          "name": "stdout",
          "text": [
            "['2016-07-01' '2016-07-02' '2016-07-03' '2016-07-04' '2016-07-05'\n",
            " '2016-07-06' '2016-07-07' '2016-07-08' '2016-07-09' '2016-07-10'\n",
            " '2016-07-11' '2016-07-12' '2016-07-13' '2016-07-14' '2016-07-15'\n",
            " '2016-07-16' '2016-07-17' '2016-07-18' '2016-07-19' '2016-07-20'\n",
            " '2016-07-21' '2016-07-22' '2016-07-23' '2016-07-24' '2016-07-25'\n",
            " '2016-07-26' '2016-07-27' '2016-07-28' '2016-07-29' '2016-07-30'\n",
            " '2016-07-31']\n"
          ]
        }
      ],
      "execution_count": 72
    },
    {
      "cell_type": "markdown",
      "source": [
        "#### 35. How to compute ((A+B)\\*(-A/2)) in place (without copy)? (★★☆)"
      ],
      "metadata": {
        "_uuid": "9e2512ad8b29d3599cababc7009febce91929869",
        "id": "-O-UAL2E4hnJ"
      }
    },
    {
      "cell_type": "code",
      "source": [
        "A = np.ones(3)*1\n",
        "B = np.ones(3)*2\n",
        "C = np.ones(3)*3\n",
        "print(A)\n",
        "print(B)\n",
        "print(C)\n",
        "np.add(A,B,out=B)\n",
        "print(B)\n",
        "np.divide(A,2,out=A)\n",
        "print(A)\n",
        "np.negative(A,out=A)\n",
        "print(A)\n",
        "np.multiply(A,B,out=A)\n",
        "print(A)"
      ],
      "metadata": {
        "trusted": true,
        "_uuid": "4fb34450b8dfabe74d9e411ec45c717e15a0efcd",
        "execution": {
          "iopub.status.busy": "2025-07-20T17:48:27.215239Z",
          "iopub.status.idle": "2025-07-20T17:48:27.215872Z",
          "shell.execute_reply": "2025-07-20T17:48:27.215561Z"
        },
        "id": "0kZzhnXW4hnJ",
        "colab": {
          "base_uri": "https://localhost:8080/"
        },
        "outputId": "c715c8fd-a759-4d3e-8794-dfb26d101a45"
      },
      "outputs": [
        {
          "output_type": "stream",
          "name": "stdout",
          "text": [
            "[1. 1. 1.]\n",
            "[2. 2. 2.]\n",
            "[3. 3. 3.]\n",
            "[3. 3. 3.]\n",
            "[0.5 0.5 0.5]\n",
            "[-0.5 -0.5 -0.5]\n",
            "[-1.5 -1.5 -1.5]\n"
          ]
        }
      ],
      "execution_count": 94
    },
    {
      "cell_type": "markdown",
      "source": [
        "#### 36. Extract the integer part of a random array using 5 different methods (★★☆)"
      ],
      "metadata": {
        "_uuid": "861564e1209df602ba9acf76b21764166d941f64",
        "id": "TjebTeIW4hnJ"
      }
    },
    {
      "cell_type": "code",
      "source": [
        "Z = np.random.uniform(0,10,10)\n",
        "\n",
        "print (Z - Z%1)\n",
        "print (np.floor(Z))\n",
        "print (np.ceil(Z)-1)\n",
        "print (Z.astype(int))\n",
        "print (np.trunc(Z))"
      ],
      "metadata": {
        "trusted": true,
        "_uuid": "26071c39ddc28c65fe06329b480504455890609e",
        "execution": {
          "iopub.status.busy": "2025-07-20T17:48:27.217019Z",
          "iopub.status.idle": "2025-07-20T17:48:27.21758Z",
          "shell.execute_reply": "2025-07-20T17:48:27.217269Z"
        },
        "id": "HzDULWq44hnJ",
        "colab": {
          "base_uri": "https://localhost:8080/"
        },
        "outputId": "3c9ee67e-0e3c-46c4-b5b3-5bef53d40c04"
      },
      "outputs": [
        {
          "output_type": "stream",
          "name": "stdout",
          "text": [
            "[3. 1. 1. 7. 9. 1. 0. 1. 3. 1.]\n",
            "[3. 1. 1. 7. 9. 1. 0. 1. 3. 1.]\n",
            "[3. 1. 1. 7. 9. 1. 0. 1. 3. 1.]\n",
            "[3 1 1 7 9 1 0 1 3 1]\n",
            "[3. 1. 1. 7. 9. 1. 0. 1. 3. 1.]\n"
          ]
        }
      ],
      "execution_count": 95
    },
    {
      "cell_type": "markdown",
      "source": [
        "#### 37. Create a 5x5 matrix with row values ranging from 0 to 4 (★★☆)"
      ],
      "metadata": {
        "_uuid": "1acff22fb998865b58d5a9b37b0a5ce5b7f13387",
        "id": "rI5MEnL24hnJ"
      }
    },
    {
      "cell_type": "code",
      "source": [
        "Z = np.zeros((5,5))\n",
        "Z += np.arange(5)\n",
        "print(Z)"
      ],
      "metadata": {
        "trusted": true,
        "_uuid": "728c78dc7d9477e3300f58d589fbbc888df3cecb",
        "execution": {
          "iopub.status.busy": "2025-07-20T17:48:27.218248Z",
          "iopub.status.idle": "2025-07-20T17:48:27.218759Z",
          "shell.execute_reply": "2025-07-20T17:48:27.218445Z"
        },
        "id": "KnP4lGSa4hnJ",
        "colab": {
          "base_uri": "https://localhost:8080/"
        },
        "outputId": "5147aa35-6eb4-4f5e-a721-c02071047d59"
      },
      "outputs": [
        {
          "output_type": "stream",
          "name": "stdout",
          "text": [
            "[[0. 1. 2. 3. 4.]\n",
            " [0. 1. 2. 3. 4.]\n",
            " [0. 1. 2. 3. 4.]\n",
            " [0. 1. 2. 3. 4.]\n",
            " [0. 1. 2. 3. 4.]]\n"
          ]
        }
      ],
      "execution_count": 96
    },
    {
      "cell_type": "markdown",
      "source": [
        "#### 38. Consider a generator function that generates 10 integers and use it to build an array (★☆☆)"
      ],
      "metadata": {
        "_uuid": "dd54ec03c8ce814c994611575b49cd2e14b4071a",
        "id": "6J4kLOt64hnK"
      }
    },
    {
      "cell_type": "code",
      "source": [
        "def generate():\n",
        "    for x in range(10):\n",
        "        yield x\n",
        "Z = np.fromiter(generate(),dtype=float,count=-1)\n",
        "print(Z)"
      ],
      "metadata": {
        "trusted": true,
        "_uuid": "229a68e06163a294e63f0b377aa697aa8c925cb2",
        "execution": {
          "iopub.status.busy": "2025-07-20T17:48:27.219393Z",
          "iopub.status.idle": "2025-07-20T17:48:27.220007Z",
          "shell.execute_reply": "2025-07-20T17:48:27.219543Z"
        },
        "id": "sXsY8jsr4hnK",
        "colab": {
          "base_uri": "https://localhost:8080/"
        },
        "outputId": "7630eaa8-c42b-4ae6-a003-eb7ccb34f432"
      },
      "outputs": [
        {
          "output_type": "stream",
          "name": "stdout",
          "text": [
            "[0. 1. 2. 3. 4. 5. 6. 7. 8. 9.]\n"
          ]
        }
      ],
      "execution_count": 76
    },
    {
      "cell_type": "markdown",
      "source": [
        "#### 39. Create a vector of size 10 with values ranging from 0 to 1, both excluded (★★☆)"
      ],
      "metadata": {
        "_uuid": "c52ceff787ef50f22325107cb5f5b1bfac61858f",
        "id": "Uabcvffa4hnK"
      }
    },
    {
      "cell_type": "code",
      "source": [
        "Z = np.linspace(0,1,11,endpoint=False)[1:]\n",
        "print(Z)"
      ],
      "metadata": {
        "trusted": true,
        "_uuid": "bcdb9a3b3a6a47768f53ea8e25b70070566c87eb",
        "execution": {
          "iopub.status.busy": "2025-07-20T17:48:27.221087Z",
          "iopub.status.idle": "2025-07-20T17:48:27.221654Z",
          "shell.execute_reply": "2025-07-20T17:48:27.221284Z"
        },
        "id": "QbmV6uqM4hnK",
        "colab": {
          "base_uri": "https://localhost:8080/"
        },
        "outputId": "049480b5-a41f-4aaf-de81-0b6eb2e93c65"
      },
      "outputs": [
        {
          "output_type": "stream",
          "name": "stdout",
          "text": [
            "[0.09090909 0.18181818 0.27272727 0.36363636 0.45454545 0.54545455\n",
            " 0.63636364 0.72727273 0.81818182 0.90909091]\n"
          ]
        }
      ],
      "execution_count": 98
    },
    {
      "cell_type": "markdown",
      "source": [
        "#### 40. Create a random vector of size 10 and sort it (★★☆)"
      ],
      "metadata": {
        "_uuid": "34f5d6e2e269678714f1e5aafec8a92d6411ecd3",
        "id": "-6DrLYSt4hnL"
      }
    },
    {
      "cell_type": "code",
      "source": [
        "Z = np.random.random(10)\n",
        "Z.sort()\n",
        "print(Z)"
      ],
      "metadata": {
        "trusted": true,
        "_uuid": "650bd640404dd8cfdbeb0d91b8fc5ea844ee60a8",
        "execution": {
          "iopub.status.busy": "2025-07-20T17:48:27.222213Z",
          "iopub.status.idle": "2025-07-20T17:48:27.222773Z",
          "shell.execute_reply": "2025-07-20T17:48:27.222458Z"
        },
        "id": "WGQsXAjN4hnL",
        "colab": {
          "base_uri": "https://localhost:8080/"
        },
        "outputId": "d7f7108a-b112-4258-d1ab-4e2044af6bf7"
      },
      "outputs": [
        {
          "output_type": "stream",
          "name": "stdout",
          "text": [
            "[0.00267409 0.11522651 0.22246262 0.29316384 0.32931646 0.43913539\n",
            " 0.49804566 0.82148766 0.85424299 0.87987644]\n"
          ]
        }
      ],
      "execution_count": 100
    },
    {
      "cell_type": "markdown",
      "source": [
        "#### 41. How to sum a small array faster than np.sum? (★★☆)"
      ],
      "metadata": {
        "_uuid": "83c5fbdf8c61a57380aa9deeb60fb1546c5560bc",
        "id": "ung4WfTC4hnL"
      }
    },
    {
      "cell_type": "code",
      "source": [
        "# Author: Evgeni Burovski\n",
        "\n",
        "Z = np.arange(10)\n",
        "np.add.reduce(Z)"
      ],
      "metadata": {
        "trusted": true,
        "_uuid": "1c694d4f7a152005de0201d7459cca0fb9daf820",
        "execution": {
          "iopub.status.busy": "2025-07-20T17:48:27.223465Z",
          "iopub.status.idle": "2025-07-20T17:48:27.223857Z",
          "shell.execute_reply": "2025-07-20T17:48:27.223613Z"
        },
        "id": "yvSLB27H4hnL",
        "colab": {
          "base_uri": "https://localhost:8080/"
        },
        "outputId": "ef8dab24-8eb4-4fe8-b591-25faee29a805"
      },
      "outputs": [
        {
          "output_type": "execute_result",
          "data": {
            "text/plain": [
              "np.int64(45)"
            ]
          },
          "metadata": {},
          "execution_count": 102
        }
      ],
      "execution_count": 102
    },
    {
      "cell_type": "markdown",
      "source": [
        "#### 42. Consider two random array A and B, check if they are equal (★★☆)"
      ],
      "metadata": {
        "_uuid": "0502011982ec9de8f998bdcc76ff2d00dc9bad6e",
        "id": "e3rxODXY4hnL"
      }
    },
    {
      "cell_type": "code",
      "source": [
        "A = np.random.randint(0,2,5)\n",
        "B = np.random.randint(0,2,5)\n",
        "\n",
        "# Assuming identical shape of the arrays and a tolerance for the comparison of values\n",
        "equal = np.allclose(A,B)\n",
        "print(equal)\n",
        "\n",
        "# Checking both the shape and the element values, no tolerance (values have to be exactly equal)\n",
        "equal = np.array_equal(A,B)\n",
        "print(equal)"
      ],
      "metadata": {
        "trusted": true,
        "_uuid": "bc542c3112954260eac0bcf08bc8b0ae2ce0ae33",
        "execution": {
          "iopub.status.busy": "2025-07-20T17:48:27.224648Z",
          "iopub.status.idle": "2025-07-20T17:48:27.225028Z",
          "shell.execute_reply": "2025-07-20T17:48:27.224826Z"
        },
        "id": "31etXVDD4hnL",
        "colab": {
          "base_uri": "https://localhost:8080/"
        },
        "outputId": "4e571a9a-b5ba-4b65-8439-1137bfab9af1"
      },
      "outputs": [
        {
          "output_type": "stream",
          "name": "stdout",
          "text": [
            "False\n",
            "False\n"
          ]
        }
      ],
      "execution_count": 103
    },
    {
      "cell_type": "markdown",
      "source": [
        "#### 43. Make an array immutable (read-only) (★★☆)"
      ],
      "metadata": {
        "_uuid": "100623c44dc702d6ac2ac5d35b4e5173c906f317",
        "id": "O9pO6rJh4hnM"
      }
    },
    {
      "cell_type": "code",
      "source": [
        "Z = np.zeros(10)\n",
        "Z.flags.writeable = False\n",
        "Z[0] = 1"
      ],
      "metadata": {
        "trusted": true,
        "_uuid": "14189438d83341e3e1f92c6a2ced78eefe330569",
        "execution": {
          "iopub.status.busy": "2025-07-20T17:48:27.225626Z",
          "iopub.status.idle": "2025-07-20T17:48:27.225973Z",
          "shell.execute_reply": "2025-07-20T17:48:27.22578Z"
        },
        "id": "IAV4cUt_4hnM",
        "colab": {
          "base_uri": "https://localhost:8080/",
          "height": 176
        },
        "outputId": "c3bb668a-8bdc-4851-93e6-b14fdc3c8804"
      },
      "outputs": [
        {
          "output_type": "error",
          "ename": "ValueError",
          "evalue": "assignment destination is read-only",
          "traceback": [
            "\u001b[0;31m---------------------------------------------------------------------------\u001b[0m",
            "\u001b[0;31mValueError\u001b[0m                                Traceback (most recent call last)",
            "\u001b[0;32m/tmp/ipython-input-104-4152302507.py\u001b[0m in \u001b[0;36m<cell line: 0>\u001b[0;34m()\u001b[0m\n\u001b[1;32m      1\u001b[0m \u001b[0mZ\u001b[0m \u001b[0;34m=\u001b[0m \u001b[0mnp\u001b[0m\u001b[0;34m.\u001b[0m\u001b[0mzeros\u001b[0m\u001b[0;34m(\u001b[0m\u001b[0;36m10\u001b[0m\u001b[0;34m)\u001b[0m\u001b[0;34m\u001b[0m\u001b[0;34m\u001b[0m\u001b[0m\n\u001b[1;32m      2\u001b[0m \u001b[0mZ\u001b[0m\u001b[0;34m.\u001b[0m\u001b[0mflags\u001b[0m\u001b[0;34m.\u001b[0m\u001b[0mwriteable\u001b[0m \u001b[0;34m=\u001b[0m \u001b[0;32mFalse\u001b[0m\u001b[0;34m\u001b[0m\u001b[0;34m\u001b[0m\u001b[0m\n\u001b[0;32m----> 3\u001b[0;31m \u001b[0mZ\u001b[0m\u001b[0;34m[\u001b[0m\u001b[0;36m0\u001b[0m\u001b[0;34m]\u001b[0m \u001b[0;34m=\u001b[0m \u001b[0;36m1\u001b[0m\u001b[0;34m\u001b[0m\u001b[0;34m\u001b[0m\u001b[0m\n\u001b[0m",
            "\u001b[0;31mValueError\u001b[0m: assignment destination is read-only"
          ]
        }
      ],
      "execution_count": 104
    },
    {
      "cell_type": "markdown",
      "source": [
        "#### 44. Consider a random 10x2 matrix representing cartesian coordinates, convert them to polar coordinates (★★☆)"
      ],
      "metadata": {
        "_uuid": "acb91faea0d29424787d28d2b532530712d96843",
        "id": "5dmvEag44hnM"
      }
    },
    {
      "cell_type": "code",
      "source": [
        "Z = np.random.random((10,2))\n",
        "X,Y = Z[:,0], Z[:,1]\n",
        "R = np.sqrt(X**2+Y**2)\n",
        "T = np.arctan2(Y,X)\n",
        "print(R)\n",
        "print(T)"
      ],
      "metadata": {
        "trusted": true,
        "_uuid": "cc45f36860f02c3fcedb45f0c5358e6d432334d7",
        "execution": {
          "iopub.status.busy": "2025-07-20T17:48:27.226556Z",
          "iopub.status.idle": "2025-07-20T17:48:27.226974Z",
          "shell.execute_reply": "2025-07-20T17:48:27.22676Z"
        },
        "id": "lnFVZs2Q4hnN",
        "colab": {
          "base_uri": "https://localhost:8080/"
        },
        "outputId": "3745892a-f086-4a86-8efb-688bdb49edf2"
      },
      "outputs": [
        {
          "output_type": "stream",
          "name": "stdout",
          "text": [
            "[0.8835623  0.75918384 0.80258105 1.00910645 0.92119762 0.45181616\n",
            " 1.16410996 0.48977915 0.5172506  0.78257588]\n",
            "[0.56705691 1.08757595 1.3942327  0.38671826 0.17470536 1.29348883\n",
            " 0.65373002 1.3119203  1.00349636 0.50162316]\n"
          ]
        }
      ],
      "execution_count": 105
    },
    {
      "cell_type": "markdown",
      "source": [
        "#### 45. Create random vector of size 10 and replace the maximum value by 0 (★★☆)"
      ],
      "metadata": {
        "_uuid": "353f854c6c99f2889b0d31cc69bc1fd7fccd0fe1",
        "id": "lvG5_nZ24hnN"
      }
    },
    {
      "cell_type": "code",
      "source": [
        "Z = np.random.random(10)\n",
        "Z[Z.argmax()] = 0\n",
        "print(Z)\n",
        "Z.argmax()"
      ],
      "metadata": {
        "trusted": true,
        "_uuid": "fd9c6de99887f58497e8880f38b8aab24beaef6a",
        "execution": {
          "iopub.status.busy": "2025-07-20T17:48:27.227572Z",
          "iopub.status.idle": "2025-07-20T17:48:27.228056Z",
          "shell.execute_reply": "2025-07-20T17:48:27.227718Z"
        },
        "id": "lbuiZpM-4hnN",
        "colab": {
          "base_uri": "https://localhost:8080/"
        },
        "outputId": "1b05fff4-ac0c-4688-cf3d-af2d6da89804"
      },
      "outputs": [
        {
          "output_type": "stream",
          "name": "stdout",
          "text": [
            "[0.12174386 0.14269779 0.03998168 0.         0.39957042 0.75350595\n",
            " 0.36644926 0.18350268 0.34566997 0.7409442 ]\n"
          ]
        },
        {
          "output_type": "execute_result",
          "data": {
            "text/plain": [
              "np.int64(5)"
            ]
          },
          "metadata": {},
          "execution_count": 112
        }
      ],
      "execution_count": 112
    },
    {
      "cell_type": "markdown",
      "source": [
        "#### 46. Create a structured array with `x` and `y` coordinates covering the \\[0,1\\]x\\[0,1\\] area (★★☆)"
      ],
      "metadata": {
        "_uuid": "f7790f5d373c9f35e4407da026b1f432678e6a54",
        "id": "Iv5ftv094hnN"
      }
    },
    {
      "cell_type": "code",
      "source": [
        "Z = np.zeros((5,5), [('x',float),('y',float)])\n",
        "Z['x'], Z['y'] = np.meshgrid(np.linspace(0,1,5),\n",
        "                             np.linspace(0,1,5))\n",
        "print(Z)"
      ],
      "metadata": {
        "trusted": true,
        "_uuid": "d41b7ebb14c22e1a447c4fed771bcc806a2e30b1",
        "execution": {
          "iopub.status.busy": "2025-07-20T17:48:27.228702Z",
          "iopub.status.idle": "2025-07-20T17:48:27.229175Z",
          "shell.execute_reply": "2025-07-20T17:48:27.228916Z"
        },
        "id": "r_MIDMQq4hnN",
        "colab": {
          "base_uri": "https://localhost:8080/"
        },
        "outputId": "a64267c3-3535-4aca-c74d-a454c74275c0"
      },
      "outputs": [
        {
          "output_type": "stream",
          "name": "stdout",
          "text": [
            "[[(0.  , 0.  ) (0.25, 0.  ) (0.5 , 0.  ) (0.75, 0.  ) (1.  , 0.  )]\n",
            " [(0.  , 0.25) (0.25, 0.25) (0.5 , 0.25) (0.75, 0.25) (1.  , 0.25)]\n",
            " [(0.  , 0.5 ) (0.25, 0.5 ) (0.5 , 0.5 ) (0.75, 0.5 ) (1.  , 0.5 )]\n",
            " [(0.  , 0.75) (0.25, 0.75) (0.5 , 0.75) (0.75, 0.75) (1.  , 0.75)]\n",
            " [(0.  , 1.  ) (0.25, 1.  ) (0.5 , 1.  ) (0.75, 1.  ) (1.  , 1.  )]]\n"
          ]
        }
      ],
      "execution_count": 113
    },
    {
      "cell_type": "markdown",
      "source": [
        "####  47. Given two arrays, X and Y, construct the Cauchy matrix C (Cij =1/(xi - yj))"
      ],
      "metadata": {
        "_uuid": "1300814d19e6012622274d6a0a7b5551159278dc",
        "id": "UnB3Q-hf4hnO"
      }
    },
    {
      "cell_type": "code",
      "source": [
        "# Author: Evgeni Burovski\n",
        "\n",
        "X = np.arange(8)\n",
        "Y = X + 0.5\n",
        "C = 1.0 / np.subtract.outer(X, Y)\n",
        "print(np.linalg.det(C))"
      ],
      "metadata": {
        "trusted": true,
        "_uuid": "991ae1730e3cfac3214f49ffa0734512d4136779",
        "execution": {
          "iopub.status.busy": "2025-07-20T17:48:27.22987Z",
          "iopub.status.idle": "2025-07-20T17:48:27.230247Z",
          "shell.execute_reply": "2025-07-20T17:48:27.230025Z"
        },
        "id": "8xNJ4bOV4hnS",
        "colab": {
          "base_uri": "https://localhost:8080/"
        },
        "outputId": "8a11792f-766e-4a70-ffae-4e809326187d"
      },
      "outputs": [
        {
          "output_type": "stream",
          "name": "stdout",
          "text": [
            "3638.163637117973\n"
          ]
        }
      ],
      "execution_count": 117
    },
    {
      "cell_type": "markdown",
      "source": [
        "#### 48. Print the minimum and maximum representable value for each numpy scalar type (★★☆)"
      ],
      "metadata": {
        "_uuid": "879952e7f6a37f63e8ebadf4baa516325eeb60c6",
        "id": "mT3PxK7R4hnS"
      }
    },
    {
      "cell_type": "code",
      "source": [
        "for dtype in [np.int8, np.int32, np.int64]:\n",
        "   print(np.iinfo(dtype).min)\n",
        "   print(np.iinfo(dtype).max)\n",
        "for dtype in [np.float32, np.float64]:\n",
        "   print(np.finfo(dtype).min)\n",
        "   print(np.finfo(dtype).max)\n",
        "   print(np.finfo(dtype).eps)"
      ],
      "metadata": {
        "trusted": true,
        "_uuid": "c0582da4b3a82183e3230a0249e9a07bb9329698",
        "execution": {
          "iopub.status.busy": "2025-07-20T17:48:27.230852Z",
          "iopub.status.idle": "2025-07-20T17:48:27.231234Z",
          "shell.execute_reply": "2025-07-20T17:48:27.231021Z"
        },
        "id": "6LQq3g6k4hnS",
        "colab": {
          "base_uri": "https://localhost:8080/"
        },
        "outputId": "d0591e37-e6e5-4144-e6c1-133d8d905457"
      },
      "outputs": [
        {
          "output_type": "stream",
          "name": "stdout",
          "text": [
            "-128\n",
            "127\n",
            "-2147483648\n",
            "2147483647\n",
            "-9223372036854775808\n",
            "9223372036854775807\n",
            "-3.4028235e+38\n",
            "3.4028235e+38\n",
            "1.1920929e-07\n",
            "-1.7976931348623157e+308\n",
            "1.7976931348623157e+308\n",
            "2.220446049250313e-16\n"
          ]
        }
      ],
      "execution_count": 118
    },
    {
      "cell_type": "markdown",
      "source": [
        "#### 49. How to print all the values of an array? (★★☆)"
      ],
      "metadata": {
        "_uuid": "7ce0b16c0951d51c8a9755e83432bcb5faa7b542",
        "id": "a3y4Fvwi4hnS"
      }
    },
    {
      "cell_type": "code",
      "source": [
        "# np.set_printoptions(threshold=np.nan)\n",
        "Z = np.zeros((16,16))\n",
        "print(Z)"
      ],
      "metadata": {
        "trusted": true,
        "_uuid": "b79dd172d33c2f817244df8ebafda90e1974ea26",
        "execution": {
          "iopub.status.busy": "2025-07-20T17:48:27.231878Z",
          "iopub.status.idle": "2025-07-20T17:48:27.232303Z",
          "shell.execute_reply": "2025-07-20T17:48:27.232049Z"
        },
        "id": "1gn6r9vN4hnS",
        "colab": {
          "base_uri": "https://localhost:8080/"
        },
        "outputId": "cd7ba0f5-929a-48f7-a160-85ffbd8ae89d"
      },
      "outputs": [
        {
          "output_type": "stream",
          "name": "stdout",
          "text": [
            "[[0. 0. 0. 0. 0. 0. 0. 0. 0. 0. 0. 0. 0. 0. 0. 0.]\n",
            " [0. 0. 0. 0. 0. 0. 0. 0. 0. 0. 0. 0. 0. 0. 0. 0.]\n",
            " [0. 0. 0. 0. 0. 0. 0. 0. 0. 0. 0. 0. 0. 0. 0. 0.]\n",
            " [0. 0. 0. 0. 0. 0. 0. 0. 0. 0. 0. 0. 0. 0. 0. 0.]\n",
            " [0. 0. 0. 0. 0. 0. 0. 0. 0. 0. 0. 0. 0. 0. 0. 0.]\n",
            " [0. 0. 0. 0. 0. 0. 0. 0. 0. 0. 0. 0. 0. 0. 0. 0.]\n",
            " [0. 0. 0. 0. 0. 0. 0. 0. 0. 0. 0. 0. 0. 0. 0. 0.]\n",
            " [0. 0. 0. 0. 0. 0. 0. 0. 0. 0. 0. 0. 0. 0. 0. 0.]\n",
            " [0. 0. 0. 0. 0. 0. 0. 0. 0. 0. 0. 0. 0. 0. 0. 0.]\n",
            " [0. 0. 0. 0. 0. 0. 0. 0. 0. 0. 0. 0. 0. 0. 0. 0.]\n",
            " [0. 0. 0. 0. 0. 0. 0. 0. 0. 0. 0. 0. 0. 0. 0. 0.]\n",
            " [0. 0. 0. 0. 0. 0. 0. 0. 0. 0. 0. 0. 0. 0. 0. 0.]\n",
            " [0. 0. 0. 0. 0. 0. 0. 0. 0. 0. 0. 0. 0. 0. 0. 0.]\n",
            " [0. 0. 0. 0. 0. 0. 0. 0. 0. 0. 0. 0. 0. 0. 0. 0.]\n",
            " [0. 0. 0. 0. 0. 0. 0. 0. 0. 0. 0. 0. 0. 0. 0. 0.]\n",
            " [0. 0. 0. 0. 0. 0. 0. 0. 0. 0. 0. 0. 0. 0. 0. 0.]]\n"
          ]
        }
      ],
      "execution_count": 120
    },
    {
      "cell_type": "markdown",
      "source": [
        "#### 50. How to find the closest value (to a given scalar) in a vector? (★★☆)"
      ],
      "metadata": {
        "_uuid": "3cd7d90b37471536a03b27117c01d82a1ed1439c",
        "id": "Ji9QjOkb4hnT"
      }
    },
    {
      "cell_type": "code",
      "source": [
        "Z = np.arange(100)\n",
        "v = np.random.uniform(0,100)\n",
        "index = (np.abs(Z-v)).argmin()\n",
        "print(Z[index])"
      ],
      "metadata": {
        "trusted": true,
        "_uuid": "2d0087af5d396d4b823122485c006f0e4a8f5b86",
        "execution": {
          "iopub.status.busy": "2025-07-20T17:48:27.233084Z",
          "iopub.status.idle": "2025-07-20T17:48:27.234445Z",
          "shell.execute_reply": "2025-07-20T17:48:27.233745Z"
        },
        "id": "xN9LfDU44hnT",
        "colab": {
          "base_uri": "https://localhost:8080/"
        },
        "outputId": "d98fb92d-81d4-4aa7-89a8-9afe5d26d785"
      },
      "outputs": [
        {
          "output_type": "stream",
          "name": "stdout",
          "text": [
            "84\n"
          ]
        }
      ],
      "execution_count": 121
    },
    {
      "cell_type": "markdown",
      "source": [
        "#### 51. Create a structured array representing a position (x,y) and a color (r,g,b) (★★☆)"
      ],
      "metadata": {
        "_uuid": "6282f6e53b61d3d121c0a4be1bb3441da1069e37",
        "id": "sFjLK1Nj4hnT"
      }
    },
    {
      "cell_type": "code",
      "source": [
        "Z = np.zeros(10, [ ('position', [ ('x', float, 1),\n",
        "                                  ('y', float, 1)]),\n",
        "                   ('color',    [ ('r', float, 1),\n",
        "                                  ('g', float, 1),\n",
        "                                  ('b', float, 1)])])\n",
        "print(Z)"
      ],
      "metadata": {
        "trusted": true,
        "_uuid": "3a84a0c89222c2e959c7a618c2d5f70f1b1b3066",
        "execution": {
          "iopub.status.busy": "2025-07-20T17:48:27.235288Z",
          "iopub.status.idle": "2025-07-20T17:48:27.235958Z",
          "shell.execute_reply": "2025-07-20T17:48:27.235651Z"
        },
        "id": "EcbA8Z644hnT",
        "colab": {
          "base_uri": "https://localhost:8080/"
        },
        "outputId": "b2c22d09-92c4-47b1-d089-51efc1095b13"
      },
      "outputs": [
        {
          "output_type": "stream",
          "name": "stdout",
          "text": [
            "[(([0.], [0.]), ([0.], [0.], [0.])) (([0.], [0.]), ([0.], [0.], [0.]))\n",
            " (([0.], [0.]), ([0.], [0.], [0.])) (([0.], [0.]), ([0.], [0.], [0.]))\n",
            " (([0.], [0.]), ([0.], [0.], [0.])) (([0.], [0.]), ([0.], [0.], [0.]))\n",
            " (([0.], [0.]), ([0.], [0.], [0.])) (([0.], [0.]), ([0.], [0.], [0.]))\n",
            " (([0.], [0.]), ([0.], [0.], [0.])) (([0.], [0.]), ([0.], [0.], [0.]))]\n"
          ]
        }
      ],
      "execution_count": 122
    },
    {
      "cell_type": "markdown",
      "source": [
        "#### 52. Consider a random vector with shape (100,2) representing coordinates, find point by point distances (★★☆)"
      ],
      "metadata": {
        "_uuid": "d516168bf762ce6077e2d6aff43d1e075e6bb252",
        "id": "VDNDt2po4hnT"
      }
    },
    {
      "cell_type": "code",
      "source": [
        "Z = np.random.random((10,2))\n",
        "X,Y = np.atleast_2d(Z[:,0], Z[:,1])\n",
        "D = np.sqrt( (X-X.T)**2 + (Y-Y.T)**2)\n",
        "print(D)\n",
        "\n",
        "# Much faster with scipy\n",
        "import scipy\n",
        "# Thanks Gavin Heverly-Coulson (#issue 1)\n",
        "import scipy.spatial\n",
        "\n",
        "Z = np.random.random((10,2))\n",
        "D = scipy.spatial.distance.cdist(Z,Z)\n",
        "print(D)"
      ],
      "metadata": {
        "trusted": true,
        "_uuid": "65d11532bfd393269790b8209036a862545f5154",
        "execution": {
          "iopub.status.busy": "2025-07-20T17:48:27.23697Z",
          "iopub.status.idle": "2025-07-20T17:48:27.237459Z",
          "shell.execute_reply": "2025-07-20T17:48:27.237138Z"
        },
        "id": "DPtlNaf94hnU",
        "colab": {
          "base_uri": "https://localhost:8080/"
        },
        "outputId": "b3ba4299-6336-4389-d173-ed270a36272a"
      },
      "outputs": [
        {
          "output_type": "stream",
          "name": "stdout",
          "text": [
            "[[0.         0.59795679 0.35550602 0.33214854 0.75057162 0.47036088\n",
            "  0.55059888 0.29654258 0.55866647 0.74328111]\n",
            " [0.59795679 0.         0.8162597  0.58255797 0.53960773 0.44886232\n",
            "  0.69258095 0.65873124 0.43523821 0.55017071]\n",
            " [0.35550602 0.8162597  0.         0.68654231 0.71188037 0.46879394\n",
            "  0.90317588 0.16402079 0.9002323  0.69650012]\n",
            " [0.33214854 0.58255797 0.68654231 0.         0.94695491 0.69501079\n",
            "  0.21953163 0.61845205 0.30330299 0.94594302]\n",
            " [0.75057162 0.53960773 0.71188037 0.94695491 0.         0.28133765\n",
            "  1.12844117 0.56926343 0.93169675 0.02032027]\n",
            " [0.47036088 0.44886232 0.46879394 0.69501079 0.28133765 0.\n",
            "  0.89343308 0.31030195 0.74226315 0.2731041 ]\n",
            " [0.55059888 0.69258095 0.90317588 0.21953163 1.12844117 0.89343308\n",
            "  0.         0.83783587 0.28715782 1.12982196]\n",
            " [0.29654258 0.65873124 0.16402079 0.61845205 0.56926343 0.31030195\n",
            "  0.83783587 0.         0.78899703 0.5557555 ]\n",
            " [0.55866647 0.43523821 0.9002323  0.30330299 0.93169675 0.74226315\n",
            "  0.28715782 0.78899703 0.         0.93719229]\n",
            " [0.74328111 0.55017071 0.69650012 0.94594302 0.02032027 0.2731041\n",
            "  1.12982196 0.5557555  0.93719229 0.        ]]\n",
            "[[0.         0.5291354  0.17697315 0.72303103 0.55816026 0.8245906\n",
            "  0.79825656 0.63668162 0.2195835  0.59967274]\n",
            " [0.5291354  0.         0.35218459 0.54026623 0.72351504 0.89472507\n",
            "  0.45462867 0.69537568 0.57374696 0.93456606]\n",
            " [0.17697315 0.35218459 0.         0.62105827 0.56802079 0.81343777\n",
            "  0.65795063 0.60990369 0.28438218 0.68679106]\n",
            " [0.72303103 0.54026623 0.62105827 0.         0.41874731 0.42956804\n",
            "  0.21661899 0.3001347  0.57922391 0.70395042]\n",
            " [0.55816026 0.72351504 0.56802079 0.41874731 0.         0.27041987\n",
            "  0.61934667 0.13705041 0.3411573  0.28526948]\n",
            " [0.8245906  0.89472507 0.81343777 0.42956804 0.27041987 0.\n",
            "  0.64402905 0.20717322 0.6102539  0.4496572 ]\n",
            " [0.79825656 0.45462867 0.65795063 0.21661899 0.61934667 0.64402905\n",
            "  0.         0.51178753 0.70501689 0.90114341]\n",
            " [0.63668162 0.69537568 0.60990369 0.3001347  0.13705041 0.20717322\n",
            "  0.51178753 0.         0.43262393 0.41465799]\n",
            " [0.2195835  0.57374696 0.28438218 0.57922391 0.3411573  0.6102539\n",
            "  0.70501689 0.43262393 0.         0.40322001]\n",
            " [0.59967274 0.93456606 0.68679106 0.70395042 0.28526948 0.4496572\n",
            "  0.90114341 0.41465799 0.40322001 0.        ]]\n"
          ]
        }
      ],
      "execution_count": 84
    },
    {
      "cell_type": "markdown",
      "source": [
        "#### 53. How to convert a float (32 bits) array into an integer (32 bits) in place?"
      ],
      "metadata": {
        "_uuid": "35b4e9307a72301c43b077924e4674cdee69fdf0",
        "id": "ElKa9up34hnU"
      }
    },
    {
      "cell_type": "code",
      "source": [
        "Z = np.arange(10, dtype=np.float32)\n",
        "Z = Z.astype(np.int32, copy=False)\n",
        "print(Z)"
      ],
      "metadata": {
        "trusted": true,
        "_uuid": "c67695d2efff4f63dbe4037694504a84deb8d4b9",
        "execution": {
          "iopub.status.busy": "2025-07-20T17:48:27.238125Z",
          "iopub.status.idle": "2025-07-20T17:48:27.238633Z",
          "shell.execute_reply": "2025-07-20T17:48:27.238278Z"
        },
        "id": "1KRrSh1K4hnU",
        "colab": {
          "base_uri": "https://localhost:8080/"
        },
        "outputId": "167e7cb4-5023-4d15-cf82-3d9e87eb8d39"
      },
      "outputs": [
        {
          "output_type": "stream",
          "name": "stdout",
          "text": [
            "[0 1 2 3 4 5 6 7 8 9]\n"
          ]
        }
      ],
      "execution_count": 85
    },
    {
      "cell_type": "markdown",
      "source": [
        "#### 54. How to read the following file? (★★☆)"
      ],
      "metadata": {
        "_uuid": "ba624a09e6c7ad2469893f0803914f9df40b6e43",
        "id": "eOxzJcyb4hnU"
      }
    },
    {
      "cell_type": "code",
      "source": [
        "from io import StringIO\n",
        "\n",
        "# Fake file\n",
        "s = StringIO(\"\"\"1, 2, 3, 4, 5\\n\n",
        "                6,  ,  , 7, 8\\n\n",
        "                 ,  , 9,10,11\\n\"\"\")\n",
        "Z = np.genfromtxt(s, delimiter=\",\", dtype=np.int)\n",
        "print(Z)"
      ],
      "metadata": {
        "trusted": true,
        "_uuid": "18545a5b5bde85eb8b664df655672a35a88e63b1",
        "execution": {
          "iopub.status.busy": "2025-07-20T17:48:27.239544Z",
          "iopub.status.idle": "2025-07-20T17:48:27.240057Z",
          "shell.execute_reply": "2025-07-20T17:48:27.239701Z"
        },
        "id": "bHjyaZq64hnU",
        "colab": {
          "base_uri": "https://localhost:8080/",
          "height": 402
        },
        "outputId": "d608e9d8-552a-418c-c90f-7355b53130e9"
      },
      "outputs": [
        {
          "output_type": "error",
          "ename": "AttributeError",
          "evalue": "module 'numpy' has no attribute 'int'.\n`np.int` was a deprecated alias for the builtin `int`. To avoid this error in existing code, use `int` by itself. Doing this will not modify any behavior and is safe. When replacing `np.int`, you may wish to use e.g. `np.int64` or `np.int32` to specify the precision. If you wish to review your current use, check the release note link for additional information.\nThe aliases was originally deprecated in NumPy 1.20; for more details and guidance see the original release note at:\n    https://numpy.org/devdocs/release/1.20.0-notes.html#deprecations",
          "traceback": [
            "\u001b[0;31m---------------------------------------------------------------------------\u001b[0m",
            "\u001b[0;31mAttributeError\u001b[0m                            Traceback (most recent call last)",
            "\u001b[0;32m/tmp/ipython-input-86-3610054046.py\u001b[0m in \u001b[0;36m<cell line: 0>\u001b[0;34m()\u001b[0m\n\u001b[1;32m      5\u001b[0m                 \u001b[0;36m6\u001b[0m\u001b[0;34m,\u001b[0m  \u001b[0;34m,\u001b[0m  \u001b[0;34m,\u001b[0m \u001b[0;36m7\u001b[0m\u001b[0;34m,\u001b[0m \u001b[0;36m8\u001b[0m\u001b[0;31m\\\u001b[0m\u001b[0mn\u001b[0m\u001b[0;34m\u001b[0m\u001b[0;34m\u001b[0m\u001b[0m\n\u001b[1;32m      6\u001b[0m                  ,  , 9,10,11\\n\"\"\")\n\u001b[0;32m----> 7\u001b[0;31m \u001b[0mZ\u001b[0m \u001b[0;34m=\u001b[0m \u001b[0mnp\u001b[0m\u001b[0;34m.\u001b[0m\u001b[0mgenfromtxt\u001b[0m\u001b[0;34m(\u001b[0m\u001b[0ms\u001b[0m\u001b[0;34m,\u001b[0m \u001b[0mdelimiter\u001b[0m\u001b[0;34m=\u001b[0m\u001b[0;34m\",\"\u001b[0m\u001b[0;34m,\u001b[0m \u001b[0mdtype\u001b[0m\u001b[0;34m=\u001b[0m\u001b[0mnp\u001b[0m\u001b[0;34m.\u001b[0m\u001b[0mint\u001b[0m\u001b[0;34m)\u001b[0m\u001b[0;34m\u001b[0m\u001b[0;34m\u001b[0m\u001b[0m\n\u001b[0m\u001b[1;32m      8\u001b[0m \u001b[0mprint\u001b[0m\u001b[0;34m(\u001b[0m\u001b[0mZ\u001b[0m\u001b[0;34m)\u001b[0m\u001b[0;34m\u001b[0m\u001b[0;34m\u001b[0m\u001b[0m\n",
            "\u001b[0;32m/usr/local/lib/python3.11/dist-packages/numpy/__init__.py\u001b[0m in \u001b[0;36m__getattr__\u001b[0;34m(attr)\u001b[0m\n\u001b[1;32m    392\u001b[0m \u001b[0;34m\u001b[0m\u001b[0m\n\u001b[1;32m    393\u001b[0m         \u001b[0;32mif\u001b[0m \u001b[0mattr\u001b[0m \u001b[0;32min\u001b[0m \u001b[0m__former_attrs__\u001b[0m\u001b[0;34m:\u001b[0m\u001b[0;34m\u001b[0m\u001b[0;34m\u001b[0m\u001b[0m\n\u001b[0;32m--> 394\u001b[0;31m             \u001b[0;32mraise\u001b[0m \u001b[0mAttributeError\u001b[0m\u001b[0;34m(\u001b[0m\u001b[0m__former_attrs__\u001b[0m\u001b[0;34m[\u001b[0m\u001b[0mattr\u001b[0m\u001b[0;34m]\u001b[0m\u001b[0;34m)\u001b[0m\u001b[0;34m\u001b[0m\u001b[0;34m\u001b[0m\u001b[0m\n\u001b[0m\u001b[1;32m    395\u001b[0m \u001b[0;34m\u001b[0m\u001b[0m\n\u001b[1;32m    396\u001b[0m         \u001b[0;32mif\u001b[0m \u001b[0mattr\u001b[0m \u001b[0;32min\u001b[0m \u001b[0m__expired_attributes__\u001b[0m\u001b[0;34m:\u001b[0m\u001b[0;34m\u001b[0m\u001b[0;34m\u001b[0m\u001b[0m\n",
            "\u001b[0;31mAttributeError\u001b[0m: module 'numpy' has no attribute 'int'.\n`np.int` was a deprecated alias for the builtin `int`. To avoid this error in existing code, use `int` by itself. Doing this will not modify any behavior and is safe. When replacing `np.int`, you may wish to use e.g. `np.int64` or `np.int32` to specify the precision. If you wish to review your current use, check the release note link for additional information.\nThe aliases was originally deprecated in NumPy 1.20; for more details and guidance see the original release note at:\n    https://numpy.org/devdocs/release/1.20.0-notes.html#deprecations"
          ]
        }
      ],
      "execution_count": 86
    },
    {
      "cell_type": "markdown",
      "source": [
        "#### 55. What is the equivalent of enumerate for numpy arrays? (★★☆)"
      ],
      "metadata": {
        "_uuid": "2069af8a433b9e7ed0adba61834ee1c08a691e86",
        "id": "6X58sb6G4hnV"
      }
    },
    {
      "cell_type": "code",
      "source": [
        "Z = np.arange(9).reshape(3,3)\n",
        "for index, value in np.ndenumerate(Z):\n",
        "    print(index, value)\n",
        "for index in np.ndindex(Z.shape):\n",
        "    print(index, Z[index])"
      ],
      "metadata": {
        "trusted": true,
        "_uuid": "336bd26b33356fb424875e33319f8bd857b29f30",
        "execution": {
          "iopub.status.busy": "2025-07-20T17:48:27.240788Z",
          "iopub.status.idle": "2025-07-20T17:48:27.241398Z",
          "shell.execute_reply": "2025-07-20T17:48:27.24102Z"
        },
        "id": "Fw9ldWU94hnV",
        "colab": {
          "base_uri": "https://localhost:8080/"
        },
        "outputId": "3a33c4f8-c72a-4302-e866-4f9476496029"
      },
      "outputs": [
        {
          "output_type": "stream",
          "name": "stdout",
          "text": [
            "(0, 0) 0\n",
            "(0, 1) 1\n",
            "(0, 2) 2\n",
            "(1, 0) 3\n",
            "(1, 1) 4\n",
            "(1, 2) 5\n",
            "(2, 0) 6\n",
            "(2, 1) 7\n",
            "(2, 2) 8\n",
            "(0, 0) 0\n",
            "(0, 1) 1\n",
            "(0, 2) 2\n",
            "(1, 0) 3\n",
            "(1, 1) 4\n",
            "(1, 2) 5\n",
            "(2, 0) 6\n",
            "(2, 1) 7\n",
            "(2, 2) 8\n"
          ]
        }
      ],
      "execution_count": 123
    },
    {
      "cell_type": "markdown",
      "source": [
        "#### 56. Generate a generic 2D Gaussian-like array (★★☆)"
      ],
      "metadata": {
        "_uuid": "93ffc8b3b84a62c05657bebcea6a1f825017907f",
        "id": "n4D_2Q0l4hnV"
      }
    },
    {
      "cell_type": "code",
      "source": [
        "X, Y = np.meshgrid(np.linspace(-1,1,10), np.linspace(-1,1,10))\n",
        "D = np.sqrt(X*X+Y*Y)\n",
        "sigma, mu = 1.0, 0.0\n",
        "G = np.exp(-( (D-mu)**2 / ( 2.0 * sigma**2 ) ) )\n",
        "print(G)"
      ],
      "metadata": {
        "trusted": true,
        "_uuid": "8c14b899fb4ecb85fbbfea299f36d42f567fce25",
        "execution": {
          "iopub.status.busy": "2025-07-20T17:48:27.242121Z",
          "iopub.status.idle": "2025-07-20T17:48:27.242548Z",
          "shell.execute_reply": "2025-07-20T17:48:27.242265Z"
        },
        "id": "MncTnqs84hnV",
        "outputId": "f7b572b9-511e-4f00-b5d2-31ef96d89949",
        "colab": {
          "base_uri": "https://localhost:8080/"
        }
      },
      "outputs": [
        {
          "output_type": "stream",
          "name": "stdout",
          "text": [
            "[[0.36787944 0.44822088 0.51979489 0.57375342 0.60279818 0.60279818\n",
            "  0.57375342 0.51979489 0.44822088 0.36787944]\n",
            " [0.44822088 0.54610814 0.63331324 0.69905581 0.73444367 0.73444367\n",
            "  0.69905581 0.63331324 0.54610814 0.44822088]\n",
            " [0.51979489 0.63331324 0.73444367 0.81068432 0.85172308 0.85172308\n",
            "  0.81068432 0.73444367 0.63331324 0.51979489]\n",
            " [0.57375342 0.69905581 0.81068432 0.89483932 0.9401382  0.9401382\n",
            "  0.89483932 0.81068432 0.69905581 0.57375342]\n",
            " [0.60279818 0.73444367 0.85172308 0.9401382  0.98773022 0.98773022\n",
            "  0.9401382  0.85172308 0.73444367 0.60279818]\n",
            " [0.60279818 0.73444367 0.85172308 0.9401382  0.98773022 0.98773022\n",
            "  0.9401382  0.85172308 0.73444367 0.60279818]\n",
            " [0.57375342 0.69905581 0.81068432 0.89483932 0.9401382  0.9401382\n",
            "  0.89483932 0.81068432 0.69905581 0.57375342]\n",
            " [0.51979489 0.63331324 0.73444367 0.81068432 0.85172308 0.85172308\n",
            "  0.81068432 0.73444367 0.63331324 0.51979489]\n",
            " [0.44822088 0.54610814 0.63331324 0.69905581 0.73444367 0.73444367\n",
            "  0.69905581 0.63331324 0.54610814 0.44822088]\n",
            " [0.36787944 0.44822088 0.51979489 0.57375342 0.60279818 0.60279818\n",
            "  0.57375342 0.51979489 0.44822088 0.36787944]]\n"
          ]
        }
      ],
      "execution_count": 124
    },
    {
      "cell_type": "markdown",
      "source": [
        "#### 57. How to randomly place p elements in a 2D array? (★★☆)"
      ],
      "metadata": {
        "_uuid": "389113b4e22ac2f5454686a38fa9f4e2500e4c52",
        "id": "4-CYkae94hnW"
      }
    },
    {
      "cell_type": "code",
      "source": [
        "# Author: Divakar\n",
        "\n",
        "n = 10\n",
        "p = 3\n",
        "Z = np.zeros((n,n))\n",
        "np.put(Z, np.random.choice(range(n*n), p, replace=False),1)\n",
        "print(Z)"
      ],
      "metadata": {
        "trusted": true,
        "_uuid": "442c3c5664c0d9dbbe7149a0924e47c4a9699097",
        "execution": {
          "iopub.status.busy": "2025-07-20T17:48:27.24325Z",
          "iopub.status.idle": "2025-07-20T17:48:27.243708Z",
          "shell.execute_reply": "2025-07-20T17:48:27.243449Z"
        },
        "id": "rzSbos8X4hnW",
        "outputId": "f54592f1-b838-4dc8-f056-4376f7e1c338",
        "colab": {
          "base_uri": "https://localhost:8080/"
        }
      },
      "outputs": [
        {
          "output_type": "stream",
          "name": "stdout",
          "text": [
            "[[0. 0. 0. 0. 0. 0. 0. 0. 0. 0.]\n",
            " [0. 0. 0. 0. 0. 0. 0. 0. 0. 0.]\n",
            " [1. 0. 0. 0. 0. 0. 0. 0. 0. 0.]\n",
            " [0. 0. 0. 0. 0. 0. 0. 0. 0. 0.]\n",
            " [0. 0. 0. 0. 0. 0. 0. 0. 0. 0.]\n",
            " [0. 0. 0. 0. 0. 0. 0. 0. 0. 0.]\n",
            " [0. 0. 0. 0. 0. 0. 0. 0. 0. 0.]\n",
            " [0. 0. 0. 0. 0. 1. 0. 0. 0. 0.]\n",
            " [0. 0. 0. 0. 0. 0. 0. 0. 0. 0.]\n",
            " [0. 0. 0. 0. 1. 0. 0. 0. 0. 0.]]\n"
          ]
        }
      ],
      "execution_count": 125
    },
    {
      "cell_type": "markdown",
      "source": [
        "#### 58. Subtract the mean of each row of a matrix (★★☆)"
      ],
      "metadata": {
        "_uuid": "ad23d8b28a5016197192b4a6ecdfa61d3c54f49f",
        "id": "jkEQdhl34hnW"
      }
    },
    {
      "cell_type": "code",
      "source": [
        "# Author: Warren Weckesser\n",
        "\n",
        "X = np.random.rand(5, 10)\n",
        "\n",
        "# Recent versions of numpy\n",
        "Y = X - X.mean(axis=1, keepdims=True)\n",
        "\n",
        "# Older versions of numpy\n",
        "Y = X - X.mean(axis=1).reshape(-1, 1)\n",
        "\n",
        "print(Y)"
      ],
      "metadata": {
        "trusted": true,
        "_uuid": "62937a93af1f4bd2ee201a0a28d92ad2e39aeadf",
        "execution": {
          "iopub.status.busy": "2025-07-20T17:48:27.24467Z",
          "iopub.status.idle": "2025-07-20T17:48:27.245218Z",
          "shell.execute_reply": "2025-07-20T17:48:27.244856Z"
        },
        "id": "gFnQm8K_4hnW",
        "outputId": "6ce32e24-017f-4200-8f00-640d44b41a70",
        "colab": {
          "base_uri": "https://localhost:8080/"
        }
      },
      "outputs": [
        {
          "output_type": "stream",
          "name": "stdout",
          "text": [
            "[[-0.12895074  0.01276691  0.02045107  0.01431532  0.22247391  0.14270516\n",
            "  -0.27647659  0.27041097 -0.02761026 -0.25008574]\n",
            " [ 0.14347791 -0.18996259 -0.57356549  0.3270447   0.26539186  0.17609598\n",
            "  -0.1028167   0.12347607  0.13964684 -0.3087886 ]\n",
            " [ 0.42105529 -0.0915553  -0.37432272  0.20018916 -0.20892745  0.15135784\n",
            "  -0.2115281   0.417944   -0.10251161 -0.2017011 ]\n",
            " [ 0.27036183 -0.03552913 -0.12401632 -0.30018193  0.11675775  0.17770537\n",
            "   0.23908274 -0.12627152 -0.32704062  0.10913185]\n",
            " [-0.247711    0.25399444 -0.29422473 -0.23593903 -0.09827004  0.08995825\n",
            "  -0.27800948  0.16461324  0.28859809  0.35699026]]\n"
          ]
        }
      ],
      "execution_count": 126
    },
    {
      "cell_type": "markdown",
      "source": [
        "#### 59. How to sort an array by the nth column? (★★☆)"
      ],
      "metadata": {
        "_uuid": "6dfaee28f6ffc182b31d95b2dd7db135b3cda134",
        "id": "jSaugED24hnW"
      }
    },
    {
      "cell_type": "code",
      "source": [
        "# Author: Steve Tjoa\n",
        "\n",
        "Z = np.random.randint(0,10,(3,3))\n",
        "print(Z)\n",
        "print(Z[Z[:,1].argsort()])"
      ],
      "metadata": {
        "trusted": true,
        "_uuid": "6d6526eff2206d6766e34a8a9d4aa45222304ecc",
        "execution": {
          "iopub.status.busy": "2025-07-20T17:48:27.245919Z",
          "iopub.status.idle": "2025-07-20T17:48:27.246311Z",
          "shell.execute_reply": "2025-07-20T17:48:27.246075Z"
        },
        "id": "1KXZxJyx4hnX",
        "outputId": "3cd72bd0-1566-4ccf-f92d-b2c048413edd",
        "colab": {
          "base_uri": "https://localhost:8080/"
        }
      },
      "outputs": [
        {
          "output_type": "stream",
          "name": "stdout",
          "text": [
            "[[8 7 3]\n",
            " [6 2 8]\n",
            " [3 7 3]]\n",
            "[[6 2 8]\n",
            " [8 7 3]\n",
            " [3 7 3]]\n"
          ]
        }
      ],
      "execution_count": 127
    },
    {
      "cell_type": "markdown",
      "source": [
        "#### 60. How to tell if a given 2D array has null columns? (★★☆)"
      ],
      "metadata": {
        "_uuid": "26c24e107a164a8a931e1458db472aeabc0dd9d1",
        "id": "0ewdYPza4hnX"
      }
    },
    {
      "cell_type": "code",
      "source": [
        "# Author: Warren Weckesser\n",
        "\n",
        "Z = np.random.randint(0,3,(3,10))\n",
        "print((~Z.any(axis=0)).any())"
      ],
      "metadata": {
        "trusted": true,
        "_uuid": "dd0d10eb40f387704fb2d5873460e2ff8d40a6a2",
        "execution": {
          "iopub.status.busy": "2025-07-20T17:48:27.24778Z",
          "iopub.status.idle": "2025-07-20T17:48:27.248283Z",
          "shell.execute_reply": "2025-07-20T17:48:27.247973Z"
        },
        "id": "zxvAABRF4hnX",
        "outputId": "2b898f5f-92a5-4786-a8e3-0fc5efd8b207",
        "colab": {
          "base_uri": "https://localhost:8080/"
        }
      },
      "outputs": [
        {
          "output_type": "stream",
          "name": "stdout",
          "text": [
            "True\n"
          ]
        }
      ],
      "execution_count": 128
    },
    {
      "cell_type": "markdown",
      "source": [
        "#### 61. Find the nearest value from a given value in an array (★★☆)"
      ],
      "metadata": {
        "_uuid": "c446326eba80f10ee44e69c38975a02b76272c66",
        "id": "raXNTHeJ4hnX"
      }
    },
    {
      "cell_type": "code",
      "source": [
        "Z = np.random.uniform(0,1,10)\n",
        "z = 0.5\n",
        "m = Z.flat[np.abs(Z - z).argmin()]\n",
        "print(m)"
      ],
      "metadata": {
        "trusted": true,
        "_uuid": "475de3550f77c7407940a0b31eeb5016286445c4",
        "execution": {
          "iopub.status.busy": "2025-07-20T17:48:27.24908Z",
          "iopub.status.idle": "2025-07-20T17:48:27.249864Z",
          "shell.execute_reply": "2025-07-20T17:48:27.249272Z"
        },
        "id": "HC3GjJHp4hnX",
        "outputId": "cf474821-ee5c-4675-c231-6e24a28d3acb",
        "colab": {
          "base_uri": "https://localhost:8080/"
        }
      },
      "outputs": [
        {
          "output_type": "stream",
          "name": "stdout",
          "text": [
            "0.6019546323037445\n"
          ]
        }
      ],
      "execution_count": 129
    },
    {
      "cell_type": "markdown",
      "source": [
        "#### 62. Considering two arrays with shape (1,3) and (3,1), how to compute their sum using an iterator? (★★☆)"
      ],
      "metadata": {
        "_uuid": "ed78b6480e33d62936d0454ef9757390456a37e8",
        "id": "2Z6gOQ-24hnX"
      }
    },
    {
      "cell_type": "code",
      "source": [
        "A = np.arange(3).reshape(3,1)\n",
        "B = np.arange(3).reshape(1,3)\n",
        "it = np.nditer([A,B,None])\n",
        "for x,y,z in it: z[...] = x + y\n",
        "print(it.operands[2])"
      ],
      "metadata": {
        "trusted": true,
        "_uuid": "59b473c6731410e9a83cbf30b56fc6463c4ee8a4",
        "execution": {
          "iopub.status.busy": "2025-07-20T17:48:27.250695Z",
          "iopub.status.idle": "2025-07-20T17:48:27.251781Z",
          "shell.execute_reply": "2025-07-20T17:48:27.251004Z"
        },
        "id": "srRSyxCO4hnY",
        "outputId": "c166c50c-e89c-4118-b1e9-3fad2292273b",
        "colab": {
          "base_uri": "https://localhost:8080/"
        }
      },
      "outputs": [
        {
          "output_type": "stream",
          "name": "stdout",
          "text": [
            "[[0 1 2]\n",
            " [1 2 3]\n",
            " [2 3 4]]\n"
          ]
        }
      ],
      "execution_count": 130
    },
    {
      "cell_type": "markdown",
      "source": [
        "#### 63. Create an array class that has a name attribute (★★☆)"
      ],
      "metadata": {
        "_uuid": "7c4a7f4c7f71603b7803cb77e1c8dc4556378f4b",
        "id": "q1dmmuBn4hnY"
      }
    },
    {
      "cell_type": "code",
      "source": [
        "class NamedArray(np.ndarray):\n",
        "    def __new__(cls, array, name=\"no name\"):\n",
        "        obj = np.asarray(array).view(cls)\n",
        "        obj.name = name\n",
        "        return obj\n",
        "    def __array_finalize__(self, obj):\n",
        "        if obj is None: return\n",
        "        self.info = getattr(obj, 'name', \"no name\")\n",
        "\n",
        "Z = NamedArray(np.arange(10), \"range_10\")\n",
        "print (Z.name)"
      ],
      "metadata": {
        "trusted": true,
        "_uuid": "561bba582d49b158a3d3f9129d7874d8fe74644a",
        "execution": {
          "iopub.status.busy": "2025-07-20T17:48:27.252931Z",
          "iopub.status.idle": "2025-07-20T17:48:27.253441Z",
          "shell.execute_reply": "2025-07-20T17:48:27.253156Z"
        },
        "id": "Bqk66m8r4hnY",
        "outputId": "03096dc7-b1ae-42e1-fa3b-d1fdbca17fb5",
        "colab": {
          "base_uri": "https://localhost:8080/"
        }
      },
      "outputs": [
        {
          "output_type": "stream",
          "name": "stdout",
          "text": [
            "range_10\n"
          ]
        }
      ],
      "execution_count": 131
    },
    {
      "cell_type": "markdown",
      "source": [
        "#### 64. Consider a given vector, how to add 1 to each element indexed by a second vector (be careful with repeated indices)? (★★★)"
      ],
      "metadata": {
        "_uuid": "28ced8d1105155575199e1e57e16ab27ba7dcb3c",
        "id": "WZARAt9q4hnY"
      }
    },
    {
      "cell_type": "code",
      "source": [
        "# Author: Brett Olsen\n",
        "\n",
        "Z = np.ones(10)\n",
        "I = np.random.randint(0,len(Z),20)\n",
        "Z += np.bincount(I, minlength=len(Z))\n",
        "print(Z)\n",
        "\n",
        "# Another solution\n",
        "# Author: Bartosz Telenczuk\n",
        "np.add.at(Z, I, 1)\n",
        "print(Z)"
      ],
      "metadata": {
        "trusted": true,
        "_uuid": "f084a985aaaa6582f0fe1d3a24db309414ee85ed",
        "execution": {
          "iopub.status.busy": "2025-07-20T17:48:27.254144Z",
          "iopub.status.idle": "2025-07-20T17:48:27.254659Z",
          "shell.execute_reply": "2025-07-20T17:48:27.254322Z"
        },
        "id": "wwFpvKRd4hnZ",
        "outputId": "5d79e904-83ba-4908-c9f9-a58073434423",
        "colab": {
          "base_uri": "https://localhost:8080/"
        }
      },
      "outputs": [
        {
          "output_type": "stream",
          "name": "stdout",
          "text": [
            "[3. 1. 3. 2. 3. 4. 3. 3. 4. 4.]\n",
            "[5. 1. 5. 3. 5. 7. 5. 5. 7. 7.]\n"
          ]
        }
      ],
      "execution_count": 132
    },
    {
      "cell_type": "markdown",
      "source": [
        "#### 65. How to accumulate elements of a vector (X) to an array (F) based on an index list (I)? (★★★)"
      ],
      "metadata": {
        "_uuid": "3c1d4443ce35bca0ec477f22957adc49b3da9071",
        "id": "Gdcc4eHj4hnZ"
      }
    },
    {
      "cell_type": "code",
      "source": [
        "# Author: Alan G Isaac\n",
        "\n",
        "X = [1,2,3,4,5,6]\n",
        "I = [1,3,9,3,4,1]\n",
        "F = np.bincount(I,X)\n",
        "print(F)"
      ],
      "metadata": {
        "trusted": true,
        "_uuid": "6397f06d610a9363b0907cec7fd545c22d34879c",
        "execution": {
          "iopub.status.busy": "2025-07-20T17:48:27.255516Z",
          "iopub.status.idle": "2025-07-20T17:48:27.256087Z",
          "shell.execute_reply": "2025-07-20T17:48:27.2557Z"
        },
        "id": "dLMsb_Ys4hnZ",
        "outputId": "e4873dd9-850a-404f-8f66-8f97ece797be",
        "colab": {
          "base_uri": "https://localhost:8080/"
        }
      },
      "outputs": [
        {
          "output_type": "stream",
          "name": "stdout",
          "text": [
            "[0. 7. 0. 6. 5. 0. 0. 0. 0. 3.]\n"
          ]
        }
      ],
      "execution_count": 133
    },
    {
      "cell_type": "markdown",
      "source": [
        "#### 66. Considering a (w,h,3) image of (dtype=ubyte), compute the number of unique colors (★★★)"
      ],
      "metadata": {
        "_uuid": "3ee7aa17d1e2574ff7c9467ce117a84bf1457a90",
        "id": "v3TDS6oA4hnZ"
      }
    },
    {
      "cell_type": "code",
      "source": [
        "# Author: Nadav Horesh\n",
        "\n",
        "w,h = 16,16\n",
        "I = np.random.randint(0,2,(h,w,3)).astype(np.ubyte)\n",
        "#Note that we should compute 256*256 first.\n",
        "#Otherwise numpy will only promote F.dtype to 'uint16' and overfolw will occur\n",
        "F = I[...,0]*(256*256) + I[...,1]*256 +I[...,2]\n",
        "n = len(np.unique(F))\n",
        "print(n)"
      ],
      "metadata": {
        "trusted": true,
        "_uuid": "c29b77b23a40a737a9710d16ba88c1d32274a905",
        "execution": {
          "iopub.status.busy": "2025-07-20T17:48:27.256728Z",
          "iopub.status.idle": "2025-07-20T17:48:27.257101Z",
          "shell.execute_reply": "2025-07-20T17:48:27.25689Z"
        },
        "id": "6rIF3XDl4hnZ",
        "outputId": "d0c02b93-d895-4396-d898-1a506a1a18ba",
        "colab": {
          "base_uri": "https://localhost:8080/",
          "height": 211
        }
      },
      "outputs": [
        {
          "output_type": "error",
          "ename": "OverflowError",
          "evalue": "Python integer 65536 out of bounds for uint8",
          "traceback": [
            "\u001b[0;31m---------------------------------------------------------------------------\u001b[0m",
            "\u001b[0;31mOverflowError\u001b[0m                             Traceback (most recent call last)",
            "\u001b[0;32m/tmp/ipython-input-134-742211701.py\u001b[0m in \u001b[0;36m<cell line: 0>\u001b[0;34m()\u001b[0m\n\u001b[1;32m      5\u001b[0m \u001b[0;31m#Note that we should compute 256*256 first.\u001b[0m\u001b[0;34m\u001b[0m\u001b[0;34m\u001b[0m\u001b[0m\n\u001b[1;32m      6\u001b[0m \u001b[0;31m#Otherwise numpy will only promote F.dtype to 'uint16' and overfolw will occur\u001b[0m\u001b[0;34m\u001b[0m\u001b[0;34m\u001b[0m\u001b[0m\n\u001b[0;32m----> 7\u001b[0;31m \u001b[0mF\u001b[0m \u001b[0;34m=\u001b[0m \u001b[0mI\u001b[0m\u001b[0;34m[\u001b[0m\u001b[0;34m...\u001b[0m\u001b[0;34m,\u001b[0m\u001b[0;36m0\u001b[0m\u001b[0;34m]\u001b[0m\u001b[0;34m*\u001b[0m\u001b[0;34m(\u001b[0m\u001b[0;36m256\u001b[0m\u001b[0;34m*\u001b[0m\u001b[0;36m256\u001b[0m\u001b[0;34m)\u001b[0m \u001b[0;34m+\u001b[0m \u001b[0mI\u001b[0m\u001b[0;34m[\u001b[0m\u001b[0;34m...\u001b[0m\u001b[0;34m,\u001b[0m\u001b[0;36m1\u001b[0m\u001b[0;34m]\u001b[0m\u001b[0;34m*\u001b[0m\u001b[0;36m256\u001b[0m \u001b[0;34m+\u001b[0m\u001b[0mI\u001b[0m\u001b[0;34m[\u001b[0m\u001b[0;34m...\u001b[0m\u001b[0;34m,\u001b[0m\u001b[0;36m2\u001b[0m\u001b[0;34m]\u001b[0m\u001b[0;34m\u001b[0m\u001b[0;34m\u001b[0m\u001b[0m\n\u001b[0m\u001b[1;32m      8\u001b[0m \u001b[0mn\u001b[0m \u001b[0;34m=\u001b[0m \u001b[0mlen\u001b[0m\u001b[0;34m(\u001b[0m\u001b[0mnp\u001b[0m\u001b[0;34m.\u001b[0m\u001b[0munique\u001b[0m\u001b[0;34m(\u001b[0m\u001b[0mF\u001b[0m\u001b[0;34m)\u001b[0m\u001b[0;34m)\u001b[0m\u001b[0;34m\u001b[0m\u001b[0;34m\u001b[0m\u001b[0m\n\u001b[1;32m      9\u001b[0m \u001b[0mprint\u001b[0m\u001b[0;34m(\u001b[0m\u001b[0mn\u001b[0m\u001b[0;34m)\u001b[0m\u001b[0;34m\u001b[0m\u001b[0;34m\u001b[0m\u001b[0m\n",
            "\u001b[0;31mOverflowError\u001b[0m: Python integer 65536 out of bounds for uint8"
          ]
        }
      ],
      "execution_count": 134
    },
    {
      "cell_type": "markdown",
      "source": [
        "#### 67. Considering a four dimensions array, how to get sum over the last two axis at once? (★★★)"
      ],
      "metadata": {
        "_uuid": "1f437c758e09b1d20cdb7db2d58806768c3914e1",
        "id": "kFAsXOC24hnZ"
      }
    },
    {
      "cell_type": "code",
      "source": [
        "A = np.random.randint(0,10,(3,4,3,4))\n",
        "A"
      ],
      "metadata": {
        "colab": {
          "base_uri": "https://localhost:8080/"
        },
        "id": "Sjv3_Qoma6Qw",
        "outputId": "365fd383-815d-492a-f571-a11590e6dd6f"
      },
      "execution_count": 150,
      "outputs": [
        {
          "output_type": "execute_result",
          "data": {
            "text/plain": [
              "array([[[[5, 7, 7, 9],\n",
              "         [4, 0, 3, 0],\n",
              "         [8, 6, 3, 9]],\n",
              "\n",
              "        [[6, 1, 0, 5],\n",
              "         [4, 0, 7, 4],\n",
              "         [0, 4, 0, 6]],\n",
              "\n",
              "        [[9, 6, 8, 5],\n",
              "         [6, 4, 6, 6],\n",
              "         [3, 7, 4, 1]],\n",
              "\n",
              "        [[5, 0, 0, 9],\n",
              "         [3, 5, 7, 9],\n",
              "         [1, 6, 8, 4]]],\n",
              "\n",
              "\n",
              "       [[[4, 3, 9, 5],\n",
              "         [5, 3, 0, 5],\n",
              "         [9, 8, 1, 1]],\n",
              "\n",
              "        [[7, 2, 2, 4],\n",
              "         [5, 9, 0, 9],\n",
              "         [9, 5, 2, 4]],\n",
              "\n",
              "        [[2, 7, 4, 0],\n",
              "         [6, 3, 7, 6],\n",
              "         [8, 0, 5, 2]],\n",
              "\n",
              "        [[8, 5, 0, 0],\n",
              "         [0, 4, 0, 9],\n",
              "         [3, 3, 5, 4]]],\n",
              "\n",
              "\n",
              "       [[[6, 3, 8, 6],\n",
              "         [4, 2, 0, 5],\n",
              "         [2, 9, 8, 0]],\n",
              "\n",
              "        [[4, 9, 5, 4],\n",
              "         [3, 9, 4, 6],\n",
              "         [2, 3, 0, 4]],\n",
              "\n",
              "        [[2, 4, 0, 2],\n",
              "         [6, 9, 1, 6],\n",
              "         [3, 8, 8, 7]],\n",
              "\n",
              "        [[6, 9, 4, 4],\n",
              "         [6, 9, 1, 9],\n",
              "         [1, 8, 0, 2]]]])"
            ]
          },
          "metadata": {},
          "execution_count": 150
        }
      ]
    },
    {
      "cell_type": "code",
      "source": [
        "A = np.random.randint(0,10,(3,4,3,4))\n",
        "print(A)\n",
        "# solution by passing a tuple of axes (introduced in numpy 1.7.0)\n",
        "sum = A.sum(axis=(-2,-1))\n",
        "print(sum)\n",
        "# solution by flattening the last two dimensions into one\n",
        "# (useful for functions that don't accept tuples for axis argument)\n",
        "sum = A.reshape(A.shape[:-2] + (-1,)).sum(axis=-1)\n",
        "print(sum)"
      ],
      "metadata": {
        "trusted": true,
        "_uuid": "acbe18b60c84054f6744757f00d565de06c70084",
        "execution": {
          "iopub.status.busy": "2025-07-20T17:48:27.257836Z",
          "iopub.status.idle": "2025-07-20T17:48:27.258194Z",
          "shell.execute_reply": "2025-07-20T17:48:27.257997Z"
        },
        "id": "F0L1ibj84hna",
        "colab": {
          "base_uri": "https://localhost:8080/"
        },
        "outputId": "4f48ae37-4ddf-47be-83b6-b547ae6f5d90"
      },
      "outputs": [
        {
          "output_type": "stream",
          "name": "stdout",
          "text": [
            "[[[[0 8 4 7]\n",
            "   [7 3 5 3]\n",
            "   [0 4 2 3]]\n",
            "\n",
            "  [[2 6 3 5]\n",
            "   [4 5 4 0]\n",
            "   [8 3 7 4]]\n",
            "\n",
            "  [[0 0 9 2]\n",
            "   [8 7 2 0]\n",
            "   [2 8 5 2]]\n",
            "\n",
            "  [[2 5 6 0]\n",
            "   [2 3 1 0]\n",
            "   [2 9 1 9]]]\n",
            "\n",
            "\n",
            " [[[9 1 2 8]\n",
            "   [6 6 5 5]\n",
            "   [1 5 4 3]]\n",
            "\n",
            "  [[1 4 5 4]\n",
            "   [5 8 4 9]\n",
            "   [6 5 3 4]]\n",
            "\n",
            "  [[3 0 7 1]\n",
            "   [7 7 9 5]\n",
            "   [6 9 8 1]]\n",
            "\n",
            "  [[2 9 5 5]\n",
            "   [1 0 5 5]\n",
            "   [1 6 1 5]]]\n",
            "\n",
            "\n",
            " [[[4 2 9 3]\n",
            "   [1 2 5 4]\n",
            "   [0 7 2 4]]\n",
            "\n",
            "  [[1 0 2 4]\n",
            "   [4 9 4 3]\n",
            "   [0 0 9 2]]\n",
            "\n",
            "  [[5 1 5 4]\n",
            "   [8 8 8 4]\n",
            "   [9 9 6 5]]\n",
            "\n",
            "  [[7 1 6 0]\n",
            "   [4 3 7 3]\n",
            "   [8 4 6 9]]]]\n",
            "[[46 51 45 40]\n",
            " [55 58 63 45]\n",
            " [43 38 72 58]]\n",
            "[[46 51 45 40]\n",
            " [55 58 63 45]\n",
            " [43 38 72 58]]\n"
          ]
        }
      ],
      "execution_count": 155
    },
    {
      "cell_type": "markdown",
      "source": [
        "#### 68. Considering a one-dimensional vector D, how to compute means of subsets of D using a vector S of same size describing subset  indices? (★★★)"
      ],
      "metadata": {
        "_uuid": "69e45dc9ae67c5a964c1f44e7d434c12356e55f6",
        "id": "53c5a3eb4hna"
      }
    },
    {
      "cell_type": "code",
      "source": [
        "# Author: Jaime Fernández del Río\n",
        "\n",
        "D = np.random.uniform(0,1,100)\n",
        "S = np.random.randint(0,10,100)\n",
        "D_sums = np.bincount(S, weights=D)\n",
        "D_counts = np.bincount(S)\n",
        "D_means = D_sums / D_counts\n",
        "print(D_means)\n",
        "\n",
        "# Pandas solution as a reference due to more intuitive code\n",
        "import pandas as pd\n",
        "print(pd.Series(D).groupby(S).mean())"
      ],
      "metadata": {
        "trusted": true,
        "_uuid": "a9fe735c39c47e3c43a2b475c3ca3ecf72aa0985",
        "execution": {
          "iopub.status.busy": "2025-07-20T17:48:27.25887Z",
          "iopub.status.idle": "2025-07-20T17:48:27.259329Z",
          "shell.execute_reply": "2025-07-20T17:48:27.259027Z"
        },
        "id": "QuhSYEah4hna",
        "colab": {
          "base_uri": "https://localhost:8080/"
        },
        "outputId": "1e34ffd6-8c7e-4242-94e2-4780a22ff517"
      },
      "outputs": [
        {
          "output_type": "stream",
          "name": "stdout",
          "text": [
            "[0.2350815  0.38768242 0.33082032 0.46142701 0.44080431 0.37623893\n",
            " 0.49049988 0.40472892 0.31913843 0.59695262]\n",
            "0    0.235082\n",
            "1    0.387682\n",
            "2    0.330820\n",
            "3    0.461427\n",
            "4    0.440804\n",
            "5    0.376239\n",
            "6    0.490500\n",
            "7    0.404729\n",
            "8    0.319138\n",
            "9    0.596953\n",
            "dtype: float64\n"
          ]
        }
      ],
      "execution_count": 156
    },
    {
      "cell_type": "markdown",
      "source": [
        "#### 69. How to get the diagonal of a dot product? (★★★)"
      ],
      "metadata": {
        "_uuid": "620cc111a526a41f264e47d9738fb2d27ef1aa6e",
        "id": "BlDVGK3K4hna"
      }
    },
    {
      "cell_type": "code",
      "source": [
        "# Author: Mathieu Blondel\n",
        "\n",
        "A = np.random.uniform(0,1,(5,5))\n",
        "B = np.random.uniform(0,1,(5,5))\n",
        "print(A)\n",
        "print(B)\n",
        "print(np.dot(A, B))\n",
        "# Slow version\n",
        "np.diag(np.dot(A, B))\n",
        "\n",
        "# Fast version\n",
        "np.sum(A * B.T, axis=1)\n",
        "\n",
        "# Faster version\n",
        "np.einsum(\"ij,ji->i\", A, B)"
      ],
      "metadata": {
        "trusted": true,
        "_uuid": "752296a67bbe85f6b35a51255964822fd4373a36",
        "execution": {
          "iopub.status.busy": "2025-07-20T17:48:27.259848Z",
          "iopub.status.idle": "2025-07-20T17:48:27.260181Z",
          "shell.execute_reply": "2025-07-20T17:48:27.259979Z"
        },
        "id": "ZSJUOCxl4hna",
        "colab": {
          "base_uri": "https://localhost:8080/"
        },
        "outputId": "43345023-ecb6-4fd3-9e40-161cf656d200"
      },
      "outputs": [
        {
          "output_type": "stream",
          "name": "stdout",
          "text": [
            "[[0.02601619 0.47617767 0.878809   0.70490351 0.87187576]\n",
            " [0.88538833 0.7868968  0.50934381 0.24071582 0.11344858]\n",
            " [0.72866306 0.00440662 0.65571965 0.34051343 0.30708085]\n",
            " [0.74432944 0.33692214 0.1426506  0.324802   0.81277629]\n",
            " [0.50878043 0.85471576 0.87228206 0.04282515 0.71812633]]\n",
            "[[0.24885793 0.27973718 0.88338091 0.37058343 0.11760355]\n",
            " [0.95245136 0.79198091 0.27643017 0.33159372 0.01105682]\n",
            " [0.05861488 0.31256777 0.66160292 0.19893673 0.2735806 ]\n",
            " [0.70899551 0.14477514 0.10437055 0.59537324 0.83791233]\n",
            " [0.9485459  0.33847353 0.98804808 0.87914189 0.47724594]]\n",
            "[[1.83830929 1.05624806 1.67106102 1.52854927 1.25549621]\n",
            " [1.27794958 1.10333674 1.4738568  0.93342063 0.5080136 ]\n",
            " [0.75666837 0.56551755 1.41768142 0.87463861 0.69700775]\n",
            " [1.51573446 0.84176701 1.68200173 1.32385997 0.79033729]\n",
            " [1.70335656 1.34115739 1.97683353 1.3023248  0.68653087]]\n"
          ]
        },
        {
          "output_type": "execute_result",
          "data": {
            "text/plain": [
              "array([1.83830929, 1.10333674, 1.41768142, 1.32385997, 0.68653087])"
            ]
          },
          "metadata": {},
          "execution_count": 159
        }
      ],
      "execution_count": 159
    },
    {
      "cell_type": "markdown",
      "source": [
        "#### 70. Consider the vector \\[1, 2, 3, 4, 5\\], how to build a new vector with 3 consecutive zeros interleaved between each value? (★★★)"
      ],
      "metadata": {
        "_uuid": "e117871c83cf8f95effaeaf57c8e39d342173ac8",
        "id": "pjS3NdKZ4hnb"
      }
    },
    {
      "cell_type": "code",
      "source": [
        "# Author: Warren Weckesser\n",
        "\n",
        "Z = np.array([1,2,3,4,5])\n",
        "nz = 3\n",
        "Z0 = np.zeros(len(Z) + (len(Z)-1)*(nz))\n",
        "Z0[::nz+1] = Z\n",
        "print(Z0)"
      ],
      "metadata": {
        "trusted": true,
        "_uuid": "6ca8fdad8b10470dc10098a00b5a82df503b9f30",
        "execution": {
          "iopub.status.busy": "2025-07-20T17:48:27.260704Z",
          "iopub.status.idle": "2025-07-20T17:48:27.261095Z",
          "shell.execute_reply": "2025-07-20T17:48:27.260855Z"
        },
        "id": "rzkhZev34hnb",
        "colab": {
          "base_uri": "https://localhost:8080/"
        },
        "outputId": "a89a923a-3cff-45db-ee08-56cfcce3710f"
      },
      "outputs": [
        {
          "output_type": "stream",
          "name": "stdout",
          "text": [
            "[1. 0. 0. 0. 2. 0. 0. 0. 3. 0. 0. 0. 4. 0. 0. 0. 5.]\n"
          ]
        }
      ],
      "execution_count": 160
    },
    {
      "cell_type": "markdown",
      "source": [
        "#### 71. Consider an array of dimension (5,5,3), how to mulitply it by an array with dimensions (5,5)? (★★★)"
      ],
      "metadata": {
        "_uuid": "967288203450de09d5761904c7911e16c842b6b3",
        "id": "xnI8UT-Y4hnb"
      }
    },
    {
      "cell_type": "code",
      "source": [
        "A = np.ones((5,5,3))\n",
        "B = 2*np.ones((5,5))\n",
        "print(A * B[:,:,None])"
      ],
      "metadata": {
        "trusted": true,
        "_uuid": "ce08e9ef2d47e6b39da8c3587ae27223aaeebdff",
        "execution": {
          "iopub.status.busy": "2025-07-20T17:48:27.261915Z",
          "iopub.status.idle": "2025-07-20T17:48:27.262517Z",
          "shell.execute_reply": "2025-07-20T17:48:27.26217Z"
        },
        "id": "-ijRxMP_4hnb",
        "colab": {
          "base_uri": "https://localhost:8080/"
        },
        "outputId": "32209a68-4b75-4e1f-f054-f1866e86ea93"
      },
      "outputs": [
        {
          "output_type": "stream",
          "name": "stdout",
          "text": [
            "[[[2. 2. 2.]\n",
            "  [2. 2. 2.]\n",
            "  [2. 2. 2.]\n",
            "  [2. 2. 2.]\n",
            "  [2. 2. 2.]]\n",
            "\n",
            " [[2. 2. 2.]\n",
            "  [2. 2. 2.]\n",
            "  [2. 2. 2.]\n",
            "  [2. 2. 2.]\n",
            "  [2. 2. 2.]]\n",
            "\n",
            " [[2. 2. 2.]\n",
            "  [2. 2. 2.]\n",
            "  [2. 2. 2.]\n",
            "  [2. 2. 2.]\n",
            "  [2. 2. 2.]]\n",
            "\n",
            " [[2. 2. 2.]\n",
            "  [2. 2. 2.]\n",
            "  [2. 2. 2.]\n",
            "  [2. 2. 2.]\n",
            "  [2. 2. 2.]]\n",
            "\n",
            " [[2. 2. 2.]\n",
            "  [2. 2. 2.]\n",
            "  [2. 2. 2.]\n",
            "  [2. 2. 2.]\n",
            "  [2. 2. 2.]]]\n"
          ]
        }
      ],
      "execution_count": 161
    },
    {
      "cell_type": "markdown",
      "source": [
        "#### 72. How to swap two rows of an array? (★★★)"
      ],
      "metadata": {
        "_uuid": "899841bbc67e2a7e0f51536f3191625078f29864",
        "id": "XdvtpzfR4hnc"
      }
    },
    {
      "cell_type": "code",
      "source": [
        "# Author: Eelco Hoogendoorn\n",
        "\n",
        "A = np.arange(25).reshape(5,5)\n",
        "A[[0,1]] = A[[1,0]]\n",
        "print(A)"
      ],
      "metadata": {
        "trusted": true,
        "_uuid": "c1e1056d07c1b9be34aa5c71beb522b57b450bc3",
        "execution": {
          "iopub.status.busy": "2025-07-20T17:48:27.263196Z",
          "iopub.status.idle": "2025-07-20T17:48:27.263761Z",
          "shell.execute_reply": "2025-07-20T17:48:27.263417Z"
        },
        "id": "rdxcNaXj4hnc",
        "colab": {
          "base_uri": "https://localhost:8080/"
        },
        "outputId": "3db57af8-1891-4814-f496-9fd848c6c89e"
      },
      "outputs": [
        {
          "output_type": "stream",
          "name": "stdout",
          "text": [
            "[[ 5  6  7  8  9]\n",
            " [ 0  1  2  3  4]\n",
            " [10 11 12 13 14]\n",
            " [15 16 17 18 19]\n",
            " [20 21 22 23 24]]\n"
          ]
        }
      ],
      "execution_count": 162
    },
    {
      "cell_type": "markdown",
      "source": [
        "#### 73. Consider a set of 10 triplets describing 10 triangles (with shared vertices), find the set of unique line segments composing all the  triangles (★★★)"
      ],
      "metadata": {
        "_uuid": "27b3d2e02f5c0a32071d3efbf9528a5a0a54d763",
        "id": "Ff0XQBuQ4hnc"
      }
    },
    {
      "cell_type": "code",
      "source": [
        "# Author: Nicolas P. Rougier\n",
        "\n",
        "faces = np.random.randint(0,100,(10,3))\n",
        "F = np.roll(faces.repeat(2,axis=1),-1,axis=1)\n",
        "F = F.reshape(len(F)*3,2)\n",
        "F = np.sort(F,axis=1)\n",
        "G = F.view( dtype=[('p0',F.dtype),('p1',F.dtype)] )\n",
        "G = np.unique(G)\n",
        "print(G)"
      ],
      "metadata": {
        "trusted": true,
        "_uuid": "d585765a886d99e53361320c28a1e6aa5e0e4ebc",
        "execution": {
          "iopub.status.busy": "2025-07-20T17:48:27.264581Z",
          "iopub.status.idle": "2025-07-20T17:48:27.265282Z",
          "shell.execute_reply": "2025-07-20T17:48:27.264894Z"
        },
        "id": "s7vy07io4hnc",
        "colab": {
          "base_uri": "https://localhost:8080/"
        },
        "outputId": "168e468b-6639-4edb-f1fb-7a4db6bef1e7"
      },
      "outputs": [
        {
          "output_type": "stream",
          "name": "stdout",
          "text": [
            "[( 0, 13) ( 0, 49) ( 1, 44) ( 1, 86) ( 5, 32) ( 5, 68) ( 6, 17) ( 6, 79)\n",
            " (10, 38) (10, 68) (10, 88) (10, 94) (13, 49) (17, 79) (21, 49) (21, 66)\n",
            " (22, 33) (22, 58) (22, 73) (22, 75) (32, 68) (33, 58) (38, 68) (39, 47)\n",
            " (39, 97) (44, 86) (47, 97) (49, 66) (73, 75) (88, 94)]\n"
          ]
        }
      ],
      "execution_count": 163
    },
    {
      "cell_type": "markdown",
      "source": [
        "#### 74. Given an array C that is a bincount, how to produce an array A such that np.bincount(A) == C? (★★★)"
      ],
      "metadata": {
        "_uuid": "4822e0e421b959ecd054474216e08fcba9aaced8",
        "id": "sdgHOTBY4hnc"
      }
    },
    {
      "cell_type": "code",
      "source": [
        "# Author: Jaime Fernández del Río\n",
        "\n",
        "C = np.bincount([1,1,2,3,4,4,6])\n",
        "print(C)\n",
        "A = np.repeat(np.arange(len(C)), C)\n",
        "print(A)"
      ],
      "metadata": {
        "trusted": true,
        "_uuid": "fea19dbeb6be018c63a67319fc6c6abe9d3b6dfb",
        "execution": {
          "iopub.status.busy": "2025-07-20T17:48:27.266063Z",
          "iopub.status.idle": "2025-07-20T17:48:27.266598Z",
          "shell.execute_reply": "2025-07-20T17:48:27.266284Z"
        },
        "id": "2hw2rLXU4hnd",
        "colab": {
          "base_uri": "https://localhost:8080/"
        },
        "outputId": "cb901069-6ecc-4d97-eb8c-70f05d9c4b3d"
      },
      "outputs": [
        {
          "output_type": "stream",
          "name": "stdout",
          "text": [
            "[0 2 1 1 2 0 1]\n",
            "[1 1 2 3 4 4 6]\n"
          ]
        }
      ],
      "execution_count": 165
    },
    {
      "cell_type": "markdown",
      "source": [
        "#### 75. How to compute averages using a sliding window over an array? (★★★)"
      ],
      "metadata": {
        "_uuid": "db98ac94341682cad0c85dc68c7dba1572346778",
        "id": "HSGQXyHW4hnd"
      }
    },
    {
      "cell_type": "code",
      "source": [
        "# Author: Jaime Fernández del Río\n",
        "\n",
        "def moving_average(a, n=3) :\n",
        "    ret = np.cumsum(a, dtype=float)\n",
        "    ret[n:] = ret[n:] - ret[:-n]\n",
        "    return ret[n - 1:] / n\n",
        "Z = np.arange(20)\n",
        "print(moving_average(Z, n=3))"
      ],
      "metadata": {
        "trusted": true,
        "_uuid": "aaa1f7e514e17e55758647e682d746de91fe0c52",
        "execution": {
          "iopub.status.busy": "2025-07-20T17:48:27.267786Z",
          "iopub.status.idle": "2025-07-20T17:48:27.268299Z",
          "shell.execute_reply": "2025-07-20T17:48:27.268084Z"
        },
        "id": "lcYQ6HF74hnd",
        "colab": {
          "base_uri": "https://localhost:8080/"
        },
        "outputId": "738596d4-9d1a-4d50-afb8-bc733c18af03"
      },
      "outputs": [
        {
          "output_type": "stream",
          "name": "stdout",
          "text": [
            "[ 1.  2.  3.  4.  5.  6.  7.  8.  9. 10. 11. 12. 13. 14. 15. 16. 17. 18.]\n"
          ]
        }
      ],
      "execution_count": 167
    },
    {
      "cell_type": "markdown",
      "source": [
        "#### 76. Consider a one-dimensional array Z, build a two-dimensional array whose first row is (Z\\[0\\],Z\\[1\\],Z\\[2\\]) and each subsequent row is  shifted by 1 (last row should be (Z\\[-3\\],Z\\[-2\\],Z\\[-1\\]) (★★★)"
      ],
      "metadata": {
        "_uuid": "794378d0e03ed3462a6f87827ffae487496cf85d",
        "id": "FpEOE-El4hnd"
      }
    },
    {
      "cell_type": "code",
      "source": [
        "# Author: Joe Kington / Erik Rigtorp\n",
        "from numpy.lib import stride_tricks\n",
        "\n",
        "def rolling(a, window):\n",
        "    shape = (a.size - window + 1, window)\n",
        "    strides = (a.itemsize, a.itemsize)\n",
        "    return stride_tricks.as_strided(a, shape=shape, strides=strides)\n",
        "Z = rolling(np.arange(10), 3)\n",
        "print(Z)"
      ],
      "metadata": {
        "trusted": true,
        "_uuid": "9ef5a36a4d0ce67c1ed4327e983105fc5ba56fb3",
        "execution": {
          "iopub.status.busy": "2025-07-20T17:48:27.26894Z",
          "iopub.status.idle": "2025-07-20T17:48:27.269369Z",
          "shell.execute_reply": "2025-07-20T17:48:27.269088Z"
        },
        "id": "jUoviJDB4hnd",
        "colab": {
          "base_uri": "https://localhost:8080/"
        },
        "outputId": "b50eb02d-3c42-4c8d-d643-7005e712878f"
      },
      "outputs": [
        {
          "output_type": "stream",
          "name": "stdout",
          "text": [
            "[[0 1 2]\n",
            " [1 2 3]\n",
            " [2 3 4]\n",
            " [3 4 5]\n",
            " [4 5 6]\n",
            " [5 6 7]\n",
            " [6 7 8]\n",
            " [7 8 9]]\n"
          ]
        }
      ],
      "execution_count": 168
    },
    {
      "cell_type": "markdown",
      "source": [
        "#### 77. How to negate a boolean, or to change the sign of a float inplace? (★★★)"
      ],
      "metadata": {
        "_uuid": "f5349e34f831b12ac2f7b75bc67a065ba32d71df",
        "id": "aGuaf2x44hne"
      }
    },
    {
      "cell_type": "code",
      "source": [
        "# Author: Nathaniel J. Smith\n",
        "\n",
        "Z = np.random.randint(0,2,100)\n",
        "np.logical_not(Z, out=Z)\n",
        "\n",
        "Z = np.random.uniform(-1.0,1.0,100)\n",
        "np.negative(Z, out=Z)"
      ],
      "metadata": {
        "trusted": true,
        "_uuid": "f0a9b5c8c0b3667c6445ef1f9261246571f3d0e6",
        "execution": {
          "iopub.status.busy": "2025-07-20T17:48:27.270202Z",
          "iopub.status.idle": "2025-07-20T17:48:27.270712Z",
          "shell.execute_reply": "2025-07-20T17:48:27.270443Z"
        },
        "id": "tnlKgSj64hne",
        "colab": {
          "base_uri": "https://localhost:8080/"
        },
        "outputId": "eb647bf4-cfcb-461b-e412-9f57f18aba5c"
      },
      "outputs": [
        {
          "output_type": "execute_result",
          "data": {
            "text/plain": [
              "array([-6.44122791e-01,  9.76776562e-01, -9.31732266e-02, -8.04335907e-01,\n",
              "       -9.47595520e-01,  1.59635879e-01, -6.72014786e-01,  7.03030168e-01,\n",
              "        5.58451750e-02, -7.37757459e-02,  5.41184027e-01,  1.37017635e-01,\n",
              "        9.96496685e-01, -2.04179047e-01,  4.18417798e-01, -3.30445332e-01,\n",
              "        8.68730891e-01, -7.08831663e-01,  9.09655318e-01, -5.87427222e-01,\n",
              "       -5.41353235e-01, -2.65530639e-01,  3.60986779e-01,  4.73948962e-01,\n",
              "       -6.11312976e-01, -4.59893555e-01,  1.50655912e-01,  8.65546437e-01,\n",
              "       -4.24313284e-01, -4.81642349e-01, -1.14556771e-01,  1.18531769e-01,\n",
              "        5.12144564e-01, -9.70707731e-01, -1.11250374e-01,  6.02813553e-01,\n",
              "        4.51151557e-02, -9.38484852e-01, -8.00431366e-02,  9.74457169e-01,\n",
              "       -3.77652911e-01, -9.03180239e-01,  3.86806717e-01, -4.79060878e-01,\n",
              "        7.37293371e-01, -8.53226371e-01,  5.03578709e-01, -5.71800081e-01,\n",
              "        9.56338283e-01,  8.44593688e-01,  8.38250825e-02, -8.43843220e-01,\n",
              "        6.72269103e-01,  7.65501362e-01,  2.29225829e-01, -6.09965392e-01,\n",
              "        1.72476193e-01, -2.89964482e-01,  5.61106779e-01, -1.94080020e-01,\n",
              "        4.32622746e-01, -3.28141512e-01,  9.82895161e-01, -6.29197950e-01,\n",
              "       -5.43442169e-01, -6.90991404e-02,  3.10957807e-01,  6.25238620e-01,\n",
              "       -4.09278358e-01,  6.09807030e-01,  9.40419821e-01,  8.69041701e-01,\n",
              "       -8.99830236e-01,  5.92709029e-01,  4.49195292e-01, -4.34568910e-01,\n",
              "        2.41657030e-03,  2.40912133e-01,  4.65254007e-01,  2.29894584e-01,\n",
              "        5.97895668e-01,  2.04692272e-01, -7.52665245e-01, -5.25318260e-01,\n",
              "        2.10550266e-01,  4.33703666e-02, -2.24951846e-01, -5.93151167e-01,\n",
              "        3.11052794e-01, -1.91678807e-01,  6.94805058e-01,  6.48298353e-01,\n",
              "        4.97353921e-01, -5.42584447e-04, -5.84914449e-01,  3.86914208e-01,\n",
              "       -9.88573856e-01,  4.27138383e-01,  5.18279004e-01,  6.67481646e-01])"
            ]
          },
          "metadata": {},
          "execution_count": 136
        }
      ],
      "execution_count": 136
    },
    {
      "cell_type": "markdown",
      "source": [
        "#### 78. Consider 2 sets of points P0,P1 describing lines (2d) and a point p, how to compute distance from p to each line i  (P0\\[i\\],P1\\[i\\])? (★★★)"
      ],
      "metadata": {
        "_uuid": "ce309f54e1032b505c9fced97839bf257bc2cf64",
        "id": "3jtL9sQ04hne"
      }
    },
    {
      "cell_type": "code",
      "source": [
        "def distance(P0, P1, p):\n",
        "    T = P1 - P0\n",
        "    L = (T**2).sum(axis=1)\n",
        "    U = -((P0[:,0]-p[...,0])*T[:,0] + (P0[:,1]-p[...,1])*T[:,1]) / L\n",
        "    U = U.reshape(len(U),1)\n",
        "    D = P0 + U*T - p\n",
        "    return np.sqrt((D**2).sum(axis=1))\n",
        "\n",
        "P0 = np.random.uniform(-10,10,(10,2))\n",
        "P1 = np.random.uniform(-10,10,(10,2))\n",
        "p  = np.random.uniform(-10,10,( 1,2))\n",
        "print(distance(P0, P1, p))"
      ],
      "metadata": {
        "trusted": true,
        "_uuid": "b5d3bc01c0d08e0f1d7e5c08d737b7bdf138b19c",
        "execution": {
          "iopub.status.busy": "2025-07-20T17:48:27.271318Z",
          "iopub.status.idle": "2025-07-20T17:48:27.272067Z",
          "shell.execute_reply": "2025-07-20T17:48:27.271637Z"
        },
        "id": "fN-dMWpy4hne",
        "colab": {
          "base_uri": "https://localhost:8080/"
        },
        "outputId": "b91e0497-0170-4538-f65a-47769d490692"
      },
      "outputs": [
        {
          "output_type": "stream",
          "name": "stdout",
          "text": [
            "[ 0.40211689 12.44175883  4.39218157  4.4555662  16.4425753   6.85880235\n",
            "  6.04503783  3.3463359   5.97213671  6.27511849]\n"
          ]
        }
      ],
      "execution_count": 171
    },
    {
      "cell_type": "markdown",
      "source": [
        "#### 79. Consider 2 sets of points P0,P1 describing lines (2d) and a set of points P, how to compute distance from each point j (P\\[j\\]) to each line i (P0\\[i\\],P1\\[i\\])? (★★★)"
      ],
      "metadata": {
        "_uuid": "df3a094eb31c73f48bfb72132dadbe47a69e8bb4",
        "id": "O7j-k0Af4hne"
      }
    },
    {
      "cell_type": "code",
      "source": [
        "# Author: Italmassov Kuanysh\n",
        "\n",
        "# based on distance function from previous question\n",
        "P0 = np.random.uniform(-10, 10, (10,2))\n",
        "P1 = np.random.uniform(-10,10,(10,2))\n",
        "p = np.random.uniform(-10, 10, (10,2))\n",
        "print(np.array([distance(P0,P1,p_i) for p_i in p]))"
      ],
      "metadata": {
        "trusted": true,
        "_uuid": "1fdccdc0a96f92195c8b57bbc821708d86fba2be",
        "execution": {
          "iopub.status.busy": "2025-07-20T17:48:27.272909Z",
          "iopub.status.idle": "2025-07-20T17:48:27.273575Z",
          "shell.execute_reply": "2025-07-20T17:48:27.273155Z"
        },
        "id": "oMUxXi3E4hne",
        "colab": {
          "base_uri": "https://localhost:8080/"
        },
        "outputId": "72b5daeb-c77a-4395-d936-b46f70ba6589"
      },
      "outputs": [
        {
          "output_type": "stream",
          "name": "stdout",
          "text": [
            "[[ 2.70322823  1.34677359  3.85384906  7.6880483   7.78029864  8.08808612\n",
            "   3.41294984  6.72130235 12.29099486  4.89675423]\n",
            " [ 4.29631623  2.42950882 12.3942343   6.63486527  5.79026048 12.67045135\n",
            "   4.92918302  4.30119589  1.24088443  4.98357756]\n",
            " [ 1.31157907  2.5494078   2.19603363  8.9669305   8.28805129  6.53796216\n",
            "   5.06883273  8.35847029 12.78742513  6.55501555]\n",
            " [11.88466426 17.1117339   4.99373074  4.5805339   3.57799465  4.55517115\n",
            "  12.49202525 12.13457954  0.84704277 12.02891316]\n",
            " [12.3466546  17.71760691  4.98600281  3.92474686  4.50073121  4.83386824\n",
            "  12.50012608 11.90947669  0.07729178 11.90880053]\n",
            " [ 8.28553815  1.5993681  15.57595755  7.26067052  4.1747613  16.45009978\n",
            "   8.15171528  6.8313112   0.40099036  7.84990317]\n",
            " [ 4.717522    8.61216486  2.68362518 10.05012315  5.98524696  0.79560054\n",
            "  10.00807366 12.28009414 10.44448329 10.97230929]\n",
            " [ 7.6237505  12.75185781  1.74819742  4.20806752  1.5535081   0.58272985\n",
            "   9.19839151  9.64270512  2.89910935  9.15108651]\n",
            " [ 0.26085608  3.9453933   2.26229086  7.38120949  6.09424075  5.92468812\n",
            "   5.04001217  7.77946485 10.5901687   6.22334107]\n",
            " [ 3.85954321  8.81830424  0.89774073  4.30733023  0.66763136  2.83310762\n",
            "   6.50343035  7.7460322   5.14375712  6.87460488]]\n"
          ]
        }
      ],
      "execution_count": 175
    },
    {
      "cell_type": "markdown",
      "source": [
        "#### 80. Consider an arbitrary array, write a function that extract a subpart with a fixed shape and centered on a given element (pad with a `fill` value when necessary) (★★★)"
      ],
      "metadata": {
        "_uuid": "4cf8d4a09224f87c8df4de7af1fb6bd79e255769",
        "id": "8i6y3-MV4hnf"
      }
    },
    {
      "cell_type": "code",
      "source": [
        "# Author: Nicolas Rougier\n",
        "\n",
        "Z = np.random.randint(0,10,(10,10))\n",
        "shape = (5,5)\n",
        "fill  = 0\n",
        "position = (1,1)\n",
        "\n",
        "R = np.ones(shape, dtype=Z.dtype)*fill\n",
        "P  = np.array(list(position)).astype(int)\n",
        "Rs = np.array(list(R.shape)).astype(int)\n",
        "Zs = np.array(list(Z.shape)).astype(int)\n",
        "\n",
        "R_start = np.zeros((len(shape),)).astype(int)\n",
        "R_stop  = np.array(list(shape)).astype(int)\n",
        "Z_start = (P-Rs//2)\n",
        "Z_stop  = (P+Rs//2)+Rs%2\n",
        "\n",
        "R_start = (R_start - np.minimum(Z_start,0)).tolist()\n",
        "Z_start = (np.maximum(Z_start,0)).tolist()\n",
        "R_stop = np.maximum(R_start, (R_stop - np.maximum(Z_stop-Zs,0))).tolist()\n",
        "Z_stop = (np.minimum(Z_stop,Zs)).tolist()\n",
        "\n",
        "r = [slice(start,stop) for start,stop in zip(R_start,R_stop)]\n",
        "z = [slice(start,stop) for start,stop in zip(Z_start,Z_stop)]\n",
        "R[r] = Z[z]\n",
        "print(Z)\n",
        "print(R)"
      ],
      "metadata": {
        "trusted": true,
        "_uuid": "bd0f84fa830cff3baa5923ed8766475674375685",
        "execution": {
          "iopub.status.busy": "2025-07-20T17:48:27.274828Z",
          "iopub.status.idle": "2025-07-20T17:48:27.275448Z",
          "shell.execute_reply": "2025-07-20T17:48:27.27507Z"
        },
        "id": "HdEg4vum4hnf",
        "colab": {
          "base_uri": "https://localhost:8080/",
          "height": 211
        },
        "outputId": "21986a8b-7071-4d33-9a86-0ddfb8ac0df2"
      },
      "outputs": [
        {
          "output_type": "error",
          "ename": "IndexError",
          "evalue": "only integers, slices (`:`), ellipsis (`...`), numpy.newaxis (`None`) and integer or boolean arrays are valid indices",
          "traceback": [
            "\u001b[0;31m---------------------------------------------------------------------------\u001b[0m",
            "\u001b[0;31mIndexError\u001b[0m                                Traceback (most recent call last)",
            "\u001b[0;32m/tmp/ipython-input-176-533828575.py\u001b[0m in \u001b[0;36m<cell line: 0>\u001b[0;34m()\u001b[0m\n\u001b[1;32m     23\u001b[0m \u001b[0mr\u001b[0m \u001b[0;34m=\u001b[0m \u001b[0;34m[\u001b[0m\u001b[0mslice\u001b[0m\u001b[0;34m(\u001b[0m\u001b[0mstart\u001b[0m\u001b[0;34m,\u001b[0m\u001b[0mstop\u001b[0m\u001b[0;34m)\u001b[0m \u001b[0;32mfor\u001b[0m \u001b[0mstart\u001b[0m\u001b[0;34m,\u001b[0m\u001b[0mstop\u001b[0m \u001b[0;32min\u001b[0m \u001b[0mzip\u001b[0m\u001b[0;34m(\u001b[0m\u001b[0mR_start\u001b[0m\u001b[0;34m,\u001b[0m\u001b[0mR_stop\u001b[0m\u001b[0;34m)\u001b[0m\u001b[0;34m]\u001b[0m\u001b[0;34m\u001b[0m\u001b[0;34m\u001b[0m\u001b[0m\n\u001b[1;32m     24\u001b[0m \u001b[0mz\u001b[0m \u001b[0;34m=\u001b[0m \u001b[0;34m[\u001b[0m\u001b[0mslice\u001b[0m\u001b[0;34m(\u001b[0m\u001b[0mstart\u001b[0m\u001b[0;34m,\u001b[0m\u001b[0mstop\u001b[0m\u001b[0;34m)\u001b[0m \u001b[0;32mfor\u001b[0m \u001b[0mstart\u001b[0m\u001b[0;34m,\u001b[0m\u001b[0mstop\u001b[0m \u001b[0;32min\u001b[0m \u001b[0mzip\u001b[0m\u001b[0;34m(\u001b[0m\u001b[0mZ_start\u001b[0m\u001b[0;34m,\u001b[0m\u001b[0mZ_stop\u001b[0m\u001b[0;34m)\u001b[0m\u001b[0;34m]\u001b[0m\u001b[0;34m\u001b[0m\u001b[0;34m\u001b[0m\u001b[0m\n\u001b[0;32m---> 25\u001b[0;31m \u001b[0mR\u001b[0m\u001b[0;34m[\u001b[0m\u001b[0mr\u001b[0m\u001b[0;34m]\u001b[0m \u001b[0;34m=\u001b[0m \u001b[0mZ\u001b[0m\u001b[0;34m[\u001b[0m\u001b[0mz\u001b[0m\u001b[0;34m]\u001b[0m\u001b[0;34m\u001b[0m\u001b[0;34m\u001b[0m\u001b[0m\n\u001b[0m\u001b[1;32m     26\u001b[0m \u001b[0mprint\u001b[0m\u001b[0;34m(\u001b[0m\u001b[0mZ\u001b[0m\u001b[0;34m)\u001b[0m\u001b[0;34m\u001b[0m\u001b[0;34m\u001b[0m\u001b[0m\n\u001b[1;32m     27\u001b[0m \u001b[0mprint\u001b[0m\u001b[0;34m(\u001b[0m\u001b[0mR\u001b[0m\u001b[0;34m)\u001b[0m\u001b[0;34m\u001b[0m\u001b[0;34m\u001b[0m\u001b[0m\n",
            "\u001b[0;31mIndexError\u001b[0m: only integers, slices (`:`), ellipsis (`...`), numpy.newaxis (`None`) and integer or boolean arrays are valid indices"
          ]
        }
      ],
      "execution_count": 176
    },
    {
      "cell_type": "markdown",
      "source": [
        "#### 81. Consider an array Z = \\[1,2,3,4,5,6,7,8,9,10,11,12,13,14\\], how to generate an array R = \\[\\[1,2,3,4\\], \\[2,3,4,5\\], \\[3,4,5,6\\], ..., \\[11,12,13,14\\]\\]? (★★★)"
      ],
      "metadata": {
        "_uuid": "8c82f8a6f87f80e600419bc6e3728b21dbc4b8ff",
        "id": "rXhHynKc4hnf"
      }
    },
    {
      "cell_type": "code",
      "source": [
        "# Author: Stefan van der Walt\n",
        "\n",
        "Z = np.arange(1,15,dtype=np.uint32)\n",
        "R = stride_tricks.as_strided(Z,(11,4),(4,4))\n",
        "print(R)"
      ],
      "metadata": {
        "trusted": true,
        "_uuid": "bef941cec7f009e83a39913705597ef1085a25b3",
        "execution": {
          "iopub.status.busy": "2025-07-20T17:48:27.276291Z",
          "iopub.status.idle": "2025-07-20T17:48:27.276766Z",
          "shell.execute_reply": "2025-07-20T17:48:27.276501Z"
        },
        "id": "FzVzfHuN4hnf",
        "colab": {
          "base_uri": "https://localhost:8080/"
        },
        "outputId": "e4610d7f-40d7-42db-8664-b0989490c89d"
      },
      "outputs": [
        {
          "output_type": "stream",
          "name": "stdout",
          "text": [
            "[[ 1  2  3  4]\n",
            " [ 2  3  4  5]\n",
            " [ 3  4  5  6]\n",
            " [ 4  5  6  7]\n",
            " [ 5  6  7  8]\n",
            " [ 6  7  8  9]\n",
            " [ 7  8  9 10]\n",
            " [ 8  9 10 11]\n",
            " [ 9 10 11 12]\n",
            " [10 11 12 13]\n",
            " [11 12 13 14]]\n"
          ]
        }
      ],
      "execution_count": 177
    },
    {
      "cell_type": "markdown",
      "source": [
        "#### 82. Compute a matrix rank (★★★)"
      ],
      "metadata": {
        "_uuid": "657e96419a48dfb4bc697876935cef0e6cdcb8f5",
        "id": "NK-86JUG4hng"
      }
    },
    {
      "cell_type": "code",
      "source": [
        "# Author: Stefan van der Walt\n",
        "\n",
        "Z = np.random.uniform(0,1,(10,10))\n",
        "U, S, V = np.linalg.svd(Z) # Singular Value Decomposition\n",
        "rank = np.sum(S > 1e-10)\n",
        "print(Z)\n",
        "print(rank)"
      ],
      "metadata": {
        "trusted": true,
        "_uuid": "10403fe400f5d3cdeb5725cb628830230c754ec1",
        "execution": {
          "iopub.status.busy": "2025-07-20T17:48:27.277604Z",
          "iopub.status.idle": "2025-07-20T17:48:27.278118Z",
          "shell.execute_reply": "2025-07-20T17:48:27.277812Z"
        },
        "id": "_HSM5owO4hng",
        "colab": {
          "base_uri": "https://localhost:8080/"
        },
        "outputId": "f16aa978-fd00-4cbf-ff69-5e2d75ae129b"
      },
      "outputs": [
        {
          "output_type": "stream",
          "name": "stdout",
          "text": [
            "[[0.62866958 0.24035972 0.01049628 0.96583827 0.0435661  0.74768757\n",
            "  0.15832574 0.38470808 0.75669097 0.22767249]\n",
            " [0.75912145 0.30749013 0.76293131 0.14798865 0.49777021 0.56704551\n",
            "  0.47210917 0.93477634 0.59546385 0.29145161]\n",
            " [0.33036689 0.31409237 0.53662839 0.36870418 0.51817431 0.66559405\n",
            "  0.21589292 0.49598675 0.30950851 0.6195147 ]\n",
            " [0.48082876 0.27333386 0.47864376 0.35772492 0.26365006 0.55765454\n",
            "  0.07221151 0.73694138 0.98212051 0.66409575]\n",
            " [0.93582361 0.12279377 0.20850016 0.89548088 0.27613176 0.51415802\n",
            "  0.31619906 0.63173957 0.74801087 0.22071811]\n",
            " [0.23732543 0.25471941 0.73301081 0.73797287 0.68227112 0.9832191\n",
            "  0.9748914  0.16911638 0.98411391 0.63480078]\n",
            " [0.37406727 0.99687627 0.80664633 0.61359579 0.37882831 0.74174803\n",
            "  0.81130611 0.95538429 0.65287737 0.70401616]\n",
            " [0.55816506 0.96503404 0.77032466 0.8363341  0.64848431 0.31591796\n",
            "  0.84399562 0.27663057 0.2005481  0.8605121 ]\n",
            " [0.10726935 0.89835753 0.04428182 0.35890298 0.71958493 0.46381253\n",
            "  0.61017698 0.323793   0.4826246  0.35049514]\n",
            " [0.09009122 0.74492502 0.88889542 0.95675814 0.1837432  0.32844458\n",
            "  0.44015343 0.37512518 0.66851032 0.49252284]]\n",
            "10\n"
          ]
        }
      ],
      "execution_count": 180
    },
    {
      "cell_type": "markdown",
      "source": [
        "#### 83. How to find the most frequent value in an array?"
      ],
      "metadata": {
        "_uuid": "24b86507600d4f283f09b3117a0b9266446e5b98",
        "id": "v1BZYi1P4hng"
      }
    },
    {
      "cell_type": "code",
      "source": [
        "Z = np.random.randint(0,10,50)\n",
        "print(Z)\n",
        "print(np.bincount(Z))\n",
        "print(np.bincount(Z).argmax())"
      ],
      "metadata": {
        "trusted": true,
        "_uuid": "bc112b94dc08691f315afb878bdd2c52cbb4c3bc",
        "execution": {
          "iopub.status.busy": "2025-07-20T17:48:27.279184Z",
          "iopub.status.idle": "2025-07-20T17:48:27.279899Z",
          "shell.execute_reply": "2025-07-20T17:48:27.279594Z"
        },
        "id": "64KTbXT14hng",
        "colab": {
          "base_uri": "https://localhost:8080/"
        },
        "outputId": "fe71a2d3-1232-4a77-e7b9-57132bc743c3"
      },
      "outputs": [
        {
          "output_type": "stream",
          "name": "stdout",
          "text": [
            "[0 3 3 7 3 4 1 1 0 0 1 6 2 2 8 1 2 4 8 2 1 7 5 6 0 5 0 3 6 8 8 7 4 8 2 7 7\n",
            " 5 8 4 0 3 3 4 3 7 5 8 0 7]\n",
            "[7 5 5 7 5 4 3 7 7]\n",
            "0\n"
          ]
        }
      ],
      "execution_count": 182
    },
    {
      "cell_type": "markdown",
      "source": [
        "#### 84. Extract all the contiguous 3x3 blocks from a random 10x10 matrix (★★★)"
      ],
      "metadata": {
        "_uuid": "62f38d5b2a9486d69d708d91a2ff76c52b5e409e",
        "id": "zrJHDp2w4hng"
      }
    },
    {
      "cell_type": "code",
      "source": [
        "# Author: Chris Barker\n",
        "\n",
        "Z = np.random.randint(0,5,(10,10))\n",
        "n = 3\n",
        "print(Z.shape)\n",
        "i = 1 + (Z.shape[0]-3)\n",
        "j = 1 + (Z.shape[1]-3)\n",
        "C = stride_tricks.as_strided(Z, shape=(i, j, n, n), strides=Z.strides + Z.strides)\n",
        "print(C)"
      ],
      "metadata": {
        "trusted": true,
        "_uuid": "b21371cfb99568a01218ce485aca3089f38d45cf",
        "execution": {
          "iopub.status.busy": "2025-07-20T17:48:27.280637Z",
          "iopub.status.idle": "2025-07-20T17:48:27.281247Z",
          "shell.execute_reply": "2025-07-20T17:48:27.280853Z"
        },
        "id": "xQk4fHP24hnh",
        "colab": {
          "base_uri": "https://localhost:8080/"
        },
        "outputId": "3ef7f383-0d31-4945-abdf-92a619bf0974"
      },
      "outputs": [
        {
          "output_type": "stream",
          "name": "stdout",
          "text": [
            "(10, 10)\n",
            "[[[[2 0 3]\n",
            "   [1 1 3]\n",
            "   [0 1 0]]\n",
            "\n",
            "  [[0 3 0]\n",
            "   [1 3 2]\n",
            "   [1 0 4]]\n",
            "\n",
            "  [[3 0 4]\n",
            "   [3 2 4]\n",
            "   [0 4 1]]\n",
            "\n",
            "  [[0 4 3]\n",
            "   [2 4 1]\n",
            "   [4 1 0]]\n",
            "\n",
            "  [[4 3 3]\n",
            "   [4 1 4]\n",
            "   [1 0 3]]\n",
            "\n",
            "  [[3 3 0]\n",
            "   [1 4 0]\n",
            "   [0 3 0]]\n",
            "\n",
            "  [[3 0 0]\n",
            "   [4 0 1]\n",
            "   [3 0 0]]\n",
            "\n",
            "  [[0 0 4]\n",
            "   [0 1 2]\n",
            "   [0 0 3]]]\n",
            "\n",
            "\n",
            " [[[1 1 3]\n",
            "   [0 1 0]\n",
            "   [2 2 0]]\n",
            "\n",
            "  [[1 3 2]\n",
            "   [1 0 4]\n",
            "   [2 0 4]]\n",
            "\n",
            "  [[3 2 4]\n",
            "   [0 4 1]\n",
            "   [0 4 0]]\n",
            "\n",
            "  [[2 4 1]\n",
            "   [4 1 0]\n",
            "   [4 0 3]]\n",
            "\n",
            "  [[4 1 4]\n",
            "   [1 0 3]\n",
            "   [0 3 2]]\n",
            "\n",
            "  [[1 4 0]\n",
            "   [0 3 0]\n",
            "   [3 2 0]]\n",
            "\n",
            "  [[4 0 1]\n",
            "   [3 0 0]\n",
            "   [2 0 1]]\n",
            "\n",
            "  [[0 1 2]\n",
            "   [0 0 3]\n",
            "   [0 1 2]]]\n",
            "\n",
            "\n",
            " [[[0 1 0]\n",
            "   [2 2 0]\n",
            "   [3 0 2]]\n",
            "\n",
            "  [[1 0 4]\n",
            "   [2 0 4]\n",
            "   [0 2 0]]\n",
            "\n",
            "  [[0 4 1]\n",
            "   [0 4 0]\n",
            "   [2 0 0]]\n",
            "\n",
            "  [[4 1 0]\n",
            "   [4 0 3]\n",
            "   [0 0 2]]\n",
            "\n",
            "  [[1 0 3]\n",
            "   [0 3 2]\n",
            "   [0 2 1]]\n",
            "\n",
            "  [[0 3 0]\n",
            "   [3 2 0]\n",
            "   [2 1 4]]\n",
            "\n",
            "  [[3 0 0]\n",
            "   [2 0 1]\n",
            "   [1 4 0]]\n",
            "\n",
            "  [[0 0 3]\n",
            "   [0 1 2]\n",
            "   [4 0 2]]]\n",
            "\n",
            "\n",
            " [[[2 2 0]\n",
            "   [3 0 2]\n",
            "   [1 1 3]]\n",
            "\n",
            "  [[2 0 4]\n",
            "   [0 2 0]\n",
            "   [1 3 2]]\n",
            "\n",
            "  [[0 4 0]\n",
            "   [2 0 0]\n",
            "   [3 2 1]]\n",
            "\n",
            "  [[4 0 3]\n",
            "   [0 0 2]\n",
            "   [2 1 2]]\n",
            "\n",
            "  [[0 3 2]\n",
            "   [0 2 1]\n",
            "   [1 2 0]]\n",
            "\n",
            "  [[3 2 0]\n",
            "   [2 1 4]\n",
            "   [2 0 3]]\n",
            "\n",
            "  [[2 0 1]\n",
            "   [1 4 0]\n",
            "   [0 3 1]]\n",
            "\n",
            "  [[0 1 2]\n",
            "   [4 0 2]\n",
            "   [3 1 4]]]\n",
            "\n",
            "\n",
            " [[[3 0 2]\n",
            "   [1 1 3]\n",
            "   [2 0 4]]\n",
            "\n",
            "  [[0 2 0]\n",
            "   [1 3 2]\n",
            "   [0 4 4]]\n",
            "\n",
            "  [[2 0 0]\n",
            "   [3 2 1]\n",
            "   [4 4 2]]\n",
            "\n",
            "  [[0 0 2]\n",
            "   [2 1 2]\n",
            "   [4 2 4]]\n",
            "\n",
            "  [[0 2 1]\n",
            "   [1 2 0]\n",
            "   [2 4 2]]\n",
            "\n",
            "  [[2 1 4]\n",
            "   [2 0 3]\n",
            "   [4 2 2]]\n",
            "\n",
            "  [[1 4 0]\n",
            "   [0 3 1]\n",
            "   [2 2 3]]\n",
            "\n",
            "  [[4 0 2]\n",
            "   [3 1 4]\n",
            "   [2 3 0]]]\n",
            "\n",
            "\n",
            " [[[1 1 3]\n",
            "   [2 0 4]\n",
            "   [2 2 2]]\n",
            "\n",
            "  [[1 3 2]\n",
            "   [0 4 4]\n",
            "   [2 2 0]]\n",
            "\n",
            "  [[3 2 1]\n",
            "   [4 4 2]\n",
            "   [2 0 1]]\n",
            "\n",
            "  [[2 1 2]\n",
            "   [4 2 4]\n",
            "   [0 1 3]]\n",
            "\n",
            "  [[1 2 0]\n",
            "   [2 4 2]\n",
            "   [1 3 3]]\n",
            "\n",
            "  [[2 0 3]\n",
            "   [4 2 2]\n",
            "   [3 3 4]]\n",
            "\n",
            "  [[0 3 1]\n",
            "   [2 2 3]\n",
            "   [3 4 1]]\n",
            "\n",
            "  [[3 1 4]\n",
            "   [2 3 0]\n",
            "   [4 1 2]]]\n",
            "\n",
            "\n",
            " [[[2 0 4]\n",
            "   [2 2 2]\n",
            "   [1 2 4]]\n",
            "\n",
            "  [[0 4 4]\n",
            "   [2 2 0]\n",
            "   [2 4 0]]\n",
            "\n",
            "  [[4 4 2]\n",
            "   [2 0 1]\n",
            "   [4 0 3]]\n",
            "\n",
            "  [[4 2 4]\n",
            "   [0 1 3]\n",
            "   [0 3 0]]\n",
            "\n",
            "  [[2 4 2]\n",
            "   [1 3 3]\n",
            "   [3 0 1]]\n",
            "\n",
            "  [[4 2 2]\n",
            "   [3 3 4]\n",
            "   [0 1 0]]\n",
            "\n",
            "  [[2 2 3]\n",
            "   [3 4 1]\n",
            "   [1 0 1]]\n",
            "\n",
            "  [[2 3 0]\n",
            "   [4 1 2]\n",
            "   [0 1 3]]]\n",
            "\n",
            "\n",
            " [[[2 2 2]\n",
            "   [1 2 4]\n",
            "   [4 2 0]]\n",
            "\n",
            "  [[2 2 0]\n",
            "   [2 4 0]\n",
            "   [2 0 2]]\n",
            "\n",
            "  [[2 0 1]\n",
            "   [4 0 3]\n",
            "   [0 2 3]]\n",
            "\n",
            "  [[0 1 3]\n",
            "   [0 3 0]\n",
            "   [2 3 0]]\n",
            "\n",
            "  [[1 3 3]\n",
            "   [3 0 1]\n",
            "   [3 0 2]]\n",
            "\n",
            "  [[3 3 4]\n",
            "   [0 1 0]\n",
            "   [0 2 3]]\n",
            "\n",
            "  [[3 4 1]\n",
            "   [1 0 1]\n",
            "   [2 3 3]]\n",
            "\n",
            "  [[4 1 2]\n",
            "   [0 1 3]\n",
            "   [3 3 1]]]]\n"
          ]
        }
      ],
      "execution_count": 183
    },
    {
      "cell_type": "markdown",
      "source": [
        "#### 85. Create a 2D array subclass such that Z\\[i,j\\] == Z\\[j,i\\] (★★★)"
      ],
      "metadata": {
        "_uuid": "356cb226b8732db0b4956dcbb10146f370e5b21a",
        "id": "heO5zOgf4hnh"
      }
    },
    {
      "cell_type": "code",
      "source": [
        "# Author: Eric O. Lebigot\n",
        "# Note: only works for 2d array and value setting using indices\n",
        "\n",
        "class Symetric(np.ndarray):\n",
        "    def __setitem__(self, index, value):\n",
        "        i,j = index\n",
        "        super(Symetric, self).__setitem__((i,j), value)\n",
        "        super(Symetric, self).__setitem__((j,i), value)\n",
        "\n",
        "def symetric(Z):\n",
        "    return np.asarray(Z + Z.T - np.diag(Z.diagonal())).view(Symetric)\n",
        "\n",
        "S = symetric(np.random.randint(0,10,(5,5)))\n",
        "S[2,3] = 42\n",
        "print(S)"
      ],
      "metadata": {
        "trusted": true,
        "_uuid": "50cab105c14392c68f791edcb3d65920bc84c07d",
        "execution": {
          "iopub.status.busy": "2025-07-20T17:48:27.281887Z",
          "iopub.status.idle": "2025-07-20T17:48:27.282275Z",
          "shell.execute_reply": "2025-07-20T17:48:27.282075Z"
        },
        "id": "nIImR9N34hnh",
        "colab": {
          "base_uri": "https://localhost:8080/"
        },
        "outputId": "10f781ed-8ec1-4ffe-d1be-ed5ab86d7859"
      },
      "outputs": [
        {
          "output_type": "stream",
          "name": "stdout",
          "text": [
            "[[ 9  8 14  8 13]\n",
            " [ 8  5  4 10 10]\n",
            " [14  4  8 42  2]\n",
            " [ 8 10 42  9  9]\n",
            " [13 10  2  9  9]]\n"
          ]
        }
      ],
      "execution_count": 184
    },
    {
      "cell_type": "markdown",
      "source": [
        "#### 86. Consider a set of p matrices wich shape (n,n) and a set of p vectors with shape (n,1). How to compute the sum of of the p matrix products at once? (result has shape (n,1)) (★★★)"
      ],
      "metadata": {
        "_uuid": "eee96b7539939d2440942d090dbb3aa1b740536f",
        "id": "UuDikfcg4hni"
      }
    },
    {
      "cell_type": "code",
      "source": [
        "# Author: Stefan van der Walt\n",
        "\n",
        "p, n = 10, 20\n",
        "M = np.ones((p,n,n))\n",
        "V = np.ones((p,n,1))\n",
        "S = np.tensordot(M, V, axes=[[0, 2], [0, 1]])\n",
        "print(S)\n",
        "\n",
        "# It works, because:\n",
        "# M is (p,n,n)\n",
        "# V is (p,n,1)\n",
        "# Thus, summing over the paired axes 0 and 0 (of M and V independently),\n",
        "# and 2 and 1, to remain with a (n,1) vector."
      ],
      "metadata": {
        "trusted": true,
        "_uuid": "40736a29c5fb6424104130976aa4c27cc8ed77df",
        "execution": {
          "iopub.status.busy": "2025-07-20T17:48:27.282962Z",
          "iopub.status.idle": "2025-07-20T17:48:27.283315Z",
          "shell.execute_reply": "2025-07-20T17:48:27.283126Z"
        },
        "id": "CrT_2zJh4hni",
        "colab": {
          "base_uri": "https://localhost:8080/"
        },
        "outputId": "d0da1720-ab90-4d5b-995a-3512d5cb21c8"
      },
      "outputs": [
        {
          "output_type": "stream",
          "name": "stdout",
          "text": [
            "[[200.]\n",
            " [200.]\n",
            " [200.]\n",
            " [200.]\n",
            " [200.]\n",
            " [200.]\n",
            " [200.]\n",
            " [200.]\n",
            " [200.]\n",
            " [200.]\n",
            " [200.]\n",
            " [200.]\n",
            " [200.]\n",
            " [200.]\n",
            " [200.]\n",
            " [200.]\n",
            " [200.]\n",
            " [200.]\n",
            " [200.]\n",
            " [200.]]\n"
          ]
        }
      ],
      "execution_count": 185
    },
    {
      "cell_type": "markdown",
      "source": [
        "#### 87. Consider a 16x16 array, how to get the block-sum (block size is 4x4)? (★★★)"
      ],
      "metadata": {
        "_uuid": "a818718ccd3bec10bb97bd7ceb01d269df14f0b9",
        "id": "HXV9wP2d4hni"
      }
    },
    {
      "cell_type": "code",
      "source": [
        "# Author: Robert Kern\n",
        "\n",
        "Z = np.ones((16,16))\n",
        "print(Z)\n",
        "k = 4\n",
        "S = np.add.reduceat(np.add.reduceat(Z, np.arange(0, Z.shape[0], k), axis=0),\n",
        "                                       np.arange(0, Z.shape[1], k), axis=1)\n",
        "print(S)"
      ],
      "metadata": {
        "trusted": true,
        "_uuid": "b92047bfcc3cd8ea2d2c33f42c2cf34e0284ed1e",
        "execution": {
          "iopub.status.busy": "2025-07-20T17:48:27.283882Z",
          "iopub.status.idle": "2025-07-20T17:48:27.284243Z",
          "shell.execute_reply": "2025-07-20T17:48:27.284028Z"
        },
        "id": "nnTzRT5r4hni",
        "colab": {
          "base_uri": "https://localhost:8080/"
        },
        "outputId": "9f38166a-220e-42fd-c995-eabbcf7128cf"
      },
      "outputs": [
        {
          "output_type": "stream",
          "name": "stdout",
          "text": [
            "[[1. 1. 1. 1. 1. 1. 1. 1. 1. 1. 1. 1. 1. 1. 1. 1.]\n",
            " [1. 1. 1. 1. 1. 1. 1. 1. 1. 1. 1. 1. 1. 1. 1. 1.]\n",
            " [1. 1. 1. 1. 1. 1. 1. 1. 1. 1. 1. 1. 1. 1. 1. 1.]\n",
            " [1. 1. 1. 1. 1. 1. 1. 1. 1. 1. 1. 1. 1. 1. 1. 1.]\n",
            " [1. 1. 1. 1. 1. 1. 1. 1. 1. 1. 1. 1. 1. 1. 1. 1.]\n",
            " [1. 1. 1. 1. 1. 1. 1. 1. 1. 1. 1. 1. 1. 1. 1. 1.]\n",
            " [1. 1. 1. 1. 1. 1. 1. 1. 1. 1. 1. 1. 1. 1. 1. 1.]\n",
            " [1. 1. 1. 1. 1. 1. 1. 1. 1. 1. 1. 1. 1. 1. 1. 1.]\n",
            " [1. 1. 1. 1. 1. 1. 1. 1. 1. 1. 1. 1. 1. 1. 1. 1.]\n",
            " [1. 1. 1. 1. 1. 1. 1. 1. 1. 1. 1. 1. 1. 1. 1. 1.]\n",
            " [1. 1. 1. 1. 1. 1. 1. 1. 1. 1. 1. 1. 1. 1. 1. 1.]\n",
            " [1. 1. 1. 1. 1. 1. 1. 1. 1. 1. 1. 1. 1. 1. 1. 1.]\n",
            " [1. 1. 1. 1. 1. 1. 1. 1. 1. 1. 1. 1. 1. 1. 1. 1.]\n",
            " [1. 1. 1. 1. 1. 1. 1. 1. 1. 1. 1. 1. 1. 1. 1. 1.]\n",
            " [1. 1. 1. 1. 1. 1. 1. 1. 1. 1. 1. 1. 1. 1. 1. 1.]\n",
            " [1. 1. 1. 1. 1. 1. 1. 1. 1. 1. 1. 1. 1. 1. 1. 1.]]\n",
            "[[16. 16. 16. 16.]\n",
            " [16. 16. 16. 16.]\n",
            " [16. 16. 16. 16.]\n",
            " [16. 16. 16. 16.]]\n"
          ]
        }
      ],
      "execution_count": 187
    },
    {
      "cell_type": "markdown",
      "source": [
        "#### 88. How to implement the Game of Life using numpy arrays? (★★★)"
      ],
      "metadata": {
        "_uuid": "5efdc16efb03117e516f8b10aa9413a5abc70e02",
        "id": "6eNcdzqv4hni"
      }
    },
    {
      "cell_type": "code",
      "source": [
        "# Author: Nicolas Rougier\n",
        "\n",
        "def iterate(Z):\n",
        "    # Count neighbours\n",
        "    N = (Z[0:-2,0:-2] + Z[0:-2,1:-1] + Z[0:-2,2:] +\n",
        "         Z[1:-1,0:-2]                + Z[1:-1,2:] +\n",
        "         Z[2:  ,0:-2] + Z[2:  ,1:-1] + Z[2:  ,2:])\n",
        "\n",
        "    # Apply rules\n",
        "    birth = (N==3) & (Z[1:-1,1:-1]==0)\n",
        "    survive = ((N==2) | (N==3)) & (Z[1:-1,1:-1]==1)\n",
        "    Z[...] = 0\n",
        "    Z[1:-1,1:-1][birth | survive] = 1\n",
        "    return Z\n",
        "\n",
        "Z = np.random.randint(0,2,(50,50))\n",
        "for i in range(100): Z = iterate(Z)\n",
        "print(Z)"
      ],
      "metadata": {
        "trusted": true,
        "_uuid": "e6bdac77a289d19582779ef6853c1102433b7b8e",
        "execution": {
          "iopub.status.busy": "2025-07-20T17:48:27.284966Z",
          "iopub.status.idle": "2025-07-20T17:48:27.285412Z",
          "shell.execute_reply": "2025-07-20T17:48:27.285132Z"
        },
        "id": "AgVK2cqm4hnj",
        "colab": {
          "base_uri": "https://localhost:8080/"
        },
        "outputId": "b51d9615-7765-4209-e4b8-f39cf6cab548"
      },
      "outputs": [
        {
          "output_type": "stream",
          "name": "stdout",
          "text": [
            "[[0 0 0 ... 0 0 0]\n",
            " [0 0 0 ... 0 0 0]\n",
            " [0 0 0 ... 0 0 0]\n",
            " ...\n",
            " [0 0 0 ... 0 0 0]\n",
            " [0 0 0 ... 0 0 0]\n",
            " [0 0 0 ... 0 0 0]]\n"
          ]
        }
      ],
      "execution_count": 188
    },
    {
      "cell_type": "markdown",
      "source": [
        "#### 89. How to get the n largest values of an array (★★★)"
      ],
      "metadata": {
        "_uuid": "976eba1abb40955e6bf05a5847ec1bf8591fab05",
        "id": "G2KS35_u4hnj"
      }
    },
    {
      "cell_type": "code",
      "source": [
        "Z = np.arange(10000)\n",
        "np.random.shuffle(Z)\n",
        "n = 5\n",
        "\n",
        "# Slow\n",
        "print (Z[np.argsort(Z)[-n:]])\n",
        "\n",
        "# Fast\n",
        "print (Z[np.argpartition(-Z,n)[:n]])"
      ],
      "metadata": {
        "trusted": true,
        "_uuid": "130ddce34dd70f334a1e0bd51b733a4b84a9bfc1",
        "execution": {
          "iopub.status.busy": "2025-07-20T17:48:27.286256Z",
          "iopub.status.idle": "2025-07-20T17:48:27.286901Z",
          "shell.execute_reply": "2025-07-20T17:48:27.286607Z"
        },
        "id": "GhLqMo-n4hnj",
        "colab": {
          "base_uri": "https://localhost:8080/"
        },
        "outputId": "a16bbccf-c6c3-4be4-ad1a-fff0986c1415"
      },
      "outputs": [
        {
          "output_type": "stream",
          "name": "stdout",
          "text": [
            "[9995 9996 9997 9998 9999]\n",
            "[9999 9998 9997 9996 9995]\n"
          ]
        }
      ],
      "execution_count": 189
    },
    {
      "cell_type": "markdown",
      "source": [
        "#### 90. Given an arbitrary number of vectors, build the cartesian product (every combinations of every item) (★★★)"
      ],
      "metadata": {
        "_uuid": "ffe9e29aa6750ab693ef37ca60c461a82a761dd9",
        "id": "Co9uueyr4hnj"
      }
    },
    {
      "cell_type": "code",
      "source": [
        "# Author: Stefan Van der Walt\n",
        "\n",
        "def cartesian(arrays):\n",
        "    arrays = [np.asarray(a) for a in arrays]\n",
        "    shape = (len(x) for x in arrays)\n",
        "\n",
        "    ix = np.indices(shape, dtype=int)\n",
        "    ix = ix.reshape(len(arrays), -1).T\n",
        "\n",
        "    for n, arr in enumerate(arrays):\n",
        "        ix[:, n] = arrays[n][ix[:, n]]\n",
        "\n",
        "    return ix\n",
        "\n",
        "print (cartesian(([1, 2, 3], [4, 5], [6, 7])))"
      ],
      "metadata": {
        "scrolled": true,
        "trusted": true,
        "_uuid": "cb67f935dd1f8f683ba5f06c9cf2a31d53ace2ef",
        "execution": {
          "iopub.status.busy": "2025-07-20T17:48:27.287663Z",
          "iopub.status.idle": "2025-07-20T17:48:27.288167Z",
          "shell.execute_reply": "2025-07-20T17:48:27.287914Z"
        },
        "id": "MwoAPsef4hnk",
        "colab": {
          "base_uri": "https://localhost:8080/"
        },
        "outputId": "7a0f5ecb-332b-4197-f760-9413bb5f0342"
      },
      "outputs": [
        {
          "output_type": "stream",
          "name": "stdout",
          "text": [
            "[[1 4 6]\n",
            " [1 4 7]\n",
            " [1 5 6]\n",
            " [1 5 7]\n",
            " [2 4 6]\n",
            " [2 4 7]\n",
            " [2 5 6]\n",
            " [2 5 7]\n",
            " [3 4 6]\n",
            " [3 4 7]\n",
            " [3 5 6]\n",
            " [3 5 7]]\n"
          ]
        }
      ],
      "execution_count": 190
    },
    {
      "cell_type": "markdown",
      "source": [
        "#### 91. How to create a record array from a regular array? (★★★)"
      ],
      "metadata": {
        "_uuid": "16034f8e04d44923f487cd2a734692578b585dfc",
        "id": "Fv-imHWI4hnk"
      }
    },
    {
      "cell_type": "code",
      "source": [
        "Z = np.array([(\"Hello\", 2.5, 3),\n",
        "              (\"World\", 3.6, 2)])\n",
        "R = np.core.records.fromarrays(Z.T,\n",
        "                               names='col1, col2, col3',\n",
        "                               formats = 'S8, f8, i8')\n",
        "print(R)"
      ],
      "metadata": {
        "trusted": true,
        "_uuid": "a243156ca67b3a776cf9f4471a3f35e9399fa868",
        "execution": {
          "iopub.status.busy": "2025-07-20T17:48:27.288901Z",
          "iopub.status.idle": "2025-07-20T17:48:27.289493Z",
          "shell.execute_reply": "2025-07-20T17:48:27.289162Z"
        },
        "id": "Scr68PWp4hnk",
        "colab": {
          "base_uri": "https://localhost:8080/"
        },
        "outputId": "4533c6b5-28e4-44fc-cf63-cdf7b090447e"
      },
      "outputs": [
        {
          "output_type": "stream",
          "name": "stdout",
          "text": [
            "[(b'Hello', 2.5, 3) (b'World', 3.6, 2)]\n"
          ]
        },
        {
          "output_type": "stream",
          "name": "stderr",
          "text": [
            "/tmp/ipython-input-191-100570611.py:3: DeprecationWarning: numpy.core is deprecated and has been renamed to numpy._core. The numpy._core namespace contains private NumPy internals and its use is discouraged, as NumPy internals can change without warning in any release. In practice, most real-world usage of numpy.core is to access functionality in the public NumPy API. If that is the case, use the public NumPy API. If not, you are using NumPy internals. If you would still like to access an internal attribute, use numpy._core.records.\n",
            "  R = np.core.records.fromarrays(Z.T,\n"
          ]
        }
      ],
      "execution_count": 191
    },
    {
      "cell_type": "markdown",
      "source": [
        "#### 92. Consider a large vector Z, compute Z to the power of 3 using 3 different methods (★★★)"
      ],
      "metadata": {
        "_uuid": "4af186d08ff5a394f0bd3df61c08924180664242",
        "id": "ueqcJALU4hnk"
      }
    },
    {
      "cell_type": "code",
      "source": [
        "# Author: Ryan G.\n",
        "\n",
        "x = np.random.rand(5e7)\n",
        "\n",
        "%timeit np.power(x,3)\n",
        "%timeit x*x*x\n",
        "%timeit np.einsum('i,i,i->i',x,x,x)"
      ],
      "metadata": {
        "trusted": true,
        "_uuid": "0d9e52e4417bf25096d540a15624f30ff3517c55",
        "execution": {
          "iopub.status.busy": "2025-07-20T17:48:27.290646Z",
          "iopub.status.idle": "2025-07-20T17:48:27.29122Z",
          "shell.execute_reply": "2025-07-20T17:48:27.290961Z"
        },
        "id": "DCSkfTtW4hnk",
        "colab": {
          "base_uri": "https://localhost:8080/",
          "height": 315
        },
        "outputId": "88c7390f-2c74-4d7d-8745-6c68857a693b"
      },
      "outputs": [
        {
          "output_type": "error",
          "ename": "TypeError",
          "evalue": "'float' object cannot be interpreted as an integer",
          "traceback": [
            "\u001b[0;31m---------------------------------------------------------------------------\u001b[0m",
            "\u001b[0;31mTypeError\u001b[0m                                 Traceback (most recent call last)",
            "\u001b[0;32m/tmp/ipython-input-192-3282671475.py\u001b[0m in \u001b[0;36m<cell line: 0>\u001b[0;34m()\u001b[0m\n\u001b[1;32m      1\u001b[0m \u001b[0;31m# Author: Ryan G.\u001b[0m\u001b[0;34m\u001b[0m\u001b[0;34m\u001b[0m\u001b[0m\n\u001b[1;32m      2\u001b[0m \u001b[0;34m\u001b[0m\u001b[0m\n\u001b[0;32m----> 3\u001b[0;31m \u001b[0mx\u001b[0m \u001b[0;34m=\u001b[0m \u001b[0mnp\u001b[0m\u001b[0;34m.\u001b[0m\u001b[0mrandom\u001b[0m\u001b[0;34m.\u001b[0m\u001b[0mrand\u001b[0m\u001b[0;34m(\u001b[0m\u001b[0;36m5e7\u001b[0m\u001b[0;34m)\u001b[0m\u001b[0;34m\u001b[0m\u001b[0;34m\u001b[0m\u001b[0m\n\u001b[0m\u001b[1;32m      4\u001b[0m \u001b[0;34m\u001b[0m\u001b[0m\n\u001b[1;32m      5\u001b[0m \u001b[0mget_ipython\u001b[0m\u001b[0;34m(\u001b[0m\u001b[0;34m)\u001b[0m\u001b[0;34m.\u001b[0m\u001b[0mrun_line_magic\u001b[0m\u001b[0;34m(\u001b[0m\u001b[0;34m'timeit'\u001b[0m\u001b[0;34m,\u001b[0m \u001b[0;34m'np.power(x,3)'\u001b[0m\u001b[0;34m)\u001b[0m\u001b[0;34m\u001b[0m\u001b[0;34m\u001b[0m\u001b[0m\n",
            "\u001b[0;32mnumpy/random/mtrand.pyx\u001b[0m in \u001b[0;36mnumpy.random.mtrand.RandomState.rand\u001b[0;34m()\u001b[0m\n",
            "\u001b[0;32mnumpy/random/mtrand.pyx\u001b[0m in \u001b[0;36mnumpy.random.mtrand.RandomState.random_sample\u001b[0;34m()\u001b[0m\n",
            "\u001b[0;32m_common.pyx\u001b[0m in \u001b[0;36mnumpy.random._common.double_fill\u001b[0;34m()\u001b[0m\n",
            "\u001b[0;31mTypeError\u001b[0m: 'float' object cannot be interpreted as an integer"
          ]
        }
      ],
      "execution_count": 192
    },
    {
      "cell_type": "markdown",
      "source": [
        "#### 93. Consider two arrays A and B of shape (8,3) and (2,2). How to find rows of A that contain elements of each row of B regardless of the order of the elements in B? (★★★)"
      ],
      "metadata": {
        "_uuid": "31e96d464715e1711345f674f79cb64703d39f69",
        "id": "C8h8QtZa4hnl"
      }
    },
    {
      "cell_type": "code",
      "source": [
        "# Author: Gabe Schwartz\n",
        "\n",
        "A = np.random.randint(0,5,(8,3))\n",
        "B = np.random.randint(0,5,(2,2))\n",
        "print(A)\n",
        "print(B)\n",
        "C = (A[..., np.newaxis, np.newaxis] == B)\n",
        "print(C)\n",
        "rows = np.where(C.any((3,1)).all(1))[0]\n",
        "print(rows)"
      ],
      "metadata": {
        "trusted": true,
        "_uuid": "6f54c8d1c80000fd49423927dc9cbf2cd820acd9",
        "execution": {
          "iopub.status.busy": "2025-07-20T17:48:27.292176Z",
          "iopub.status.idle": "2025-07-20T17:48:27.293079Z",
          "shell.execute_reply": "2025-07-20T17:48:27.292536Z"
        },
        "id": "E4AzRHx34hnl",
        "colab": {
          "base_uri": "https://localhost:8080/"
        },
        "outputId": "b8196203-aa29-4f2a-e724-65c61bd0541b"
      },
      "outputs": [
        {
          "output_type": "stream",
          "name": "stdout",
          "text": [
            "[[3 4 3]\n",
            " [2 4 1]\n",
            " [0 3 1]\n",
            " [4 3 2]\n",
            " [2 1 1]\n",
            " [2 3 4]\n",
            " [1 4 4]\n",
            " [1 1 1]]\n",
            "[[4 1]\n",
            " [1 4]]\n",
            "[[[[False False]\n",
            "   [False False]]\n",
            "\n",
            "  [[ True False]\n",
            "   [False  True]]\n",
            "\n",
            "  [[False False]\n",
            "   [False False]]]\n",
            "\n",
            "\n",
            " [[[False False]\n",
            "   [False False]]\n",
            "\n",
            "  [[ True False]\n",
            "   [False  True]]\n",
            "\n",
            "  [[False  True]\n",
            "   [ True False]]]\n",
            "\n",
            "\n",
            " [[[False False]\n",
            "   [False False]]\n",
            "\n",
            "  [[False False]\n",
            "   [False False]]\n",
            "\n",
            "  [[False  True]\n",
            "   [ True False]]]\n",
            "\n",
            "\n",
            " [[[ True False]\n",
            "   [False  True]]\n",
            "\n",
            "  [[False False]\n",
            "   [False False]]\n",
            "\n",
            "  [[False False]\n",
            "   [False False]]]\n",
            "\n",
            "\n",
            " [[[False False]\n",
            "   [False False]]\n",
            "\n",
            "  [[False  True]\n",
            "   [ True False]]\n",
            "\n",
            "  [[False  True]\n",
            "   [ True False]]]\n",
            "\n",
            "\n",
            " [[[False False]\n",
            "   [False False]]\n",
            "\n",
            "  [[False False]\n",
            "   [False False]]\n",
            "\n",
            "  [[ True False]\n",
            "   [False  True]]]\n",
            "\n",
            "\n",
            " [[[False  True]\n",
            "   [ True False]]\n",
            "\n",
            "  [[ True False]\n",
            "   [False  True]]\n",
            "\n",
            "  [[ True False]\n",
            "   [False  True]]]\n",
            "\n",
            "\n",
            " [[[False  True]\n",
            "   [ True False]]\n",
            "\n",
            "  [[False  True]\n",
            "   [ True False]]\n",
            "\n",
            "  [[False  True]\n",
            "   [ True False]]]]\n",
            "[0 1 2 3 4 5 6 7]\n"
          ]
        }
      ],
      "execution_count": 205
    },
    {
      "cell_type": "markdown",
      "source": [
        "#### 94. Considering a 10x3 matrix, extract rows with unequal values (e.g. \\[2,2,3\\]) (★★★)"
      ],
      "metadata": {
        "_uuid": "74175efecabdb8e5f43531beab38a64203b0331f",
        "id": "gI3FOC2o4hnl"
      }
    },
    {
      "cell_type": "code",
      "source": [
        "# Author: Robert Kern\n",
        "\n",
        "Z = np.random.randint(0,5,(10,3))\n",
        "print(Z)\n",
        "# solution for arrays of all dtypes (including string arrays and record arrays)\n",
        "E = np.all(Z[:,1:] == Z[:,:-1], axis=1)\n",
        "U = Z[~E]\n",
        "print(U)\n",
        "# soluiton for numerical arrays only, will work for any number of columns in Z\n",
        "U = Z[Z.max(axis=1) != Z.min(axis=1),:]\n",
        "print(U)"
      ],
      "metadata": {
        "trusted": true,
        "_uuid": "2adc7d15835b2ac4e870db377555fff5a5da439b",
        "execution": {
          "iopub.status.busy": "2025-07-20T17:48:27.293941Z",
          "iopub.status.idle": "2025-07-20T17:48:27.294554Z",
          "shell.execute_reply": "2025-07-20T17:48:27.294208Z"
        },
        "id": "Nbj_QXSb4hnl"
      },
      "outputs": [],
      "execution_count": null
    },
    {
      "cell_type": "markdown",
      "source": [
        "#### 95. Convert a vector of ints into a matrix binary representation (★★★)"
      ],
      "metadata": {
        "_uuid": "5afd250a943d5e2f008bf0682376e140be69d007",
        "id": "wcK4Fdon4hnm"
      }
    },
    {
      "cell_type": "code",
      "source": [
        "# Author: Warren Weckesser\n",
        "\n",
        "I = np.array([0, 1, 2, 3, 15, 16, 32, 64, 128])\n",
        "B = ((I.reshape(-1,1) & (2**np.arange(8))) != 0).astype(int)\n",
        "print(B[:,::-1])\n",
        "\n",
        "# Author: Daniel T. McDonald\n",
        "\n",
        "I = np.array([0, 1, 2, 3, 15, 16, 32, 64, 128], dtype=np.uint8)\n",
        "print(np.unpackbits(I[:, np.newaxis], axis=1))"
      ],
      "metadata": {
        "trusted": true,
        "_uuid": "2f25d28334b03e5cab6d6dc3e7312991acf8bb18",
        "execution": {
          "iopub.status.busy": "2025-07-20T17:48:27.295214Z",
          "iopub.status.idle": "2025-07-20T17:48:27.295706Z",
          "shell.execute_reply": "2025-07-20T17:48:27.295448Z"
        },
        "id": "Zo0xO9H24hnm",
        "colab": {
          "base_uri": "https://localhost:8080/"
        },
        "outputId": "76fa9feb-71a4-462d-f57f-b4e3b8d078c0"
      },
      "outputs": [
        {
          "output_type": "stream",
          "name": "stdout",
          "text": [
            "[[0 0 0 0 0 0 0 0]\n",
            " [0 0 0 0 0 0 0 1]\n",
            " [0 0 0 0 0 0 1 0]\n",
            " [0 0 0 0 0 0 1 1]\n",
            " [0 0 0 0 1 1 1 1]\n",
            " [0 0 0 1 0 0 0 0]\n",
            " [0 0 1 0 0 0 0 0]\n",
            " [0 1 0 0 0 0 0 0]\n",
            " [1 0 0 0 0 0 0 0]]\n",
            "[[0 0 0 0 0 0 0 0]\n",
            " [0 0 0 0 0 0 0 1]\n",
            " [0 0 0 0 0 0 1 0]\n",
            " [0 0 0 0 0 0 1 1]\n",
            " [0 0 0 0 1 1 1 1]\n",
            " [0 0 0 1 0 0 0 0]\n",
            " [0 0 1 0 0 0 0 0]\n",
            " [0 1 0 0 0 0 0 0]\n",
            " [1 0 0 0 0 0 0 0]]\n"
          ]
        }
      ],
      "execution_count": 142
    },
    {
      "cell_type": "markdown",
      "source": [
        "#### 96. Given a two dimensional array, how to extract unique rows? (★★★)"
      ],
      "metadata": {
        "_uuid": "c5a8dd39a51cf4dbe37653e3d6131d06ac7a449c",
        "id": "7SPR2cqG4hnn"
      }
    },
    {
      "cell_type": "code",
      "source": [
        "# Author: Jaime Fernández del Río\n",
        "\n",
        "Z = np.random.randint(0,2,(6,3))\n",
        "T = np.ascontiguousarray(Z).view(np.dtype((np.void, Z.dtype.itemsize * Z.shape[1])))\n",
        "_, idx = np.unique(T, return_index=True)\n",
        "uZ = Z[idx]\n",
        "print(uZ)\n",
        "\n",
        "# Author: Andreas Kouzelis\n",
        "# NumPy >= 1.13\n",
        "uZ = np.unique(Z, axis=0)\n",
        "print(uZ)"
      ],
      "metadata": {
        "trusted": true,
        "_uuid": "2015fb48f278ce0021a3aa8f98db67438d2d92a6",
        "execution": {
          "iopub.status.busy": "2025-07-20T17:48:27.296587Z",
          "iopub.status.idle": "2025-07-20T17:48:27.297115Z",
          "shell.execute_reply": "2025-07-20T17:48:27.296833Z"
        },
        "id": "4u2eRtgI4hnn",
        "colab": {
          "base_uri": "https://localhost:8080/"
        },
        "outputId": "39acede2-4ad6-4790-8473-762174427088"
      },
      "outputs": [
        {
          "output_type": "stream",
          "name": "stdout",
          "text": [
            "[[0 0 0]\n",
            " [0 0 1]\n",
            " [0 1 0]\n",
            " [1 0 0]\n",
            " [1 0 1]]\n",
            "[[0 0 0]\n",
            " [0 0 1]\n",
            " [0 1 0]\n",
            " [1 0 0]\n",
            " [1 0 1]]\n"
          ]
        }
      ],
      "execution_count": 143
    },
    {
      "cell_type": "markdown",
      "source": [
        "#### 97. Considering 2 vectors A & B, write the einsum equivalent of inner, outer, sum, and mul function (★★★)"
      ],
      "metadata": {
        "_uuid": "d6b3ea56acfd5d993c47a9133717fe70f3475cb8",
        "id": "MZZ0Y1VC4hnn"
      }
    },
    {
      "cell_type": "code",
      "source": [
        "# Author: Alex Riley\n",
        "# Make sure to read: http://ajcr.net/Basic-guide-to-einsum/\n",
        "\n",
        "A = np.random.uniform(0,1,10)\n",
        "B = np.random.uniform(0,1,10)\n",
        "\n",
        "np.einsum('i->', A)       # np.sum(A)\n",
        "np.einsum('i,i->i', A, B) # A * B\n",
        "np.einsum('i,i', A, B)    # np.inner(A, B)\n",
        "np.einsum('i,j->ij', A, B)    # np.outer(A, B)"
      ],
      "metadata": {
        "trusted": true,
        "_uuid": "7b358d49dc06cfd933516942d07cf909cccacb09",
        "execution": {
          "iopub.status.busy": "2025-07-20T17:48:27.298131Z",
          "iopub.status.idle": "2025-07-20T17:48:27.298857Z",
          "shell.execute_reply": "2025-07-20T17:48:27.298399Z"
        },
        "id": "tzcllDj_4hnn",
        "colab": {
          "base_uri": "https://localhost:8080/"
        },
        "outputId": "b0fcaa9a-7295-49a9-c5ee-dc1b4486534f"
      },
      "outputs": [
        {
          "output_type": "execute_result",
          "data": {
            "text/plain": [
              "array([[5.02840438e-02, 2.79224711e-01, 3.21283889e-01, 4.66147982e-01,\n",
              "        4.55023312e-01, 4.69394537e-01, 2.81332870e-03, 3.72899369e-01,\n",
              "        1.64784536e-01, 1.14319213e-01],\n",
              "       [2.18171647e-02, 1.21149594e-01, 1.39398167e-01, 2.02251580e-01,\n",
              "        1.97424825e-01, 2.03660190e-01, 1.22064279e-03, 1.61793013e-01,\n",
              "        7.14964647e-02, 4.96006470e-02],\n",
              "       [5.61418394e-03, 3.11752748e-02, 3.58711573e-02, 5.20451483e-02,\n",
              "        5.08030853e-02, 5.24076242e-02, 3.14106496e-04, 4.16339954e-02,\n",
              "        1.83980966e-02, 1.27636730e-02],\n",
              "       [1.91798942e-02, 1.06504967e-01, 1.22547642e-01, 1.77803301e-01,\n",
              "        1.73560007e-01, 1.79041638e-01, 1.07309084e-03, 1.42235387e-01,\n",
              "        6.28539339e-02, 4.36048944e-02],\n",
              "       [3.78518713e-02, 2.10189495e-01, 2.41850008e-01, 3.50898060e-01,\n",
              "        3.42523840e-01, 3.53341940e-01, 2.11776436e-03, 2.80704132e-01,\n",
              "        1.24043385e-01, 8.60550547e-02],\n",
              "       [1.81664452e-02, 1.00877336e-01, 1.16072330e-01, 1.68408328e-01,\n",
              "        1.64389246e-01, 1.69581232e-01, 1.01638965e-03, 1.34719792e-01,\n",
              "        5.95327862e-02, 4.13008493e-02],\n",
              "       [5.69788167e-02, 3.16400440e-01, 3.64059340e-01, 5.28210510e-01,\n",
              "        5.15604710e-01, 5.31889308e-01, 3.18789278e-03, 4.22546859e-01,\n",
              "        1.86723802e-01, 1.29539571e-01],\n",
              "       [2.81942160e-02, 1.56561032e-01, 1.80143573e-01, 2.61368734e-01,\n",
              "        2.55131142e-01, 2.63189074e-01, 1.57743075e-03, 2.09084325e-01,\n",
              "        9.23945339e-02, 6.40986751e-02],\n",
              "       [6.65054324e-02, 3.69301248e-01, 4.24928512e-01, 6.16525060e-01,\n",
              "        6.01811624e-01, 6.20818938e-01, 3.72089489e-03, 4.93194896e-01,\n",
              "        2.17943228e-01, 1.51198037e-01],\n",
              "       [6.88817245e-02, 3.82496675e-01, 4.40111546e-01, 6.38553991e-01,\n",
              "        6.23314833e-01, 6.43001292e-01, 3.85384542e-03, 5.10817142e-01,\n",
              "        2.25730513e-01, 1.56600463e-01]])"
            ]
          },
          "metadata": {},
          "execution_count": 144
        }
      ],
      "execution_count": 144
    },
    {
      "cell_type": "markdown",
      "source": [
        "#### 98. Considering a path described by two vectors (X,Y), how to sample it using equidistant samples (★★★)?"
      ],
      "metadata": {
        "_uuid": "6a56f94c7bf3d56ee49bff6da8d1cc73c0098cee",
        "id": "wQcnU8Nn4hno"
      }
    },
    {
      "cell_type": "code",
      "source": [
        "# Author: Bas Swinckels\n",
        "\n",
        "phi = np.arange(0, 10*np.pi, 0.1)\n",
        "a = 1\n",
        "x = a*phi*np.cos(phi)\n",
        "y = a*phi*np.sin(phi)\n",
        "\n",
        "dr = (np.diff(x)**2 + np.diff(y)**2)**.5 # segment lengths\n",
        "r = np.zeros_like(x)\n",
        "r[1:] = np.cumsum(dr)                # integrate path\n",
        "r_int = np.linspace(0, r.max(), 200) # regular spaced path\n",
        "x_int = np.interp(r_int, r, x)       # integrate path\n",
        "y_int = np.interp(r_int, r, y)"
      ],
      "metadata": {
        "trusted": true,
        "_uuid": "e185595ef1c04a7adf0497a694c11912d9ff9e70",
        "execution": {
          "iopub.status.busy": "2025-07-20T17:48:27.300055Z",
          "iopub.status.idle": "2025-07-20T17:48:27.3005Z",
          "shell.execute_reply": "2025-07-20T17:48:27.30026Z"
        },
        "id": "kPKzhYHc4hno"
      },
      "outputs": [],
      "execution_count": 145
    },
    {
      "cell_type": "markdown",
      "source": [
        "#### 99. Given an integer n and a 2D array X, select from X the rows which can be interpreted as draws from a multinomial distribution with n degrees, i.e., the rows which only contain integers and which sum to n. (★★★)"
      ],
      "metadata": {
        "_uuid": "5fb61ce6e7ea34a5b937334882106c1aa09d80a3",
        "id": "cNu1-VLg4hno"
      }
    },
    {
      "cell_type": "code",
      "source": [
        "# Author: Evgeni Burovski\n",
        "\n",
        "X = np.asarray([[1.0, 0.0, 3.0, 8.0],\n",
        "                [2.0, 0.0, 1.0, 1.0],\n",
        "                [1.5, 2.5, 1.0, 0.0]])\n",
        "n = 4\n",
        "M = np.logical_and.reduce(np.mod(X, 1) == 0, axis=-1)\n",
        "M &= (X.sum(axis=-1) == n)\n",
        "print(X[M])"
      ],
      "metadata": {
        "trusted": true,
        "_uuid": "2b2e13184b51ea3ca665a2decf66fffd55cef70c",
        "execution": {
          "iopub.status.busy": "2025-07-20T17:48:27.301264Z",
          "iopub.status.idle": "2025-07-20T17:48:27.301914Z",
          "shell.execute_reply": "2025-07-20T17:48:27.301461Z"
        },
        "id": "4ckHlFBY4hnp",
        "colab": {
          "base_uri": "https://localhost:8080/"
        },
        "outputId": "65193a6b-1e89-47c7-cb14-6fbc6abe86ea"
      },
      "outputs": [
        {
          "output_type": "stream",
          "name": "stdout",
          "text": [
            "[[2. 0. 1. 1.]]\n"
          ]
        }
      ],
      "execution_count": 146
    },
    {
      "cell_type": "markdown",
      "source": [
        "#### 100. Compute bootstrapped 95% confidence intervals for the mean of a 1D array X (i.e., resample the elements of an array with replacement N times, compute the mean of each sample, and then compute percentiles over the means). (★★★)"
      ],
      "metadata": {
        "_uuid": "93abcae8fa323bad995c5f6db368c6d8b21d995b",
        "id": "tSPf3Y2R4hnq"
      }
    },
    {
      "cell_type": "code",
      "source": [
        "# Author: Jessica B. Hamrick\n",
        "\n",
        "X = np.random.randn(100) # random 1D array\n",
        "N = 1000 # number of bootstrap samples\n",
        "idx = np.random.randint(0, X.size, (N, X.size))\n",
        "means = X[idx].mean(axis=1)\n",
        "confint = np.percentile(means, [2.5, 97.5])\n",
        "print(confint)"
      ],
      "metadata": {
        "trusted": true,
        "_uuid": "c1db0f15a88199e936aad0928b15a8f3976fbb1e",
        "execution": {
          "iopub.status.busy": "2025-07-20T17:48:27.302769Z",
          "iopub.status.idle": "2025-07-20T17:48:27.303272Z",
          "shell.execute_reply": "2025-07-20T17:48:27.302942Z"
        },
        "id": "n49btr_i4hnq",
        "colab": {
          "base_uri": "https://localhost:8080/"
        },
        "outputId": "5344eb53-0f21-4cf7-986d-9d309fe497bf"
      },
      "outputs": [
        {
          "output_type": "stream",
          "name": "stdout",
          "text": [
            "[-0.07027303  0.32963315]\n"
          ]
        }
      ],
      "execution_count": 147
    }
  ]
}