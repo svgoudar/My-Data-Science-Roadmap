{
 "cells": [
  {
   "cell_type": "markdown",
   "id": "4b9bf886",
   "metadata": {},
   "source": [
    "# 🚀 `reshape` vs `resize` in NumPy\n",
    "\n",
    "---\n",
    "\n",
    "# 🏗️ 1️⃣ `reshape`\n",
    "\n",
    "---\n",
    "\n",
    "## ✅ What does `reshape` do?\n",
    "\n",
    "* It returns a **new view (or sometimes a copy) of the original data**, but with a **different shape**.\n",
    "* It does **not change the original array unless you assign it back**.\n",
    "* The **total number of elements must remain the same**.\n",
    "\n",
    "---\n",
    "\n",
    "## 🖋️ Syntax\n",
    "array.reshape(newshape, order='C')\n",
    "\n"
   ]
  },
  {
   "cell_type": "markdown",
   "id": "59441496",
   "metadata": {},
   "source": [
    "\n",
    "* `newshape`: tuple, e.g. `(2, 3)`\n",
    "* `order`: `'C'` (row-major) or `'F'` (column-major)\n",
    "\n",
    "---\n",
    "\n",
    "## 🔥 Example: Basic reshape\n"
   ]
  },
  {
   "cell_type": "code",
   "execution_count": 2,
   "id": "a6777c37",
   "metadata": {},
   "outputs": [
    {
     "name": "stdout",
     "output_type": "stream",
     "text": [
      "[ 0  1  2  3  4  5  6  7  8  9 10 11]\n",
      "[[ 0  1  2  3]\n",
      " [ 4  5  6  7]\n",
      " [ 8  9 10 11]]\n"
     ]
    },
    {
     "data": {
      "text/plain": [
       "array([ 1,  1,  1,  1,  4,  5,  6,  7,  8,  9, 10, 11])"
      ]
     },
     "execution_count": 2,
     "metadata": {},
     "output_type": "execute_result"
    }
   ],
   "source": [
    "import numpy as np\n",
    "\n",
    "a = np.arange(12)\n",
    "print(a)\n",
    "# [ 0  1  2  3  4  5  6  7  8  9 10 11]\n",
    "\n",
    "b = a.reshape(3, 4)\n",
    "print(b)\n",
    "# [[ 0  1  2  3]\n",
    "#  [ 4  5  6  7]\n",
    "#  [ 8  9 10 11]]\n",
    "b[0] = 1\n",
    "a\n"
   ]
  },
  {
   "cell_type": "markdown",
   "id": "a9e44908",
   "metadata": {},
   "source": [
    "\n",
    "✅ Notice `a` is still 1D `(12,)`, while `b` is `(3,4)`.\n",
    "\n",
    "---\n",
    "\n",
    "## 🔍 What if shape doesn’t match?\n"
   ]
  },
  {
   "cell_type": "code",
   "execution_count": 3,
   "id": "61e5fb2a",
   "metadata": {},
   "outputs": [
    {
     "ename": "ValueError",
     "evalue": "cannot reshape array of size 12 into shape (5,3)",
     "output_type": "error",
     "traceback": [
      "\u001b[1;31m---------------------------------------------------------------------------\u001b[0m",
      "\u001b[1;31mValueError\u001b[0m                                Traceback (most recent call last)",
      "Cell \u001b[1;32mIn[3], line 1\u001b[0m\n\u001b[1;32m----> 1\u001b[0m a\u001b[38;5;241m.\u001b[39mreshape(\u001b[38;5;241m5\u001b[39m, \u001b[38;5;241m3\u001b[39m)\n",
      "\u001b[1;31mValueError\u001b[0m: cannot reshape array of size 12 into shape (5,3)"
     ]
    }
   ],
   "source": [
    "a.reshape(5, 3)\n"
   ]
  },
  {
   "cell_type": "code",
   "execution_count": 4,
   "id": "54bdf807",
   "metadata": {},
   "outputs": [
    {
     "data": {
      "text/plain": [
       "array([[ 1,  1,  1,  1,  4,  5],\n",
       "       [ 6,  7,  8,  9, 10, 11]])"
      ]
     },
     "execution_count": 4,
     "metadata": {},
     "output_type": "execute_result"
    }
   ],
   "source": [
    "a.reshape(2,-1)"
   ]
  },
  {
   "cell_type": "markdown",
   "id": "f0374f9b",
   "metadata": {},
   "source": [
    "\n",
    "❌ You get an error because `5*3=15` doesn’t match `12`.\n",
    "\n",
    "---\n",
    "\n",
    "## ⚡ Using `-1` to auto-calculate\n",
    "\n",
    "You can ask NumPy to figure out the missing dimension.\n"
   ]
  },
  {
   "cell_type": "code",
   "execution_count": 5,
   "id": "a696203a",
   "metadata": {},
   "outputs": [
    {
     "name": "stdout",
     "output_type": "stream",
     "text": [
      "(2, 6)\n"
     ]
    }
   ],
   "source": [
    "c = a.reshape(2, -1)  # 2 * ? = 12 -> ?=6\n",
    "print(c.shape)  # (2,6)"
   ]
  },
  {
   "cell_type": "markdown",
   "id": "9cf952f2",
   "metadata": {},
   "source": [
    "\n",
    "---\n",
    "\n",
    "## 🧭 Changing to higher dimension (3D)\n"
   ]
  },
  {
   "cell_type": "code",
   "execution_count": 7,
   "id": "0022da09",
   "metadata": {},
   "outputs": [
    {
     "name": "stdout",
     "output_type": "stream",
     "text": [
      "[[[ 1  1]\n",
      "  [ 1  1]\n",
      "  [ 4  5]]\n",
      "\n",
      " [[ 6  7]\n",
      "  [ 8  9]\n",
      "  [10 11]]]\n"
     ]
    }
   ],
   "source": [
    "d = a.reshape(2, 3, 2)\n",
    "print(d)\n",
    "# [[[ 0  1]\n",
    "#   [ 2  3]\n",
    "#   [ 4  5]]\n",
    "#\n",
    "#  [[ 6  7]\n",
    "#   [ 8  9]\n",
    "#   [10 11]]]\n"
   ]
  },
  {
   "cell_type": "markdown",
   "id": "f780a428",
   "metadata": {},
   "source": [
    "\n",
    "---\n",
    "\n",
    "## 🚀 Important note\n",
    "\n",
    "* `reshape` tries to return a **view (no extra memory)** if possible.\n",
    "* But if necessary (e.g. non-contiguous slice), it makes a **copy**.\n",
    "\n",
    "---\n",
    "\n",
    "# 🏗️ 2️⃣ `resize`\n",
    "\n",
    "---\n",
    "\n",
    "## ✅ What does `resize` do?\n",
    "\n",
    "It depends on **which version** you use:\n",
    "\n",
    "---\n",
    "\n",
    "### 🚀 A. `arr.resize(newshape)` (method)\n",
    "\n",
    "* Changes the array **in-place**.\n",
    "* Can change the total size:\n",
    "\n",
    "  * If the new shape is larger, fills new values with `0` (or `nan` for floats).\n",
    "  * If smaller, truncates.\n",
    "\n",
    "---\n",
    "\n",
    "## 🔥 Example: resize (method)\n"
   ]
  },
  {
   "cell_type": "code",
   "execution_count": 8,
   "id": "629df7d3",
   "metadata": {},
   "outputs": [
    {
     "name": "stdout",
     "output_type": "stream",
     "text": [
      "[0 1 2 3 4 5]\n",
      "[[0 1 2]\n",
      " [3 4 5]]\n"
     ]
    }
   ],
   "source": [
    "a = np.arange(6)\n",
    "print(a)\n",
    "# [0 1 2 3 4 5]\n",
    "\n",
    "a.resize((2,3))\n",
    "print(a)\n",
    "# [[0 1 2]\n",
    "#  [3 4 5]]\n"
   ]
  },
  {
   "cell_type": "markdown",
   "id": "4007a3ce",
   "metadata": {},
   "source": [
    "\n",
    "---\n",
    "\n",
    "### ✅ Resize to a larger shape\n"
   ]
  },
  {
   "cell_type": "code",
   "execution_count": 9,
   "id": "07462be3",
   "metadata": {},
   "outputs": [],
   "source": [
    "a.resize((3,4)) \n"
   ]
  },
  {
   "cell_type": "code",
   "execution_count": 10,
   "id": "351dd2b9",
   "metadata": {},
   "outputs": [
    {
     "name": "stdout",
     "output_type": "stream",
     "text": [
      "[[0 1 2 3]\n",
      " [4 5 0 0]\n",
      " [0 0 0 0]]\n"
     ]
    }
   ],
   "source": [
    "print(a)\n",
    "# [[0 1 2 3]\n",
    "#  [4 5 0 0]\n",
    "#  [0 0 0 0]]\n"
   ]
  },
  {
   "cell_type": "markdown",
   "id": "55a95299",
   "metadata": {},
   "source": [
    "\n",
    "✅ Fills extra with `0`.\n",
    "\n",
    "---\n",
    "\n",
    "## ⚠️ Typical error with `resize`:\n"
   ]
  },
  {
   "cell_type": "code",
   "execution_count": 15,
   "id": "6ab3a928",
   "metadata": {},
   "outputs": [
    {
     "data": {
      "text/plain": [
       "array([[0, 1, 2, 3],\n",
       "       [0, 0, 0, 0]])"
      ]
     },
     "execution_count": 15,
     "metadata": {},
     "output_type": "execute_result"
    }
   ],
   "source": [
    "b"
   ]
  },
  {
   "cell_type": "code",
   "execution_count": 17,
   "id": "0df748f5",
   "metadata": {},
   "outputs": [
    {
     "ename": "ValueError",
     "evalue": "resize only works on single-segment arrays",
     "output_type": "error",
     "traceback": [
      "\u001b[1;31m---------------------------------------------------------------------------\u001b[0m",
      "\u001b[1;31mValueError\u001b[0m                                Traceback (most recent call last)",
      "Cell \u001b[1;32mIn[17], line 3\u001b[0m\n\u001b[0;32m      1\u001b[0m b \u001b[38;5;241m=\u001b[39m a[::\u001b[38;5;241m2\u001b[39m]\n\u001b[0;32m      2\u001b[0m \u001b[38;5;66;03m# b\u001b[39;00m\n\u001b[1;32m----> 3\u001b[0m b\u001b[38;5;241m.\u001b[39mresize(\u001b[38;5;241m3\u001b[39m,\u001b[38;5;241m3\u001b[39m)\n",
      "\u001b[1;31mValueError\u001b[0m: resize only works on single-segment arrays"
     ]
    }
   ],
   "source": [
    "b = a[::2]\n",
    "# b\n",
    "b.resize(3,3)\n"
   ]
  },
  {
   "cell_type": "markdown",
   "id": "f767c65b",
   "metadata": {},
   "source": [
    "Because `b` shares data with `a`.\n",
    "\n",
    "You can force it:"
   ]
  },
  {
   "cell_type": "code",
   "execution_count": 14,
   "id": "c580fc58",
   "metadata": {
    "notebookRunGroups": {
     "groupValue": "1"
    }
   },
   "outputs": [
    {
     "ename": "ValueError",
     "evalue": "resize only works on single-segment arrays",
     "output_type": "error",
     "traceback": [
      "\u001b[1;31m---------------------------------------------------------------------------\u001b[0m",
      "\u001b[1;31mValueError\u001b[0m                                Traceback (most recent call last)",
      "Cell \u001b[1;32mIn[14], line 1\u001b[0m\n\u001b[1;32m----> 1\u001b[0m b\u001b[38;5;241m.\u001b[39mresize((\u001b[38;5;241m3\u001b[39m,\u001b[38;5;241m3\u001b[39m),refcheck\u001b[38;5;241m=\u001b[39m\u001b[38;5;28;01mFalse\u001b[39;00m)\n",
      "\u001b[1;31mValueError\u001b[0m: resize only works on single-segment arrays"
     ]
    }
   ],
   "source": [
    "b.resize((3,3),refcheck=False)\n"
   ]
  },
  {
   "cell_type": "markdown",
   "id": "84b70207",
   "metadata": {
    "notebookRunGroups": {
     "groupValue": "1"
    }
   },
   "source": [
    "\n",
    "But be careful — may break references.\n",
    "\n",
    "---\n",
    "\n",
    "## 🚀 B. `np.resize(array, newshape)` (function)\n",
    "\n",
    "* Always returns a **new array**.\n",
    "* Repeats data if needed to fill the shape.\n",
    "\n",
    "---\n",
    "\n",
    "### 🔥 Example: `np.resize`\n",
    "\n",
    "```python\n",
    "a = np.array([1,2,3])\n",
    "b = np.resize(a, (2,4))\n",
    "print(b)\n",
    "# [[1 2 3 1]\n",
    "#  [2 3 1 2]]\n",
    "```\n",
    "\n",
    "✅ Fills by **cycling through the original data.**\n",
    "\n",
    "---\n",
    "\n",
    "# ✅ 🔬 Summary comparison\n",
    "\n",
    "| Feature               | `reshape`                | `arr.resize` (method)       | `np.resize` (function)   |\n",
    "| --------------------- | ------------------------ | --------------------------- | ------------------------ |\n",
    "| Changes shape?        | ✅ Yes                    | ✅ Yes                       | ✅ Yes                    |\n",
    "| Keeps total elements? | ✅ Must be same           | ❌ Can change (pads or cuts) | ❌ Can change (repeats)   |\n",
    "| In-place?             | ❌ No (returns view/copy) | ✅ Yes (modifies itself)     | ❌ No (returns new array) |\n",
    "| Fills new data?       | ❌ Error if mismatch      | ✅ Pads with `0`             | ✅ Repeats data to fill   |\n",
    "\n",
    "---\n",
    "\n",
    "# 🥇 Quick cheat sheet\n",
    "\n",
    "```python\n",
    "import numpy as np\n",
    "\n",
    "a = np.arange(6)\n",
    "\n",
    "# reshape: same total elements\n",
    "b = a.reshape(2,3)\n",
    "\n",
    "# resize (method): modifies a itself\n",
    "a.resize((3,4))  # fills with 0 if needed\n",
    "\n",
    "# np.resize (function): returns new array, repeats data\n",
    "c = np.resize(b, (3,4))\n",
    "```"
   ]
  },
  {
   "cell_type": "markdown",
   "id": "e9a1c608",
   "metadata": {},
   "source": [
    "🔥 Awesome — let’s take it to the **next level** with some **advanced, deeper insights and tricks** around `reshape` vs `resize` in **NumPy**, including:\n",
    "\n",
    "✅ multi-dimensional reshaping,\n",
    "✅ Fortran vs C order,\n",
    "✅ memory layout & strides,\n",
    "✅ flatten vs ravel vs reshape,\n",
    "✅ unusual uses like adding axes and reshaping for broadcasting.\n",
    "\n",
    "---\n",
    "\n",
    "# 🚀 Advanced `reshape` vs `resize` concepts in NumPy\n",
    "\n",
    "---\n",
    "\n",
    "## ⚙️ 1️⃣ Memory order: `order='C'` vs `order='F'`\n",
    "\n",
    "### ✅ `order` parameter\n",
    "\n",
    "* `'C'` = **row-major order** (default, like C arrays).\n",
    "* `'F'` = **column-major order** (like Fortran / MATLAB).\n",
    "\n",
    "This changes how numpy reads the data into the reshaped array.\n",
    "\n",
    "---\n",
    "\n",
    "### 🔥 Example\n",
    "\n",
    "```python\n",
    "import numpy as np\n",
    "\n",
    "a = np.arange(6).reshape(2,3)\n",
    "print(a)\n",
    "# [[0 1 2]\n",
    "#  [3 4 5]]\n",
    "\n",
    "# reshape with Fortran order\n",
    "b = a.reshape(3,2, order='F')\n",
    "print(b)\n",
    "# [[0 4]\n",
    "#  [3 1]\n",
    "#  [2 5]]\n",
    "```\n",
    "\n",
    "✅ It reads **column-wise first**, not row-wise.\n",
    "\n",
    "---\n",
    "\n",
    "## 🚀 2️⃣ `flatten` vs `ravel` vs `reshape(-1)`\n",
    "\n",
    "---\n",
    "\n",
    "### ✅ `flatten()`\n",
    "\n",
    "* Always returns a **copy** of data.\n",
    "\n",
    "```python\n",
    "a = np.arange(6).reshape(2,3)\n",
    "f = a.flatten()\n",
    "f[0] = 99\n",
    "print(a[0,0])  # still 0\n",
    "```\n",
    "\n",
    "---\n",
    "\n",
    "### ✅ `ravel()`\n",
    "\n",
    "* Returns a **view if possible** (faster, no new memory). Falls back to a copy if needed.\n",
    "\n",
    "```python\n",
    "r = a.ravel()\n",
    "r[0] = 99\n",
    "print(a[0,0])  # 99 if contiguous\n",
    "```\n",
    "\n",
    "---\n",
    "\n",
    "### ✅ `reshape(-1)`\n",
    "\n",
    "* Often equivalent to `ravel()`.\n",
    "\n",
    "```python\n",
    "r2 = a.reshape(-1)\n",
    "```\n",
    "\n",
    "Also returns a **view if possible**.\n",
    "\n",
    "---\n",
    "\n",
    "### ⚠️ Differences example\n",
    "\n",
    "```python\n",
    "b = a.T  # transpose\n",
    "r = b.ravel()  # may still be view\n",
    "f = b.flatten() # always copy\n",
    "```\n",
    "\n",
    "---\n",
    "\n",
    "## 🔬 3️⃣ Strides and reshaping\n",
    "\n",
    "### ✅ What are strides?\n",
    "\n",
    "* Strides tell **how many bytes to jump** in memory to move to the next element along each axis.\n",
    "\n",
    "```python\n",
    "a = np.arange(12).reshape(3,4)\n",
    "print(a.strides)\n",
    "# (32, 8) on a 64-bit machine: 4 bytes * 8 = 32\n",
    "```\n",
    "\n",
    "---\n",
    "\n",
    "### 🔥 Why does this matter?\n",
    "\n",
    "* `reshape` tries to create a **view by modifying shape & strides**, without moving data.\n",
    "* But some operations (e.g. non-contiguous slices) force it to make a copy.\n",
    "\n",
    "---\n",
    "\n",
    "### Example of forcing a copy\n",
    "\n",
    "```python\n",
    "b = a[:, ::2]  # take every second column\n",
    "print(b.shape)  # (3,2)\n",
    "\n",
    "c = b.reshape(-1)  # actually makes a copy\n",
    "```\n",
    "\n",
    "Because the data is **not contiguous**.\n",
    "\n",
    "---\n",
    "\n",
    "## 🚀 4️⃣ Resize to unusual shapes for broadcasting\n",
    "\n",
    "---\n",
    "\n",
    "### 🔥 Adding dimensions with reshape\n",
    "\n",
    "```python\n",
    "a = np.arange(3)\n",
    "print(a.shape)  # (3,)\n",
    "\n",
    "# reshape to (3,1) to enable broadcasting with (1,3)\n",
    "b = a.reshape(3,1)\n",
    "print(b.shape)  # (3,1)\n",
    "```\n",
    "\n",
    "---\n",
    "\n",
    "### ✅ Example: broadcasting outer sum\n",
    "\n",
    "```python\n",
    "x = np.arange(3).reshape(3,1)  # shape (3,1)\n",
    "y = np.arange(4).reshape(1,4)  # shape (1,4)\n",
    "\n",
    "z = x + y\n",
    "print(z)\n",
    "# shape (3,4) result\n",
    "```\n",
    "\n",
    "---\n",
    "\n",
    "## ⚡ 5️⃣ More advanced `np.resize`\n",
    "\n",
    "### ✅ Repeats data in order to fill shape\n",
    "\n",
    "```python\n",
    "a = np.array([1,2,3])\n",
    "b = np.resize(a, (2,4))\n",
    "print(b)\n",
    "# [[1 2 3 1]\n",
    "#  [2 3 1 2]]\n",
    "```\n",
    "\n",
    "It literally cycles the data to fill the target shape.\n",
    "\n",
    "---\n",
    "\n",
    "## 🚀 6️⃣ Using `resize` with `refcheck`\n",
    "\n",
    "When you use the **method** `arr.resize`, it checks for references:\n",
    "\n",
    "```python\n",
    "a = np.arange(6)\n",
    "b = a[::2]\n",
    "a.resize((3,3))\n",
    "# ValueError: cannot resize because b references a\n",
    "```\n",
    "\n",
    "---\n",
    "\n",
    "### ✅ Forcing it\n",
    "\n",
    "```python\n",
    "a.resize((3,3), refcheck=False)\n",
    "```\n",
    "\n",
    "**DANGER**: breaks safety checks — any other views may see garbage.\n",
    "\n",
    "---\n",
    "\n",
    "# 🎯 ✅ Summary of advanced differences\n",
    "\n",
    "| Operation              | Memory                      | Copies data?              | Can change total elements? |\n",
    "| ---------------------- | --------------------------- | ------------------------- | -------------------------- |\n",
    "| `reshape`              | reshapes view using strides | ❌ if contiguous, ✅ if not | ❌ Must match               |\n",
    "| `flatten`              | always 1D copy              | ✅ always                  | ❌                          |\n",
    "| `ravel`                | tries view, fallback copy   | ❌ / ✅                     | ❌                          |\n",
    "| `arr.resize` (method)  | modifies in-place           | ✅ changes data            | ✅ pads/truncates           |\n",
    "| `np.resize` (function) | new array                   | ✅ repeats data            | ✅ cycles                   |\n",
    "\n",
    "---\n",
    "\n",
    "# 🚀 🚀 Short advanced examples\n",
    "\n"
   ]
  },
  {
   "cell_type": "code",
   "execution_count": null,
   "id": "79d64526",
   "metadata": {},
   "outputs": [
    {
     "name": "stdout",
     "output_type": "stream",
     "text": [
      "[[ 0  1  2  3]\n",
      " [ 4  5  6  7]\n",
      " [ 8  9 10 11]]\n",
      "[ 0  4  8  1  5  9  2  6 10  3  7 11]\n",
      "[[ 0  5 10]\n",
      " [ 4  9  3]\n",
      " [ 8  2  7]\n",
      " [ 1  6 11]]\n",
      "[[ 0  1  2  3  4]\n",
      " [ 5  6  7  8  9]\n",
      " [10 11  0  1  2]\n",
      " [ 3  4  5  6  7]\n",
      " [ 8  9 10 11  0]]\n"
     ]
    }
   ],
   "source": [
    "\n",
    "import numpy as np\n",
    "\n",
    "a = np.arange(12).reshape(3,4)\n",
    "print(a)\n",
    "print(a.T.reshape(-1))  # careful, often needs copy\n",
    "print(a.reshape(4,3, order='F'))  # column-wise fill\n",
    "print(np.resize(a, (5,5)))  # repeats data\n"
   ]
  },
  {
   "cell_type": "markdown",
   "id": "3eec3df9",
   "metadata": {
    "notebookRunGroups": {
     "groupValue": "2"
    }
   },
   "source": [
    "## Conversion of Dimension"
   ]
  },
  {
   "cell_type": "markdown",
   "id": "219aaed4",
   "metadata": {},
   "source": [
    "### Reshaping : 1-D to 2D "
   ]
  },
  {
   "cell_type": "code",
   "execution_count": 23,
   "id": "bd38462c",
   "metadata": {},
   "outputs": [
    {
     "name": "stdout",
     "output_type": "stream",
     "text": [
      "Array : [ 1  2  3  4  5  6  7  8  9 10 11 12 13 14 15 16]\n",
      "First Reshaped Array : \n",
      "[[ 1  2  3  4]\n",
      " [ 5  6  7  8]\n",
      " [ 9 10 11 12]\n",
      " [13 14 15 16]]\n",
      "Second Reshaped Array : \n",
      "[[ 1  2  3  4  5  6  7  8]\n",
      " [ 9 10 11 12 13 14 15 16]]\n"
     ]
    }
   ],
   "source": [
    "# importing numpy\n",
    "import numpy as np\n",
    "\n",
    "# creating a numpy array\n",
    "array = np.array([1, 2, 3, 4, 5, 6, 7, 8, 9, 10, 11, 12, 13, 14, 15, 16])\n",
    "\n",
    "# printing array\n",
    "print(\"Array : \" + str(array))\n",
    "\n",
    "# length of array\n",
    "n = array.size\n",
    "\n",
    "# N-D array N dimension\n",
    "N = 4\n",
    "\n",
    "# calculating M\n",
    "M = n//N\n",
    "\n",
    "# reshaping numpy array\n",
    "# converting it to 2-D from 1-D array\n",
    "reshaped1 = array.reshape(N, M)\n",
    "\n",
    "# printing reshaped array\n",
    "print(\"First Reshaped Array : \")\n",
    "print(reshaped1)\n",
    "\n",
    "# creating another reshaped array\n",
    "reshaped2 = np.reshape(array, (2, 8))\n",
    "\n",
    "# printing reshaped array\n",
    "print(\"Second Reshaped Array : \")\n",
    "print(reshaped2)"
   ]
  },
  {
   "cell_type": "markdown",
   "id": "c2c4fb96",
   "metadata": {},
   "source": [
    "### Reshaping : 1-D to 3-D "
   ]
  },
  {
   "cell_type": "code",
   "execution_count": 24,
   "id": "090bb763",
   "metadata": {},
   "outputs": [
    {
     "name": "stdout",
     "output_type": "stream",
     "text": [
      "Array : [ 1  2  3  4  5  6  7  8  9 10 11 12 13 14 15 16]\n",
      "Reshaped 3-D Array : \n",
      "[[[ 1  2  3  4]\n",
      "  [ 5  6  7  8]]\n",
      "\n",
      " [[ 9 10 11 12]\n",
      "  [13 14 15 16]]]\n"
     ]
    }
   ],
   "source": [
    "# importing numpy\n",
    "import numpy as np\n",
    "\n",
    "# creating a numpy array\n",
    "array = np.array([1, 2, 3, 4, 5, 6, 7, 8, 9, 10, 11, 12, 13, 14, 15, 16])\n",
    "\n",
    "# printing array\n",
    "print(\"Array : \" + str(array))\n",
    "\n",
    "\n",
    "# reshaping numpy array\n",
    "# converting it to 3-D from 1-D array\n",
    "reshaped = array.reshape(2, 2, 4)\n",
    "\n",
    "# printing reshaped array\n",
    "print(\"Reshaped 3-D Array : \")\n",
    "print(reshaped)"
   ]
  },
  {
   "cell_type": "markdown",
   "id": "0ca4e491",
   "metadata": {},
   "source": [
    "## Reshaping N-D to 1-D array "
   ]
  },
  {
   "cell_type": "code",
   "execution_count": 26,
   "id": "15710441",
   "metadata": {},
   "outputs": [
    {
     "name": "stdout",
     "output_type": "stream",
     "text": [
      " 2-D Array : \n",
      "[[1 2 3]\n",
      " [4 5 6]\n",
      " [7 8 9]]\n",
      "Reshaped 1-D Array : \n",
      "[1 2 3 4 5 6 7 8 9]\n"
     ]
    }
   ],
   "source": [
    "# importing numpy\n",
    "import numpy as np\n",
    "\n",
    "# creating a numpy array\n",
    "array = np.array([[1, 2, 3],\n",
    "                 [4, 5, 6],\n",
    "                 [7, 8, 9]])\n",
    "\n",
    "# printing array\n",
    "print(\" 2-D Array : \")\n",
    "print(array)\n",
    "\n",
    "\n",
    "# reshaping numpy array\n",
    "# converting it to 1-D from 2-D array\n",
    "reshaped = array.reshape((9))\n",
    "\n",
    "# or we can use unknown dimension\n",
    "# reshaped = array.reshape((-1))\n",
    "\n",
    "# printing reshaped array\n",
    "print(\"Reshaped 1-D Array : \")\n",
    "print(reshaped)"
   ]
  },
  {
   "cell_type": "markdown",
   "id": "15701c7f",
   "metadata": {},
   "source": [
    "### Reshaping using unknown dimension "
   ]
  },
  {
   "cell_type": "code",
   "execution_count": 27,
   "id": "dfae8a62",
   "metadata": {},
   "outputs": [
    {
     "name": "stdout",
     "output_type": "stream",
     "text": [
      "Array : [ 1  2  3  4  5  6  7  8  9 10 11 12 13 14 15 16]\n",
      "First Reshaped Array : \n",
      "[[[ 1  2  3  4]\n",
      "  [ 5  6  7  8]]\n",
      "\n",
      " [[ 9 10 11 12]\n",
      "  [13 14 15 16]]]\n",
      "Second Reshaped Array : \n",
      "[[ 1  2  3  4]\n",
      " [ 5  6  7  8]\n",
      " [ 9 10 11 12]\n",
      " [13 14 15 16]]\n"
     ]
    }
   ],
   "source": [
    "# importing numpy\n",
    "import numpy as np\n",
    "\n",
    "# creating a numpy array\n",
    "array = np.array([1, 2, 3, 4, 5, 6, 7, 8, 9, 10, 11, 12, 13, 14, 15, 16])\n",
    "\n",
    "# printing array\n",
    "print(\"Array : \" + str(array))\n",
    "\n",
    "\n",
    "# reshaping numpy array\n",
    "# converting it to 3-D from 1-D array\n",
    "reshaped1 = array.reshape((2, 2, -1))\n",
    "\n",
    "# printing reshaped array\n",
    "print(\"First Reshaped Array : \")\n",
    "print(reshaped1)\n",
    "\n",
    "\n",
    "# converting it to 2-D array\n",
    "reshaped2 = array.reshape((4, -1))\n",
    "\n",
    "# printing reshaped array\n",
    "print(\"Second Reshaped Array : \")\n",
    "print(reshaped2)"
   ]
  },
  {
   "cell_type": "markdown",
   "id": "dd250727",
   "metadata": {},
   "source": [
    "### Errors Occur during reshaping "
   ]
  },
  {
   "cell_type": "code",
   "execution_count": 28,
   "id": "2743f71d",
   "metadata": {},
   "outputs": [
    {
     "name": "stdout",
     "output_type": "stream",
     "text": [
      " 2-D Array : \n",
      "[[1 2 3]\n",
      " [4 5 6]\n",
      " [7 8 9]]\n"
     ]
    },
    {
     "ename": "ValueError",
     "evalue": "cannot reshape array of size 9 into shape (1,5)",
     "output_type": "error",
     "traceback": [
      "\u001b[1;31m---------------------------------------------------------------------------\u001b[0m",
      "\u001b[1;31mValueError\u001b[0m                                Traceback (most recent call last)",
      "Cell \u001b[1;32mIn[28], line 17\u001b[0m\n\u001b[0;32m     11\u001b[0m \u001b[38;5;28mprint\u001b[39m(array)\n\u001b[0;32m     14\u001b[0m \u001b[38;5;66;03m# reshaping numpy array\u001b[39;00m\n\u001b[0;32m     15\u001b[0m \u001b[38;5;66;03m# converting it to 1-D from 2-D array\u001b[39;00m\n\u001b[0;32m     16\u001b[0m \u001b[38;5;66;03m# reshaping it into 1, 5\u001b[39;00m\n\u001b[1;32m---> 17\u001b[0m reshaped \u001b[38;5;241m=\u001b[39m array\u001b[38;5;241m.\u001b[39mreshape((\u001b[38;5;241m1\u001b[39m, \u001b[38;5;241m5\u001b[39m))\n\u001b[0;32m     19\u001b[0m \u001b[38;5;66;03m# or we can use \u001b[39;00m\n\u001b[0;32m     20\u001b[0m \n\u001b[0;32m     21\u001b[0m \u001b[38;5;66;03m# printing reshaped array\u001b[39;00m\n\u001b[0;32m     22\u001b[0m \u001b[38;5;28mprint\u001b[39m(\u001b[38;5;124m\"\u001b[39m\u001b[38;5;124mReshaped 1-D Array : \u001b[39m\u001b[38;5;124m\"\u001b[39m)\n",
      "\u001b[1;31mValueError\u001b[0m: cannot reshape array of size 9 into shape (1,5)"
     ]
    }
   ],
   "source": [
    "# importing numpy\n",
    "import numpy as np\n",
    "\n",
    "# creating a numpy array\n",
    "array = np.array([[1, 2, 3],\n",
    "                 [4, 5, 6],\n",
    "                 [7, 8, 9]])\n",
    "\n",
    "# printing array\n",
    "print(\" 2-D Array : \")\n",
    "print(array)\n",
    "\n",
    "\n",
    "# reshaping numpy array\n",
    "# converting it to 1-D from 2-D array\n",
    "# reshaping it into 1, 5\n",
    "reshaped = array.reshape((1, 5))\n",
    "\n",
    "# or we can use \n",
    "\n",
    "# printing reshaped array\n",
    "print(\"Reshaped 1-D Array : \")\n",
    "print(reshaped)"
   ]
  },
  {
   "cell_type": "markdown",
   "id": "be4e9efc",
   "metadata": {},
   "source": [
    "| Feature            | `reshape`                 | `resize`                 |\n",
    "| ------------------ | ------------------------- | ------------------------ |\n",
    "| Modifies original? | 🚫 No (returns new array) | ✅ Yes (changes in-place) |\n",
    "| Keeps data?        | ✅ Always                  | ⚠ May fill               |\n"
   ]
  }
 ],
 "metadata": {
  "kernelspec": {
   "display_name": "base",
   "language": "python",
   "name": "python3"
  },
  "language_info": {
   "codemirror_mode": {
    "name": "ipython",
    "version": 3
   },
   "file_extension": ".py",
   "mimetype": "text/x-python",
   "name": "python",
   "nbconvert_exporter": "python",
   "pygments_lexer": "ipython3",
   "version": "3.12.7"
  }
 },
 "nbformat": 4,
 "nbformat_minor": 5
}
