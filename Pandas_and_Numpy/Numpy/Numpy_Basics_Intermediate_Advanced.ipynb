{
 "cells": [
  {
   "cell_type": "markdown",
   "id": "9d5dd23f",
   "metadata": {},
   "source": [
    "# ✅ Basic NumPy API"
   ]
  },
  {
   "cell_type": "code",
   "execution_count": 1,
   "id": "7c62554e",
   "metadata": {},
   "outputs": [
    {
     "name": "stdout",
     "output_type": "stream",
     "text": [
      "Array from list: [1 2 3]\n",
      "Zeros:\n",
      " [[0. 0. 0.]\n",
      " [0. 0. 0.]]\n",
      "Ones: [1. 1. 1. 1.]\n",
      "Full:\n",
      " [[7 7]\n",
      " [7 7]]\n",
      "Identity:\n",
      " [[1. 0. 0.]\n",
      " [0. 1. 0.]\n",
      " [0. 0. 1.]]\n",
      "Arange: [0 2 4 6 8]\n",
      "Linspace: [0.   0.25 0.5  0.75 1.  ]\n"
     ]
    }
   ],
   "source": [
    "\n",
    "import numpy as np\n",
    "\n",
    "# From lists\n",
    "a = np.array([1, 2, 3])\n",
    "print(\"Array from list:\", a)\n",
    "\n",
    "# Zeros, ones, full\n",
    "z = np.zeros((2, 3))\n",
    "o = np.ones(4)\n",
    "f = np.full((2,2), 7)\n",
    "I = np.eye(3)\n",
    "r = np.arange(0, 10, 2)\n",
    "l = np.linspace(0, 1, 5)\n",
    "\n",
    "print(\"Zeros:\\n\", z)\n",
    "print(\"Ones:\", o)\n",
    "print(\"Full:\\n\", f)\n",
    "print(\"Identity:\\n\", I)\n",
    "print(\"Arange:\", r)\n",
    "print(\"Linspace:\", l)\n"
   ]
  },
  {
   "cell_type": "code",
   "execution_count": 2,
   "id": "dff50077",
   "metadata": {},
   "outputs": [
    {
     "name": "stdout",
     "output_type": "stream",
     "text": [
      "x + y = [11 22 33]\n",
      "x * 2 = [2 4 6]\n",
      "np.sqrt(x): [1.         1.41421356 1.73205081]\n"
     ]
    }
   ],
   "source": [
    "\n",
    "# Basic arithmetic and broadcasting\n",
    "x = np.array([1, 2, 3])\n",
    "y = np.array([10, 20, 30])\n",
    "\n",
    "print(\"x + y =\", x + y)\n",
    "print(\"x * 2 =\", x * 2)\n",
    "print(\"np.sqrt(x):\", np.sqrt(x))\n"
   ]
  },
  {
   "cell_type": "code",
   "execution_count": 3,
   "id": "f20225c0",
   "metadata": {},
   "outputs": [
    {
     "name": "stdout",
     "output_type": "stream",
     "text": [
      "Mean: -0.25278547059297146\n",
      "Std: 1.2878708330696904\n",
      "Min: -3.6345308375743284\n",
      "Argmax (index): 8\n"
     ]
    }
   ],
   "source": [
    "\n",
    "# Basic statistics\n",
    "a = np.random.randn(5, 4)\n",
    "print(\"Mean:\", np.mean(a))\n",
    "print(\"Std:\", np.std(a))\n",
    "print(\"Min:\", np.min(a))\n",
    "print(\"Argmax (index):\", np.argmax(a))\n"
   ]
  },
  {
   "cell_type": "code",
   "execution_count": 4,
   "id": "83637b0f",
   "metadata": {},
   "outputs": [
    {
     "name": "stdout",
     "output_type": "stream",
     "text": [
      "Reshaped array:\n",
      " [[ 0  1  2  3]\n",
      " [ 4  5  6  7]\n",
      " [ 8  9 10 11]]\n",
      "Transposed:\n",
      " [[ 0  4  8]\n",
      " [ 1  5  9]\n",
      " [ 2  6 10]\n",
      " [ 3  7 11]]\n"
     ]
    }
   ],
   "source": [
    "\n",
    "# Reshape and transpose\n",
    "b = np.arange(12).reshape(3,4)\n",
    "print(\"Reshaped array:\\n\", b)\n",
    "print(\"Transposed:\\n\", b.T)\n"
   ]
  },
  {
   "cell_type": "markdown",
   "id": "d2373648",
   "metadata": {},
   "source": [
    "# ✅ Intermediate NumPy API"
   ]
  },
  {
   "cell_type": "code",
   "execution_count": 5,
   "id": "c5ce0e4f",
   "metadata": {},
   "outputs": [
    {
     "name": "stdout",
     "output_type": "stream",
     "text": [
      "[-1 -1 10 10]\n"
     ]
    }
   ],
   "source": [
    "\n",
    "# Where, conditional logic\n",
    "a = np.array([1, 2, 3, 4])\n",
    "result = np.where(a > 2, 10, -1)\n",
    "print(result)\n"
   ]
  },
  {
   "cell_type": "code",
   "execution_count": 6,
   "id": "1509e108",
   "metadata": {},
   "outputs": [
    {
     "name": "stdout",
     "output_type": "stream",
     "text": [
      "X grid:\n",
      " [[0.  0.5 1. ]\n",
      " [0.  0.5 1. ]]\n",
      "Y grid:\n",
      " [[0. 0. 0.]\n",
      " [1. 1. 1.]]\n"
     ]
    }
   ],
   "source": [
    "\n",
    "# Meshgrid\n",
    "x = np.linspace(0, 1, 3)\n",
    "y = np.linspace(0, 1, 2)\n",
    "X, Y = np.meshgrid(x, y)\n",
    "print(\"X grid:\\n\", X)\n",
    "print(\"Y grid:\\n\", Y)\n"
   ]
  },
  {
   "cell_type": "code",
   "execution_count": 7,
   "id": "e28239a2",
   "metadata": {},
   "outputs": [
    {
     "name": "stdout",
     "output_type": "stream",
     "text": [
      "Repeat: [1 1 1 2 2 2]\n",
      "Tile: [1 2 1 2 1 2]\n"
     ]
    }
   ],
   "source": [
    "\n",
    "# Repeat and tile\n",
    "print(\"Repeat:\", np.repeat([1,2], 3))\n",
    "print(\"Tile:\", np.tile([1,2], 3))\n"
   ]
  },
  {
   "cell_type": "code",
   "execution_count": 8,
   "id": "73ded7b8",
   "metadata": {},
   "outputs": [
    {
     "name": "stdout",
     "output_type": "stream",
     "text": [
      "Histogram: [3 4 2 5 6]\n",
      "Bins: [0.  0.8 1.6 2.4 3.2 4. ]\n",
      "Bincount: [3 4 2 5 6]\n"
     ]
    }
   ],
   "source": [
    "\n",
    "# Histogram & bincount\n",
    "data = np.random.randint(0, 5, size=20)\n",
    "hist, bins = np.histogram(data, bins=5)\n",
    "counts = np.bincount(data)\n",
    "print(\"Histogram:\", hist)\n",
    "print(\"Bins:\", bins)\n",
    "print(\"Bincount:\", counts)\n"
   ]
  },
  {
   "cell_type": "code",
   "execution_count": 9,
   "id": "37ef4aa3",
   "metadata": {},
   "outputs": [
    {
     "name": "stdout",
     "output_type": "stream",
     "text": [
      "Cumsum: [ 1  3  7 14]\n",
      "Diff: [1 2 3]\n",
      "Gradient: [1.  1.5 2.5 3. ]\n"
     ]
    }
   ],
   "source": [
    "\n",
    "# Cumsum, diff, gradient\n",
    "arr = np.array([1,2,4,7])\n",
    "print(\"Cumsum:\", np.cumsum(arr))\n",
    "print(\"Diff:\", np.diff(arr))\n",
    "print(\"Gradient:\", np.gradient(arr))\n"
   ]
  },
  {
   "cell_type": "code",
   "execution_count": 10,
   "id": "6ab56a1f",
   "metadata": {},
   "outputs": [
    {
     "name": "stdout",
     "output_type": "stream",
     "text": [
      "Unique with counts: (array([1, 2, 3]), array([1, 2, 3]))\n",
      "After insert: [ 1  2 99  2  3  3  3]\n",
      "After delete: [2 3 3 3]\n"
     ]
    }
   ],
   "source": [
    "\n",
    "# Insert, delete, unique\n",
    "arr = np.array([1,2,2,3,3,3])\n",
    "print(\"Unique with counts:\", np.unique(arr, return_counts=True))\n",
    "new = np.insert(arr, 2, 99)\n",
    "deleted = np.delete(arr, [0,1])\n",
    "print(\"After insert:\", new)\n",
    "print(\"After delete:\", deleted)\n"
   ]
  },
  {
   "cell_type": "markdown",
   "id": "a95feac1",
   "metadata": {},
   "source": [
    "# ✅ Advanced NumPy API"
   ]
  },
  {
   "cell_type": "code",
   "execution_count": 11,
   "id": "72aae573",
   "metadata": {},
   "outputs": [
    {
     "name": "stdout",
     "output_type": "stream",
     "text": [
      "Shape a: (3,)\n",
      "Shape b: (3, 1)\n",
      "Broadcast sum:\n",
      " [[2 3 4]\n",
      " [3 4 5]\n",
      " [4 5 6]]\n"
     ]
    }
   ],
   "source": [
    "\n",
    "# Broadcasting with newaxis\n",
    "a = np.array([1,2,3])\n",
    "b = a[:, np.newaxis]\n",
    "print(\"Shape a:\", a.shape)\n",
    "print(\"Shape b:\", b.shape)\n",
    "print(\"Broadcast sum:\\n\", a + b)\n"
   ]
  },
  {
   "cell_type": "code",
   "execution_count": 12,
   "id": "deb20da4",
   "metadata": {},
   "outputs": [
    {
     "name": "stdout",
     "output_type": "stream",
     "text": [
      "Trace using einsum: 12\n",
      "Dot product: 32\n"
     ]
    }
   ],
   "source": [
    "\n",
    "# Einsum\n",
    "A = np.arange(9).reshape(3,3)\n",
    "print(\"Trace using einsum:\", np.einsum('ii->', A))\n",
    "x = np.array([1,2,3])\n",
    "y = np.array([4,5,6])\n",
    "print(\"Dot product:\", np.einsum('i,i->', x, y))\n"
   ]
  },
  {
   "cell_type": "code",
   "execution_count": 13,
   "id": "854e647f",
   "metadata": {},
   "outputs": [
    {
     "name": "stdout",
     "output_type": "stream",
     "text": [
      "Mean ignoring masked: 2.0\n"
     ]
    }
   ],
   "source": [
    "\n",
    "# Masked arrays\n",
    "import numpy.ma as ma\n",
    "masked = ma.masked_array([1,2,3,-1], mask=[0,0,0,1])\n",
    "print(\"Mean ignoring masked:\", masked.mean())\n"
   ]
  },
  {
   "cell_type": "code",
   "execution_count": 14,
   "id": "55b29c19",
   "metadata": {},
   "outputs": [
    {
     "name": "stdout",
     "output_type": "stream",
     "text": [
      "[0 0 0 1 4]\n"
     ]
    }
   ],
   "source": [
    "\n",
    "# Vectorize\n",
    "def myfunc(x):\n",
    "    return x**2 if x > 0 else 0\n",
    "\n",
    "vfunc = np.vectorize(myfunc)\n",
    "print(vfunc(np.array([-2, -1, 0, 1, 2])))\n"
   ]
  },
  {
   "cell_type": "code",
   "execution_count": 15,
   "id": "ad8d2468",
   "metadata": {},
   "outputs": [
    {
     "name": "stdout",
     "output_type": "stream",
     "text": [
      "Inverse:\n",
      " [[-7.  3.]\n",
      " [ 5. -2.]]\n",
      "Determinant: -0.9999999999999987\n",
      "SVD -> U:\n",
      " [[-0.38643579 -0.92231631]\n",
      " [-0.92231631  0.38643579]]\n"
     ]
    }
   ],
   "source": [
    "\n",
    "# Linear algebra\n",
    "M = np.array([[2,3], [5,7]])\n",
    "invM = np.linalg.inv(M)\n",
    "detM = np.linalg.det(M)\n",
    "U, S, V = np.linalg.svd(M)\n",
    "print(\"Inverse:\\n\", invM)\n",
    "print(\"Determinant:\", detM)\n",
    "print(\"SVD -> U:\\n\", U)\n"
   ]
  },
  {
   "cell_type": "code",
   "execution_count": 16,
   "id": "43512876",
   "metadata": {},
   "outputs": [
    {
     "name": "stdout",
     "output_type": "stream",
     "text": [
      "Padded array:\n",
      " [[0 0 0 0]\n",
      " [0 1 2 0]\n",
      " [0 3 4 0]\n",
      " [0 0 0 0]]\n"
     ]
    }
   ],
   "source": [
    "\n",
    "# Padding\n",
    "arr = np.array([[1,2],[3,4]])\n",
    "padded = np.pad(arr, pad_width=1, mode='constant', constant_values=0)\n",
    "print(\"Padded array:\\n\", padded)\n"
   ]
  },
  {
   "cell_type": "code",
   "execution_count": 17,
   "id": "7d6d4c16",
   "metadata": {},
   "outputs": [
    {
     "name": "stdout",
     "output_type": "stream",
     "text": [
      "Memmap value: 123.0\n"
     ]
    }
   ],
   "source": [
    "\n",
    "# Memmap\n",
    "fp = np.memmap('mymemmap.dat', dtype='float32', mode='w+', shape=(1000,1000))\n",
    "fp[0,0] = 123\n",
    "print(\"Memmap value:\", fp[0,0])\n"
   ]
  }
 ],
 "metadata": {
  "kernelspec": {
   "display_name": "Python 3",
   "language": "python",
   "name": "python3"
  },
  "language_info": {
   "codemirror_mode": {
    "name": "ipython",
    "version": 3
   },
   "file_extension": ".py",
   "mimetype": "text/x-python",
   "name": "python",
   "nbconvert_exporter": "python",
   "pygments_lexer": "ipython3",
   "version": "3.13.5"
  }
 },
 "nbformat": 4,
 "nbformat_minor": 5
}
