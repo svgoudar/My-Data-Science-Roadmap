{
 "cells": [
  {
   "cell_type": "markdown",
   "id": "f9cb1b20",
   "metadata": {},
   "source": [
    "# 📚 1. Stacking in NumPy\n",
    "\n",
    "Stacking is about **joining multiple arrays into a single array** along a new axis or an existing axis.\n",
    "\n",
    "NumPy provides different functions to achieve this, depending on:\n",
    "\n",
    "* Whether you want to stack **horizontally**, **vertically**, or along **depth (third axis)**.\n",
    "* Whether you want to **add a new axis** or join along an **existing axis**.\n",
    "\n",
    "---\n",
    "\n",
    "## 🔹 1.1 Types of stacking\n",
    "\n",
    "### ➡️ `np.vstack` (Vertical stack)\n",
    "\n",
    "* Stacks arrays **on top of each other** (along rows).\n",
    "* Increases the number of rows.\n",
    "\n",
    "\n"
   ]
  },
  {
   "cell_type": "code",
   "execution_count": 7,
   "id": "2da2b969",
   "metadata": {},
   "outputs": [
    {
     "name": "stdout",
     "output_type": "stream",
     "text": [
      "Requirement already satisfied: numpy in c:\\users\\sangouda\\appdata\\local\\programs\\python\\python313\\lib\\site-packages (2.3.1)\n",
      "Requirement already satisfied: pandas in c:\\users\\sangouda\\appdata\\local\\programs\\python\\python313\\lib\\site-packages (2.3.0)\n",
      "Collecting scikit-learn\n",
      "  Downloading scikit_learn-1.7.0-cp313-cp313-win_amd64.whl.metadata (14 kB)\n",
      "Collecting scipy\n",
      "  Downloading scipy-1.16.0-cp313-cp313-win_amd64.whl.metadata (60 kB)\n",
      "Requirement already satisfied: python-dateutil>=2.8.2 in c:\\users\\sangouda\\appdata\\roaming\\python\\python313\\site-packages (from pandas) (2.9.0.post0)\n",
      "Requirement already satisfied: pytz>=2020.1 in c:\\users\\sangouda\\appdata\\local\\programs\\python\\python313\\lib\\site-packages (from pandas) (2025.2)\n",
      "Requirement already satisfied: tzdata>=2022.7 in c:\\users\\sangouda\\appdata\\local\\programs\\python\\python313\\lib\\site-packages (from pandas) (2025.2)\n",
      "Collecting joblib>=1.2.0 (from scikit-learn)\n",
      "  Downloading joblib-1.5.1-py3-none-any.whl.metadata (5.6 kB)\n",
      "Collecting threadpoolctl>=3.1.0 (from scikit-learn)\n",
      "  Using cached threadpoolctl-3.6.0-py3-none-any.whl.metadata (13 kB)\n",
      "Requirement already satisfied: six>=1.5 in c:\\users\\sangouda\\appdata\\roaming\\python\\python313\\site-packages (from python-dateutil>=2.8.2->pandas) (1.17.0)\n",
      "Downloading scikit_learn-1.7.0-cp313-cp313-win_amd64.whl (10.7 MB)\n",
      "   ---------------------------------------- 0.0/10.7 MB ? eta -:--:--\n",
      "   --- ------------------------------------ 1.0/10.7 MB 8.1 MB/s eta 0:00:02\n",
      "   ---------- ----------------------------- 2.9/10.7 MB 8.0 MB/s eta 0:00:01\n",
      "   ------------------------------- -------- 8.4/10.7 MB 15.0 MB/s eta 0:00:01\n",
      "   ---------------------------------------- 10.7/10.7 MB 15.3 MB/s eta 0:00:00\n",
      "Downloading scipy-1.16.0-cp313-cp313-win_amd64.whl (38.4 MB)\n",
      "   ---------------------------------------- 0.0/38.4 MB ? eta -:--:--\n",
      "   --- ------------------------------------ 3.4/38.4 MB 24.7 MB/s eta 0:00:02\n",
      "   ----- ---------------------------------- 5.0/38.4 MB 14.4 MB/s eta 0:00:03\n",
      "   ------- -------------------------------- 7.6/38.4 MB 12.9 MB/s eta 0:00:03\n",
      "   ----------- ---------------------------- 11.0/38.4 MB 13.6 MB/s eta 0:00:03\n",
      "   -------------- ------------------------- 13.6/38.4 MB 13.2 MB/s eta 0:00:02\n",
      "   ---------------- ----------------------- 16.0/38.4 MB 12.8 MB/s eta 0:00:02\n",
      "   ------------------- -------------------- 18.6/38.4 MB 12.7 MB/s eta 0:00:02\n",
      "   --------------------- ------------------ 21.0/38.4 MB 12.5 MB/s eta 0:00:02\n",
      "   ------------------------ --------------- 23.1/38.4 MB 12.1 MB/s eta 0:00:02\n",
      "   -------------------------- ------------- 25.2/38.4 MB 11.9 MB/s eta 0:00:02\n",
      "   ---------------------------- ----------- 27.8/38.4 MB 12.0 MB/s eta 0:00:01\n",
      "   ------------------------------- -------- 29.9/38.4 MB 11.8 MB/s eta 0:00:01\n",
      "   ---------------------------------- ----- 32.8/38.4 MB 11.9 MB/s eta 0:00:01\n",
      "   ------------------------------------- -- 35.9/38.4 MB 12.2 MB/s eta 0:00:01\n",
      "   ---------------------------------------  38.3/38.4 MB 12.3 MB/s eta 0:00:01\n",
      "   ---------------------------------------  38.3/38.4 MB 12.3 MB/s eta 0:00:01\n",
      "   ---------------------------------------- 38.4/38.4 MB 11.1 MB/s eta 0:00:00\n",
      "Downloading joblib-1.5.1-py3-none-any.whl (307 kB)\n",
      "Using cached threadpoolctl-3.6.0-py3-none-any.whl (18 kB)\n",
      "Installing collected packages: threadpoolctl, scipy, joblib, scikit-learn\n",
      "\n",
      "   ---------- ----------------------------- 1/4 [scipy]\n",
      "   ---------- ----------------------------- 1/4 [scipy]\n",
      "   ---------- ----------------------------- 1/4 [scipy]\n",
      "   ---------- ----------------------------- 1/4 [scipy]\n",
      "   ---------- ----------------------------- 1/4 [scipy]\n",
      "   ---------- ----------------------------- 1/4 [scipy]\n",
      "   ---------- ----------------------------- 1/4 [scipy]\n",
      "   ---------- ----------------------------- 1/4 [scipy]\n",
      "   ---------- ----------------------------- 1/4 [scipy]\n",
      "   ---------- ----------------------------- 1/4 [scipy]\n",
      "   ---------- ----------------------------- 1/4 [scipy]\n",
      "   ---------- ----------------------------- 1/4 [scipy]\n",
      "   ---------- ----------------------------- 1/4 [scipy]\n",
      "   ---------- ----------------------------- 1/4 [scipy]\n",
      "   ---------- ----------------------------- 1/4 [scipy]\n",
      "   ---------- ----------------------------- 1/4 [scipy]\n",
      "   ---------- ----------------------------- 1/4 [scipy]\n",
      "   ---------- ----------------------------- 1/4 [scipy]\n",
      "   ---------- ----------------------------- 1/4 [scipy]\n",
      "   ---------- ----------------------------- 1/4 [scipy]\n",
      "   ---------- ----------------------------- 1/4 [scipy]\n",
      "   ---------- ----------------------------- 1/4 [scipy]\n",
      "   ---------- ----------------------------- 1/4 [scipy]\n",
      "   ---------- ----------------------------- 1/4 [scipy]\n",
      "   ---------- ----------------------------- 1/4 [scipy]\n",
      "   ---------- ----------------------------- 1/4 [scipy]\n",
      "   ---------- ----------------------------- 1/4 [scipy]\n",
      "   ---------- ----------------------------- 1/4 [scipy]\n",
      "   ---------- ----------------------------- 1/4 [scipy]\n",
      "   ---------- ----------------------------- 1/4 [scipy]\n",
      "   ---------- ----------------------------- 1/4 [scipy]\n",
      "   ---------- ----------------------------- 1/4 [scipy]\n",
      "   ---------- ----------------------------- 1/4 [scipy]\n",
      "   ---------- ----------------------------- 1/4 [scipy]\n",
      "   ---------- ----------------------------- 1/4 [scipy]\n",
      "   ---------- ----------------------------- 1/4 [scipy]\n",
      "   ---------- ----------------------------- 1/4 [scipy]\n",
      "   ---------- ----------------------------- 1/4 [scipy]\n",
      "   ---------- ----------------------------- 1/4 [scipy]\n",
      "   ---------- ----------------------------- 1/4 [scipy]\n",
      "   ---------- ----------------------------- 1/4 [scipy]\n",
      "   ---------- ----------------------------- 1/4 [scipy]\n",
      "   ---------- ----------------------------- 1/4 [scipy]\n",
      "   ---------- ----------------------------- 1/4 [scipy]\n",
      "   ---------- ----------------------------- 1/4 [scipy]\n",
      "   ---------- ----------------------------- 1/4 [scipy]\n",
      "   ---------- ----------------------------- 1/4 [scipy]\n",
      "   ---------- ----------------------------- 1/4 [scipy]\n",
      "   ---------- ----------------------------- 1/4 [scipy]\n",
      "   ---------- ----------------------------- 1/4 [scipy]\n",
      "   ---------- ----------------------------- 1/4 [scipy]\n",
      "   ---------- ----------------------------- 1/4 [scipy]\n",
      "   ---------- ----------------------------- 1/4 [scipy]\n",
      "   ---------- ----------------------------- 1/4 [scipy]\n",
      "   ---------- ----------------------------- 1/4 [scipy]\n",
      "   ---------- ----------------------------- 1/4 [scipy]\n",
      "   ---------- ----------------------------- 1/4 [scipy]\n",
      "   ---------- ----------------------------- 1/4 [scipy]\n",
      "   ---------- ----------------------------- 1/4 [scipy]\n",
      "   ---------- ----------------------------- 1/4 [scipy]\n",
      "   ---------- ----------------------------- 1/4 [scipy]\n",
      "   ---------- ----------------------------- 1/4 [scipy]\n",
      "   ---------- ----------------------------- 1/4 [scipy]\n",
      "   ---------- ----------------------------- 1/4 [scipy]\n",
      "   ---------- ----------------------------- 1/4 [scipy]\n",
      "   ---------- ----------------------------- 1/4 [scipy]\n",
      "   ---------- ----------------------------- 1/4 [scipy]\n",
      "   ---------- ----------------------------- 1/4 [scipy]\n",
      "   ---------- ----------------------------- 1/4 [scipy]\n",
      "   ---------- ----------------------------- 1/4 [scipy]\n",
      "   ---------- ----------------------------- 1/4 [scipy]\n",
      "   ---------- ----------------------------- 1/4 [scipy]\n",
      "   ---------- ----------------------------- 1/4 [scipy]\n",
      "   ---------- ----------------------------- 1/4 [scipy]\n",
      "   ---------- ----------------------------- 1/4 [scipy]\n",
      "   ---------- ----------------------------- 1/4 [scipy]\n",
      "   ---------- ----------------------------- 1/4 [scipy]\n",
      "   ---------- ----------------------------- 1/4 [scipy]\n",
      "   ---------- ----------------------------- 1/4 [scipy]\n",
      "   ---------- ----------------------------- 1/4 [scipy]\n",
      "   ---------- ----------------------------- 1/4 [scipy]\n",
      "   ---------- ----------------------------- 1/4 [scipy]\n",
      "   ---------- ----------------------------- 1/4 [scipy]\n",
      "   ---------- ----------------------------- 1/4 [scipy]\n",
      "   ---------- ----------------------------- 1/4 [scipy]\n",
      "   ---------- ----------------------------- 1/4 [scipy]\n",
      "   ---------- ----------------------------- 1/4 [scipy]\n",
      "   ---------- ----------------------------- 1/4 [scipy]\n",
      "   ---------- ----------------------------- 1/4 [scipy]\n",
      "   ---------- ----------------------------- 1/4 [scipy]\n",
      "   ---------- ----------------------------- 1/4 [scipy]\n",
      "   -------------------- ------------------- 2/4 [joblib]\n",
      "   -------------------- ------------------- 2/4 [joblib]\n",
      "   -------------------- ------------------- 2/4 [joblib]\n",
      "   -------------------- ------------------- 2/4 [joblib]\n",
      "   -------------------- ------------------- 2/4 [joblib]\n",
      "   -------------------- ------------------- 2/4 [joblib]\n",
      "   ------------------------------ --------- 3/4 [scikit-learn]\n",
      "   ------------------------------ --------- 3/4 [scikit-learn]\n",
      "   ------------------------------ --------- 3/4 [scikit-learn]\n",
      "   ------------------------------ --------- 3/4 [scikit-learn]\n",
      "   ------------------------------ --------- 3/4 [scikit-learn]\n",
      "   ------------------------------ --------- 3/4 [scikit-learn]\n",
      "   ------------------------------ --------- 3/4 [scikit-learn]\n",
      "   ------------------------------ --------- 3/4 [scikit-learn]\n",
      "   ------------------------------ --------- 3/4 [scikit-learn]\n",
      "   ------------------------------ --------- 3/4 [scikit-learn]\n",
      "   ------------------------------ --------- 3/4 [scikit-learn]\n",
      "   ------------------------------ --------- 3/4 [scikit-learn]\n",
      "   ------------------------------ --------- 3/4 [scikit-learn]\n",
      "   ------------------------------ --------- 3/4 [scikit-learn]\n",
      "   ------------------------------ --------- 3/4 [scikit-learn]\n",
      "   ------------------------------ --------- 3/4 [scikit-learn]\n",
      "   ------------------------------ --------- 3/4 [scikit-learn]\n",
      "   ------------------------------ --------- 3/4 [scikit-learn]\n",
      "   ------------------------------ --------- 3/4 [scikit-learn]\n",
      "   ------------------------------ --------- 3/4 [scikit-learn]\n",
      "   ------------------------------ --------- 3/4 [scikit-learn]\n",
      "   ------------------------------ --------- 3/4 [scikit-learn]\n",
      "   ------------------------------ --------- 3/4 [scikit-learn]\n",
      "   ------------------------------ --------- 3/4 [scikit-learn]\n",
      "   ------------------------------ --------- 3/4 [scikit-learn]\n",
      "   ------------------------------ --------- 3/4 [scikit-learn]\n",
      "   ------------------------------ --------- 3/4 [scikit-learn]\n",
      "   ------------------------------ --------- 3/4 [scikit-learn]\n",
      "   ------------------------------ --------- 3/4 [scikit-learn]\n",
      "   ------------------------------ --------- 3/4 [scikit-learn]\n",
      "   ------------------------------ --------- 3/4 [scikit-learn]\n",
      "   ------------------------------ --------- 3/4 [scikit-learn]\n",
      "   ------------------------------ --------- 3/4 [scikit-learn]\n",
      "   ------------------------------ --------- 3/4 [scikit-learn]\n",
      "   ------------------------------ --------- 3/4 [scikit-learn]\n",
      "   ------------------------------ --------- 3/4 [scikit-learn]\n",
      "   ------------------------------ --------- 3/4 [scikit-learn]\n",
      "   ------------------------------ --------- 3/4 [scikit-learn]\n",
      "   ------------------------------ --------- 3/4 [scikit-learn]\n",
      "   ------------------------------ --------- 3/4 [scikit-learn]\n",
      "   ------------------------------ --------- 3/4 [scikit-learn]\n",
      "   ------------------------------ --------- 3/4 [scikit-learn]\n",
      "   ------------------------------ --------- 3/4 [scikit-learn]\n",
      "   ------------------------------ --------- 3/4 [scikit-learn]\n",
      "   ------------------------------ --------- 3/4 [scikit-learn]\n",
      "   ------------------------------ --------- 3/4 [scikit-learn]\n",
      "   ------------------------------ --------- 3/4 [scikit-learn]\n",
      "   ------------------------------ --------- 3/4 [scikit-learn]\n",
      "   ------------------------------ --------- 3/4 [scikit-learn]\n",
      "   ------------------------------ --------- 3/4 [scikit-learn]\n",
      "   ------------------------------ --------- 3/4 [scikit-learn]\n",
      "   ------------------------------ --------- 3/4 [scikit-learn]\n",
      "   ------------------------------ --------- 3/4 [scikit-learn]\n",
      "   ------------------------------ --------- 3/4 [scikit-learn]\n",
      "   ------------------------------ --------- 3/4 [scikit-learn]\n",
      "   ------------------------------ --------- 3/4 [scikit-learn]\n",
      "   ---------------------------------------- 4/4 [scikit-learn]\n",
      "\n",
      "Successfully installed joblib-1.5.1 scikit-learn-1.7.0 scipy-1.16.0 threadpoolctl-3.6.0\n"
     ]
    }
   ],
   "source": [
    "!python -m pip install numpy pandas scikit-learn scipy"
   ]
  },
  {
   "cell_type": "code",
   "execution_count": 2,
   "id": "746c4076",
   "metadata": {},
   "outputs": [
    {
     "name": "stdout",
     "output_type": "stream",
     "text": [
      "[[1 2 3]]\n",
      "[[4 5 6]]\n",
      "[[1 2 3]\n",
      " [4 5 6]]\n"
     ]
    }
   ],
   "source": [
    "import numpy as np\n",
    "\n",
    "a = np.array([1, 2, 3])\n",
    "b = np.array([4, 5, 6])\n",
    "\n",
    "# Convert to 2D row vectors for stacking\n",
    "a = a.reshape(1, 3)\n",
    "b = b.reshape(1, 3)\n",
    "print(a)\n",
    "print(b)\n",
    "vstacked = np.vstack((a, b))\n",
    "print(vstacked)\n"
   ]
  },
  {
   "cell_type": "markdown",
   "id": "eb477ae4",
   "metadata": {},
   "source": [
    "\n",
    "📌 Output:\n",
    "\n",
    "```\n",
    "[[1 2 3]\n",
    " [4 5 6]]\n",
    "```\n",
    "\n",
    "---\n",
    "\n",
    "### ➡️ `np.hstack` (Horizontal stack)\n",
    "\n",
    "* Stacks arrays **side by side** (along columns).\n",
    "* Increases the number of columns.\n"
   ]
  },
  {
   "cell_type": "code",
   "execution_count": 3,
   "id": "bb49ec4a",
   "metadata": {},
   "outputs": [
    {
     "name": "stdout",
     "output_type": "stream",
     "text": [
      "[[1 4]\n",
      " [2 5]\n",
      " [3 6]]\n"
     ]
    }
   ],
   "source": [
    "a = np.array([[1], [2], [3]])\n",
    "b = np.array([[4], [5], [6]])\n",
    "\n",
    "hstacked = np.hstack((a, b))\n",
    "print(hstacked)\n",
    "\n"
   ]
  },
  {
   "cell_type": "markdown",
   "id": "e385b82c",
   "metadata": {},
   "source": [
    "\n",
    "📌 Output:\n",
    "\n",
    "```\n",
    "[[1 4]\n",
    " [2 5]\n",
    " [3 6]]\n",
    "```\n",
    "\n",
    "---\n",
    "\n",
    "### ➡️ `np.dstack` (Depth stack)\n",
    "\n",
    "* Stacks along the **third axis (depth)**.\n"
   ]
  },
  {
   "cell_type": "code",
   "execution_count": 4,
   "id": "c92323c3",
   "metadata": {},
   "outputs": [
    {
     "name": "stdout",
     "output_type": "stream",
     "text": [
      "[[[1 5]\n",
      "  [2 6]]\n",
      "\n",
      " [[3 7]\n",
      "  [4 8]]]\n"
     ]
    }
   ],
   "source": [
    "a = np.array([[1, 2], [3, 4]])\n",
    "b = np.array([[5, 6], [7, 8]])\n",
    "\n",
    "dstacked = np.dstack((a, b))\n",
    "print(dstacked)\n"
   ]
  },
  {
   "cell_type": "markdown",
   "id": "084eecfb",
   "metadata": {},
   "source": [
    "\n",
    "📌 Output:\n",
    "\n",
    "```\n",
    "[[[1 5]\n",
    "  [2 6]]\n",
    " \n",
    " [[3 7]\n",
    "  [4 8]]]\n",
    "```\n",
    "\n",
    "Here you have shape `(2, 2, 2)` — a kind of \"stack of matrices\".\n",
    "\n",
    "---\n",
    "\n",
    "### ➡️ `np.stack` (General stacking along new axis)\n",
    "\n",
    "* Allows stacking along **any new axis** you specify.\n"
   ]
  },
  {
   "cell_type": "code",
   "execution_count": 11,
   "id": "674937d5",
   "metadata": {},
   "outputs": [
    {
     "name": "stdout",
     "output_type": "stream",
     "text": [
      "[[1 2 3 4 5 6]]\n",
      "[[[1 2 3]]\n",
      "\n",
      " [[4 5 6]]]\n",
      "[[[1 2 3]\n",
      "  [4 5 6]]]\n",
      "[[[1 4]\n",
      "  [2 5]\n",
      "  [3 6]]]\n",
      "(1, 3, 2)\n"
     ]
    }
   ],
   "source": [
    "a = np.array([[1, 2, 3]])\n",
    "b = np.array([[4, 5, 6]])\n",
    "print(np.hstack((a,b)))\n",
    "# Stack along new axis 0\n",
    "stacked_0 = np.stack((a, b), axis=0)\n",
    "print(stacked_0)  # shape (2, 3)\n",
    "\n",
    "# Stack along new axis 1\n",
    "stacked_1 = np.stack((a, b), axis=1)\n",
    "print(stacked_1)  # shape (3, 2)\n",
    "\n",
    "stacked_2 = np.stack((a, b), axis=2)\n",
    "print(stacked_2)\n",
    "print(stacked_2.shape)  # shape (3, 2)"
   ]
  },
  {
   "cell_type": "code",
   "execution_count": 14,
   "id": "e1e5bc55",
   "metadata": {},
   "outputs": [
    {
     "name": "stdout",
     "output_type": "stream",
     "text": [
      "(1, 3)\n",
      "(3,)\n"
     ]
    }
   ],
   "source": [
    "print(np.array([[1, 2, 3]]).shape)\n",
    "print(np.array([1, 2, 3]).shape)"
   ]
  },
  {
   "cell_type": "markdown",
   "id": "009df3d0",
   "metadata": {},
   "source": [
    "\n",
    "📌 Output:\n",
    "\n",
    "```\n",
    "[[1 2 3]\n",
    " [4 5 6]]\n",
    "\n",
    "[[1 4]\n",
    " [2 5]\n",
    " [3 6]]\n",
    "```\n",
    "\n",
    "---\n",
    "\n",
    "### ➡️ `np.column_stack` and `np.row_stack`\n",
    "\n",
    "* `np.column_stack` stacks 1D arrays as columns.\n",
    "* `np.row_stack` stacks like `vstack`.\n"
   ]
  },
  {
   "cell_type": "code",
   "execution_count": 15,
   "id": "bf96b878",
   "metadata": {},
   "outputs": [
    {
     "name": "stdout",
     "output_type": "stream",
     "text": [
      "[[1 2 3]\n",
      " [4 5 6]]\n"
     ]
    },
    {
     "name": "stderr",
     "output_type": "stream",
     "text": [
      "C:\\Users\\sangouda\\AppData\\Local\\Temp\\ipykernel_30764\\7615093.py:5: DeprecationWarning: `row_stack` alias is deprecated. Use `np.vstack` directly.\n",
      "  col_stack = np.row_stack((a, b))\n"
     ]
    }
   ],
   "source": [
    "a = np.array([1, 2, 3])\n",
    "b = np.array([4, 5, 6])\n",
    "\n",
    "col_stack = np.column_stack((a, b))\n",
    "col_stack = np.row_stack((a, b)) \n",
    "print(col_stack)\n"
   ]
  },
  {
   "cell_type": "markdown",
   "id": "4bc70847",
   "metadata": {},
   "source": [
    "\n",
    "\n",
    "📌 Output:\n",
    "\n",
    "```\n",
    "[[1 4]\n",
    " [2 5]\n",
    " [3 6]]\n",
    "```\n",
    "\n",
    "---\n",
    "\n",
    "# ✂️ 2. Splitting in NumPy\n",
    "\n",
    "Splitting is about **breaking one array into multiple smaller arrays**.\n",
    "\n",
    "---\n",
    "\n",
    "## 🔹 2.1 Types of splitting\n",
    "\n",
    "### ➡️ `np.hsplit` (Horizontal split)\n",
    "\n",
    "* Split along columns.\n"
   ]
  },
  {
   "cell_type": "code",
   "execution_count": 16,
   "id": "991378bb",
   "metadata": {},
   "outputs": [
    {
     "name": "stdout",
     "output_type": "stream",
     "text": [
      "[array([[1, 2],\n",
      "       [5, 6]]), array([[3, 4],\n",
      "       [7, 8]])]\n"
     ]
    }
   ],
   "source": [
    "a = np.array([[1, 2, 3, 4],\n",
    "              [5, 6, 7, 8]])\n",
    "\n",
    "hsplitted = np.hsplit(a, 2)  # Split into 2\n",
    "print(hsplitted)\n"
   ]
  },
  {
   "cell_type": "markdown",
   "id": "5eaea242",
   "metadata": {},
   "source": [
    "\n",
    "\n",
    "📌 Output:\n",
    "\n",
    "```\n",
    "[array([[1, 2],\n",
    "       [5, 6]]), \n",
    " array([[3, 4],\n",
    "       [7, 8]])]\n",
    "```\n",
    "\n",
    "---\n",
    "\n",
    "### ➡️ `np.vsplit` (Vertical split)\n",
    "\n",
    "* Split along rows.\n"
   ]
  },
  {
   "cell_type": "code",
   "execution_count": 18,
   "id": "6cf40a0c",
   "metadata": {},
   "outputs": [
    {
     "name": "stdout",
     "output_type": "stream",
     "text": [
      "[[1 2 3 4]\n",
      " [5 6 7 8]]\n",
      "[array([[1, 2, 3, 4]]), array([[5, 6, 7, 8]])]\n"
     ]
    }
   ],
   "source": [
    "print(a)\n",
    "vsplitted = np.vsplit(a, 2)\n",
    "print(vsplitted)"
   ]
  },
  {
   "cell_type": "markdown",
   "id": "0690e2cf",
   "metadata": {},
   "source": [
    "\n",
    "\n",
    "📌 Output:\n",
    "\n",
    "```\n",
    "[array([[1, 2, 3, 4]]), \n",
    " array([[5, 6, 7, 8]])]\n",
    "```\n",
    "\n",
    "---\n",
    "\n",
    "### ➡️ `np.dsplit` (Depth split)\n",
    "\n",
    "* Split along the third axis.\n"
   ]
  },
  {
   "cell_type": "code",
   "execution_count": 19,
   "id": "9a5ac846",
   "metadata": {
    "notebookRunGroups": {
     "groupValue": "2"
    }
   },
   "outputs": [
    {
     "name": "stdout",
     "output_type": "stream",
     "text": [
      "[array([[[1],\n",
      "        [2],\n",
      "        [3],\n",
      "        [4]],\n",
      "\n",
      "       [[5],\n",
      "        [6],\n",
      "        [7],\n",
      "        [8]]]), array([[[1],\n",
      "        [2],\n",
      "        [3],\n",
      "        [4]],\n",
      "\n",
      "       [[5],\n",
      "        [6],\n",
      "        [7],\n",
      "        [8]]])]\n"
     ]
    }
   ],
   "source": [
    "b = np.dstack((a, a))  # shape (2,4,2)\n",
    "dsplitted = np.dsplit(b, 2)\n",
    "print(dsplitted)"
   ]
  },
  {
   "cell_type": "markdown",
   "id": "7fa8ce20",
   "metadata": {},
   "source": [
    "\n",
    "\n",
    "---\n",
    "\n",
    "### ➡️ `np.split`\n",
    "\n",
    "* A general split you can use along any axis.\n"
   ]
  },
  {
   "cell_type": "code",
   "execution_count": 20,
   "id": "684e5342",
   "metadata": {},
   "outputs": [
    {
     "name": "stdout",
     "output_type": "stream",
     "text": [
      "[array([[1, 2],\n",
      "       [5, 6]]), array([[3, 4],\n",
      "       [7, 8]])]\n"
     ]
    }
   ],
   "source": [
    "c = np.array([[1, 2, 3, 4],\n",
    "              [5, 6, 7, 8]])\n",
    "\n",
    "splitted = np.split(c, 2, axis=1)\n",
    "print(splitted)\n"
   ]
  },
  {
   "cell_type": "markdown",
   "id": "3b2784b5",
   "metadata": {},
   "source": [
    "\n",
    "\n",
    "📌 Output:\n",
    "\n",
    "```\n",
    "[array([[1, 2],\n",
    "       [5, 6]]), \n",
    " array([[3, 4],\n",
    "       [7, 8]])]\n",
    "```\n",
    "\n",
    "---\n",
    "\n",
    "# 💡 Summary table\n",
    "\n",
    "| Function          | What it does                     |\n",
    "| ----------------- | -------------------------------- |\n",
    "| `np.vstack`       | stack arrays vertically (rows)   |\n",
    "| `np.hstack`       | stack arrays horizontally (cols) |\n",
    "| `np.dstack`       | stack arrays along depth         |\n",
    "| `np.stack`        | stack along new specified axis   |\n",
    "| `np.column_stack` | stack as columns                 |\n",
    "| `np.row_stack`    | stack as rows (like vstack)      |\n",
    "\n",
    "| Function    | What it does                 |\n",
    "| ----------- | ---------------------------- |\n",
    "| `np.hsplit` | split along columns          |\n",
    "| `np.vsplit` | split along rows             |\n",
    "| `np.dsplit` | split along depth            |\n",
    "| `np.split`  | general split along any axis |\n",
    "\n",
    "---\n",
    "\n",
    "# 🚀 Visualization intuition\n",
    "\n",
    "Imagine these as stacking/splitting papers:\n",
    "\n",
    "* 📚 `vstack` — placing sheets one over another to make a pile.\n",
    "* 📃 `hstack` — placing sheets side by side to make a long strip.\n",
    "* 🎂 `dstack` — stacking sheets to make layers of a cake.\n",
    "* ✂️ `split` — cutting the sheet into smaller strips either horizontally or vertically.\n",
    "\n"
   ]
  },
  {
   "cell_type": "markdown",
   "id": "c43611ea",
   "metadata": {},
   "source": [
    "| Function                | Typical result shape      | Behavior                  |\n",
    "| ----------------------- | ------------------------- | ------------------------- |\n",
    "| `np.vstack`             | `(N, ...)` adds rows      | like `stack(..., axis=0)` |\n",
    "| `np.hstack`             | `(..., N)` adds columns   | like `stack(..., axis=1)` |\n",
    "| `np.stack(..., axis=0)` | new dimension at start    | stacks as rows            |\n",
    "| `np.stack(..., axis=1)` | new dimension after first | stacks as columns         |\n"
   ]
  },
  {
   "cell_type": "markdown",
   "id": "0491a97a",
   "metadata": {},
   "source": []
  },
  {
   "cell_type": "markdown",
   "id": "314b0352",
   "metadata": {},
   "source": []
  }
 ],
 "metadata": {
  "kernelspec": {
   "display_name": "Python 3",
   "language": "python",
   "name": "python3"
  },
  "language_info": {
   "codemirror_mode": {
    "name": "ipython",
    "version": 3
   },
   "file_extension": ".py",
   "mimetype": "text/x-python",
   "name": "python",
   "nbconvert_exporter": "python",
   "pygments_lexer": "ipython3",
   "version": "3.13.5"
  }
 },
 "nbformat": 4,
 "nbformat_minor": 5
}
