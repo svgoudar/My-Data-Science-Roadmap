{
 "cells": [
  {
   "cell_type": "markdown",
   "id": "18b8f7c4",
   "metadata": {},
   "source": [
    "## 🚀 **What is the Mann-Whitney U test?**\n",
    "\n",
    "* A **non-parametric test** used to compare **two independent samples** to assess whether they come from the same distribution.\n",
    "* Unlike the t-test, it **does not assume normality**, so it's great for **non-normal or ordinal data**.\n",
    "\n",
    "---\n",
    "\n",
    "## 📝 **When to use it?**\n",
    "\n",
    "* When data is **ordinal** or not normally distributed.\n",
    "* When comparing **medians** between **two independent groups**.\n",
    "* It is an alternative to the **independent samples t-test** when normality is questionable.\n",
    "\n",
    "---\n",
    "\n",
    "## 🔍 **How does it work?**\n",
    "\n",
    "* Combines the data from both groups, ranks them, and then evaluates how the ranks are distributed between the groups.\n",
    "* The test statistic is based on the **sum of ranks**.\n",
    "\n",
    "---\n",
    "\n",
    "## 🧮 **Hypotheses**\n",
    "\n",
    "* **Null hypothesis (H0):** Both groups have the same distribution (no difference).\n",
    "* **Alternative hypothesis (H1):** Distributions are different (one tends to have higher or lower values).\n",
    "\n",
    "---\n",
    "\n",
    "## ⚡ **Python example**\n",
    "\n",
    "* The page shows a Python example using `scipy.stats.mannwhitneyu` to perform the test.\n",
    "\n",
    "---\n",
    "\n",
    "✅ **In short:**\n",
    "\n",
    "> The **Mann-Whitney U test** is a powerful non-parametric method to compare **two independent samples**, especially when your data is **not normally distributed or ordinal**, serving as a robust alternative to the t-test.\n",
    "\n"
   ]
  },
  {
   "cell_type": "markdown",
   "id": "e5b9b430",
   "metadata": {},
   "source": []
  }
 ],
 "metadata": {
  "language_info": {
   "name": "python"
  }
 },
 "nbformat": 4,
 "nbformat_minor": 5
}
